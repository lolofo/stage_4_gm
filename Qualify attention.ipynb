{
 "cells": [
  {
   "cell_type": "markdown",
   "id": "quick-hardwood",
   "metadata": {
    "pycharm": {
     "name": "#%% md\n"
    }
   },
   "source": [
    "# Qualifying attention map from BERT"
   ]
  },
  {
   "cell_type": "code",
   "execution_count": 4,
   "id": "incident-specialist",
   "metadata": {
    "pycharm": {
     "name": "#%%\n"
    }
   },
   "outputs": [
    {
     "name": "stdout",
     "output_type": "stream",
     "text": [
      "The autoreload extension is already loaded. To reload it, use:\n",
      "  %reload_ext autoreload\n"
     ]
    }
   ],
   "source": [
    "%load_ext autoreload\n",
    "%autoreload 2\n",
    "\n",
    "from IPython.display import display, HTML\n",
    "import os\n",
    "from os import path\n",
    "\n",
    "# path for the code execution in the README file\n",
    "cache = path.join(os.getcwd(), '.cache' , 'logs' ,'bert','0','checkpoints')"
   ]
  },
  {
   "cell_type": "code",
   "execution_count": 3,
   "id": "latin-shaft",
   "metadata": {
    "pycharm": {
     "name": "#%%\n"
    }
   },
   "outputs": [],
   "source": [
    "from training_bert import BertNliLight"
   ]
  },
  {
   "cell_type": "code",
   "execution_count": 5,
   "id": "understood-forest",
   "metadata": {
    "pycharm": {
     "name": "#%%\n"
    }
   },
   "outputs": [
    {
     "name": "stderr",
     "output_type": "stream",
     "text": [
      "Some weights of the model checkpoint at bert-base-uncased were not used when initializing BertModel: ['cls.seq_relationship.bias', 'cls.predictions.transform.dense.bias', 'cls.predictions.transform.dense.weight', 'cls.predictions.transform.LayerNorm.weight', 'cls.predictions.bias', 'cls.seq_relationship.weight', 'cls.predictions.decoder.weight', 'cls.predictions.transform.LayerNorm.bias']\n",
      "- This IS expected if you are initializing BertModel from the checkpoint of a model trained on another task or with another architecture (e.g. initializing a BertForSequenceClassification model from a BertForPreTraining model).\n",
      "- This IS NOT expected if you are initializing BertModel from the checkpoint of a model that you expect to be exactly identical (initializing a BertForSequenceClassification model from a BertForSequenceClassification model).\n"
     ]
    }
   ],
   "source": [
    "model = BertNliLight.load_from_checkpoint(checkpoint_path=path.join(cache, 'best.ckpt'))"
   ]
  },
  {
   "cell_type": "code",
   "execution_count": 6,
   "id": "75f7c822-7cf9-4d71-a134-c29bfc391ccf",
   "metadata": {
    "pycharm": {
     "name": "#%%\n"
    }
   },
   "outputs": [],
   "source": [
    "def hightlight_txt(tokens, attention, show_pad=False):\n",
    "    \"\"\"\n",
    "    Build an HTML of text along its weights.\n",
    "    Args:\n",
    "        tokens: list of tokens\n",
    "        attention: list of attention weights\n",
    "        show_pad: whethere showing padding tokens\n",
    "    \"\"\"\n",
    "    assert len(tokens) == len(attention), f'Length mismatch: f{len(tokens)} vs f{len(attention)}'\n",
    "    \n",
    "    MAX_ALPHA = 0.8 # transparency\n",
    "\n",
    "    highlighted_text = ''\n",
    "    w_min, w_max = torch.min(attention), torch.max(attention)\n",
    "    \n",
    "    # In case of uniform: highlight all text\n",
    "    if w_min == w_max: \n",
    "        w_min = 0.\n",
    "    \n",
    "    w_norm = (attention - w_min)/(w_max - w_min)\n",
    "    w_norm = [w / MAX_ALPHA for w in w_norm]\n",
    "\n",
    "    if not show_pad:\n",
    "        id_non_pad = [i for i, tk in enumerate(tokens) if tk != '[pad]']\n",
    "        w_norm = [w_norm[i] for i in id_non_pad]\n",
    "        tokens = [tokens[i] for i in id_non_pad]\n",
    "        \n",
    "    highlighted_text = [f'<span style=\"background-color:rgba(135,206,250, {weight});\">{text}</span>' for weight, text in zip(w_norm, tokens)]\n",
    "    \n",
    "    return ' '.join(highlighted_text)"
   ]
  },
  {
   "cell_type": "code",
   "execution_count": 7,
   "id": "7ce4e95f-eb97-444f-8310-883438a9b622",
   "metadata": {
    "pycharm": {
     "name": "#%%\n"
    }
   },
   "outputs": [
    {
     "data": {
      "text/plain": "<IPython.core.display.HTML object>",
      "text/html": "<h3>Example of attention</h3>"
     },
     "metadata": {},
     "output_type": "display_data"
    },
    {
     "data": {
      "text/plain": "<IPython.core.display.HTML object>",
      "text/html": "<span style=\"background-color:rgba(135,206,250, 0.5838804841041565);\">An</span> <span style=\"background-color:rgba(135,206,250, 0.5020732879638672);\">older</span> <span style=\"background-color:rgba(135,206,250, 0.0);\">and</span> <span style=\"background-color:rgba(135,206,250, 1.25);\">younger</span> <span style=\"background-color:rgba(135,206,250, 0.20059886574745178);\">man</span> <span style=\"background-color:rgba(135,206,250, 1.1735193729400635);\">smiling.</span>"
     },
     "metadata": {},
     "output_type": "display_data"
    }
   ],
   "source": [
    "import numpy as np\n",
    "import torch\n",
    "\n",
    "tokens = 'An older and younger man smiling.'.split(' ')\n",
    "attentions = torch.softmax(torch.rand(6), dim=-1)\n",
    "visual = hightlight_txt(tokens, attentions)\n",
    "\n",
    "display(HTML('<h3>Example of attention</h3>'))\n",
    "display(HTML(visual))"
   ]
  },
  {
   "cell_type": "code",
   "execution_count": null,
   "id": "c7d416d1-8cf2-4eb0-915c-1dc79f2b8c9b",
   "metadata": {
    "pycharm": {
     "name": "#%%\n"
    }
   },
   "outputs": [],
   "source": []
  }
 ],
 "metadata": {
  "kernelspec": {
   "display_name": "Python 3 (ipykernel)",
   "language": "python",
   "name": "python3"
  },
  "language_info": {
   "codemirror_mode": {
    "name": "ipython",
    "version": 3
   },
   "file_extension": ".py",
   "mimetype": "text/x-python",
   "name": "python",
   "nbconvert_exporter": "python",
   "pygments_lexer": "ipython3",
   "version": "3.8.5"
  }
 },
 "nbformat": 4,
 "nbformat_minor": 5
}