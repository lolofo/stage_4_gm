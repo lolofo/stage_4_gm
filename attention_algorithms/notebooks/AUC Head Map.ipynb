{
 "cells": [
  {
   "cell_type": "markdown",
   "source": [
    "# AUC MAP"
   ],
   "metadata": {
    "collapsed": false,
    "pycharm": {
     "name": "#%% md\n"
    }
   }
  },
  {
   "cell_type": "code",
   "execution_count": 2,
   "outputs": [
    {
     "name": "stdout",
     "output_type": "stream",
     "text": [
      "The autoreload extension is already loaded. To reload it, use:\n",
      "  %reload_ext autoreload\n",
      ">> the git rep : C:\\Users\\loicf\\Documents\\IRISA\\stage_4_gm\\stage_4_gm\n",
      ">> the plots location : C:\\Users\\loicf\\Documents\\IRISA\\stage_4_gm\\stage_4_gm\\.cache\\plots\\auc_head_map\n"
     ]
    }
   ],
   "source": [
    "%load_ext autoreload\n",
    "%autoreload 2\n",
    "import os\n",
    "import matplotlib.pyplot as plt\n",
    "import pandas as pd\n",
    "import torch\n",
    "import numpy as np\n",
    "import sklearn.metrics as metrics\n",
    "import random\n",
    "\n",
    "from os import path\n",
    "import tqdm\n",
    "\n",
    "from training_bert import BertNliLight\n",
    "from custom_data_set import SnliDataset\n",
    "from custom_data_set import test_dir\n",
    "from torch.utils.data import DataLoader\n",
    "\n",
    "from attention_algorithms.raw_attention import RawAttention\n",
    "from attention_algorithms.raw_attention import normalize_attention\n",
    "from attention_algorithms.raw_attention import hightlight_txt\n",
    "from attention_algorithms.attention_metrics import default_plot_colormap\n",
    "\n",
    "from IPython.display import display, HTML\n",
    "\n",
    "# set the repository to the git repository\n",
    "cwd = os.getcwd().split(os.path.sep)\n",
    "while cwd[-1] != \"stage_4_gm\":\n",
    "    os.chdir(\"..\")\n",
    "    cwd = os.getcwd().split(os.path.sep)\n",
    "print(\">> the git rep : \", end=\"\")\n",
    "print(os.getcwd())\n",
    "\n",
    "# the folder where we will save our data\n",
    "plots_folder = os.path.join(os.getcwd(), '.cache', 'plots')\n",
    "graph_folder = path.join(plots_folder, \"auc_head_map\")\n",
    "if not path.exists(path.join(plots_folder, \"auc_head_map\")):\n",
    "    os.mkdir(path.join(plots_folder, \"auc_head_map\"))\n",
    "\n",
    "print(f\">> the plots location : {graph_folder}\")"
   ],
   "metadata": {
    "collapsed": false,
    "pycharm": {
     "name": "#%%\n"
    }
   }
  },
  {
   "cell_type": "code",
   "execution_count": 3,
   "outputs": [
    {
     "name": "stderr",
     "output_type": "stream",
     "text": [
      "Some weights of the model checkpoint at bert-base-uncased were not used when initializing BertModel: ['cls.predictions.transform.dense.bias', 'cls.predictions.bias', 'cls.seq_relationship.bias', 'cls.predictions.decoder.weight', 'cls.seq_relationship.weight', 'cls.predictions.transform.LayerNorm.weight', 'cls.predictions.transform.dense.weight', 'cls.predictions.transform.LayerNorm.bias']\n",
      "- This IS expected if you are initializing BertModel from the checkpoint of a model trained on another task or with another architecture (e.g. initializing a BertForSequenceClassification model from a BertForPreTraining model).\n",
      "- This IS NOT expected if you are initializing BertModel from the checkpoint of a model that you expect to be exactly identical (initializing a BertForSequenceClassification model from a BertForSequenceClassification model).\n"
     ]
    },
    {
     "data": {
      "text/plain": "BertNliLight(\n  (bert): BertModel(\n    (embeddings): BertEmbeddings(\n      (word_embeddings): Embedding(30522, 768, padding_idx=0)\n      (position_embeddings): Embedding(512, 768)\n      (token_type_embeddings): Embedding(2, 768)\n      (LayerNorm): LayerNorm((768,), eps=1e-12, elementwise_affine=True)\n      (dropout): Dropout(p=0.1, inplace=False)\n    )\n    (encoder): BertEncoder(\n      (layer): ModuleList(\n        (0): BertLayer(\n          (attention): BertAttention(\n            (self): BertSelfAttention(\n              (query): Linear(in_features=768, out_features=768, bias=True)\n              (key): Linear(in_features=768, out_features=768, bias=True)\n              (value): Linear(in_features=768, out_features=768, bias=True)\n              (dropout): Dropout(p=0.1, inplace=False)\n            )\n            (output): BertSelfOutput(\n              (dense): Linear(in_features=768, out_features=768, bias=True)\n              (LayerNorm): LayerNorm((768,), eps=1e-12, elementwise_affine=True)\n              (dropout): Dropout(p=0.1, inplace=False)\n            )\n          )\n          (intermediate): BertIntermediate(\n            (dense): Linear(in_features=768, out_features=3072, bias=True)\n          )\n          (output): BertOutput(\n            (dense): Linear(in_features=3072, out_features=768, bias=True)\n            (LayerNorm): LayerNorm((768,), eps=1e-12, elementwise_affine=True)\n            (dropout): Dropout(p=0.1, inplace=False)\n          )\n        )\n        (1): BertLayer(\n          (attention): BertAttention(\n            (self): BertSelfAttention(\n              (query): Linear(in_features=768, out_features=768, bias=True)\n              (key): Linear(in_features=768, out_features=768, bias=True)\n              (value): Linear(in_features=768, out_features=768, bias=True)\n              (dropout): Dropout(p=0.1, inplace=False)\n            )\n            (output): BertSelfOutput(\n              (dense): Linear(in_features=768, out_features=768, bias=True)\n              (LayerNorm): LayerNorm((768,), eps=1e-12, elementwise_affine=True)\n              (dropout): Dropout(p=0.1, inplace=False)\n            )\n          )\n          (intermediate): BertIntermediate(\n            (dense): Linear(in_features=768, out_features=3072, bias=True)\n          )\n          (output): BertOutput(\n            (dense): Linear(in_features=3072, out_features=768, bias=True)\n            (LayerNorm): LayerNorm((768,), eps=1e-12, elementwise_affine=True)\n            (dropout): Dropout(p=0.1, inplace=False)\n          )\n        )\n        (2): BertLayer(\n          (attention): BertAttention(\n            (self): BertSelfAttention(\n              (query): Linear(in_features=768, out_features=768, bias=True)\n              (key): Linear(in_features=768, out_features=768, bias=True)\n              (value): Linear(in_features=768, out_features=768, bias=True)\n              (dropout): Dropout(p=0.1, inplace=False)\n            )\n            (output): BertSelfOutput(\n              (dense): Linear(in_features=768, out_features=768, bias=True)\n              (LayerNorm): LayerNorm((768,), eps=1e-12, elementwise_affine=True)\n              (dropout): Dropout(p=0.1, inplace=False)\n            )\n          )\n          (intermediate): BertIntermediate(\n            (dense): Linear(in_features=768, out_features=3072, bias=True)\n          )\n          (output): BertOutput(\n            (dense): Linear(in_features=3072, out_features=768, bias=True)\n            (LayerNorm): LayerNorm((768,), eps=1e-12, elementwise_affine=True)\n            (dropout): Dropout(p=0.1, inplace=False)\n          )\n        )\n        (3): BertLayer(\n          (attention): BertAttention(\n            (self): BertSelfAttention(\n              (query): Linear(in_features=768, out_features=768, bias=True)\n              (key): Linear(in_features=768, out_features=768, bias=True)\n              (value): Linear(in_features=768, out_features=768, bias=True)\n              (dropout): Dropout(p=0.1, inplace=False)\n            )\n            (output): BertSelfOutput(\n              (dense): Linear(in_features=768, out_features=768, bias=True)\n              (LayerNorm): LayerNorm((768,), eps=1e-12, elementwise_affine=True)\n              (dropout): Dropout(p=0.1, inplace=False)\n            )\n          )\n          (intermediate): BertIntermediate(\n            (dense): Linear(in_features=768, out_features=3072, bias=True)\n          )\n          (output): BertOutput(\n            (dense): Linear(in_features=3072, out_features=768, bias=True)\n            (LayerNorm): LayerNorm((768,), eps=1e-12, elementwise_affine=True)\n            (dropout): Dropout(p=0.1, inplace=False)\n          )\n        )\n        (4): BertLayer(\n          (attention): BertAttention(\n            (self): BertSelfAttention(\n              (query): Linear(in_features=768, out_features=768, bias=True)\n              (key): Linear(in_features=768, out_features=768, bias=True)\n              (value): Linear(in_features=768, out_features=768, bias=True)\n              (dropout): Dropout(p=0.1, inplace=False)\n            )\n            (output): BertSelfOutput(\n              (dense): Linear(in_features=768, out_features=768, bias=True)\n              (LayerNorm): LayerNorm((768,), eps=1e-12, elementwise_affine=True)\n              (dropout): Dropout(p=0.1, inplace=False)\n            )\n          )\n          (intermediate): BertIntermediate(\n            (dense): Linear(in_features=768, out_features=3072, bias=True)\n          )\n          (output): BertOutput(\n            (dense): Linear(in_features=3072, out_features=768, bias=True)\n            (LayerNorm): LayerNorm((768,), eps=1e-12, elementwise_affine=True)\n            (dropout): Dropout(p=0.1, inplace=False)\n          )\n        )\n        (5): BertLayer(\n          (attention): BertAttention(\n            (self): BertSelfAttention(\n              (query): Linear(in_features=768, out_features=768, bias=True)\n              (key): Linear(in_features=768, out_features=768, bias=True)\n              (value): Linear(in_features=768, out_features=768, bias=True)\n              (dropout): Dropout(p=0.1, inplace=False)\n            )\n            (output): BertSelfOutput(\n              (dense): Linear(in_features=768, out_features=768, bias=True)\n              (LayerNorm): LayerNorm((768,), eps=1e-12, elementwise_affine=True)\n              (dropout): Dropout(p=0.1, inplace=False)\n            )\n          )\n          (intermediate): BertIntermediate(\n            (dense): Linear(in_features=768, out_features=3072, bias=True)\n          )\n          (output): BertOutput(\n            (dense): Linear(in_features=3072, out_features=768, bias=True)\n            (LayerNorm): LayerNorm((768,), eps=1e-12, elementwise_affine=True)\n            (dropout): Dropout(p=0.1, inplace=False)\n          )\n        )\n        (6): BertLayer(\n          (attention): BertAttention(\n            (self): BertSelfAttention(\n              (query): Linear(in_features=768, out_features=768, bias=True)\n              (key): Linear(in_features=768, out_features=768, bias=True)\n              (value): Linear(in_features=768, out_features=768, bias=True)\n              (dropout): Dropout(p=0.1, inplace=False)\n            )\n            (output): BertSelfOutput(\n              (dense): Linear(in_features=768, out_features=768, bias=True)\n              (LayerNorm): LayerNorm((768,), eps=1e-12, elementwise_affine=True)\n              (dropout): Dropout(p=0.1, inplace=False)\n            )\n          )\n          (intermediate): BertIntermediate(\n            (dense): Linear(in_features=768, out_features=3072, bias=True)\n          )\n          (output): BertOutput(\n            (dense): Linear(in_features=3072, out_features=768, bias=True)\n            (LayerNorm): LayerNorm((768,), eps=1e-12, elementwise_affine=True)\n            (dropout): Dropout(p=0.1, inplace=False)\n          )\n        )\n        (7): BertLayer(\n          (attention): BertAttention(\n            (self): BertSelfAttention(\n              (query): Linear(in_features=768, out_features=768, bias=True)\n              (key): Linear(in_features=768, out_features=768, bias=True)\n              (value): Linear(in_features=768, out_features=768, bias=True)\n              (dropout): Dropout(p=0.1, inplace=False)\n            )\n            (output): BertSelfOutput(\n              (dense): Linear(in_features=768, out_features=768, bias=True)\n              (LayerNorm): LayerNorm((768,), eps=1e-12, elementwise_affine=True)\n              (dropout): Dropout(p=0.1, inplace=False)\n            )\n          )\n          (intermediate): BertIntermediate(\n            (dense): Linear(in_features=768, out_features=3072, bias=True)\n          )\n          (output): BertOutput(\n            (dense): Linear(in_features=3072, out_features=768, bias=True)\n            (LayerNorm): LayerNorm((768,), eps=1e-12, elementwise_affine=True)\n            (dropout): Dropout(p=0.1, inplace=False)\n          )\n        )\n        (8): BertLayer(\n          (attention): BertAttention(\n            (self): BertSelfAttention(\n              (query): Linear(in_features=768, out_features=768, bias=True)\n              (key): Linear(in_features=768, out_features=768, bias=True)\n              (value): Linear(in_features=768, out_features=768, bias=True)\n              (dropout): Dropout(p=0.1, inplace=False)\n            )\n            (output): BertSelfOutput(\n              (dense): Linear(in_features=768, out_features=768, bias=True)\n              (LayerNorm): LayerNorm((768,), eps=1e-12, elementwise_affine=True)\n              (dropout): Dropout(p=0.1, inplace=False)\n            )\n          )\n          (intermediate): BertIntermediate(\n            (dense): Linear(in_features=768, out_features=3072, bias=True)\n          )\n          (output): BertOutput(\n            (dense): Linear(in_features=3072, out_features=768, bias=True)\n            (LayerNorm): LayerNorm((768,), eps=1e-12, elementwise_affine=True)\n            (dropout): Dropout(p=0.1, inplace=False)\n          )\n        )\n        (9): BertLayer(\n          (attention): BertAttention(\n            (self): BertSelfAttention(\n              (query): Linear(in_features=768, out_features=768, bias=True)\n              (key): Linear(in_features=768, out_features=768, bias=True)\n              (value): Linear(in_features=768, out_features=768, bias=True)\n              (dropout): Dropout(p=0.1, inplace=False)\n            )\n            (output): BertSelfOutput(\n              (dense): Linear(in_features=768, out_features=768, bias=True)\n              (LayerNorm): LayerNorm((768,), eps=1e-12, elementwise_affine=True)\n              (dropout): Dropout(p=0.1, inplace=False)\n            )\n          )\n          (intermediate): BertIntermediate(\n            (dense): Linear(in_features=768, out_features=3072, bias=True)\n          )\n          (output): BertOutput(\n            (dense): Linear(in_features=3072, out_features=768, bias=True)\n            (LayerNorm): LayerNorm((768,), eps=1e-12, elementwise_affine=True)\n            (dropout): Dropout(p=0.1, inplace=False)\n          )\n        )\n        (10): BertLayer(\n          (attention): BertAttention(\n            (self): BertSelfAttention(\n              (query): Linear(in_features=768, out_features=768, bias=True)\n              (key): Linear(in_features=768, out_features=768, bias=True)\n              (value): Linear(in_features=768, out_features=768, bias=True)\n              (dropout): Dropout(p=0.1, inplace=False)\n            )\n            (output): BertSelfOutput(\n              (dense): Linear(in_features=768, out_features=768, bias=True)\n              (LayerNorm): LayerNorm((768,), eps=1e-12, elementwise_affine=True)\n              (dropout): Dropout(p=0.1, inplace=False)\n            )\n          )\n          (intermediate): BertIntermediate(\n            (dense): Linear(in_features=768, out_features=3072, bias=True)\n          )\n          (output): BertOutput(\n            (dense): Linear(in_features=3072, out_features=768, bias=True)\n            (LayerNorm): LayerNorm((768,), eps=1e-12, elementwise_affine=True)\n            (dropout): Dropout(p=0.1, inplace=False)\n          )\n        )\n        (11): BertLayer(\n          (attention): BertAttention(\n            (self): BertSelfAttention(\n              (query): Linear(in_features=768, out_features=768, bias=True)\n              (key): Linear(in_features=768, out_features=768, bias=True)\n              (value): Linear(in_features=768, out_features=768, bias=True)\n              (dropout): Dropout(p=0.1, inplace=False)\n            )\n            (output): BertSelfOutput(\n              (dense): Linear(in_features=768, out_features=768, bias=True)\n              (LayerNorm): LayerNorm((768,), eps=1e-12, elementwise_affine=True)\n              (dropout): Dropout(p=0.1, inplace=False)\n            )\n          )\n          (intermediate): BertIntermediate(\n            (dense): Linear(in_features=768, out_features=3072, bias=True)\n          )\n          (output): BertOutput(\n            (dense): Linear(in_features=3072, out_features=768, bias=True)\n            (LayerNorm): LayerNorm((768,), eps=1e-12, elementwise_affine=True)\n            (dropout): Dropout(p=0.1, inplace=False)\n          )\n        )\n      )\n    )\n    (pooler): BertPooler(\n      (dense): Linear(in_features=768, out_features=768, bias=True)\n      (activation): Tanh()\n    )\n  )\n  (classifier): Sequential(\n    (0): Linear(in_features=768, out_features=3, bias=True)\n  )\n  (train_acc): Accuracy()\n  (val_acc): Accuracy()\n  (test_acc): Accuracy()\n  (criterion): CrossEntropyLoss()\n)"
     },
     "execution_count": 3,
     "metadata": {},
     "output_type": "execute_result"
    }
   ],
   "source": [
    "# load the model\n",
    "\n",
    "ckp = path.join(\".cache\", \"logs\", \"igrida_trained\", \"0\", \"best.ckpt\")\n",
    "model = BertNliLight.load_from_checkpoint(ckp)\n",
    "model.eval()  # make sure to have the model in eval mod before using it"
   ],
   "metadata": {
    "collapsed": false,
    "pycharm": {
     "name": "#%%\n"
    }
   }
  },
  {
   "cell_type": "code",
   "execution_count": 4,
   "outputs": [
    {
     "name": "stdout",
     "output_type": "stream",
     "text": [
      ">> shape of the sentences : torch.Size([1000, 150])\n",
      ">> shape of the masks : torch.Size([1000, 150])\n"
     ]
    }
   ],
   "source": [
    "# load the data\n",
    "data_set = SnliDataset(dir=test_dir, nb_sentences=1000, msg=False)\n",
    "data_loader = DataLoader(data_set, batch_size=1000, shuffle=False)\n",
    "\n",
    "sentences, masks, train_labels = next(iter(data_loader))\n",
    "\n",
    "print(f\">> shape of the sentences : {sentences.shape}\")\n",
    "print(f\">> shape of the masks : {masks.shape}\")"
   ],
   "metadata": {
    "collapsed": false,
    "pycharm": {
     "name": "#%%\n"
    }
   }
  },
  {
   "cell_type": "code",
   "execution_count": 5,
   "outputs": [
    {
     "data": {
      "text/plain": "                                            tok_sent  \\\n0  ['[CLS]', 'this', 'church', 'choir', 'sings', ...   \n1  ['[CLS]', 'this', 'church', 'choir', 'sings', ...   \n2  ['[CLS]', 'this', 'church', 'choir', 'sings', ...   \n3  ['[CLS]', 'a', 'woman', 'with', 'a', 'green', ...   \n4  ['[CLS]', 'a', 'woman', 'with', 'a', 'green', ...   \n\n                                             hg_goal  \n0  [0, 0, 0, 0, 0, 0, 0, 0, 0, 0, 0, 0, 0, 0, 0, ...  \n1  [0, 0, 0, 1, 1, 1, 1, 1, 0, 0, 0, 0, 0, 0, 0, ...  \n2  [0, 0, 0, 0, 0, 0, 0, 1, 0, 0, 0, 0, 0, 0, 0, ...  \n3  [0, 0, 0, 0, 0, 0, 0, 0, 0, 0, 0, 0, 0, 0, 0, ...  \n4  [0, 0, 0, 0, 0, 0, 0, 0, 0, 0, 0, 0, 0, 0, 0, ...  ",
      "text/html": "<div>\n<style scoped>\n    .dataframe tbody tr th:only-of-type {\n        vertical-align: middle;\n    }\n\n    .dataframe tbody tr th {\n        vertical-align: top;\n    }\n\n    .dataframe thead th {\n        text-align: right;\n    }\n</style>\n<table border=\"1\" class=\"dataframe\">\n  <thead>\n    <tr style=\"text-align: right;\">\n      <th></th>\n      <th>tok_sent</th>\n      <th>hg_goal</th>\n    </tr>\n  </thead>\n  <tbody>\n    <tr>\n      <th>0</th>\n      <td>['[CLS]', 'this', 'church', 'choir', 'sings', ...</td>\n      <td>[0, 0, 0, 0, 0, 0, 0, 0, 0, 0, 0, 0, 0, 0, 0, ...</td>\n    </tr>\n    <tr>\n      <th>1</th>\n      <td>['[CLS]', 'this', 'church', 'choir', 'sings', ...</td>\n      <td>[0, 0, 0, 1, 1, 1, 1, 1, 0, 0, 0, 0, 0, 0, 0, ...</td>\n    </tr>\n    <tr>\n      <th>2</th>\n      <td>['[CLS]', 'this', 'church', 'choir', 'sings', ...</td>\n      <td>[0, 0, 0, 0, 0, 0, 0, 1, 0, 0, 0, 0, 0, 0, 0, ...</td>\n    </tr>\n    <tr>\n      <th>3</th>\n      <td>['[CLS]', 'a', 'woman', 'with', 'a', 'green', ...</td>\n      <td>[0, 0, 0, 0, 0, 0, 0, 0, 0, 0, 0, 0, 0, 0, 0, ...</td>\n    </tr>\n    <tr>\n      <th>4</th>\n      <td>['[CLS]', 'a', 'woman', 'with', 'a', 'green', ...</td>\n      <td>[0, 0, 0, 0, 0, 0, 0, 0, 0, 0, 0, 0, 0, 0, 0, ...</td>\n    </tr>\n  </tbody>\n</table>\n</div>"
     },
     "execution_count": 5,
     "metadata": {},
     "output_type": "execute_result"
    }
   ],
   "source": [
    "# the data we annotated.\n",
    "e_snli_data = pd.read_csv(os.path.join('.cache', 'raw_data', 'e_snli', 'cleaned_data', 'test.csv'), sep=\",\")\\\n",
    "    [[\"tok_sent\", \"hg_goal\"]]\n",
    "e_snli_data.head()"
   ],
   "metadata": {
    "collapsed": false,
    "pycharm": {
     "name": "#%%\n"
    }
   }
  },
  {
   "cell_type": "markdown",
   "source": [
    "## The AUC Map\n",
    "\n",
    "---\n",
    "\n",
    "The objective here is for each head $h$ of each layer $l$ to have the information whether or not it will provide a plausible explanation. We want to study each head separately to see if some heads are useful and thus prune the useless heads.\n",
    "\n",
    "As a reminder, for each sentence $s$ composed of $T(s)$ (T is the function that count the number of tokens in a sentence) tokens for each head $h$ and for each layer $l$ we have a matrix $head_{l,h}(s) \\in [0,1]^{T(s)\\times T(s)}$ This is the attention. Because it is the attention we have the following property :\n",
    "$$\n",
    "\\sum_{j=0}^{T-1}\\quad head_{l,h}(s)[i,j] = 1 \\quad \\quad \\forall i \\in \\{0,\\dots, T-1\\}\n",
    "$$\n",
    "\n",
    "Because the attention is a result of a softmax.\n",
    "Then for every token $j$ in our sentence $s$, given a head $h$ and a layer $l$ we will compute its attention score :\n",
    "$$\n",
    "a_{h,l}^{s,j} = \\sum_{i=0}^{T-1}\\quad head_{l,h}(s)[i,j]\\quad \\quad \\forall j \\in \\{0,1,\\dots,T-1\\}\n",
    "$$\n",
    "\n",
    "In the next cell for every token of every sentence we will compute this attention score that we will normalize over a sentence, and then for every head $h$ of the layer $l$ we will have $ \\hat{a}_{h,l} \\in [0,1]^{\\mathcal{T}} $ the attention weights calculated for every token that we normalize over each sentence where $\\mathcal{T}$ is the number of tokens cumulated on all the sentences of our corpus. Against this vector we will have the vector $e^{snli} \\in \\{0,1\\}^{\\mathcal{T}}$ which is the annotation vector for every tokens which comes from the e-snli data-set.\n",
    "\n",
    "\n"
   ],
   "metadata": {
    "collapsed": false,
    "pycharm": {
     "name": "#%% md\n"
    }
   }
  },
  {
   "cell_type": "code",
   "execution_count": 6,
   "outputs": [
    {
     "name": "stderr",
     "output_type": "stream",
     "text": [
      "100%|██████████| 1000/1000 [04:29<00:00,  3.71it/s]"
     ]
    },
    {
     "name": "stdout",
     "output_type": "stream",
     "text": [
      ">> nb_errors : 21\n",
      ">> len Y_test : 26600\n"
     ]
    },
    {
     "name": "stderr",
     "output_type": "stream",
     "text": [
      "\n"
     ]
    }
   ],
   "source": [
    "class LenException(Exception):\n",
    "    pass\n",
    "\n",
    "SPECIAL_TOKENS = [\"[CLS]\", \"[SEP]\", \"[PAD]\"]\n",
    "\n",
    "Y_test = []\n",
    "\n",
    "nb_err = 0\n",
    "\n",
    "# where we\n",
    "pur_attention = {}\n",
    "\n",
    "for i in range(12):\n",
    "    pur_attention[f\"layer_{i}\"] = {}\n",
    "    for j in range(12):\n",
    "        pur_attention[f\"layer_{i}\"][f\"head_{j}\"] = []\n",
    "\n",
    "\n",
    "for _, i in enumerate(tqdm.tqdm(range(1000))):\n",
    "    j = 0\n",
    "    # iteration through all the sentences\n",
    "    # construct the raw attention object\n",
    "    sent = sentences[i, :].clone().detach()[None,:]\n",
    "    mk = masks[i, :].clone().detach()[None,:]\n",
    "    raw_attention_inst = RawAttention(model=model,\n",
    "                                      input_ids=sent,\n",
    "                                      attention_mask=mk,\n",
    "                                      test_mod=False\n",
    "                                      )\n",
    "\n",
    "    # find the e-snli sentence that corresponds to our problem\n",
    "    try :\n",
    "        while j<e_snli_data.shape[0] and raw_attention_inst.tokens!=eval(e_snli_data[\"tok_sent\"][j]):\n",
    "            j+=1\n",
    "\n",
    "        if j>=e_snli_data.shape[0]:\n",
    "            raise LenException\n",
    "\n",
    "        if raw_attention_inst.tokens!=eval(e_snli_data[\"tok_sent\"][j]):\n",
    "            raise LenException\n",
    "\n",
    "        else :\n",
    "            # once the sentence is found >> add the e-snli annotation\n",
    "            Y_test += eval(e_snli_data[\"hg_goal\"][j])\n",
    "\n",
    "            # loop over every head of every layer\n",
    "            for l in range(12):\n",
    "                for h in range(12):\n",
    "                    mat = raw_attention_inst.attention_tensor[0, l ,h, :, :]\n",
    "\n",
    "                    # make the sum on the column >> agregation of the weights\n",
    "                    # >> dim=0 >> we reduce the number of lines\n",
    "                    b = mat.sum(dim=0)\n",
    "\n",
    "                    # >> remove the special tokens\n",
    "                    # >> normalize the attention\n",
    "                    b = normalize_attention(raw_attention_inst.tokens, b)\n",
    "\n",
    "                    # >> add the attention\n",
    "                    pur_attention[f\"layer_{l}\"][f\"head_{h}\"] += list(b.detach().numpy())\n",
    "\n",
    "\n",
    "\n",
    "\n",
    "    except LenException :\n",
    "        # count the different errors\n",
    "        nb_err += 1\n",
    "\n",
    "\n",
    "# >> the errors are for the sentences we didn't found in the snli dataset\n",
    "print(f\">> nb_errors : {nb_err}\")\n",
    "\n",
    "# how many labeled example do we have\n",
    "print(f\">> len Y_test : {len(Y_test)}\")"
   ],
   "metadata": {
    "collapsed": false,
    "pycharm": {
     "name": "#%%\n"
    }
   }
  },
  {
   "cell_type": "markdown",
   "source": [
    "Then we have for every head $h$ of every layer $l$, we have the two vectors $\\hat{a}_{h,l}$ and $e^{snli}$. The AUC map will only be a matrix $auc\\_map\\in [0,1]^{L\\times H}$ where :\n",
    "$$\n",
    "auc\\_map[l,h] = AUC(\\hat{a}_{h,l}~,~ e^{snli})\n",
    "$$\n",
    "\n",
    "With $AUC$ the Area under the roc curve metric."
   ],
   "metadata": {
    "collapsed": false,
    "pycharm": {
     "name": "#%% md\n"
    }
   }
  },
  {
   "cell_type": "code",
   "execution_count": 7,
   "outputs": [
    {
     "data": {
      "text/plain": "<Figure size 720x720 with 2 Axes>",
      "image/png": "[encoded data removed]"
     },
     "metadata": {},
     "output_type": "display_data"
    }
   ],
   "source": [
    "# Construction of the AUC map\n",
    "auc_map = np.zeros((12,12))\n",
    "for l in range(12):\n",
    "    for h in range(12):\n",
    "        preds = pur_attention[f\"layer_{l}\"][f\"head_{h}\"]\n",
    "        fpr, tpr, threshold = metrics.roc_curve(Y_test, preds)\n",
    "        auc_map[l,h] = metrics.auc(fpr, tpr)\n",
    "\n",
    "# plot the color map\n",
    "fig = default_plot_colormap(auc_map, xlabel=\"Head\", ylabel=\"Layer\", title=\"AUC map\")\n",
    "plt.savefig(os.path.join(graph_folder,\"auc_map.png\"))\n",
    "plt.show()"
   ],
   "metadata": {
    "collapsed": false,
    "pycharm": {
     "name": "#%%\n"
    }
   }
  },
  {
   "cell_type": "markdown",
   "source": [
    "We can make here some really interesting comments :\n",
    "\n",
    "- first the maximum value for the *AUC* on this map is $\\approx 0.75$. This is a really high *plausibility score*. The *AUC* provided here is much better than the *AUC* provided by the flow max problem\n",
    "- for every head of every layer we have an *AUC* greater than $0.5$ this means that every layer provide a plausible explanation (better than a random explanation).\n",
    "- the layer **11** is really interesting and provide an *AUC* score higher than the other layers (a focus on this layer will be made later).\n",
    "- the heads with an AUC near $0.5$ provide a useless information. $0.5$ is the worst AUC we can obtain.\n",
    "- we will retain the head 5 of the layer 11. Then to access the best head we will do attention_tensor[0,10,5], the heads are numbered from 0 to 11 but the layers are numbered from 1 to 12 because in the transformers architecture the layer 0 is the non-contextual embedding layer (that we do not study here)."
   ],
   "metadata": {
    "collapsed": false,
    "pycharm": {
     "name": "#%% md\n"
    }
   }
  },
  {
   "cell_type": "markdown",
   "source": [
    "## HTML visualisation (look deeply into the heads)\n",
    "\n",
    "---\n",
    "\n",
    "We will look at the highlighted words and compare it with the e-snli annotation. We want to be convinced that some heads have really no mean in terms of plausibility analysis."
   ],
   "metadata": {
    "collapsed": false,
    "pycharm": {
     "name": "#%% md\n"
    }
   }
  },
  {
   "cell_type": "code",
   "execution_count": 8,
   "outputs": [
    {
     "name": "stdout",
     "output_type": "stream",
     "text": [
      ">> we will look at the sentence : 291\n"
     ]
    }
   ],
   "source": [
    "sent_choice = random.randint(0,1000)\n",
    "print(f\">> we will look at the sentence : {sent_choice}\")"
   ],
   "metadata": {
    "collapsed": false,
    "pycharm": {
     "name": "#%%\n"
    }
   }
  },
  {
   "cell_type": "code",
   "execution_count": 13,
   "outputs": [
    {
     "data": {
      "text/plain": "<IPython.core.display.HTML object>",
      "text/html": "<span style=\"background-color:rgba(135,206,250, 0);\">[CLS]</span> <span style=\"background-color:rgba(135,206,250, 0.00010714392556110397);\">the</span> <span style=\"background-color:rgba(135,206,250, 0.1725756675004959);\">american</span> <span style=\"background-color:rgba(135,206,250, 0.001080027548596263);\">footballer</span> <span style=\"background-color:rgba(135,206,250, 6.865354862384265e-06);\">in</span> <span style=\"background-color:rgba(135,206,250, 0.0003175125748384744);\">yellow</span> <span style=\"background-color:rgba(135,206,250, 0.004907227121293545);\">catches</span> <span style=\"background-color:rgba(135,206,250, 0.00026746184448711574);\">the</span> <span style=\"background-color:rgba(135,206,250, 0.0034817575942724943);\">ball</span> <span style=\"background-color:rgba(135,206,250, 0.0008464971906505525);\">whilst</span> <span style=\"background-color:rgba(135,206,250, 0.0007821840117685497);\">under</span> <span style=\"background-color:rgba(135,206,250, 0.0006053168908692896);\">pressure</span> <span style=\"background-color:rgba(135,206,250, 5.3375621064333245e-05);\">from</span> <span style=\"background-color:rgba(135,206,250, 0.00013380238669924438);\">the</span> <span style=\"background-color:rgba(135,206,250, 0.005092637147754431);\">pay</span> <span style=\"background-color:rgba(135,206,250, 0.000767583551350981);\">##er</span> <span style=\"background-color:rgba(135,206,250, 2.342485231565661e-06);\">in</span> <span style=\"background-color:rgba(135,206,250, 0.00010206306615145877);\">white</span> <span style=\"background-color:rgba(135,206,250, 7.949417591094971);\">.</span> <span style=\"background-color:rgba(135,206,250, 0);\">[SEP]</span> <span style=\"background-color:rgba(135,206,250, 0.0016409262316301465);\">the</span> <span style=\"background-color:rgba(135,206,250, 0.0035542487166821957);\">football</span> <span style=\"background-color:rgba(135,206,250, 0.002720190677791834);\">player</span> <span style=\"background-color:rgba(135,206,250, 0.0005076819215901196);\">is</span> <span style=\"background-color:rgba(135,206,250, 0.006743159145116806);\">under</span> <span style=\"background-color:rgba(135,206,250, 0.0004441434284672141);\">du</span> <span style=\"background-color:rgba(135,206,250, 0.00521589070558548);\">##ress</span> <span style=\"background-color:rgba(135,206,250, 10.0);\">.</span> <span style=\"background-color:rgba(135,206,250, 0);\">[SEP]</span> <br> <span style=\"background-color:rgba(135,206,250, 0);\">[CLS]</span> <span style=\"background-color:rgba(135,206,250, 0);\">the</span> <span style=\"background-color:rgba(135,206,250, 0);\">american</span> <span style=\"background-color:rgba(135,206,250, 0);\">footballer</span> <span style=\"background-color:rgba(135,206,250, 0);\">in</span> <span style=\"background-color:rgba(135,206,250, 0);\">yellow</span> <span style=\"background-color:rgba(135,206,250, 0);\">catches</span> <span style=\"background-color:rgba(135,206,250, 0);\">the</span> <span style=\"background-color:rgba(135,206,250, 0);\">ball</span> <span style=\"background-color:rgba(135,206,250, 0);\">whilst</span> <span style=\"background-color:rgba(135,206,250, 1);\">under</span> <span style=\"background-color:rgba(135,206,250, 1);\">pressure</span> <span style=\"background-color:rgba(135,206,250, 0);\">from</span> <span style=\"background-color:rgba(135,206,250, 0);\">the</span> <span style=\"background-color:rgba(135,206,250, 0);\">pay</span> <span style=\"background-color:rgba(135,206,250, 0);\">##er</span> <span style=\"background-color:rgba(135,206,250, 0);\">in</span> <span style=\"background-color:rgba(135,206,250, 0);\">white</span> <span style=\"background-color:rgba(135,206,250, 0);\">.</span> <span style=\"background-color:rgba(135,206,250, 0);\">[SEP]</span> <span style=\"background-color:rgba(135,206,250, 0);\">the</span> <span style=\"background-color:rgba(135,206,250, 0);\">football</span> <span style=\"background-color:rgba(135,206,250, 0);\">player</span> <span style=\"background-color:rgba(135,206,250, 0);\">is</span> <span style=\"background-color:rgba(135,206,250, 1);\">under</span> <span style=\"background-color:rgba(135,206,250, 1);\">du</span> <span style=\"background-color:rgba(135,206,250, 1);\">##ress</span> <span style=\"background-color:rgba(135,206,250, 1);\">.</span> <span style=\"background-color:rgba(135,206,250, 0);\">[SEP]</span>"
     },
     "metadata": {},
     "output_type": "display_data"
    }
   ],
   "source": [
    "# visualize on the best head\n",
    "try :\n",
    "    sent = sentences[sent_choice, :].clone().detach()[None,:]\n",
    "    mk = masks[sent_choice, :].clone().detach()[None,:]\n",
    "    raw_attention_inst = RawAttention(model=model,\n",
    "                                      input_ids=sent,\n",
    "                                      attention_mask=mk,\n",
    "                                      test_mod=False\n",
    "                                      )\n",
    "\n",
    "    # construction of the attention score\n",
    "    attention_score = raw_attention_inst.attention_tensor[0,10,5,:,:].sum(dim=0)\n",
    "    # noramlization of the score\n",
    "    attention_score = normalize_attention(raw_attention_inst.tokens, attention_score)\n",
    "    # we will now earch the e-snli corresponding sentence\n",
    "    j = 0\n",
    "\n",
    "    while eval(e_snli_data[\"tok_sent\"][j]) != raw_attention_inst.tokens :\n",
    "        j += 1\n",
    "\n",
    "    vis = hightlight_txt(raw_attention_inst.tokens, attention_score, torch.tensor(eval(e_snli_data[\"hg_goal\"][j])))\n",
    "    display(HTML(vis))\n",
    "\n",
    "except Exception :\n",
    "    print(\"sentences problems\")"
   ],
   "metadata": {
    "collapsed": false,
    "pycharm": {
     "name": "#%%\n"
    }
   }
  },
  {
   "cell_type": "code",
   "execution_count": 14,
   "outputs": [
    {
     "data": {
      "text/plain": "<IPython.core.display.HTML object>",
      "text/html": "<span style=\"background-color:rgba(135,206,250, 0);\">[CLS]</span> <span style=\"background-color:rgba(135,206,250, 3.8336846828460693);\">the</span> <span style=\"background-color:rgba(135,206,250, 2.552157402038574);\">american</span> <span style=\"background-color:rgba(135,206,250, 1.4136391878128052);\">footballer</span> <span style=\"background-color:rgba(135,206,250, 2.9632365703582764);\">in</span> <span style=\"background-color:rgba(135,206,250, 0.8724300265312195);\">yellow</span> <span style=\"background-color:rgba(135,206,250, 1.880568504333496);\">catches</span> <span style=\"background-color:rgba(135,206,250, 9.582571983337402);\">the</span> <span style=\"background-color:rgba(135,206,250, 1.0317857265472412);\">ball</span> <span style=\"background-color:rgba(135,206,250, 0.8134995102882385);\">whilst</span> <span style=\"background-color:rgba(135,206,250, 1.8924179077148438);\">under</span> <span style=\"background-color:rgba(135,206,250, 1.0127755403518677);\">pressure</span> <span style=\"background-color:rgba(135,206,250, 1.5469099283218384);\">from</span> <span style=\"background-color:rgba(135,206,250, 5.260102272033691);\">the</span> <span style=\"background-color:rgba(135,206,250, 0.348014235496521);\">pay</span> <span style=\"background-color:rgba(135,206,250, 1.2019588947296143);\">##er</span> <span style=\"background-color:rgba(135,206,250, 2.714416027069092);\">in</span> <span style=\"background-color:rgba(135,206,250, 0.5954861640930176);\">white</span> <span style=\"background-color:rgba(135,206,250, 7.996739864349365);\">.</span> <span style=\"background-color:rgba(135,206,250, 0);\">[SEP]</span> <span style=\"background-color:rgba(135,206,250, 5.602751731872559);\">the</span> <span style=\"background-color:rgba(135,206,250, 1.5159084796905518);\">football</span> <span style=\"background-color:rgba(135,206,250, 0.4762249290943146);\">player</span> <span style=\"background-color:rgba(135,206,250, 0.788357675075531);\">is</span> <span style=\"background-color:rgba(135,206,250, 1.087593674659729);\">under</span> <span style=\"background-color:rgba(135,206,250, 0.0);\">du</span> <span style=\"background-color:rgba(135,206,250, 0.09443861246109009);\">##ress</span> <span style=\"background-color:rgba(135,206,250, 10.0);\">.</span> <span style=\"background-color:rgba(135,206,250, 0);\">[SEP]</span> <br> <span style=\"background-color:rgba(135,206,250, 0);\">[CLS]</span> <span style=\"background-color:rgba(135,206,250, 0);\">the</span> <span style=\"background-color:rgba(135,206,250, 0);\">american</span> <span style=\"background-color:rgba(135,206,250, 0);\">footballer</span> <span style=\"background-color:rgba(135,206,250, 0);\">in</span> <span style=\"background-color:rgba(135,206,250, 0);\">yellow</span> <span style=\"background-color:rgba(135,206,250, 0);\">catches</span> <span style=\"background-color:rgba(135,206,250, 0);\">the</span> <span style=\"background-color:rgba(135,206,250, 0);\">ball</span> <span style=\"background-color:rgba(135,206,250, 0);\">whilst</span> <span style=\"background-color:rgba(135,206,250, 1);\">under</span> <span style=\"background-color:rgba(135,206,250, 1);\">pressure</span> <span style=\"background-color:rgba(135,206,250, 0);\">from</span> <span style=\"background-color:rgba(135,206,250, 0);\">the</span> <span style=\"background-color:rgba(135,206,250, 0);\">pay</span> <span style=\"background-color:rgba(135,206,250, 0);\">##er</span> <span style=\"background-color:rgba(135,206,250, 0);\">in</span> <span style=\"background-color:rgba(135,206,250, 0);\">white</span> <span style=\"background-color:rgba(135,206,250, 0);\">.</span> <span style=\"background-color:rgba(135,206,250, 0);\">[SEP]</span> <span style=\"background-color:rgba(135,206,250, 0);\">the</span> <span style=\"background-color:rgba(135,206,250, 0);\">football</span> <span style=\"background-color:rgba(135,206,250, 0);\">player</span> <span style=\"background-color:rgba(135,206,250, 0);\">is</span> <span style=\"background-color:rgba(135,206,250, 1);\">under</span> <span style=\"background-color:rgba(135,206,250, 1);\">du</span> <span style=\"background-color:rgba(135,206,250, 1);\">##ress</span> <span style=\"background-color:rgba(135,206,250, 1);\">.</span> <span style=\"background-color:rgba(135,206,250, 0);\">[SEP]</span>"
     },
     "metadata": {},
     "output_type": "display_data"
    }
   ],
   "source": [
    "# visualize the worst head\n",
    "try :\n",
    "    sent = sentences[sent_choice, :].clone().detach()[None,:]\n",
    "    mk = masks[sent_choice, :].clone().detach()[None,:]\n",
    "    raw_attention_inst = RawAttention(model=model,\n",
    "                                      input_ids=sent,\n",
    "                                      attention_mask=mk,\n",
    "                                      test_mod=False\n",
    "                                      )\n",
    "\n",
    "    # construction of the attention score >> here we take the layer 4 and the head 2\n",
    "    attention_score = raw_attention_inst.attention_tensor[0,3,2,:,:].sum(dim=0)\n",
    "    # normalization of the score\n",
    "    attention_score = normalize_attention(raw_attention_inst.tokens, attention_score)\n",
    "    while eval(e_snli_data[\"tok_sent\"][j]) != raw_attention_inst.tokens :\n",
    "        j += 1\n",
    "    # attention visu\n",
    "    vis = hightlight_txt(raw_attention_inst.tokens, attention_score, torch.tensor(eval(e_snli_data[\"hg_goal\"][j])))\n",
    "    display(HTML(vis))\n",
    "\n",
    "except Exception :\n",
    "    print(\"sentences problems\")"
   ],
   "metadata": {
    "collapsed": false,
    "pycharm": {
     "name": "#%%\n"
    }
   }
  },
  {
   "cell_type": "code",
   "execution_count": 58,
   "outputs": [
    {
     "name": "stdout",
     "output_type": "stream",
     "text": [
      "ratio of 1 label in e-snli data : 19.32 %\n"
     ]
    }
   ],
   "source": [
    "# the number of 1 we have in our dataset\n",
    "# >> we don't mark a lot of data\n",
    "print(f\"ratio of 1 label in e-snli data : {np.round(sum(Y_test)/len(Y_test)*100,3)} %\")"
   ],
   "metadata": {
    "collapsed": false,
    "pycharm": {
     "name": "#%%\n"
    }
   }
  },
  {
   "cell_type": "markdown",
   "source": [
    "Here also we can make some observation :\n",
    "- Our hypothesis that some head aren't usefull seems to be true since some heads provide an annotation which is really bad.\n",
    "- On the other hand some heads seems to be really interesting with an *AUC* $\\approx 0.75$, but we have to be really carefull about this because this result is good because of the ratio of 1 label in the Y_test. Since there is a really few number of 1 labels in this, if we have a score that provide very few"
   ],
   "metadata": {
    "collapsed": false,
    "pycharm": {
     "name": "#%% md\n"
    }
   }
  },
  {
   "cell_type": "markdown",
   "source": [
    "## Agregation of the \"good\" heads\n",
    "\n",
    "---\n",
    "\n",
    "After this experience we are able te see that some heads are \"useless\" (the AUC is really close to 0.5) we will then apply a mask to the head to focus on the head with a good AUC. To define a good AUC we need to set a threshold $TR$, and we will keep all the heads that have an AUC greater than this particular treshold"
   ],
   "metadata": {
    "collapsed": false,
    "pycharm": {
     "name": "#%% md\n"
    }
   }
  },
  {
   "cell_type": "markdown",
   "source": [
    "### Layer Sum agregation\n",
    "\n",
    "---\n",
    "\n",
    "We saw during the previous phase that some layers could be pruned be within the \"important heads\" (the heads we do not prune) each head provide an information different about the plausibility. Our objective is to combine the information gathered by each of these heads. A good way to combine this information is to make the *sum* (sum agregation).\n",
    "\n",
    "First we will look at the sum layer by layer, we want to keep this approach layer by layer."
   ],
   "metadata": {
    "collapsed": false,
    "pycharm": {
     "name": "#%% md\n"
    }
   }
  },
  {
   "cell_type": "code",
   "execution_count": 16,
   "outputs": [],
   "source": [
    "# the mask\n",
    "TR = 0.6\n",
    "auc_mask = (auc_map>TR)"
   ],
   "metadata": {
    "collapsed": false,
    "pycharm": {
     "name": "#%%\n"
    }
   }
  },
  {
   "cell_type": "code",
   "execution_count": 17,
   "outputs": [
    {
     "name": "stderr",
     "output_type": "stream",
     "text": [
      "100%|██████████| 1000/1000 [03:55<00:00,  4.25it/s]"
     ]
    },
    {
     "name": "stdout",
     "output_type": "stream",
     "text": [
      ">> nb_errors : 21\n",
      ">> len Y_test : 26600\n"
     ]
    },
    {
     "name": "stderr",
     "output_type": "stream",
     "text": [
      "\n"
     ]
    }
   ],
   "source": [
    "class LenException(Exception):\n",
    "    pass\n",
    "\n",
    "SPECIAL_TOKENS = [\"[CLS]\", \"[SEP]\", \"[PAD]\"]\n",
    "\n",
    "Y_test = []\n",
    "\n",
    "nb_err = 0\n",
    "\n",
    "# where we\n",
    "pur_attention_bis = {}\n",
    "\n",
    "for i in range(12):\n",
    "    pur_attention_bis[f\"layer_{i}\"] = []\n",
    "\n",
    "\n",
    "for _, i in enumerate(tqdm.tqdm(range(1000))):\n",
    "    j = 0\n",
    "    # iteration through all the sentences\n",
    "    # construct the raw attention object\n",
    "    sent = sentences[i, :].clone().detach()[None,:]\n",
    "    mk = masks[i, :].clone().detach()[None,:]\n",
    "    raw_attention_inst = RawAttention(model=model,\n",
    "                                      input_ids=sent,\n",
    "                                      attention_mask=mk,\n",
    "                                      test_mod=False\n",
    "                                      )\n",
    "\n",
    "    # find the e-snli sentence that corresponds to our problem\n",
    "    try :\n",
    "        while j<e_snli_data.shape[0] and raw_attention_inst.tokens!=eval(e_snli_data[\"tok_sent\"][j]):\n",
    "            j+=1\n",
    "\n",
    "        if j>=e_snli_data.shape[0]:\n",
    "            raise LenException\n",
    "\n",
    "        if raw_attention_inst.tokens!=eval(e_snli_data[\"tok_sent\"][j]):\n",
    "            raise LenException\n",
    "\n",
    "        else :\n",
    "            # once the sentence is found >> add the e-snli annotation\n",
    "            Y_test += eval(e_snli_data[\"hg_goal\"][j])\n",
    "\n",
    "            # loop over every head of every layer\n",
    "            for l in range(12):\n",
    "                # mat >> the attention of the layer\n",
    "                mat = None\n",
    "                # on this layer, sum of all the \"good heads\"\n",
    "                # >> the good heads are found with the auc_mask we created\n",
    "                # >> on each layer we sum the good layers\n",
    "                for h in range(12):\n",
    "                    if h==0:\n",
    "                        m = raw_attention_inst.attention_tensor[0, l ,h, :, :].detach().numpy()\n",
    "                        m *= int(auc_mask[l,h])\n",
    "                        mat = m.copy()\n",
    "                    else :\n",
    "                        m = raw_attention_inst.attention_tensor[0, l ,h, :, :].detach().numpy()\n",
    "                        m *= int(auc_mask[l,h])\n",
    "                        mat += m.copy()\n",
    "\n",
    "                mat = torch.tensor(mat)\n",
    "                # make the sum on the column >> agregation of the weights\n",
    "                # >> dim=0 >> we reduce the number of lines\n",
    "                b = mat.sum(dim=0)\n",
    "\n",
    "                # >> remove the special tokens\n",
    "                # >> normalize the attention\n",
    "                b = normalize_attention(raw_attention_inst.tokens, b)\n",
    "\n",
    "                    # >> add the attention\n",
    "                pur_attention_bis[f\"layer_{l}\"] += list(b.detach().numpy())\n",
    "\n",
    "\n",
    "\n",
    "\n",
    "    except LenException :\n",
    "        # count the different errors\n",
    "        nb_err += 1\n",
    "\n",
    "\n",
    "# >> the errors are for the sentences we didn't found in the snli dataset\n",
    "print(f\">> nb_errors : {nb_err}\")\n",
    "\n",
    "# how many labeled example do we have\n",
    "print(f\">> len Y_test : {len(Y_test)}\")"
   ],
   "metadata": {
    "collapsed": false,
    "pycharm": {
     "name": "#%%\n"
    }
   }
  },
  {
   "cell_type": "code",
   "execution_count": 18,
   "outputs": [
    {
     "data": {
      "text/plain": "<Figure size 720x720 with 2 Axes>",
      "image/png": "[encoded data removed]"
     },
     "metadata": {},
     "output_type": "display_data"
    }
   ],
   "source": [
    "# Construction of the AUC map\n",
    "auc_map_bis = np.zeros((12,1))\n",
    "for l in range(12):\n",
    "    preds = pur_attention_bis[f\"layer_{l}\"]\n",
    "    fpr, tpr, threshold = metrics.roc_curve(Y_test, preds)\n",
    "    auc_map_bis[l,0] = metrics.auc(fpr, tpr)\n",
    "\n",
    "# plot the color map\n",
    "fig = default_plot_colormap(auc_map_bis, xlabel=\"ag\", ylabel=\"layer\", title=\"AUC map after agreg\")\n",
    "plt.savefig(os.path.join(graph_folder,\"auc_map_agreg_tr_06.png\"))\n",
    "plt.show()"
   ],
   "metadata": {
    "collapsed": false,
    "pycharm": {
     "name": "#%%\n"
    }
   }
  },
  {
   "cell_type": "code",
   "execution_count": 21,
   "outputs": [
    {
     "name": "stdout",
     "output_type": "stream",
     "text": [
      ">> we will look at the sentence : 315\n"
     ]
    },
    {
     "data": {
      "text/plain": "<IPython.core.display.HTML object>",
      "text/html": "<span style=\"background-color:rgba(135,206,250, 0);\">[CLS]</span> <span style=\"background-color:rgba(135,206,250, 0.051966238766908646);\">a</span> <span style=\"background-color:rgba(135,206,250, 0.05813074856996536);\">man</span> <span style=\"background-color:rgba(135,206,250, 0.06027304381132126);\">in</span> <span style=\"background-color:rgba(135,206,250, 0.07229115813970566);\">an</span> <span style=\"background-color:rgba(135,206,250, 0.7169687747955322);\">alaska</span> <span style=\"background-color:rgba(135,206,250, 0.9525555968284607);\">sweatshirt</span> <span style=\"background-color:rgba(135,206,250, 0.09592657536268234);\">stands</span> <span style=\"background-color:rgba(135,206,250, 0.08577200770378113);\">behind</span> <span style=\"background-color:rgba(135,206,250, 0.14174164831638336);\">a</span> <span style=\"background-color:rgba(135,206,250, 1.1736124753952026);\">counter</span> <span style=\"background-color:rgba(135,206,250, 2.9340851306915283);\">.</span> <span style=\"background-color:rgba(135,206,250, 0);\">[SEP]</span> <span style=\"background-color:rgba(135,206,250, 0.008696813136339188);\">the</span> <span style=\"background-color:rgba(135,206,250, 0.0);\">man</span> <span style=\"background-color:rgba(135,206,250, 0.03427901118993759);\">is</span> <span style=\"background-color:rgba(135,206,250, 0.21544666588306427);\">wearing</span> <span style=\"background-color:rgba(135,206,250, 1.2112796306610107);\">a</span> <span style=\"background-color:rgba(135,206,250, 10.0);\">tank</span> <span style=\"background-color:rgba(135,206,250, 5.722458362579346);\">top</span> <span style=\"background-color:rgba(135,206,250, 5.585148334503174);\">.</span> <span style=\"background-color:rgba(135,206,250, 0);\">[SEP]</span> <br> <span style=\"background-color:rgba(135,206,250, 0);\">[CLS]</span> <span style=\"background-color:rgba(135,206,250, 0);\">a</span> <span style=\"background-color:rgba(135,206,250, 0);\">man</span> <span style=\"background-color:rgba(135,206,250, 0);\">in</span> <span style=\"background-color:rgba(135,206,250, 0);\">an</span> <span style=\"background-color:rgba(135,206,250, 0);\">alaska</span> <span style=\"background-color:rgba(135,206,250, 1);\">sweatshirt</span> <span style=\"background-color:rgba(135,206,250, 0);\">stands</span> <span style=\"background-color:rgba(135,206,250, 0);\">behind</span> <span style=\"background-color:rgba(135,206,250, 0);\">a</span> <span style=\"background-color:rgba(135,206,250, 0);\">counter</span> <span style=\"background-color:rgba(135,206,250, 0);\">.</span> <span style=\"background-color:rgba(135,206,250, 0);\">[SEP]</span> <span style=\"background-color:rgba(135,206,250, 0);\">the</span> <span style=\"background-color:rgba(135,206,250, 0);\">man</span> <span style=\"background-color:rgba(135,206,250, 0);\">is</span> <span style=\"background-color:rgba(135,206,250, 0);\">wearing</span> <span style=\"background-color:rgba(135,206,250, 0);\">a</span> <span style=\"background-color:rgba(135,206,250, 1);\">tank</span> <span style=\"background-color:rgba(135,206,250, 1);\">top</span> <span style=\"background-color:rgba(135,206,250, 1);\">.</span> <span style=\"background-color:rgba(135,206,250, 0);\">[SEP]</span>"
     },
     "metadata": {},
     "output_type": "display_data"
    }
   ],
   "source": [
    "# visualize on the best head\n",
    "sent_choice = random.randint(0,1000)\n",
    "print(f\">> we will look at the sentence : {sent_choice}\")\n",
    "\n",
    "try :\n",
    "    sent = sentences[sent_choice, :].clone().detach()[None,:]\n",
    "    mk = masks[sent_choice, :].clone().detach()[None,:]\n",
    "    raw_attention_inst = RawAttention(model=model,\n",
    "                                      input_ids=sent,\n",
    "                                      attention_mask=mk,\n",
    "                                      test_mod=False\n",
    "                                      )\n",
    "\n",
    "    # construction of the attention score\n",
    "    buff = raw_attention_inst.attention_tensor[0,10,:,:,:]\n",
    "    attention_score = None\n",
    "    # first we apply the mask\n",
    "    for h in range(12):\n",
    "        buff[h,:,:] *= int(auc_mask[10,h])\n",
    "\n",
    "    attention_score = buff.sum(dim=0) # sum of all the heads\n",
    "    attention_score = attention_score.sum(dim=0) # sum on the lines\n",
    "    attention_score = normalize_attention(raw_attention_inst.tokens, attention_score)\n",
    "\n",
    "    # we will now earch the e-snli corresponding sentence\n",
    "    j = 0\n",
    "\n",
    "    while eval(e_snli_data[\"tok_sent\"][j]) != raw_attention_inst.tokens :\n",
    "        j += 1\n",
    "    # attention visu\n",
    "    vis = hightlight_txt(raw_attention_inst.tokens, attention_score, torch.tensor(eval(e_snli_data[\"hg_goal\"][j])))\n",
    "    display(HTML(vis))\n",
    "\n",
    "except Exception :\n",
    "    print(\"sentences problems\")"
   ],
   "metadata": {
    "collapsed": false,
    "pycharm": {
     "name": "#%%\n"
    }
   }
  },
  {
   "cell_type": "markdown",
   "source": [
    "#### Study of the threshold for the sum agregation\n",
    "\n",
    "We saw that some heads provided a really bad AUC score, but what is a bad AUC score. In this next cell we will find the minimum AUC score that is good for a head and if we prune the heads with a bad AUC score do we improve the performance Layer by layer."
   ],
   "metadata": {
    "collapsed": false,
    "pycharm": {
     "name": "#%% md\n"
    }
   }
  },
  {
   "cell_type": "code",
   "execution_count": null,
   "outputs": [],
   "source": [
    "TR_s = np.linspace(0.5,0.65,10) # where we will search the threshold\n",
    "\n",
    "Tr_auc_map = np.zeros((12,len(TR_s)))\n",
    "\n",
    "for _, k in enumerate(tqdm.tqdm(range(len(TR_s)))):\n",
    "    tr = TR_s[k]\n",
    "\n",
    "    auc_mask = (auc_map>tr)\n",
    "    Y_test = []\n",
    "    nb_err = 0\n",
    "\n",
    "    pur_attention_bis = {}\n",
    "\n",
    "    for i in range(12):\n",
    "        pur_attention_bis[f\"layer_{i}\"] = []\n",
    "\n",
    "\n",
    "    for i in range(1000):\n",
    "        j = 0\n",
    "        # iteration through all the sentences\n",
    "        # construct the raw attention object\n",
    "        sent = sentences[i, :].clone().detach()[None,:]\n",
    "        mk = masks[i, :].clone().detach()[None,:]\n",
    "        raw_attention_inst = RawAttention(model=model,\n",
    "                                          input_ids=sent,\n",
    "                                          attention_mask=mk,\n",
    "                                          test_mod=False\n",
    "                                          )\n",
    "\n",
    "        # find the e-snli sentence that corresponds to our problem\n",
    "        try :\n",
    "            while j<e_snli_data.shape[0] and raw_attention_inst.tokens!=eval(e_snli_data[\"tok_sent\"][j]):\n",
    "                j+=1\n",
    "\n",
    "            if j>=e_snli_data.shape[0]:\n",
    "                raise LenException\n",
    "\n",
    "            if raw_attention_inst.tokens!=eval(e_snli_data[\"tok_sent\"][j]):\n",
    "                raise LenException\n",
    "\n",
    "            else :\n",
    "                # once the sentence is found >> add the e-snli annotation\n",
    "                Y_test += eval(e_snli_data[\"hg_goal\"][j])\n",
    "\n",
    "                # loop over every head of every layer\n",
    "                for l in range(12):\n",
    "                    # mat >> the attention of the layer\n",
    "                    mat = None\n",
    "                    # on this layer, sum of all the \"good heads\"\n",
    "                    # >> the good heads are found with the auc_mask we created\n",
    "                    # >> on each layer we sum the good layers\n",
    "                    for h in range(12):\n",
    "                        if h==0:\n",
    "                            m = raw_attention_inst.attention_tensor[0, l ,h, :, :].detach().numpy()\n",
    "                            m *= int(auc_mask[l,h])\n",
    "                            mat = m.copy()\n",
    "                        else :\n",
    "                            m = raw_attention_inst.attention_tensor[0, l ,h, :, :].detach().numpy()\n",
    "                            m *= int(auc_mask[l,h])\n",
    "                            mat += m.copy()\n",
    "\n",
    "                    mat = torch.tensor(mat)\n",
    "                    # make the sum on the column >> agregation of the weights\n",
    "                    # >> dim=0 >> we reduce the number of lines\n",
    "                    b = mat.sum(dim=0)\n",
    "\n",
    "                    # >> remove the special tokens\n",
    "                    # >> normalize the attention\n",
    "                    b = normalize_attention(raw_attention_inst.tokens, b)\n",
    "\n",
    "                        # >> add the attention\n",
    "                    pur_attention_bis[f\"layer_{l}\"] += list(b.detach().numpy())\n",
    "\n",
    "        except LenException :\n",
    "            # count the different errors\n",
    "            nb_err += 1\n",
    "\n",
    "    auc_map_bis = np.zeros((12,1))\n",
    "    for l in range(12):\n",
    "        preds = pur_attention_bis[f\"layer_{l}\"]\n",
    "        fpr, tpr, threshold = metrics.roc_curve(Y_test, preds)\n",
    "        auc_map_bis[l,0] = metrics.auc(fpr, tpr)\n",
    "\n",
    "    Tr_auc_map[:,k] = auc_map_bis[:,0]\n",
    "\n",
    "# plot the color map\n",
    "fig = default_plot_colormap(Tr_auc_map, xstick=[str(np.round(t,3)) for t in TR_s] ,\n",
    "                            xlabel=\"tr\", ylabel=\"layer\", title=\"AUC map tr + agreg\")\n",
    "plt.savefig(os.path.join(graph_folder,\"auc_map_tr_search_for_agreg.png\"))\n",
    "plt.show()"
   ],
   "metadata": {
    "collapsed": false,
    "pycharm": {
     "name": "#%%\n",
     "is_executing": true
    }
   }
  },
  {
   "cell_type": "markdown",
   "source": [
    "Pruning and combining the heads seems to be something really interesting for our study"
   ],
   "metadata": {
    "collapsed": false,
    "pycharm": {
     "name": "#%% md\n"
    }
   }
  },
  {
   "cell_type": "code",
   "execution_count": null,
   "outputs": [],
   "source": [],
   "metadata": {
    "collapsed": false,
    "pycharm": {
     "name": "#%%\n"
    }
   }
  },
  {
   "cell_type": "markdown",
   "source": [
    "#### Study of the layer 11 (the best result we have)"
   ],
   "metadata": {
    "collapsed": false,
    "pycharm": {
     "name": "#%% md\n"
    }
   }
  },
  {
   "cell_type": "markdown",
   "source": [
    "##### AUC score of the layer 11"
   ],
   "metadata": {
    "collapsed": false,
    "pycharm": {
     "name": "#%% md\n"
    }
   }
  },
  {
   "cell_type": "code",
   "execution_count": null,
   "outputs": [],
   "source": [
    "# The TR_s we will look for\n",
    "TR_s = [0.6,0.61,0.62,0.63,0.64,0.65,0.66,0.67,0.68,0.69,0.7,0.71,0.72,0.73]\n",
    "\n",
    "Tr_auc_map = np.zeros((1,len(TR_s)))\n",
    "\n",
    "for _, k in enumerate(tqdm.tqdm(range(len(TR_s)))):\n",
    "    tr = TR_s[k]\n",
    "\n",
    "    auc_mask = (auc_map>tr)\n",
    "    Y_test = []\n",
    "    nb_err = 0\n",
    "\n",
    "    pur_attention_bis = []\n",
    "\n",
    "    for i in range(1000):\n",
    "        j = 0\n",
    "        # iteration through all the sentences\n",
    "        # construct the raw attention object\n",
    "        sent = sentences[i, :].clone().detach()[None,:]\n",
    "        mk = masks[i, :].clone().detach()[None,:]\n",
    "        raw_attention_inst = RawAttention(model=model,\n",
    "                                          input_ids=sent,\n",
    "                                          attention_mask=mk,\n",
    "                                          test_mod=False\n",
    "                                          )\n",
    "\n",
    "        # find the e-snli sentence that corresponds to our problem\n",
    "        try :\n",
    "            while j<e_snli_data.shape[0] and raw_attention_inst.tokens!=eval(e_snli_data[\"tok_sent\"][j]):\n",
    "                j+=1\n",
    "\n",
    "            if j>=e_snli_data.shape[0]:\n",
    "                raise LenException\n",
    "\n",
    "            if raw_attention_inst.tokens!=eval(e_snli_data[\"tok_sent\"][j]):\n",
    "                raise LenException\n",
    "\n",
    "            else :\n",
    "                # once the sentence is found >> add the e-snli annotation\n",
    "                Y_test += eval(e_snli_data[\"hg_goal\"][j])\n",
    "\n",
    "                # loop over every head of every layer\n",
    "                mat = None\n",
    "                # >> focus on the layer 11\n",
    "                # agregation of the heads only on the layer 11\n",
    "                # on this layer we can push the threshold\n",
    "                for h in range(12):\n",
    "                    if h==0:\n",
    "                        m = raw_attention_inst.attention_tensor[0, 10 ,h, :, :].detach().numpy()\n",
    "                        m *= int(auc_mask[10,h])\n",
    "                        mat = m.copy()\n",
    "                    else :\n",
    "                        m = raw_attention_inst.attention_tensor[0, 10 ,h, :, :].detach().numpy()\n",
    "                        m *= int(auc_mask[10,h])\n",
    "                        mat += m.copy()\n",
    "\n",
    "                mat = torch.tensor(mat)\n",
    "                # make the sum on the column >> agregation of the weights\n",
    "                # >> dim=0 >> we reduce the number of lines\n",
    "                b = mat.sum(dim=0)\n",
    "\n",
    "                # >> remove the special tokens\n",
    "                # >> normalize the attention\n",
    "                b = normalize_attention(raw_attention_inst.tokens, b)\n",
    "\n",
    "                # >> add the attention\n",
    "                pur_attention_bis += list(b.detach().numpy())\n",
    "\n",
    "        except LenException :\n",
    "            # count the different errors\n",
    "            nb_err += 1\n",
    "\n",
    "\n",
    "    preds = pur_attention_bis\n",
    "    fpr, tpr, threshold = metrics.roc_curve(Y_test, preds)\n",
    "    Tr_auc_map[0,k] = metrics.auc(fpr, tpr)"
   ],
   "metadata": {
    "collapsed": false,
    "pycharm": {
     "name": "#%%\n",
     "is_executing": true
    }
   }
  },
  {
   "cell_type": "code",
   "execution_count": 30,
   "outputs": [
    {
     "data": {
      "text/plain": "<Figure size 720x144 with 2 Axes>",
      "image/png": "[encoded data removed]"
     },
     "metadata": {},
     "output_type": "display_data"
    }
   ],
   "source": [
    "fig = default_plot_colormap(Tr_auc_map, xstick=[str(np.round(t,3)) for t in TR_s] ,\n",
    "                            sz = (10,2),\n",
    "                            xlabel=\"tr\", ylabel=\"layer 11\", title=\"AUC map tr on layer 11\")\n",
    "plt.savefig(os.path.join(graph_folder,\"auc_map_tr_search_on_layer_11.png\"))\n",
    "plt.show()"
   ],
   "metadata": {
    "collapsed": false,
    "pycharm": {
     "name": "#%%\n"
    }
   }
  },
  {
   "cell_type": "markdown",
   "source": [
    "##### HTML visu for the layer 11"
   ],
   "metadata": {
    "collapsed": false,
    "pycharm": {
     "name": "#%% md\n"
    }
   }
  },
  {
   "cell_type": "code",
   "execution_count": 31,
   "outputs": [],
   "source": [
    "TR = 0.71 # the best Threshold on the previous grid\n",
    "auc_mask = (auc_map>TR)"
   ],
   "metadata": {
    "collapsed": false,
    "pycharm": {
     "name": "#%%\n"
    }
   }
  },
  {
   "cell_type": "code",
   "execution_count": 33,
   "outputs": [
    {
     "data": {
      "text/plain": "<IPython.core.display.HTML object>",
      "text/html": "<span style=\"background-color:rgba(135,206,250, 0);\">[CLS]</span> <span style=\"background-color:rgba(135,206,250, 0.0360570065677166);\">a</span> <span style=\"background-color:rgba(135,206,250, 0.04557507857680321);\">man</span> <span style=\"background-color:rgba(135,206,250, 0.02488332986831665);\">in</span> <span style=\"background-color:rgba(135,206,250, 0.026005320250988007);\">an</span> <span style=\"background-color:rgba(135,206,250, 0.8582765460014343);\">alaska</span> <span style=\"background-color:rgba(135,206,250, 1.3161256313323975);\">sweatshirt</span> <span style=\"background-color:rgba(135,206,250, 0.07861831784248352);\">stands</span> <span style=\"background-color:rgba(135,206,250, 0.04074480012059212);\">behind</span> <span style=\"background-color:rgba(135,206,250, 0.11317578703165054);\">a</span> <span style=\"background-color:rgba(135,206,250, 1.151617169380188);\">counter</span> <span style=\"background-color:rgba(135,206,250, 2.200467109680176);\">.</span> <span style=\"background-color:rgba(135,206,250, 0);\">[SEP]</span> <span style=\"background-color:rgba(135,206,250, 0.009506921283900738);\">the</span> <span style=\"background-color:rgba(135,206,250, 0.0);\">man</span> <span style=\"background-color:rgba(135,206,250, 0.05002730339765549);\">is</span> <span style=\"background-color:rgba(135,206,250, 0.3050541877746582);\">wearing</span> <span style=\"background-color:rgba(135,206,250, 1.1564066410064697);\">a</span> <span style=\"background-color:rgba(135,206,250, 10.0);\">tank</span> <span style=\"background-color:rgba(135,206,250, 5.799749851226807);\">top</span> <span style=\"background-color:rgba(135,206,250, 4.574479579925537);\">.</span> <span style=\"background-color:rgba(135,206,250, 0);\">[SEP]</span> <br> <span style=\"background-color:rgba(135,206,250, 0);\">[CLS]</span> <span style=\"background-color:rgba(135,206,250, 0);\">a</span> <span style=\"background-color:rgba(135,206,250, 0);\">man</span> <span style=\"background-color:rgba(135,206,250, 0);\">in</span> <span style=\"background-color:rgba(135,206,250, 0);\">an</span> <span style=\"background-color:rgba(135,206,250, 0);\">alaska</span> <span style=\"background-color:rgba(135,206,250, 1);\">sweatshirt</span> <span style=\"background-color:rgba(135,206,250, 0);\">stands</span> <span style=\"background-color:rgba(135,206,250, 0);\">behind</span> <span style=\"background-color:rgba(135,206,250, 0);\">a</span> <span style=\"background-color:rgba(135,206,250, 0);\">counter</span> <span style=\"background-color:rgba(135,206,250, 0);\">.</span> <span style=\"background-color:rgba(135,206,250, 0);\">[SEP]</span> <span style=\"background-color:rgba(135,206,250, 0);\">the</span> <span style=\"background-color:rgba(135,206,250, 0);\">man</span> <span style=\"background-color:rgba(135,206,250, 0);\">is</span> <span style=\"background-color:rgba(135,206,250, 0);\">wearing</span> <span style=\"background-color:rgba(135,206,250, 0);\">a</span> <span style=\"background-color:rgba(135,206,250, 1);\">tank</span> <span style=\"background-color:rgba(135,206,250, 1);\">top</span> <span style=\"background-color:rgba(135,206,250, 1);\">.</span> <span style=\"background-color:rgba(135,206,250, 0);\">[SEP]</span>"
     },
     "metadata": {},
     "output_type": "display_data"
    }
   ],
   "source": [
    "# visualize on the best head\n",
    "try :\n",
    "    sent = sentences[sent_choice, :].clone().detach()[None,:]\n",
    "    mk = masks[sent_choice, :].clone().detach()[None,:]\n",
    "    raw_attention_inst = RawAttention(model=model,\n",
    "                                      input_ids=sent,\n",
    "                                      attention_mask=mk,\n",
    "                                      test_mod=False\n",
    "                                      )\n",
    "\n",
    "    # construction of the attention score\n",
    "    buff = raw_attention_inst.attention_tensor[0,10,:,:,:].detach().numpy()\n",
    "    for h in range(12):\n",
    "        buff[h] *= int(auc_mask[10,h])\n",
    "\n",
    "    # sum of the heads\n",
    "    attention_score = buff.sum(axis=0)\n",
    "    # weight agregation\n",
    "    attention_score = torch.tensor(attention_score.sum(axis=0))\n",
    "\n",
    "    # noramlization of the score\n",
    "    attention_score = normalize_attention(raw_attention_inst.tokens, attention_score)\n",
    "    # we will now earch the e-snli corresponding sentence\n",
    "    j = 0\n",
    "\n",
    "    while eval(e_snli_data[\"tok_sent\"][j]) != raw_attention_inst.tokens :\n",
    "        j += 1\n",
    "\n",
    "    vis = hightlight_txt(raw_attention_inst.tokens, attention_score, torch.tensor(eval(e_snli_data[\"hg_goal\"][j])))\n",
    "    display(HTML(vis))\n",
    "\n",
    "except Exception :\n",
    "    print(\"sentences problems\")"
   ],
   "metadata": {
    "collapsed": false,
    "pycharm": {
     "name": "#%%\n"
    }
   }
  },
  {
   "cell_type": "markdown",
   "source": [
    "#### Global sum agregation\n",
    "\n",
    "---\n",
    "\n",
    "Instead of keeping the approach layer by layer we can have a more global approach"
   ],
   "metadata": {
    "collapsed": false,
    "pycharm": {
     "name": "#%% md\n"
    }
   }
  },
  {
   "cell_type": "code",
   "execution_count": null,
   "outputs": [
    {
     "name": "stderr",
     "output_type": "stream",
     "text": [
      " 70%|███████   | 7/10 [26:52<11:35, 231.71s/it]"
     ]
    }
   ],
   "source": [
    "TR_s = np.linspace(0.5,0.75,10) # where we will search the threshold\n",
    "\n",
    "Tr_auc_map = np.zeros((1,len(TR_s)))\n",
    "\n",
    "for _, k in enumerate(tqdm.tqdm(range(len(TR_s)))):\n",
    "    tr = TR_s[k]\n",
    "\n",
    "    auc_mask = (auc_map>tr)\n",
    "    Y_test = []\n",
    "    nb_err = 0\n",
    "\n",
    "    pur_attention_bis = []\n",
    "\n",
    "\n",
    "    for i in range(1000):\n",
    "        j = 0\n",
    "        # iteration through all the sentences\n",
    "        # construct the raw attention object\n",
    "        sent = sentences[i, :].clone().detach()[None,:]\n",
    "        mk = masks[i, :].clone().detach()[None,:]\n",
    "        raw_attention_inst = RawAttention(model=model,\n",
    "                                          input_ids=sent,\n",
    "                                          attention_mask=mk,\n",
    "                                          test_mod=False\n",
    "                                          )\n",
    "\n",
    "        # find the e-snli sentence that corresponds to our problem\n",
    "        try :\n",
    "            while j<e_snli_data.shape[0] and raw_attention_inst.tokens!=eval(e_snli_data[\"tok_sent\"][j]):\n",
    "                j+=1\n",
    "\n",
    "            if j>=e_snli_data.shape[0]:\n",
    "                raise LenException\n",
    "\n",
    "            if raw_attention_inst.tokens!=eval(e_snli_data[\"tok_sent\"][j]):\n",
    "                raise LenException\n",
    "\n",
    "            else :\n",
    "                # once the sentence is found >> add the e-snli annotation\n",
    "                Y_test += eval(e_snli_data[\"hg_goal\"][j])\n",
    "\n",
    "                # this time the mat is something global for each layer\n",
    "                mat = None\n",
    "                # we will sum each \"good\" head\n",
    "                for l in range(12):\n",
    "                    for h in range(12):\n",
    "                        if h==0:\n",
    "                            m = raw_attention_inst.attention_tensor[0, l ,h, :, :].detach().numpy()\n",
    "                            m *= int(auc_mask[l,h])\n",
    "                            mat = m.copy()\n",
    "                        else :\n",
    "                            m = raw_attention_inst.attention_tensor[0, l ,h, :, :].detach().numpy()\n",
    "                            m *= int(auc_mask[l,h])\n",
    "                            mat += m.copy()\n",
    "\n",
    "                mat = torch.tensor(mat)\n",
    "                # make the sum on the column >> agregation of the weights\n",
    "                # >> dim=0 >> we reduce the number of lines\n",
    "                b = mat.sum(dim=0)\n",
    "\n",
    "                # >> remove the special tokens\n",
    "                # >> normalize the attention\n",
    "                b = normalize_attention(raw_attention_inst.tokens, b)\n",
    "\n",
    "                # >> add the attention\n",
    "                pur_attention_bis += list(b.detach().numpy())\n",
    "\n",
    "        except LenException :\n",
    "            # count the different errors\n",
    "            nb_err += 1\n",
    "\n",
    "    preds = pur_attention_bis\n",
    "    fpr, tpr, threshold = metrics.roc_curve(Y_test, preds)\n",
    "    auc_map_bis[l,0] = metrics.auc(fpr, tpr)\n",
    "\n",
    "    Tr_auc_map[0,k] = metrics.auc(fpr, tpr)\n",
    "\n"
   ],
   "metadata": {
    "collapsed": false,
    "pycharm": {
     "name": "#%%\n",
     "is_executing": true
    }
   }
  },
  {
   "cell_type": "code",
   "execution_count": null,
   "outputs": [],
   "source": [
    "# plot the color map\n",
    "fig = default_plot_colormap(Tr_auc_map, xstick=[str(np.round(t,3)) for t in TR_s] ,\n",
    "                            sz = (10,2),\n",
    "                            xlabel=\"tr\", ylabel=\"layer\", title=\"AUC map tr + agreg\")\n",
    "plt.savefig(os.path.join(graph_folder,\"auc_map_global_sum_agregation.png\"))\n",
    "plt.show()"
   ],
   "metadata": {
    "collapsed": false,
    "pycharm": {
     "name": "#%%\n",
     "is_executing": true
    }
   }
  },
  {
   "cell_type": "code",
   "execution_count": null,
   "outputs": [],
   "source": [],
   "metadata": {
    "collapsed": false,
    "pycharm": {
     "name": "#%%\n"
    }
   }
  }
 ],
 "metadata": {
  "kernelspec": {
   "display_name": "Python 3",
   "language": "python",
   "name": "python3"
  },
  "language_info": {
   "codemirror_mode": {
    "name": "ipython",
    "version": 2
   },
   "file_extension": ".py",
   "mimetype": "text/x-python",
   "name": "python",
   "nbconvert_exporter": "python",
   "pygments_lexer": "ipython2",
   "version": "2.7.6"
  }
 },
 "nbformat": 4,
 "nbformat_minor": 0
}