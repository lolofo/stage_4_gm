{
 "cells": [
  {
   "cell_type": "markdown",
   "id": "b6a44561-bdbe-4af6-b75e-7bf8394edde7",
   "metadata": {
    "pycharm": {
     "name": "#%% md\n"
    }
   },
   "source": [
    "# CLS & SEP study\n",
    "- objectif : see if the CLS token has the effect of a trash in our model. We wan't to understand how the model is actually really working."
   ]
  },
  {
   "cell_type": "code",
   "execution_count": 1,
   "id": "7511e51a-8845-4779-a684-b9887df166da",
   "metadata": {
    "pycharm": {
     "name": "#%%\n"
    }
   },
   "outputs": [
    {
     "name": "stdout",
     "output_type": "stream",
     "text": [
      ">> the git rep : C:\\Users\\loicf\\Documents\\IRISA\\stage_4_gm\\stage_4_gm\n",
      ">> the plots location : C:\\Users\\loicf\\Documents\\IRISA\\stage_4_gm\\stage_4_gm\\.cache\\plots\\cls_sep_study\n"
     ]
    }
   ],
   "source": [
    "%load_ext autoreload\n",
    "%autoreload 2\n",
    "\n",
    "import os\n",
    "from os import path\n",
    "\n",
    "# set the repository to the git repository\n",
    "cwd = os.getcwd().split(os.path.sep)\n",
    "while cwd[-1] != \"stage_4_gm\":\n",
    "    os.chdir(\"..\")\n",
    "    cwd = os.getcwd().split(os.path.sep)\n",
    "print(\">> the git rep : \", end=\"\")\n",
    "print(os.getcwd())\n",
    "\n",
    "# the folder where we will save our data\n",
    "plots_folder = os.path.join(os.getcwd(), '.cache', 'plots')\n",
    "graph_folder = path.join(plots_folder, \"cls_sep_study\")\n",
    "if not path.exists(path.join(plots_folder, \"cls_sep_study\")):\n",
    "    os.mkdir(path.join(plots_folder, \"cls_sep\"))\n",
    "\n",
    "print(f\">> the plots location : {graph_folder}\")"
   ]
  },
  {
   "cell_type": "code",
   "execution_count": 2,
   "id": "6cbac60a-abf1-4380-8541-22eae8c9276e",
   "metadata": {
    "pycharm": {
     "name": "#%%\n"
    }
   },
   "outputs": [
    {
     "name": "stdout",
     "output_type": "stream",
     "text": [
      "The autoreload extension is already loaded. To reload it, use:\n",
      "  %reload_ext autoreload\n"
     ]
    }
   ],
   "source": [
    "%load_ext autoreload\n",
    "%autoreload 2\n",
    "import matplotlib.pyplot as plt\n",
    "import pandas as pd\n",
    "import torch\n",
    "import numpy as np\n",
    "import sklearn.metrics as metrics\n",
    "import random\n",
    "\n",
    "from training_bert import BertNliLight\n",
    "from custom_data_set import SnliDataset\n",
    "from custom_data_set import test_dir, dev_dir\n",
    "from torch.utils.data import DataLoader\n",
    "from tqdm import tqdm\n",
    "import pickle\n",
    "\n",
    "# --> from this environment\n",
    "from attention_algorithms.raw_attention import RawAttention\n",
    "from attention_algorithms.attention_metrics import normalize_attention\n",
    "from attention_algorithms.attention_metrics import default_plot_colormap\n",
    "from attention_algorithms.attention_metrics import attention_score\n",
    "\n",
    "# --> display HTML outputs\n",
    "from attention_algorithms.plausibility_visu import construct_html_table\n",
    "from attention_algorithms.plausibility_visu import hightlight_txt\n",
    "from IPython.display import display, HTML\n",
    "from ipywidgets import interact_manual"
   ]
  },
  {
   "cell_type": "code",
   "execution_count": 3,
   "id": "606fb6d0-14dc-493b-81f5-e2e7b0d7c35f",
   "metadata": {
    "pycharm": {
     "name": "#%%\n"
    }
   },
   "outputs": [
    {
     "name": "stderr",
     "output_type": "stream",
     "text": [
      "Some weights of the model checkpoint at bert-base-uncased were not used when initializing BertModel: ['cls.predictions.bias', 'cls.seq_relationship.weight', 'cls.predictions.transform.dense.bias', 'cls.predictions.decoder.weight', 'cls.predictions.transform.LayerNorm.weight', 'cls.seq_relationship.bias', 'cls.predictions.transform.dense.weight', 'cls.predictions.transform.LayerNorm.bias']\n",
      "- This IS expected if you are initializing BertModel from the checkpoint of a model trained on another task or with another architecture (e.g. initializing a BertForSequenceClassification model from a BertForPreTraining model).\n",
      "- This IS NOT expected if you are initializing BertModel from the checkpoint of a model that you expect to be exactly identical (initializing a BertForSequenceClassification model from a BertForSequenceClassification model).\n"
     ]
    }
   ],
   "source": [
    "ckp = path.join(\".cache\", \"logs\", \"igrida_trained\", \"0\", \"best.ckpt\")\n",
    "model = BertNliLight.load_from_checkpoint(ckp)\n",
    "model = model.eval()  # make sure to have the model in eval mod before using it"
   ]
  },
  {
   "cell_type": "code",
   "execution_count": 4,
   "id": "58db7d8f-605d-4149-b21e-0c1a88a1631e",
   "metadata": {
    "pycharm": {
     "name": "#%%\n"
    }
   },
   "outputs": [],
   "source": [
    "# load the data\n",
    "data_set = SnliDataset(dir=test_dir, nb_sentences=1000, msg=False, keep_neutral=False)\n",
    "data_loader = DataLoader(data_set, batch_size=1000, shuffle=False)\n",
    "\n",
    "sentences, masks, train_labels = next(iter(data_loader))"
   ]
  },
  {
   "cell_type": "code",
   "execution_count": 5,
   "id": "e2b272d3-8075-4040-8b97-49e27e5fb4a8",
   "metadata": {
    "pycharm": {
     "name": "#%%\n"
    }
   },
   "outputs": [
    {
     "data": {
      "text/plain": "                                            tok_sent  \\\n0  ['[CLS]', 'this', 'church', 'choir', 'sings', ...   \n1  ['[CLS]', 'this', 'church', 'choir', 'sings', ...   \n2  ['[CLS]', 'this', 'church', 'choir', 'sings', ...   \n3  ['[CLS]', 'a', 'woman', 'with', 'a', 'green', ...   \n4  ['[CLS]', 'a', 'woman', 'with', 'a', 'green', ...   \n\n                                             hg_goal          label  \n0  [0, 0, 0, 0, 0, 0, 0, 0, 0, 0, 0, 0, 0, 0, 0, ...        neutral  \n1  [0, 0, 0, 1, 1, 1, 1, 1, 0, 0, 0, 0, 0, 0, 0, ...     entailment  \n2  [0, 0, 0, 0, 0, 0, 0, 1, 0, 0, 0, 0, 0, 0, 0, ...  contradiction  \n3  [0, 0, 0, 0, 0, 0, 0, 0, 0, 0, 0, 0, 0, 0, 0, ...        neutral  \n4  [0, 0, 0, 0, 0, 0, 0, 0, 0, 0, 0, 0, 0, 0, 0, ...     entailment  ",
      "text/html": "<div>\n<style scoped>\n    .dataframe tbody tr th:only-of-type {\n        vertical-align: middle;\n    }\n\n    .dataframe tbody tr th {\n        vertical-align: top;\n    }\n\n    .dataframe thead th {\n        text-align: right;\n    }\n</style>\n<table border=\"1\" class=\"dataframe\">\n  <thead>\n    <tr style=\"text-align: right;\">\n      <th></th>\n      <th>tok_sent</th>\n      <th>hg_goal</th>\n      <th>label</th>\n    </tr>\n  </thead>\n  <tbody>\n    <tr>\n      <th>0</th>\n      <td>['[CLS]', 'this', 'church', 'choir', 'sings', ...</td>\n      <td>[0, 0, 0, 0, 0, 0, 0, 0, 0, 0, 0, 0, 0, 0, 0, ...</td>\n      <td>neutral</td>\n    </tr>\n    <tr>\n      <th>1</th>\n      <td>['[CLS]', 'this', 'church', 'choir', 'sings', ...</td>\n      <td>[0, 0, 0, 1, 1, 1, 1, 1, 0, 0, 0, 0, 0, 0, 0, ...</td>\n      <td>entailment</td>\n    </tr>\n    <tr>\n      <th>2</th>\n      <td>['[CLS]', 'this', 'church', 'choir', 'sings', ...</td>\n      <td>[0, 0, 0, 0, 0, 0, 0, 1, 0, 0, 0, 0, 0, 0, 0, ...</td>\n      <td>contradiction</td>\n    </tr>\n    <tr>\n      <th>3</th>\n      <td>['[CLS]', 'a', 'woman', 'with', 'a', 'green', ...</td>\n      <td>[0, 0, 0, 0, 0, 0, 0, 0, 0, 0, 0, 0, 0, 0, 0, ...</td>\n      <td>neutral</td>\n    </tr>\n    <tr>\n      <th>4</th>\n      <td>['[CLS]', 'a', 'woman', 'with', 'a', 'green', ...</td>\n      <td>[0, 0, 0, 0, 0, 0, 0, 0, 0, 0, 0, 0, 0, 0, 0, ...</td>\n      <td>entailment</td>\n    </tr>\n  </tbody>\n</table>\n</div>"
     },
     "execution_count": 5,
     "metadata": {},
     "output_type": "execute_result"
    }
   ],
   "source": [
    "# the data we annotated.\n",
    "e_snli_data = pd.read_csv(os.path.join('.cache', 'raw_data', 'e_snli', 'cleaned_data', 'test.csv'), sep=\",\") \\\n",
    "[[\"tok_sent\", \"hg_goal\", \"label\"]]\n",
    "e_snli_data.head()"
   ]
  },
  {
   "cell_type": "code",
   "execution_count": 6,
   "id": "f5b31876-b89c-4986-8dec-7209ac0fa7a1",
   "metadata": {
    "pycharm": {
     "name": "#%%\n"
    }
   },
   "outputs": [
    {
     "name": "stdout",
     "output_type": "stream",
     "text": [
      ">> the files already exist in the environment >> loading the files ... loading finished\n"
     ]
    }
   ],
   "source": [
    "pur_attention, Y_test = None, None\n",
    "auc_path = graph_folder = path.join(plots_folder, \"auc_head_map\")\n",
    "dir = os.path.join(auc_path, \"inference_dict.pickle\")\n",
    "\n",
    "if os.path.exists(dir) and os.path.getsize(dir) != 0:\n",
    "    print(\">> the files already exist in the environment >> loading the files ...\", end=\"\")\n",
    "    with open(os.path.join(graph_folder, \"inference_dict.pickle\"), \"rb\") as f:\n",
    "        pur_attention, Y_test = pickle.load(f)\n",
    "    print(\" loading finished\")\n",
    "else:\n",
    "    with open(os.path.join(graph_folder, \"inference_dict.pickle\"), \"wb\") as f:\n",
    "        pur_attention, Y_test, _ = attention_score(sentences=sentences, masks=masks,\n",
    "                                                   e_snli_data=e_snli_data,\n",
    "                                                   model=model, TR_q=0,\n",
    "                                                   quantiles_calc=False)\n",
    "\n",
    "        pickle.dump([pur_attention, Y_test], f)"
   ]
  },
  {
   "cell_type": "code",
   "execution_count": 7,
   "id": "279cb1cd-81a1-4165-a9b6-44470f59126c",
   "metadata": {
    "pycharm": {
     "name": "#%%\n"
    }
   },
   "outputs": [],
   "source": [
    "sent_choice = [random.randint(0, 1000) for _ in range(100)]\n",
    "#print(f\">> we will look at the sentence : {sent_choice}\")"
   ]
  },
  {
   "cell_type": "code",
   "execution_count": 11,
   "outputs": [
    {
     "name": "stderr",
     "output_type": "stream",
     "text": [
      " 76%|███████▌  | 76/100 [00:29<00:09,  2.49it/s]C:\\Users\\loicf\\miniconda3\\envs\\nlp\\lib\\site-packages\\ipykernel_launcher.py:43: RuntimeWarning: invalid value encountered in true_divide\n",
      "100%|██████████| 100/100 [00:38<00:00,  2.58it/s]\n"
     ]
    }
   ],
   "source": [
    "# This time we will keep the specials tokens to see what will happen\n",
    "search = [\"entailment\", \"neutral\", \"contradiction\"]\n",
    "plausible_map = np.zeros((12, 12))\n",
    "annot = []\n",
    "jc = []\n",
    "x = []\n",
    "for k in tqdm(sent_choice):\n",
    "    try:\n",
    "        buff_dict = {}\n",
    "        sent = sentences[k, :].clone().detach()[None, :]\n",
    "        mk = masks[k, :].clone().detach()[None, :]\n",
    "        raw_attention_inst = RawAttention(model=model,\n",
    "                                          input_ids=sent,\n",
    "                                          attention_mask=mk,\n",
    "                                          test_mod=False\n",
    "                                          )\n",
    "\n",
    "        b = model(input_ids = sent,\n",
    "                  attention_mask = mk)\n",
    "        lab = torch.argmax(b[\"logits\"][0])\n",
    "        lab = search[lab]\n",
    "        # we will now earch the e-snli corresponding sentence\n",
    "        j = 0\n",
    "\n",
    "        while eval(e_snli_data[\"tok_sent\"][j]) != raw_attention_inst.tokens:\n",
    "            j += 1\n",
    "\n",
    "        buff_dict[\"annotation\"] = hightlight_txt(raw_attention_inst.tokens,\n",
    "                                                 torch.tensor(eval(e_snli_data.hg_goal[j])))\n",
    "        attention_score = torch.zeros(len(raw_attention_inst.tokens))\n",
    "        for layer in range(12):\n",
    "            for head in range(12):\n",
    "                buff = raw_attention_inst.attention_tensor[0, layer, head, 0, :]\n",
    "                used = False\n",
    "                for t in range(len(raw_attention_inst.tokens)):\n",
    "                    if raw_attention_inst.tokens[t] == '[SEP]' and buff[t] <= 0.001:\n",
    "                        attention_score = attention_score + buff\n",
    "                        used = True\n",
    "                        continue\n",
    "                if used:\n",
    "                    plausible_map[layer, head] += 1\n",
    "        y_hat = attention_score.clone().detach().numpy()\n",
    "        y_hat = (y_hat - y_hat.min())/(y_hat.max()-y_hat.min())\n",
    "        # noramlization of the score\n",
    "        \"\"\"attention_score = normalize_attention(tokens=raw_attention_inst.tokens,\n",
    "                                              attention=attention_score)\"\"\"\n",
    "\n",
    "        buff_dict[f\"SEP\"] = hightlight_txt(attention=attention_score,\n",
    "                                           tokens=raw_attention_inst.tokens)\n",
    "\n",
    "        buff_dict['prediction'] = lab\n",
    "        buff_dict['real_lab'] = e_snli_data.label[j]\n",
    "\n",
    "        x.append(int(e_snli_data.label[j] == lab))\n",
    "        y = np.array(torch.tensor(eval(e_snli_data.hg_goal[j])))\n",
    "        jc.append(np.dot(y,y_hat)/(sum(y)+sum(y_hat) - np.dot(y,y_hat)))\n",
    "\n",
    "        annot.append(buff_dict)\n",
    "    except Exception as e:\n",
    "        pass\n",
    "\n",
    "#display(HTML(construct_html_table(annot[0].keys(), annot)))"
   ],
   "metadata": {
    "collapsed": false,
    "pycharm": {
     "name": "#%%\n"
    }
   }
  },
  {
   "cell_type": "code",
   "execution_count": 10,
   "outputs": [
    {
     "data": {
      "text/plain": "<IPython.core.display.HTML object>",
      "text/html": "<!DOCTYPE html> <html> <head><style>\n        table, th, td {\n          border: 1px solid black;\n          border-collapse: collapse;\n        }\n        th, td {\n          background-color: #778899;\n          color : black;\n        }\n    </style>\n    </head>\n    <body><table><tr><th scope=\"col\"> annotation </th><th scope=\"col\"> SEP </th><th scope=\"col\"> prediction </th><th scope=\"col\"> real_lab </th></tr><tr><td><span style=\"background-color:rgba(135,206,250, 0);\">[CLS]</span> <span style=\"background-color:rgba(135,206,250, 0);\">a</span> <span style=\"background-color:rgba(135,206,250, 0);\">young</span> <span style=\"background-color:rgba(135,206,250, 1);\">man</span> <span style=\"background-color:rgba(135,206,250, 0);\">holds</span> <span style=\"background-color:rgba(135,206,250, 0);\">a</span> <span style=\"background-color:rgba(135,206,250, 1);\">hammer</span> <span style=\"background-color:rgba(135,206,250, 0);\">shaped</span> <span style=\"background-color:rgba(135,206,250, 0);\">object</span> <span style=\"background-color:rgba(135,206,250, 0);\">in</span> <span style=\"background-color:rgba(135,206,250, 0);\">the</span> <span style=\"background-color:rgba(135,206,250, 0);\">air</span> <span style=\"background-color:rgba(135,206,250, 0);\">with</span> <span style=\"background-color:rgba(135,206,250, 0);\">one</span> <span style=\"background-color:rgba(135,206,250, 0);\">hand</span> <span style=\"background-color:rgba(135,206,250, 0);\">and</span> <span style=\"background-color:rgba(135,206,250, 0);\">a</span> <span style=\"background-color:rgba(135,206,250, 0);\">similar</span> <span style=\"background-color:rgba(135,206,250, 0);\">shaped</span> <span style=\"background-color:rgba(135,206,250, 0);\">object</span> <span style=\"background-color:rgba(135,206,250, 0);\">in</span> <span style=\"background-color:rgba(135,206,250, 0);\">the</span> <span style=\"background-color:rgba(135,206,250, 0);\">other</span> <span style=\"background-color:rgba(135,206,250, 0);\">while</span> <span style=\"background-color:rgba(135,206,250, 0);\">making</span> <span style=\"background-color:rgba(135,206,250, 0);\">a</span> <span style=\"background-color:rgba(135,206,250, 0);\">funny</span> <span style=\"background-color:rgba(135,206,250, 0);\">expression</span> <span style=\"background-color:rgba(135,206,250, 0);\">.</span> <span style=\"background-color:rgba(135,206,250, 0);\">[SEP]</span> <span style=\"background-color:rgba(135,206,250, 0);\">a</span> <span style=\"background-color:rgba(135,206,250, 1);\">person</span> <span style=\"background-color:rgba(135,206,250, 0);\">is</span> <span style=\"background-color:rgba(135,206,250, 0);\">holding</span> <span style=\"background-color:rgba(135,206,250, 0);\">a</span> <span style=\"background-color:rgba(135,206,250, 1);\">tool</span> <span style=\"background-color:rgba(135,206,250, 1);\">.</span> <span style=\"background-color:rgba(135,206,250, 0);\">[SEP]</span></td><td><span style=\"background-color:rgba(135,206,250, 0.0018788216402754188);\">[CLS]</span> <span style=\"background-color:rgba(135,206,250, 0.001534188981167972);\">a</span> <span style=\"background-color:rgba(135,206,250, 0.004892453551292419);\">young</span> <span style=\"background-color:rgba(135,206,250, 0.001167230773717165);\">man</span> <span style=\"background-color:rgba(135,206,250, 0.0007795141427777708);\">holds</span> <span style=\"background-color:rgba(135,206,250, 0.0008577331900596619);\">a</span> <span style=\"background-color:rgba(135,206,250, 0.0014584953896701336);\">hammer</span> <span style=\"background-color:rgba(135,206,250, 0.0004839916655328125);\">shaped</span> <span style=\"background-color:rgba(135,206,250, 0.011521159671247005);\">object</span> <span style=\"background-color:rgba(135,206,250, 7.236997043946758e-05);\">in</span> <span style=\"background-color:rgba(135,206,250, 2.4511899027856998e-05);\">the</span> <span style=\"background-color:rgba(135,206,250, 0.00038402387872338295);\">air</span> <span style=\"background-color:rgba(135,206,250, 0.00012134078133385628);\">with</span> <span style=\"background-color:rgba(135,206,250, 0.0001658343680901453);\">one</span> <span style=\"background-color:rgba(135,206,250, 0.00012657998013310134);\">hand</span> <span style=\"background-color:rgba(135,206,250, 0.0010530126746743917);\">and</span> <span style=\"background-color:rgba(135,206,250, 0.00142038450576365);\">a</span> <span style=\"background-color:rgba(135,206,250, 0.0019548125565052032);\">similar</span> <span style=\"background-color:rgba(135,206,250, 0.00025041576009243727);\">shaped</span> <span style=\"background-color:rgba(135,206,250, 0.0013433789135888219);\">object</span> <span style=\"background-color:rgba(135,206,250, 2.1965721316519193e-05);\">in</span> <span style=\"background-color:rgba(135,206,250, 2.2945363525650464e-05);\">the</span> <span style=\"background-color:rgba(135,206,250, 1.910182982101105e-05);\">other</span> <span style=\"background-color:rgba(135,206,250, 0.00010768735955934972);\">while</span> <span style=\"background-color:rgba(135,206,250, 0.0005852403701283038);\">making</span> <span style=\"background-color:rgba(135,206,250, 8.894404891179875e-05);\">a</span> <span style=\"background-color:rgba(135,206,250, 0.0003868585918098688);\">funny</span> <span style=\"background-color:rgba(135,206,250, 0.0003195013850927353);\">expression</span> <span style=\"background-color:rgba(135,206,250, 0.01473555713891983);\">.</span> <span style=\"background-color:rgba(135,206,250, 0.004349841270595789);\">[SEP]</span> <span style=\"background-color:rgba(135,206,250, 0.0048215645365417);\">a</span> <span style=\"background-color:rgba(135,206,250, 3.4864084720611572);\">person</span> <span style=\"background-color:rgba(135,206,250, 1.748256802558899);\">is</span> <span style=\"background-color:rgba(135,206,250, 3.400453805923462);\">holding</span> <span style=\"background-color:rgba(135,206,250, 0.9533590078353882);\">a</span> <span style=\"background-color:rgba(135,206,250, 8.458979606628418);\">tool</span> <span style=\"background-color:rgba(135,206,250, 3.8912436962127686);\">.</span> <span style=\"background-color:rgba(135,206,250, 0.004349750466644764);\">[SEP]</span></td><td>entailment</td><td>entailment</td></tr><tr><td><span style=\"background-color:rgba(135,206,250, 0);\">[CLS]</span> <span style=\"background-color:rgba(135,206,250, 0);\">a</span> <span style=\"background-color:rgba(135,206,250, 0);\">man</span> <span style=\"background-color:rgba(135,206,250, 0);\">in</span> <span style=\"background-color:rgba(135,206,250, 0);\">aerodynamic</span> <span style=\"background-color:rgba(135,206,250, 0);\">gear</span> <span style=\"background-color:rgba(135,206,250, 1);\">riding</span> <span style=\"background-color:rgba(135,206,250, 1);\">a</span> <span style=\"background-color:rgba(135,206,250, 1);\">bicycle</span> <span style=\"background-color:rgba(135,206,250, 1);\">down</span> <span style=\"background-color:rgba(135,206,250, 1);\">a</span> <span style=\"background-color:rgba(135,206,250, 1);\">road</span> <span style=\"background-color:rgba(135,206,250, 0);\">around</span> <span style=\"background-color:rgba(135,206,250, 0);\">a</span> <span style=\"background-color:rgba(135,206,250, 0);\">sharp</span> <span style=\"background-color:rgba(135,206,250, 0);\">curve</span> <span style=\"background-color:rgba(135,206,250, 0);\">.</span> <span style=\"background-color:rgba(135,206,250, 0);\">[SEP]</span> <span style=\"background-color:rgba(135,206,250, 0);\">the</span> <span style=\"background-color:rgba(135,206,250, 0);\">man</span> <span style=\"background-color:rgba(135,206,250, 1);\">is</span> <span style=\"background-color:rgba(135,206,250, 1);\">riding</span> <span style=\"background-color:rgba(135,206,250, 1);\">outside</span> <span style=\"background-color:rgba(135,206,250, 0);\">[SEP]</span></td><td><span style=\"background-color:rgba(135,206,250, 0.014648976735770702);\">[CLS]</span> <span style=\"background-color:rgba(135,206,250, 0.0002536031825002283);\">a</span> <span style=\"background-color:rgba(135,206,250, 0.0003659921931102872);\">man</span> <span style=\"background-color:rgba(135,206,250, 5.809448703075759e-05);\">in</span> <span style=\"background-color:rgba(135,206,250, 0.0006285331910476089);\">aerodynamic</span> <span style=\"background-color:rgba(135,206,250, 0.00011437317880336195);\">gear</span> <span style=\"background-color:rgba(135,206,250, 3.28653804899659e-05);\">riding</span> <span style=\"background-color:rgba(135,206,250, 0.00021121038298588246);\">a</span> <span style=\"background-color:rgba(135,206,250, 0.002071708207949996);\">bicycle</span> <span style=\"background-color:rgba(135,206,250, 0.0001779933227226138);\">down</span> <span style=\"background-color:rgba(135,206,250, 3.9436108636436984e-05);\">a</span> <span style=\"background-color:rgba(135,206,250, 0.0024461266584694386);\">road</span> <span style=\"background-color:rgba(135,206,250, 7.684645970584825e-05);\">around</span> <span style=\"background-color:rgba(135,206,250, 1.0930305506917648e-05);\">a</span> <span style=\"background-color:rgba(135,206,250, 8.412495662923902e-05);\">sharp</span> <span style=\"background-color:rgba(135,206,250, 0.00103004090487957);\">curve</span> <span style=\"background-color:rgba(135,206,250, 0.03280152752995491);\">.</span> <span style=\"background-color:rgba(135,206,250, 0.005296261515468359);\">[SEP]</span> <span style=\"background-color:rgba(135,206,250, 1.966148018836975);\">the</span> <span style=\"background-color:rgba(135,206,250, 0.018944155424833298);\">man</span> <span style=\"background-color:rgba(135,206,250, 0.00914999470114708);\">is</span> <span style=\"background-color:rgba(135,206,250, 0.025793645530939102);\">riding</span> <span style=\"background-color:rgba(135,206,250, 11.914316177368164);\">outside</span> <span style=\"background-color:rgba(135,206,250, 0.005297751631587744);\">[SEP]</span></td><td>entailment</td><td>entailment</td></tr><tr><td><span style=\"background-color:rgba(135,206,250, 0);\">[CLS]</span> <span style=\"background-color:rgba(135,206,250, 0);\">a</span> <span style=\"background-color:rgba(135,206,250, 0);\">man</span> <span style=\"background-color:rgba(135,206,250, 0);\">in</span> <span style=\"background-color:rgba(135,206,250, 0);\">a</span> <span style=\"background-color:rgba(135,206,250, 1);\">black</span> <span style=\"background-color:rgba(135,206,250, 0);\">shirt</span> <span style=\"background-color:rgba(135,206,250, 0);\">is</span> <span style=\"background-color:rgba(135,206,250, 0);\">looking</span> <span style=\"background-color:rgba(135,206,250, 0);\">at</span> <span style=\"background-color:rgba(135,206,250, 0);\">a</span> <span style=\"background-color:rgba(135,206,250, 0);\">bike</span> <span style=\"background-color:rgba(135,206,250, 0);\">in</span> <span style=\"background-color:rgba(135,206,250, 0);\">a</span> <span style=\"background-color:rgba(135,206,250, 0);\">workshop</span> <span style=\"background-color:rgba(135,206,250, 0);\">.</span> <span style=\"background-color:rgba(135,206,250, 0);\">[SEP]</span> <span style=\"background-color:rgba(135,206,250, 0);\">a</span> <span style=\"background-color:rgba(135,206,250, 0);\">man</span> <span style=\"background-color:rgba(135,206,250, 0);\">is</span> <span style=\"background-color:rgba(135,206,250, 0);\">wearing</span> <span style=\"background-color:rgba(135,206,250, 0);\">a</span> <span style=\"background-color:rgba(135,206,250, 1);\">red</span> <span style=\"background-color:rgba(135,206,250, 0);\">shirt</span> <span style=\"background-color:rgba(135,206,250, 0);\">[SEP]</span></td><td><span style=\"background-color:rgba(135,206,250, 0.0009178571635857224);\">[CLS]</span> <span style=\"background-color:rgba(135,206,250, 0.0012814386282116175);\">a</span> <span style=\"background-color:rgba(135,206,250, 0.0009012511000037193);\">man</span> <span style=\"background-color:rgba(135,206,250, 0.001031337771564722);\">in</span> <span style=\"background-color:rgba(135,206,250, 0.0005111666978336871);\">a</span> <span style=\"background-color:rgba(135,206,250, 0.00024515186669304967);\">black</span> <span style=\"background-color:rgba(135,206,250, 4.153444024268538e-05);\">shirt</span> <span style=\"background-color:rgba(135,206,250, 0.012152399867773056);\">is</span> <span style=\"background-color:rgba(135,206,250, 0.00014138651022221893);\">looking</span> <span style=\"background-color:rgba(135,206,250, 0.00016580993542447686);\">at</span> <span style=\"background-color:rgba(135,206,250, 2.331424184376374e-05);\">a</span> <span style=\"background-color:rgba(135,206,250, 8.110587805276737e-05);\">bike</span> <span style=\"background-color:rgba(135,206,250, 9.742638212628663e-06);\">in</span> <span style=\"background-color:rgba(135,206,250, 2.9055968298052903e-06);\">a</span> <span style=\"background-color:rgba(135,206,250, 0.00020052841864526272);\">workshop</span> <span style=\"background-color:rgba(135,206,250, 0.007105262950062752);\">.</span> <span style=\"background-color:rgba(135,206,250, 0.0010629653697833419);\">[SEP]</span> <span style=\"background-color:rgba(135,206,250, 0.013722341507673264);\">a</span> <span style=\"background-color:rgba(135,206,250, 0.48469752073287964);\">man</span> <span style=\"background-color:rgba(135,206,250, 1.2381000518798828);\">is</span> <span style=\"background-color:rgba(135,206,250, 2.6417341232299805);\">wearing</span> <span style=\"background-color:rgba(135,206,250, 2.504408121109009);\">a</span> <span style=\"background-color:rgba(135,206,250, 7.029885768890381);\">red</span> <span style=\"background-color:rgba(135,206,250, 0.06051528453826904);\">shirt</span> <span style=\"background-color:rgba(135,206,250, 0.0010614553466439247);\">[SEP]</span></td><td>neutral</td><td>contradiction</td></tr><tr><td><span style=\"background-color:rgba(135,206,250, 0);\">[CLS]</span> <span style=\"background-color:rgba(135,206,250, 0);\">the</span> <span style=\"background-color:rgba(135,206,250, 0);\">pitcher</span> <span style=\"background-color:rgba(135,206,250, 0);\">is</span> <span style=\"background-color:rgba(135,206,250, 0);\">pitching</span> <span style=\"background-color:rgba(135,206,250, 0);\">the</span> <span style=\"background-color:rgba(135,206,250, 0);\">ball</span> <span style=\"background-color:rgba(135,206,250, 0);\">in</span> <span style=\"background-color:rgba(135,206,250, 0);\">a</span> <span style=\"background-color:rgba(135,206,250, 0);\">game</span> <span style=\"background-color:rgba(135,206,250, 0);\">of</span> <span style=\"background-color:rgba(135,206,250, 1);\">baseball</span> <span style=\"background-color:rgba(135,206,250, 1);\">.</span> <span style=\"background-color:rgba(135,206,250, 0);\">[SEP]</span> <span style=\"background-color:rgba(135,206,250, 0);\">the</span> <span style=\"background-color:rgba(135,206,250, 0);\">boy</span> <span style=\"background-color:rgba(135,206,250, 0);\">plays</span> <span style=\"background-color:rgba(135,206,250, 1);\">basketball</span> <span style=\"background-color:rgba(135,206,250, 1);\">.</span> <span style=\"background-color:rgba(135,206,250, 0);\">[SEP]</span></td><td><span style=\"background-color:rgba(135,206,250, 0.0003087937366217375);\">[CLS]</span> <span style=\"background-color:rgba(135,206,250, 0.00039017642848193645);\">the</span> <span style=\"background-color:rgba(135,206,250, 3.250942609156482e-05);\">pitcher</span> <span style=\"background-color:rgba(135,206,250, 0.0003366387099958956);\">is</span> <span style=\"background-color:rgba(135,206,250, 0.00013086298713460565);\">pitching</span> <span style=\"background-color:rgba(135,206,250, 0.001698989188298583);\">the</span> <span style=\"background-color:rgba(135,206,250, 0.0002527507022023201);\">ball</span> <span style=\"background-color:rgba(135,206,250, 0.000923454761505127);\">in</span> <span style=\"background-color:rgba(135,206,250, 3.512809780659154e-05);\">a</span> <span style=\"background-color:rgba(135,206,250, 0.00011330615961924195);\">game</span> <span style=\"background-color:rgba(135,206,250, 1.151843389379792e-05);\">of</span> <span style=\"background-color:rgba(135,206,250, 4.0216618799604475e-05);\">baseball</span> <span style=\"background-color:rgba(135,206,250, 0.0005829500732943416);\">.</span> <span style=\"background-color:rgba(135,206,250, 0.0033185987267643213);\">[SEP]</span> <span style=\"background-color:rgba(135,206,250, 1.881975769996643);\">the</span> <span style=\"background-color:rgba(135,206,250, 1.9437251091003418);\">boy</span> <span style=\"background-color:rgba(135,206,250, 0.34407609701156616);\">plays</span> <span style=\"background-color:rgba(135,206,250, 3.8878824710845947);\">basketball</span> <span style=\"background-color:rgba(135,206,250, 5.930849075317383);\">.</span> <span style=\"background-color:rgba(135,206,250, 0.0033152755349874496);\">[SEP]</span></td><td>neutral</td><td>contradiction</td></tr><tr><td><span style=\"background-color:rgba(135,206,250, 0);\">[CLS]</span> <span style=\"background-color:rgba(135,206,250, 0);\">a</span> <span style=\"background-color:rgba(135,206,250, 0);\">man</span> <span style=\"background-color:rgba(135,206,250, 0);\">with</span> <span style=\"background-color:rgba(135,206,250, 0);\">no</span> <span style=\"background-color:rgba(135,206,250, 0);\">shirt</span> <span style=\"background-color:rgba(135,206,250, 0);\">on</span> <span style=\"background-color:rgba(135,206,250, 0);\">is</span> <span style=\"background-color:rgba(135,206,250, 1);\">performing</span> <span style=\"background-color:rgba(135,206,250, 0);\">with</span> <span style=\"background-color:rgba(135,206,250, 0);\">a</span> <span style=\"background-color:rgba(135,206,250, 1);\">baton</span> <span style=\"background-color:rgba(135,206,250, 1);\">.</span> <span style=\"background-color:rgba(135,206,250, 0);\">[SEP]</span> <span style=\"background-color:rgba(135,206,250, 0);\">a</span> <span style=\"background-color:rgba(135,206,250, 0);\">man</span> <span style=\"background-color:rgba(135,206,250, 1);\">throws</span> <span style=\"background-color:rgba(135,206,250, 0);\">a</span> <span style=\"background-color:rgba(135,206,250, 1);\">banana</span> <span style=\"background-color:rgba(135,206,250, 0);\">in</span> <span style=\"background-color:rgba(135,206,250, 0);\">the</span> <span style=\"background-color:rgba(135,206,250, 0);\">air</span> <span style=\"background-color:rgba(135,206,250, 0);\">.</span> <span style=\"background-color:rgba(135,206,250, 0);\">[SEP]</span></td><td><span style=\"background-color:rgba(135,206,250, 9.840135317062959e-05);\">[CLS]</span> <span style=\"background-color:rgba(135,206,250, 6.230859435163438e-05);\">a</span> <span style=\"background-color:rgba(135,206,250, 8.198014984373003e-05);\">man</span> <span style=\"background-color:rgba(135,206,250, 6.290530109254178e-06);\">with</span> <span style=\"background-color:rgba(135,206,250, 1.105466071749106e-05);\">no</span> <span style=\"background-color:rgba(135,206,250, 9.563441381033044e-06);\">shirt</span> <span style=\"background-color:rgba(135,206,250, 1.169242023024708e-05);\">on</span> <span style=\"background-color:rgba(135,206,250, 9.89977070275927e-06);\">is</span> <span style=\"background-color:rgba(135,206,250, 4.468045517569408e-05);\">performing</span> <span style=\"background-color:rgba(135,206,250, 0.020962050184607506);\">with</span> <span style=\"background-color:rgba(135,206,250, 0.0008656075224280357);\">a</span> <span style=\"background-color:rgba(135,206,250, 7.69660109654069e-05);\">baton</span> <span style=\"background-color:rgba(135,206,250, 0.00039859904791228473);\">.</span> <span style=\"background-color:rgba(135,206,250, 0.002643495099619031);\">[SEP]</span> <span style=\"background-color:rgba(135,206,250, 0.0008791174041107297);\">a</span> <span style=\"background-color:rgba(135,206,250, 0.0002382696548011154);\">man</span> <span style=\"background-color:rgba(135,206,250, 0.38136476278305054);\">throws</span> <span style=\"background-color:rgba(135,206,250, 0.6531916856765747);\">a</span> <span style=\"background-color:rgba(135,206,250, 2.0358245372772217);\">banana</span> <span style=\"background-color:rgba(135,206,250, 0.7333451509475708);\">in</span> <span style=\"background-color:rgba(135,206,250, 0.05855092406272888);\">the</span> <span style=\"background-color:rgba(135,206,250, 0.16295172274112701);\">air</span> <span style=\"background-color:rgba(135,206,250, 1.9457273483276367);\">.</span> <span style=\"background-color:rgba(135,206,250, 0.0026436825282871723);\">[SEP]</span></td><td>neutral</td><td>contradiction</td></tr><tr><td><span style=\"background-color:rgba(135,206,250, 0);\">[CLS]</span> <span style=\"background-color:rgba(135,206,250, 1);\">people</span> <span style=\"background-color:rgba(135,206,250, 1);\">are</span> <span style=\"background-color:rgba(135,206,250, 1);\">standing</span> <span style=\"background-color:rgba(135,206,250, 0);\">near</span> <span style=\"background-color:rgba(135,206,250, 0);\">water</span> <span style=\"background-color:rgba(135,206,250, 0);\">with</span> <span style=\"background-color:rgba(135,206,250, 0);\">a</span> <span style=\"background-color:rgba(135,206,250, 0);\">boat</span> <span style=\"background-color:rgba(135,206,250, 0);\">heading</span> <span style=\"background-color:rgba(135,206,250, 0);\">their</span> <span style=\"background-color:rgba(135,206,250, 0);\">direction</span> <span style=\"background-color:rgba(135,206,250, 0);\">[SEP]</span> <span style=\"background-color:rgba(135,206,250, 1);\">the</span> <span style=\"background-color:rgba(135,206,250, 1);\">people</span> <span style=\"background-color:rgba(135,206,250, 1);\">are</span> <span style=\"background-color:rgba(135,206,250, 1);\">standing</span> <span style=\"background-color:rgba(135,206,250, 1);\">.</span> <span style=\"background-color:rgba(135,206,250, 0);\">[SEP]</span></td><td><span style=\"background-color:rgba(135,206,250, 0.00042446289444342256);\">[CLS]</span> <span style=\"background-color:rgba(135,206,250, 0.0017085238359868526);\">people</span> <span style=\"background-color:rgba(135,206,250, 0.008330218493938446);\">are</span> <span style=\"background-color:rgba(135,206,250, 0.0001467343681724742);\">standing</span> <span style=\"background-color:rgba(135,206,250, 0.0006449921056628227);\">near</span> <span style=\"background-color:rgba(135,206,250, 0.10486660152673721);\">water</span> <span style=\"background-color:rgba(135,206,250, 8.392346899199765e-06);\">with</span> <span style=\"background-color:rgba(135,206,250, 1.4326868949865457e-05);\">a</span> <span style=\"background-color:rgba(135,206,250, 0.0007780801970511675);\">boat</span> <span style=\"background-color:rgba(135,206,250, 4.6615154133178294e-05);\">heading</span> <span style=\"background-color:rgba(135,206,250, 5.523481831914978e-06);\">their</span> <span style=\"background-color:rgba(135,206,250, 5.836255877511576e-05);\">direction</span> <span style=\"background-color:rgba(135,206,250, 0.0018778764642775059);\">[SEP]</span> <span style=\"background-color:rgba(135,206,250, 0.14499661326408386);\">the</span> <span style=\"background-color:rgba(135,206,250, 0.21930724382400513);\">people</span> <span style=\"background-color:rgba(135,206,250, 1.740704894065857);\">are</span> <span style=\"background-color:rgba(135,206,250, 3.9179272651672363);\">standing</span> <span style=\"background-color:rgba(135,206,250, 3.8562731742858887);\">.</span> <span style=\"background-color:rgba(135,206,250, 0.0018803447019308805);\">[SEP]</span></td><td>entailment</td><td>entailment</td></tr><tr><td><span style=\"background-color:rgba(135,206,250, 0);\">[CLS]</span> <span style=\"background-color:rgba(135,206,250, 0);\">a</span> <span style=\"background-color:rgba(135,206,250, 0);\">group</span> <span style=\"background-color:rgba(135,206,250, 0);\">of</span> <span style=\"background-color:rgba(135,206,250, 1);\">men</span> <span style=\"background-color:rgba(135,206,250, 1);\">and</span> <span style=\"background-color:rgba(135,206,250, 1);\">boys</span> <span style=\"background-color:rgba(135,206,250, 0);\">look</span> <span style=\"background-color:rgba(135,206,250, 0);\">upwards</span> <span style=\"background-color:rgba(135,206,250, 0);\">at</span> <span style=\"background-color:rgba(135,206,250, 0);\">something</span> <span style=\"background-color:rgba(135,206,250, 0);\">.</span> <span style=\"background-color:rgba(135,206,250, 0);\">[SEP]</span> <span style=\"background-color:rgba(135,206,250, 0);\">a</span> <span style=\"background-color:rgba(135,206,250, 0);\">group</span> <span style=\"background-color:rgba(135,206,250, 0);\">of</span> <span style=\"background-color:rgba(135,206,250, 1);\">people</span> <span style=\"background-color:rgba(135,206,250, 0);\">looking</span> <span style=\"background-color:rgba(135,206,250, 0);\">up</span> <span style=\"background-color:rgba(135,206,250, 0);\">.</span> <span style=\"background-color:rgba(135,206,250, 0);\">[SEP]</span></td><td><span style=\"background-color:rgba(135,206,250, 0.00030607840744778514);\">[CLS]</span> <span style=\"background-color:rgba(135,206,250, 6.233403109945357e-05);\">a</span> <span style=\"background-color:rgba(135,206,250, 0.0001014150184346363);\">group</span> <span style=\"background-color:rgba(135,206,250, 8.351982978638262e-05);\">of</span> <span style=\"background-color:rgba(135,206,250, 0.0004631725896615535);\">men</span> <span style=\"background-color:rgba(135,206,250, 0.00011331330460961908);\">and</span> <span style=\"background-color:rgba(135,206,250, 1.660218185861595e-05);\">boys</span> <span style=\"background-color:rgba(135,206,250, 2.81912198261125e-05);\">look</span> <span style=\"background-color:rgba(135,206,250, 0.0012923507019877434);\">upwards</span> <span style=\"background-color:rgba(135,206,250, 0.00010126555571332574);\">at</span> <span style=\"background-color:rgba(135,206,250, 2.2144487957120873e-05);\">something</span> <span style=\"background-color:rgba(135,206,250, 0.01219800766557455);\">.</span> <span style=\"background-color:rgba(135,206,250, 0.002580683445557952);\">[SEP]</span> <span style=\"background-color:rgba(135,206,250, 0.14787527918815613);\">a</span> <span style=\"background-color:rgba(135,206,250, 1.1965322494506836);\">group</span> <span style=\"background-color:rgba(135,206,250, 0.5188229084014893);\">of</span> <span style=\"background-color:rgba(135,206,250, 2.1915268898010254);\">people</span> <span style=\"background-color:rgba(135,206,250, 0.8859428763389587);\">looking</span> <span style=\"background-color:rgba(135,206,250, 5.02655553817749);\">up</span> <span style=\"background-color:rgba(135,206,250, 4.012797832489014);\">.</span> <span style=\"background-color:rgba(135,206,250, 0.0025764538440853357);\">[SEP]</span></td><td>entailment</td><td>entailment</td></tr><tr><td><span style=\"background-color:rgba(135,206,250, 0);\">[CLS]</span> <span style=\"background-color:rgba(135,206,250, 1);\">three</span> <span style=\"background-color:rgba(135,206,250, 1);\">men</span> <span style=\"background-color:rgba(135,206,250, 1);\">,</span> <span style=\"background-color:rgba(135,206,250, 0);\">one</span> <span style=\"background-color:rgba(135,206,250, 0);\">holding</span> <span style=\"background-color:rgba(135,206,250, 0);\">pipes</span> <span style=\"background-color:rgba(135,206,250, 0);\">,</span> <span style=\"background-color:rgba(135,206,250, 0);\">another</span> <span style=\"background-color:rgba(135,206,250, 0);\">holding</span> <span style=\"background-color:rgba(135,206,250, 0);\">a</span> <span style=\"background-color:rgba(135,206,250, 0);\">large</span> <span style=\"background-color:rgba(135,206,250, 0);\">object</span> <span style=\"background-color:rgba(135,206,250, 0);\">above</span> <span style=\"background-color:rgba(135,206,250, 0);\">his</span> <span style=\"background-color:rgba(135,206,250, 0);\">head</span> <span style=\"background-color:rgba(135,206,250, 0);\">,</span> <span style=\"background-color:rgba(135,206,250, 0);\">and</span> <span style=\"background-color:rgba(135,206,250, 0);\">one</span> <span style=\"background-color:rgba(135,206,250, 0);\">resting</span> <span style=\"background-color:rgba(135,206,250, 0);\">against</span> <span style=\"background-color:rgba(135,206,250, 0);\">the</span> <span style=\"background-color:rgba(135,206,250, 0);\">pipe</span> <span style=\"background-color:rgba(135,206,250, 0);\">bed</span> <span style=\"background-color:rgba(135,206,250, 0);\">on</span> <span style=\"background-color:rgba(135,206,250, 0);\">the</span> <span style=\"background-color:rgba(135,206,250, 0);\">truck</span> <span style=\"background-color:rgba(135,206,250, 0);\">,</span> <span style=\"background-color:rgba(135,206,250, 0);\">are</span> <span style=\"background-color:rgba(135,206,250, 1);\">looking</span> <span style=\"background-color:rgba(135,206,250, 1);\">at</span> <span style=\"background-color:rgba(135,206,250, 1);\">the</span> <span style=\"background-color:rgba(135,206,250, 1);\">camera</span> <span style=\"background-color:rgba(135,206,250, 1);\">.</span> <span style=\"background-color:rgba(135,206,250, 0);\">[SEP]</span> <span style=\"background-color:rgba(135,206,250, 1);\">three</span> <span style=\"background-color:rgba(135,206,250, 1);\">men</span> <span style=\"background-color:rgba(135,206,250, 1);\">look</span> <span style=\"background-color:rgba(135,206,250, 1);\">at</span> <span style=\"background-color:rgba(135,206,250, 1);\">the</span> <span style=\"background-color:rgba(135,206,250, 1);\">camera</span> <span style=\"background-color:rgba(135,206,250, 0);\">[SEP]</span></td><td><span style=\"background-color:rgba(135,206,250, 0.00020738720195367932);\">[CLS]</span> <span style=\"background-color:rgba(135,206,250, 8.828029967844486e-05);\">three</span> <span style=\"background-color:rgba(135,206,250, 5.112622238812037e-05);\">men</span> <span style=\"background-color:rgba(135,206,250, 7.0052037699497305e-06);\">,</span> <span style=\"background-color:rgba(135,206,250, 3.746358743228484e-06);\">one</span> <span style=\"background-color:rgba(135,206,250, 1.115916711569298e-05);\">holding</span> <span style=\"background-color:rgba(135,206,250, 0.00010609788296278566);\">pipes</span> <span style=\"background-color:rgba(135,206,250, 2.442283403070178e-06);\">,</span> <span style=\"background-color:rgba(135,206,250, 8.310356633955962e-07);\">another</span> <span style=\"background-color:rgba(135,206,250, 0.0001521406666142866);\">holding</span> <span style=\"background-color:rgba(135,206,250, 1.9448052626103163e-05);\">a</span> <span style=\"background-color:rgba(135,206,250, 8.026014256756753e-05);\">large</span> <span style=\"background-color:rgba(135,206,250, 0.00077413534745574);\">object</span> <span style=\"background-color:rgba(135,206,250, 0.00047071819426491857);\">above</span> <span style=\"background-color:rgba(135,206,250, 4.064841959916521e-06);\">his</span> <span style=\"background-color:rgba(135,206,250, 1.6818565200082958e-05);\">head</span> <span style=\"background-color:rgba(135,206,250, 4.5850509877709555e-07);\">,</span> <span style=\"background-color:rgba(135,206,250, 1.000152769847773e-05);\">and</span> <span style=\"background-color:rgba(135,206,250, 2.1169726096559316e-06);\">one</span> <span style=\"background-color:rgba(135,206,250, 1.867937135102693e-05);\">resting</span> <span style=\"background-color:rgba(135,206,250, 2.646043185450253e-06);\">against</span> <span style=\"background-color:rgba(135,206,250, 8.374049684789497e-07);\">the</span> <span style=\"background-color:rgba(135,206,250, 0.0006250530714169145);\">pipe</span> <span style=\"background-color:rgba(135,206,250, 4.319981599110179e-06);\">bed</span> <span style=\"background-color:rgba(135,206,250, 2.0940353806508938e-06);\">on</span> <span style=\"background-color:rgba(135,206,250, 1.2600246463989606e-06);\">the</span> <span style=\"background-color:rgba(135,206,250, 0.00016139363287948072);\">truck</span> <span style=\"background-color:rgba(135,206,250, 7.937783834677248e-07);\">,</span> <span style=\"background-color:rgba(135,206,250, 5.023096491640899e-06);\">are</span> <span style=\"background-color:rgba(135,206,250, 1.774259544617962e-06);\">looking</span> <span style=\"background-color:rgba(135,206,250, 1.8168661881645676e-06);\">at</span> <span style=\"background-color:rgba(135,206,250, 2.747183771134587e-06);\">the</span> <span style=\"background-color:rgba(135,206,250, 0.00038493279134854674);\">camera</span> <span style=\"background-color:rgba(135,206,250, 0.0017161627765744925);\">.</span> <span style=\"background-color:rgba(135,206,250, 0.001978851854801178);\">[SEP]</span> <span style=\"background-color:rgba(135,206,250, 2.1552958488464355);\">three</span> <span style=\"background-color:rgba(135,206,250, 0.1811906099319458);\">men</span> <span style=\"background-color:rgba(135,206,250, 1.8851583003997803);\">look</span> <span style=\"background-color:rgba(135,206,250, 1.7700626850128174);\">at</span> <span style=\"background-color:rgba(135,206,250, 0.0018362939590588212);\">the</span> <span style=\"background-color:rgba(135,206,250, 1.9975610971450806);\">camera</span> <span style=\"background-color:rgba(135,206,250, 0.001978687010705471);\">[SEP]</span></td><td>entailment</td><td>entailment</td></tr><tr><td><span style=\"background-color:rgba(135,206,250, 0);\">[CLS]</span> <span style=\"background-color:rgba(135,206,250, 0);\">a</span> <span style=\"background-color:rgba(135,206,250, 0);\">carpenter</span> <span style=\"background-color:rgba(135,206,250, 0);\">is</span> <span style=\"background-color:rgba(135,206,250, 1);\">working</span> <span style=\"background-color:rgba(135,206,250, 1);\">on</span> <span style=\"background-color:rgba(135,206,250, 1);\">a</span> <span style=\"background-color:rgba(135,206,250, 1);\">roof</span> <span style=\"background-color:rgba(135,206,250, 0);\">at</span> <span style=\"background-color:rgba(135,206,250, 0);\">a</span> <span style=\"background-color:rgba(135,206,250, 0);\">house</span> <span style=\"background-color:rgba(135,206,250, 0);\">being</span> <span style=\"background-color:rgba(135,206,250, 0);\">built</span> <span style=\"background-color:rgba(135,206,250, 0);\">.</span> <span style=\"background-color:rgba(135,206,250, 0);\">[SEP]</span> <span style=\"background-color:rgba(135,206,250, 0);\">a</span> <span style=\"background-color:rgba(135,206,250, 0);\">work</span> <span style=\"background-color:rgba(135,206,250, 0);\">##man</span> <span style=\"background-color:rgba(135,206,250, 0);\">is</span> <span style=\"background-color:rgba(135,206,250, 1);\">helping</span> <span style=\"background-color:rgba(135,206,250, 1);\">put</span> <span style=\"background-color:rgba(135,206,250, 1);\">a</span> <span style=\"background-color:rgba(135,206,250, 1);\">roof</span> <span style=\"background-color:rgba(135,206,250, 0);\">on</span> <span style=\"background-color:rgba(135,206,250, 0);\">a</span> <span style=\"background-color:rgba(135,206,250, 0);\">house</span> <span style=\"background-color:rgba(135,206,250, 0);\">.</span> <span style=\"background-color:rgba(135,206,250, 0);\">[SEP]</span></td><td><span style=\"background-color:rgba(135,206,250, 0.00022048364917282015);\">[CLS]</span> <span style=\"background-color:rgba(135,206,250, 4.420542245497927e-05);\">a</span> <span style=\"background-color:rgba(135,206,250, 0.00200165924616158);\">carpenter</span> <span style=\"background-color:rgba(135,206,250, 1.722492197586689e-05);\">is</span> <span style=\"background-color:rgba(135,206,250, 0.0005526388413272798);\">working</span> <span style=\"background-color:rgba(135,206,250, 0.00012672145385295153);\">on</span> <span style=\"background-color:rgba(135,206,250, 7.996825297595933e-05);\">a</span> <span style=\"background-color:rgba(135,206,250, 0.00581819424405694);\">roof</span> <span style=\"background-color:rgba(135,206,250, 0.0018346450524404645);\">at</span> <span style=\"background-color:rgba(135,206,250, 0.00011835584882646799);\">a</span> <span style=\"background-color:rgba(135,206,250, 0.003993620164692402);\">house</span> <span style=\"background-color:rgba(135,206,250, 0.00031515510636381805);\">being</span> <span style=\"background-color:rgba(135,206,250, 0.0015716998605057597);\">built</span> <span style=\"background-color:rgba(135,206,250, 0.0012902712915092707);\">.</span> <span style=\"background-color:rgba(135,206,250, 0.006408908404409885);\">[SEP]</span> <span style=\"background-color:rgba(135,206,250, 0.01790497452020645);\">a</span> <span style=\"background-color:rgba(135,206,250, 0.11019154638051987);\">work</span> <span style=\"background-color:rgba(135,206,250, 0.2382580041885376);\">##man</span> <span style=\"background-color:rgba(135,206,250, 0.027825510129332542);\">is</span> <span style=\"background-color:rgba(135,206,250, 2.3965325355529785);\">helping</span> <span style=\"background-color:rgba(135,206,250, 3.522179126739502);\">put</span> <span style=\"background-color:rgba(135,206,250, 0.01892174407839775);\">a</span> <span style=\"background-color:rgba(135,206,250, 0.02162371762096882);\">roof</span> <span style=\"background-color:rgba(135,206,250, 1.6161352396011353);\">on</span> <span style=\"background-color:rgba(135,206,250, 0.01837189309298992);\">a</span> <span style=\"background-color:rgba(135,206,250, 1.0732699632644653);\">house</span> <span style=\"background-color:rgba(135,206,250, 2.907982110977173);\">.</span> <span style=\"background-color:rgba(135,206,250, 0.006409558467566967);\">[SEP]</span></td><td>entailment</td><td>entailment</td></tr><tr><td><span style=\"background-color:rgba(135,206,250, 0);\">[CLS]</span> <span style=\"background-color:rgba(135,206,250, 0);\">a</span> <span style=\"background-color:rgba(135,206,250, 1);\">land</span> <span style=\"background-color:rgba(135,206,250, 1);\">rover</span> <span style=\"background-color:rgba(135,206,250, 0);\">is</span> <span style=\"background-color:rgba(135,206,250, 0);\">being</span> <span style=\"background-color:rgba(135,206,250, 0);\">driven</span> <span style=\"background-color:rgba(135,206,250, 0);\">across</span> <span style=\"background-color:rgba(135,206,250, 0);\">a</span> <span style=\"background-color:rgba(135,206,250, 0);\">river</span> <span style=\"background-color:rgba(135,206,250, 0);\">.</span> <span style=\"background-color:rgba(135,206,250, 0);\">[SEP]</span> <span style=\"background-color:rgba(135,206,250, 0);\">a</span> <span style=\"background-color:rgba(135,206,250, 1);\">sedan</span> <span style=\"background-color:rgba(135,206,250, 0);\">is</span> <span style=\"background-color:rgba(135,206,250, 0);\">stuck</span> <span style=\"background-color:rgba(135,206,250, 0);\">in</span> <span style=\"background-color:rgba(135,206,250, 0);\">the</span> <span style=\"background-color:rgba(135,206,250, 0);\">middle</span> <span style=\"background-color:rgba(135,206,250, 0);\">of</span> <span style=\"background-color:rgba(135,206,250, 0);\">a</span> <span style=\"background-color:rgba(135,206,250, 0);\">river</span> <span style=\"background-color:rgba(135,206,250, 0);\">.</span> <span style=\"background-color:rgba(135,206,250, 0);\">[SEP]</span></td><td><span style=\"background-color:rgba(135,206,250, 6.728396692778915e-05);\">[CLS]</span> <span style=\"background-color:rgba(135,206,250, 0.035739392042160034);\">a</span> <span style=\"background-color:rgba(135,206,250, 0.0011104715522378683);\">land</span> <span style=\"background-color:rgba(135,206,250, 0.001887553371489048);\">rover</span> <span style=\"background-color:rgba(135,206,250, 0.0049688247963786125);\">is</span> <span style=\"background-color:rgba(135,206,250, 0.002744684461504221);\">being</span> <span style=\"background-color:rgba(135,206,250, 0.002122357487678528);\">driven</span> <span style=\"background-color:rgba(135,206,250, 0.0011949514737352729);\">across</span> <span style=\"background-color:rgba(135,206,250, 1.0846410077647306e-05);\">a</span> <span style=\"background-color:rgba(135,206,250, 0.00011531369091244414);\">river</span> <span style=\"background-color:rgba(135,206,250, 0.020695731043815613);\">.</span> <span style=\"background-color:rgba(135,206,250, 0.0034394061658531427);\">[SEP]</span> <span style=\"background-color:rgba(135,206,250, 1.2730457782745361);\">a</span> <span style=\"background-color:rgba(135,206,250, 2.4088797569274902);\">sedan</span> <span style=\"background-color:rgba(135,206,250, 0.6947506666183472);\">is</span> <span style=\"background-color:rgba(135,206,250, 4.690804481506348);\">stuck</span> <span style=\"background-color:rgba(135,206,250, 0.5985389947891235);\">in</span> <span style=\"background-color:rgba(135,206,250, 0.05643555521965027);\">the</span> <span style=\"background-color:rgba(135,206,250, 0.18791842460632324);\">middle</span> <span style=\"background-color:rgba(135,206,250, 0.010546734556555748);\">of</span> <span style=\"background-color:rgba(135,206,250, 0.0004836025764234364);\">a</span> <span style=\"background-color:rgba(135,206,250, 0.0002023862034548074);\">river</span> <span style=\"background-color:rgba(135,206,250, 0.0008579520508646965);\">.</span> <span style=\"background-color:rgba(135,206,250, 0.0034384080208837986);\">[SEP]</span></td><td>neutral</td><td>contradiction</td></tr></body></html>"
     },
     "metadata": {},
     "output_type": "display_data"
    }
   ],
   "source": [
    "display(HTML(construct_html_table(annot[0].keys(), annot[:10])))"
   ],
   "metadata": {
    "collapsed": false,
    "pycharm": {
     "name": "#%%\n"
    }
   }
  },
  {
   "cell_type": "code",
   "execution_count": null,
   "outputs": [],
   "source": [],
   "metadata": {
    "collapsed": false,
    "pycharm": {
     "name": "#%%\n"
    }
   }
  },
  {
   "cell_type": "code",
   "execution_count": null,
   "outputs": [],
   "source": [],
   "metadata": {
    "collapsed": false,
    "pycharm": {
     "name": "#%%\n"
    }
   }
  },
  {
   "cell_type": "code",
   "execution_count": null,
   "outputs": [],
   "source": [],
   "metadata": {
    "collapsed": false,
    "pycharm": {
     "name": "#%%\n"
    }
   }
  },
  {
   "cell_type": "code",
   "execution_count": null,
   "outputs": [],
   "source": [],
   "metadata": {
    "collapsed": false,
    "pycharm": {
     "name": "#%%\n"
    }
   }
  },
  {
   "cell_type": "code",
   "execution_count": null,
   "outputs": [],
   "source": [],
   "metadata": {
    "collapsed": false,
    "pycharm": {
     "name": "#%%\n"
    }
   }
  },
  {
   "cell_type": "code",
   "execution_count": null,
   "outputs": [],
   "source": [],
   "metadata": {
    "collapsed": false,
    "pycharm": {
     "name": "#%%\n"
    }
   }
  },
  {
   "cell_type": "code",
   "execution_count": 24,
   "outputs": [
    {
     "data": {
      "text/plain": "<matplotlib.axes._subplots.AxesSubplot at 0x259c9bca3c8>"
     },
     "execution_count": 24,
     "metadata": {},
     "output_type": "execute_result"
    },
    {
     "data": {
      "text/plain": "<Figure size 432x288 with 1 Axes>",
      "image/png": "[encoded data removed]"
     },
     "metadata": {},
     "output_type": "display_data"
    }
   ],
   "source": [
    "import seaborn as sns\n",
    "sns.boxplot(x = x, y=jc)"
   ],
   "metadata": {
    "collapsed": false,
    "pycharm": {
     "name": "#%%\n"
    }
   }
  },
  {
   "cell_type": "code",
   "execution_count": 31,
   "outputs": [
    {
     "data": {
      "text/plain": "<Figure size 720x720 with 2 Axes>",
      "image/png": "[encoded data removed]"
     },
     "metadata": {},
     "output_type": "display_data"
    }
   ],
   "source": [
    "fig = default_plot_colormap(plausible_map/40 * 100, xlabel=\"Head\", ylabel=\"Layer\", title=\"% of the time we used the head\")\n",
    "plt.savefig(os.path.join(graph_folder, \"plausible_map.png\"))"
   ],
   "metadata": {
    "collapsed": false,
    "pycharm": {
     "name": "#%%\n"
    }
   }
  },
  {
   "cell_type": "code",
   "execution_count": null,
   "outputs": [],
   "source": [],
   "metadata": {
    "collapsed": false,
    "pycharm": {
     "name": "#%%\n"
    }
   }
  }
 ],
 "metadata": {
  "kernelspec": {
   "display_name": "Python 3 (ipykernel)",
   "language": "python",
   "name": "python3"
  },
  "language_info": {
   "codemirror_mode": {
    "name": "ipython",
    "version": 3
   },
   "file_extension": ".py",
   "mimetype": "text/x-python",
   "name": "python",
   "nbconvert_exporter": "python",
   "pygments_lexer": "ipython3",
   "version": "3.7.13"
  }
 },
 "nbformat": 4,
 "nbformat_minor": 5
}