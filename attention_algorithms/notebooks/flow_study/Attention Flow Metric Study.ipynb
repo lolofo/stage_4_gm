{
 "cells": [
  {
   "cell_type": "code",
   "execution_count": 40,
   "outputs": [
    {
     "name": "stdout",
     "output_type": "stream",
     "text": [
      "The autoreload extension is already loaded. To reload it, use:\n",
      "  %reload_ext autoreload\n",
      ">> the git rep : C:\\Users\\loicf\\Documents\\IRISA\\stage_4_gm\\stage_4_gm\n",
      ">> the plots location : C:\\Users\\loicf\\Documents\\IRISA\\stage_4_gm\\stage_4_gm\\.cache\\plots\\flow_study\n"
     ]
    },
    {
     "name": "stderr",
     "output_type": "stream",
     "text": [
      "Some weights of the model checkpoint at bert-base-uncased were not used when initializing BertModel: ['cls.seq_relationship.weight', 'cls.predictions.transform.LayerNorm.weight', 'cls.predictions.transform.dense.bias', 'cls.predictions.bias', 'cls.seq_relationship.bias', 'cls.predictions.transform.dense.weight', 'cls.predictions.transform.LayerNorm.bias', 'cls.predictions.decoder.weight']\n",
      "- This IS expected if you are initializing BertModel from the checkpoint of a model trained on another task or with another architecture (e.g. initializing a BertForSequenceClassification model from a BertForPreTraining model).\n",
      "- This IS NOT expected if you are initializing BertModel from the checkpoint of a model that you expect to be exactly identical (initializing a BertForSequenceClassification model from a BertForSequenceClassification model).\n"
     ]
    }
   ],
   "source": [
    "# preparation of the environment\n",
    "%load_ext autoreload\n",
    "%autoreload 2\n",
    "\n",
    "import os\n",
    "from os import path\n",
    "# set the repository to the git repository\n",
    "cwd = os.getcwd().split(os.path.sep)\n",
    "while cwd[-1] != \"stage_4_gm\":\n",
    "    os.chdir(\"..\")\n",
    "    cwd = os.getcwd().split(os.path.sep)\n",
    "print(\">> the git rep : \", end=\"\")\n",
    "print(os.getcwd())\n",
    "\n",
    "# the folder where we will save our data\n",
    "foler_name = \"flow_study\"\n",
    "plots_folder = os.path.join(os.getcwd(), '.cache', 'plots')\n",
    "graph_folder = path.join(plots_folder, foler_name)\n",
    "if not path.exists(graph_folder):\n",
    "    os.mkdir(graph_folder)\n",
    "\n",
    "print(f\">> the plots location : {graph_folder}\")\n",
    "\n",
    "import pandas as pd\n",
    "import torch\n",
    "import numpy as np\n",
    "import pickle\n",
    "from scipy.stats import entropy\n",
    "from tqdm import tqdm\n",
    "from tabulate import tabulate\n",
    "from attention_algorithms.attention_metrics import attention_score\n",
    "\n",
    "from training_bert import BertNliLight\n",
    "from custom_data_set import SnliDataset\n",
    "from custom_data_set import test_dir, dev_dir\n",
    "from torch.utils.data import DataLoader\n",
    "\n",
    "# --> from this environment\n",
    "from attention_algorithms.raw_attention import RawAttention\n",
    "from attention_algorithms.attention_metrics import normalize_attention\n",
    "\n",
    "ckp = path.join(\".cache\", \"logs\", \"igrida_trained\", \"0\", \"best.ckpt\")\n",
    "model = BertNliLight.load_from_checkpoint(ckp)\n",
    "model = model.eval()  # make sure to have the model in eval mod before using it\n",
    "\n",
    "# load the data >> without the neutral labels\n",
    "data_set = SnliDataset(dir=test_dir,\n",
    "                       nb_sentences=1000,\n",
    "                       msg=False,\n",
    "                       keep_neutral=False)\n",
    "data_loader = DataLoader(data_set, batch_size=1000, shuffle=False)\n",
    "\n",
    "sentences, masks, train_labels = next(iter(data_loader))\n",
    "\n",
    "e_snli_data = pd.read_csv(os.path.join('.cache', 'raw_data', 'e_snli', 'cleaned_data', 'test.csv'), sep=\",\")\\\n",
    "    [[\"tok_sent\", \"hg_goal\", \"label\"]]"
   ],
   "metadata": {
    "collapsed": false,
    "pycharm": {
     "name": "#%%\n"
    }
   }
  },
  {
   "cell_type": "code",
   "execution_count": 41,
   "outputs": [],
   "source": [
    "from sklearn.metrics import f1_score, precision_score, recall_score, roc_auc_score, average_precision_score, auc"
   ],
   "metadata": {
    "collapsed": false,
    "pycharm": {
     "name": "#%%\n"
    }
   }
  },
  {
   "cell_type": "code",
   "execution_count": 42,
   "outputs": [],
   "source": [
    "def jaccard(y, y_hat):\n",
    "    num = np.dot(y,y_hat)\n",
    "    den = np.sum(y) + np.sum(y_hat) - np.dot(y, y_hat)\n",
    "    return num/den"
   ],
   "metadata": {
    "collapsed": false,
    "pycharm": {
     "name": "#%%\n"
    }
   }
  },
  {
   "cell_type": "code",
   "execution_count": 43,
   "outputs": [],
   "source": [
    "from attention_algorithms.attention_flow import attention_flow_max\n",
    "def flow_search(sentences=sentences, masks=masks, agr_type=\"avg\", msg = False):\n",
    "    y_hat = []\n",
    "    y = []\n",
    "    for i in tqdm(range(len(sentences))):\n",
    "        sent = sentences[i, :].clone().detach()[None, :]\n",
    "        mk = masks[i, :].clone().detach()[None, :]\n",
    "        raw_attention_inst = RawAttention(model=model,\n",
    "                                          input_ids=sent,\n",
    "                                          attention_mask=mk,\n",
    "                                          test_mod=False\n",
    "                                          )\n",
    "        raw_attention_inst.set_up_graph(agr_type=agr_type)\n",
    "\n",
    "        # search for the right sentence in the snli dataset\n",
    "        j = 0\n",
    "        while j < e_snli_data.shape[0] and raw_attention_inst.tokens != eval(e_snli_data[\"tok_sent\"][j]):\n",
    "            j += 1\n",
    "\n",
    "        try :\n",
    "            # update the annotation list\n",
    "            annot = eval(e_snli_data.hg_goal[j])\n",
    "            y += annot\n",
    "\n",
    "            # construction of the attention_score based on the SEP criterion\n",
    "            buff = attention_flow_max(raw_attention_inst, out_layer=12)\n",
    "            # transform to a list\n",
    "            attention_score = list(normalize_attention(tokens=raw_attention_inst.tokens,\n",
    "                                                       attention=torch.tensor(buff)).detach().numpy())\n",
    "            y_hat += attention_score\n",
    "\n",
    "\n",
    "        except Exception as e:\n",
    "            if msg :\n",
    "                print(e)\n",
    "            else :\n",
    "                pass\n",
    "    return {\"y\" : y, \"y_hat\": y_hat}"
   ],
   "metadata": {
    "collapsed": false,
    "pycharm": {
     "name": "#%%\n"
    }
   }
  },
  {
   "cell_type": "code",
   "execution_count": 44,
   "outputs": [],
   "source": [
    "def create_row(y, y_hat, metrics):\n",
    "    row = []\n",
    "    tr = np.linspace(0, 1, 50)\n",
    "    for m in metrics :\n",
    "        if m != \"roc_auc_score\" and m != \"jaccard\" and m != \"average_precision_score\":\n",
    "            ar = [] # --> calculus of the metrics\n",
    "            for t in tr:\n",
    "                buff = 1 * (np.array(y_hat)>=t)\n",
    "                ar.append(eval(m)(y, buff))\n",
    "            row.append(auc(tr, ar))\n",
    "        else:\n",
    "            row.append(eval(m)(y, y_hat))\n",
    "\n",
    "    return row"
   ],
   "metadata": {
    "collapsed": false,
    "pycharm": {
     "name": "#%%\n"
    }
   }
  },
  {
   "cell_type": "code",
   "execution_count": 45,
   "outputs": [],
   "source": [
    "def create_eraser_row(y, y_hat, metrics):\n",
    "    row = []\n",
    "    tr = 0.5\n",
    "    for m in metrics :\n",
    "        if m != \"roc_auc_score\":\n",
    "            buff = 1 * (np.array(y_hat)>=tr)\n",
    "            row.append(eval(m)(y, buff))\n",
    "        else:\n",
    "            row.append(eval(m)(y, y_hat))\n",
    "\n",
    "    return row"
   ],
   "metadata": {
    "collapsed": false,
    "pycharm": {
     "name": "#%%\n"
    }
   }
  },
  {
   "cell_type": "markdown",
   "source": [
    "## AVG agregation of the heads"
   ],
   "metadata": {
    "collapsed": false,
    "pycharm": {
     "name": "#%% md\n"
    }
   }
  },
  {
   "cell_type": "code",
   "execution_count": 46,
   "outputs": [
    {
     "name": "stdout",
     "output_type": "stream",
     "text": [
      ">> the files already exist in the environment >> loading the files ... loading finished\n"
     ]
    }
   ],
   "source": [
    "y, y_hat = None, None\n",
    "rows = []\n",
    "evaluation_metrics = [\"f1_score\", \"precision_score\", \"recall_score\", \"roc_auc_score\", \"jaccard\", \"average_precision_score\"]\n",
    "\n",
    "# set the header for the table of statistics\n",
    "h1 = [\"AU_\"+x+\"_curve\" for x in [\"f1\", \"PR\", \"RC\"]]\n",
    "\n",
    "h2 = [\"AUROC\", \"jaccard\", \"AUPRC\"]\n",
    "rows.append(h1 + h2)\n",
    "\n",
    "dir = os.path.join(graph_folder, f\"flow_criterion.pickle\")\n",
    "\n",
    "if os.path.exists(dir) and os.path.getsize(dir) != 0:\n",
    "    print(\">> the files already exist in the environment >> loading the files ...\", end=\"\")\n",
    "    with open(dir, \"rb\") as f:\n",
    "        d = pickle.load(f)\n",
    "        y = d[\"y\"]\n",
    "        y_hat = d[\"y_hat\"]\n",
    "    print(\" loading finished\")\n",
    "else :\n",
    "    with open(dir, \"wb\") as f:\n",
    "        print(\">> the file doesn't exist >> downloading >> \", end=\" \")\n",
    "        d = flow_search(msg=False)\n",
    "        print(\" >> downloading finished !\")\n",
    "        y = d[\"y\"]\n",
    "        y_hat = d[\"y_hat\"]\n",
    "        pickle.dump(d, f)\n",
    "\n",
    "rows.append(create_row(y, y_hat, evaluation_metrics))"
   ],
   "metadata": {
    "collapsed": false,
    "pycharm": {
     "name": "#%%\n"
    }
   }
  },
  {
   "cell_type": "code",
   "execution_count": 47,
   "outputs": [
    {
     "name": "stdout",
     "output_type": "stream",
     "text": [
      "  AU_f1_curve    AU_PR_curve    AU_RC_curve     AUROC    jaccard     AUPRC\n",
      "-------------  -------------  -------------  --------  ---------  --------\n",
      "     0.426394        0.29474       0.862332  0.667431   0.273523  0.335579\n"
     ]
    }
   ],
   "source": [
    "print(tabulate(rows, headers=\"firstrow\"))"
   ],
   "metadata": {
    "collapsed": false,
    "pycharm": {
     "name": "#%%\n"
    }
   }
  },
  {
   "cell_type": "code",
   "execution_count": 48,
   "outputs": [],
   "source": [
    "from openpyxl import load_workbook, Workbook\n",
    "\n",
    "xls_dir = os.path.join(plots_folder, \"dash_board.xlsx\")\n",
    "wb = None\n",
    "if os.path.exists(xls_dir):\n",
    "    wb = load_workbook(xls_dir)\n",
    "else :\n",
    "    wb = Workbook()\n",
    "\n",
    "ws = None\n",
    "if \"flow_study\" not in wb.sheetnames:\n",
    "    ws = wb.create_sheet(\"flow_study\")\n",
    "\n",
    "ws = wb[\"flow_study\"] # get the work sheet\n",
    "\n",
    "ws.append([\"metric values\"])\n",
    "for r in rows :\n",
    "    ws.append(r)\n",
    "\n",
    "wb.save(xls_dir)\n",
    "wb.close()"
   ],
   "metadata": {
    "collapsed": false,
    "pycharm": {
     "name": "#%%\n"
    }
   }
  },
  {
   "cell_type": "code",
   "execution_count": 49,
   "outputs": [
    {
     "name": "stdout",
     "output_type": "stream",
     "text": [
      ">> the files already exist in the environment >> loading the files ... loading finished\n"
     ]
    }
   ],
   "source": [
    "y, y_hat = None, None\n",
    "rows = []\n",
    "evaluation_metrics = [\"f1_score\", \"precision_score\", \"recall_score\", \"roc_auc_score\", \"jaccard\", \"average_precision_score\"]\n",
    "\n",
    "# set the header for the table of statistics\n",
    "h1 = [\"AU_\"+x+\"_curve\" for x in [\"f1\", \"PR\", \"RC\"]]\n",
    "\n",
    "h2 = [\"AUROC\", \"jaccard\", \"AUPRC\"]\n",
    "rows.append(h1 + h2)\n",
    "\n",
    "dir = os.path.join(graph_folder, f\"flow_criterion.pickle\")\n",
    "\n",
    "if os.path.exists(dir) and os.path.getsize(dir) != 0:\n",
    "    print(\">> the files already exist in the environment >> loading the files ...\", end=\"\")\n",
    "    with open(dir, \"rb\") as f:\n",
    "        d = pickle.load(f)\n",
    "        y = d[\"y\"]\n",
    "        y_hat = d[\"y_hat\"]\n",
    "    print(\" loading finished\")\n",
    "else :\n",
    "    with open(dir, \"wb\") as f:\n",
    "        print(\">> the file doesn't exist >> downloading >> \", end=\" \")\n",
    "        d = flow_search(msg=False)\n",
    "        print(\" >> downloading finished !\")\n",
    "        y = d[\"y\"]\n",
    "        y_hat = d[\"y_hat\"]\n",
    "        pickle.dump(d, f)\n",
    "\n",
    "rows.append(create_eraser_row(y, y_hat, evaluation_metrics))"
   ],
   "metadata": {
    "collapsed": false,
    "pycharm": {
     "name": "#%%\n"
    }
   }
  },
  {
   "cell_type": "code",
   "execution_count": 50,
   "outputs": [
    {
     "name": "stdout",
     "output_type": "stream",
     "text": [
      "  AU_f1_curve    AU_PR_curve    AU_RC_curve     AUROC    jaccard     AUPRC\n",
      "-------------  -------------  -------------  --------  ---------  --------\n",
      "     0.427917        0.27237       0.997677  0.667431   0.272197  0.272299\n"
     ]
    }
   ],
   "source": [
    "print(tabulate(rows, headers=\"firstrow\"))"
   ],
   "metadata": {
    "collapsed": false,
    "pycharm": {
     "name": "#%%\n"
    }
   }
  },
  {
   "cell_type": "markdown",
   "source": [
    "## MAX agregation"
   ],
   "metadata": {
    "collapsed": false,
    "pycharm": {
     "name": "#%% md\n"
    }
   }
  },
  {
   "cell_type": "code",
   "execution_count": 51,
   "outputs": [
    {
     "name": "stdout",
     "output_type": "stream",
     "text": [
      ">> the file doesn't exist >> downloading >>  "
     ]
    },
    {
     "name": "stderr",
     "output_type": "stream",
     "text": [
      "100%|██████████| 1000/1000 [52:39<00:00,  3.16s/it] \n"
     ]
    },
    {
     "name": "stdout",
     "output_type": "stream",
     "text": [
      " >> downloading finished !\n"
     ]
    }
   ],
   "source": [
    "y, y_hat = None, None\n",
    "rows = []\n",
    "evaluation_metrics = [\"f1_score\", \"precision_score\", \"recall_score\", \"roc_auc_score\", \"jaccard\", \"average_precision_score\"]\n",
    "\n",
    "# set the header for the table of statistics\n",
    "h1 = [\"AU_\"+x+\"_curve\" for x in [\"f1\", \"PR\", \"RC\"]]\n",
    "\n",
    "h2 = [\"AUROC\", \"jaccard\", \"AUPRC\"]\n",
    "rows.append(h1 + h2)\n",
    "\n",
    "dir = os.path.join(graph_folder, f\"flow_max_agreg_criterion.pickle\")\n",
    "\n",
    "if os.path.exists(dir) and os.path.getsize(dir) != 0:\n",
    "    print(\">> the files already exist in the environment >> loading the files ...\", end=\"\")\n",
    "    with open(dir, \"rb\") as f:\n",
    "        d = pickle.load(f)\n",
    "        y = d[\"y\"]\n",
    "        y_hat = d[\"y_hat\"]\n",
    "    print(\" loading finished\")\n",
    "else :\n",
    "    with open(dir, \"wb\") as f:\n",
    "        print(\">> the file doesn't exist >> downloading >> \", end=\" \")\n",
    "        d = flow_search(msg=False, agr_type=\"max\")\n",
    "        print(\" >> downloading finished !\")\n",
    "        y = d[\"y\"]\n",
    "        y_hat = d[\"y_hat\"]\n",
    "        pickle.dump(d, f)\n",
    "\n",
    "rows.append(create_row(y, y_hat, evaluation_metrics))"
   ],
   "metadata": {
    "collapsed": false,
    "pycharm": {
     "name": "#%%\n"
    }
   }
  },
  {
   "cell_type": "code",
   "execution_count": 53,
   "outputs": [
    {
     "name": "stdout",
     "output_type": "stream",
     "text": [
      "  AU_f1_curve    AU_PR_curve    AU_RC_curve     AUROC    jaccard     AUPRC\n",
      "-------------  -------------  -------------  --------  ---------  --------\n",
      "     0.430206       0.275529       0.983398  0.618661   0.274199  0.296275\n"
     ]
    }
   ],
   "source": [
    "print(tabulate(rows, headers=\"firstrow\"))"
   ],
   "metadata": {
    "collapsed": false,
    "pycharm": {
     "name": "#%%\n"
    }
   }
  },
  {
   "cell_type": "code",
   "execution_count": 52,
   "outputs": [],
   "source": [
    "from openpyxl import load_workbook, Workbook\n",
    "\n",
    "xls_dir = os.path.join(plots_folder, \"dash_board.xlsx\")\n",
    "wb = None\n",
    "if os.path.exists(xls_dir):\n",
    "    wb = load_workbook(xls_dir)\n",
    "else :\n",
    "    wb = Workbook()\n",
    "\n",
    "ws = None\n",
    "if \"flow_study\" not in wb.sheetnames:\n",
    "    ws = wb.create_sheet(\"flow_study\")\n",
    "\n",
    "ws = wb[\"flow_study\"] # get the work sheet\n",
    "\n",
    "ws.append([\"metric values\"])\n",
    "for r in rows :\n",
    "    ws.append(r)\n",
    "\n",
    "wb.save(xls_dir)\n",
    "wb.close()"
   ],
   "metadata": {
    "collapsed": false,
    "pycharm": {
     "name": "#%%\n"
    }
   }
  }
 ],
 "metadata": {
  "kernelspec": {
   "display_name": "Python 3",
   "language": "python",
   "name": "python3"
  },
  "language_info": {
   "codemirror_mode": {
    "name": "ipython",
    "version": 2
   },
   "file_extension": ".py",
   "mimetype": "text/x-python",
   "name": "python",
   "nbconvert_exporter": "python",
   "pygments_lexer": "ipython2",
   "version": "2.7.6"
  }
 },
 "nbformat": 4,
 "nbformat_minor": 0
}