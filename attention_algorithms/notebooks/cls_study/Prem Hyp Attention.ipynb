{
 "cells": [
  {
   "cell_type": "markdown",
   "id": "7e773e89-5774-4fdb-90f7-22bf96cd5d21",
   "metadata": {},
   "source": [
    "# Prem Hyp attention distribution"
   ]
  },
  {
   "cell_type": "code",
   "execution_count": 48,
   "id": "9cffaad6-de51-4b74-bd3a-f43b5605853d",
   "metadata": {
    "tags": []
   },
   "outputs": [],
   "source": [
    "import os\n",
    "import pickle\n",
    "from tabulate import tabulate\n",
    "from scipy.stats import ttest_ind\n",
    "import numpy as np\n",
    "\n",
    "cwd = os.getcwd().split(os.path.sep)\n",
    "while cwd[-1] != \"stage_4_gm\":\n",
    "    os.chdir(\"..\")\n",
    "    cwd = os.getcwd().split(os.path.sep)\n",
    "dir = os.path.join(\".cache\", \"plots\", \"cls_study\")\n",
    "with open(os.path.join(dir, \"attention_prem_hyp.pickle\"), \"rb\") as f:\n",
    "    attention = pickle.load(f)"
   ]
  },
  {
   "cell_type": "code",
   "execution_count": 49,
   "id": "4129c478-137f-4fbf-9cf7-4db268fae40c",
   "metadata": {},
   "outputs": [
    {
     "name": "stdout",
     "output_type": "stream",
     "text": [
      "The autoreload extension is already loaded. To reload it, use:\n",
      "  %reload_ext autoreload\n"
     ]
    }
   ],
   "source": [
    "%load_ext autoreload\n",
    "%autoreload 2\n",
    "import matplotlib.pyplot as plt\n",
    "from attention_algorithms.attention_metrics import plot_color_from_ax, default_plot_colormap"
   ]
  },
  {
   "cell_type": "markdown",
   "id": "89e2d737-5fef-449a-9352-3a70719075fa",
   "metadata": {},
   "source": [
    "## Visualisation of the maps"
   ]
  },
  {
   "cell_type": "code",
   "execution_count": 50,
   "id": "d2f487e3-5f91-4b3b-b121-5b56a3087313",
   "metadata": {},
   "outputs": [],
   "source": [
    "%%capture\n",
    "fig, axes = plt.subplots(1, 3, figsize=(30, 10))\n",
    "plot_color_from_ax(attention[\"entailement\"].mean(axis=-1), axes[0],\n",
    "                   ylabel=\"layer\",\n",
    "                   xlabel=\"\",\n",
    "                   xstick=[\"premise\", \"hypothesis\"],\n",
    "                   title = \"Entailement\")\n",
    "\n",
    "plot_color_from_ax(attention[\"neutral\"].mean(axis=-1), axes[1],\n",
    "                   ylabel=\"layer\",\n",
    "                   xlabel=\"\",\n",
    "                   xstick=[\"premise\", \"hypothesis\"],\n",
    "                   title = \"Neutral\")\n",
    "\n",
    "plot_color_from_ax(attention[\"contradiction\"].mean(axis=-1), axes[2],\n",
    "                   ylabel=\"layer\",\n",
    "                   xlabel=\"\",\n",
    "                   xstick=[\"premise\", \"hypothesis\"],\n",
    "                   title = \"Contradiction\")\n",
    "\n",
    "\n",
    "fig.savefig(os.path.join(os.getcwd(),\".cache\", \"plots\", \"cls_study\", \"prem_hyp_attention_study.png\"))"
   ]
  },
  {
   "cell_type": "code",
   "execution_count": 25,
   "id": "0bb7ce17-817b-4c11-bb9c-6e3a5baff967",
   "metadata": {},
   "outputs": [
    {
     "data": {
      "image/png": "[encoded data removed]",
      "text/plain": [
       "<Figure size 2160x720 with 3 Axes>"
      ]
     },
     "execution_count": 25,
     "metadata": {},
     "output_type": "execute_result"
    }
   ],
   "source": [
    "fig"
   ]
  },
  {
   "cell_type": "markdown",
   "id": "69f9ae5a-5ea3-4741-9290-2ebc4fcbf3bf",
   "metadata": {},
   "source": [
    "évaluation des p_value pour avoir une idée des p_value entre les différents "
   ]
  },
  {
   "cell_type": "markdown",
   "id": "bf9849b8-896e-4445-ac8b-67ccdf2adb9f",
   "metadata": {
    "tags": []
   },
   "source": [
    "## The different tests"
   ]
  },
  {
   "cell_type": "markdown",
   "id": "bf20ec16-f608-4ada-8683-c5fc73911258",
   "metadata": {},
   "source": [
    "creation of the table for the test"
   ]
  },
  {
   "cell_type": "code",
   "execution_count": 45,
   "id": "87f10e78-6742-4d4b-a2af-c5e62e69b6a4",
   "metadata": {},
   "outputs": [],
   "source": [
    "def p_value_signifiance(p):\n",
    "    if p <= 0.001:\n",
    "        return \"* * *\"\n",
    "    elif p <= 0.01:\n",
    "        return \"* *\"\n",
    "    elif p <= 0.05:\n",
    "        return \"*\"\n",
    "    else :\n",
    "        return \".\"\n",
    "\n",
    "\n",
    "def create_table(test_label):\n",
    "    table = [[\"Layer\",\"T-Stats\", \"p-value\", \"signifiance\"]]\n",
    "    for i in range(12):\n",
    "        row = [f\"Layer {i+1}\",\n",
    "               np.round(test_label[0][i], 3), \n",
    "               np.round(test_label[1][i], 3), \n",
    "               p_value_signifiance(test_label[1][i])]\n",
    "        table.append(row)\n",
    "        \n",
    "    return table"
   ]
  },
  {
   "cell_type": "code",
   "execution_count": 46,
   "id": "ee6b040c-085f-4481-984e-e23558b90721",
   "metadata": {},
   "outputs": [],
   "source": [
    "test_entailement = ttest_ind(attention[\"entailement\"][:,0,:], attention[\"entailement\"][:,1,:], axis=-1)\n",
    "test_neutral = ttest_ind(attention[\"neutral\"][:,0,:], attention[\"neutral\"][:,1,:], axis=-1)\n",
    "test_contradiction = ttest_ind(attention[\"contradiction\"][:,0,:], attention[\"contradiction\"][:,1,:], axis=-1)"
   ]
  },
  {
   "cell_type": "code",
   "execution_count": 47,
   "id": "9415d11b-5026-4749-917a-df2525195a1d",
   "metadata": {},
   "outputs": [
    {
     "name": "stdout",
     "output_type": "stream",
     "text": [
      "Layer       T-Stats    p-value  signifiance\n",
      "--------  ---------  ---------  -------------\n",
      "Layer 1     113.127          0  * * *\n",
      "Layer 2     121.273          0  * * *\n",
      "Layer 3     139.454          0  * * *\n",
      "Layer 4     150.125          0  * * *\n",
      "Layer 5     117.447          0  * * *\n",
      "Layer 6      94.09           0  * * *\n",
      "Layer 7     -45.694          0  * * *\n",
      "Layer 8     -15.621          0  * * *\n",
      "Layer 9      11.206          0  * * *\n",
      "Layer 10   -175.879          0  * * *\n",
      "Layer 11     11.042          0  * * *\n",
      "Layer 12     35.681          0  * * *\n",
      "\n",
      "Layer       T-Stats    p-value  signifiance\n",
      "--------  ---------  ---------  -------------\n",
      "Layer 1      52.287          0  * * *\n",
      "Layer 2      53.19           0  * * *\n",
      "Layer 3      60.833          0  * * *\n",
      "Layer 4      62.781          0  * * *\n",
      "Layer 5      45.98           0  * * *\n",
      "Layer 6      37.118          0  * * *\n",
      "Layer 7     -52.713          0  * * *\n",
      "Layer 8     -27.813          0  * * *\n",
      "Layer 9     -32.525          0  * * *\n",
      "Layer 10   -141.351          0  * * *\n",
      "Layer 11    -10.661          0  * * *\n",
      "Layer 12      5.355          0  * * *\n",
      "\n",
      "Layer       T-Stats    p-value  signifiance\n",
      "--------  ---------  ---------  -------------\n",
      "Layer 1      67.955          0  * * *\n",
      "Layer 2      70.856          0  * * *\n",
      "Layer 3      79.296          0  * * *\n",
      "Layer 4      78.154          0  * * *\n",
      "Layer 5      55.288          0  * * *\n",
      "Layer 6      46.087          0  * * *\n",
      "Layer 7     -41.085          0  * * *\n",
      "Layer 8      -6.885          0  * * *\n",
      "Layer 9     -33.12           0  * * *\n",
      "Layer 10    -93.276          0  * * *\n",
      "Layer 11    -64.598          0  * * *\n",
      "Layer 12    -37.664          0  * * *\n"
     ]
    }
   ],
   "source": [
    "print(tabulate(create_table(test_entailement), headers=\"firstrow\"))\n",
    "print()\n",
    "print(tabulate(create_table(test_neutral), headers=\"firstrow\"))\n",
    "print()\n",
    "print(tabulate(create_table(test_contradiction), headers=\"firstrow\"))"
   ]
  },
  {
   "cell_type": "markdown",
   "id": "b9b878de-a0c4-4627-82e1-06a683e9f372",
   "metadata": {},
   "source": [
    "il y a donc bien des différences significatives entre les différentes parties de la phrases peu import la couche et peu import le label\n",
    "- pour la label contradiction on a une forte concentration sur l'hypothèse à partir de la couche 12"
   ]
  },
  {
   "cell_type": "markdown",
   "id": "bb9123a8-7823-4800-b31e-16d3843ff4cb",
   "metadata": {},
   "source": [
    "## Entropy on the prem and the hyp"
   ]
  },
  {
   "cell_type": "code",
   "execution_count": null,
   "id": "aad1a043-8f4a-4ff2-b836-e7d89d486e8b",
   "metadata": {},
   "outputs": [],
   "source": []
  }
 ],
 "metadata": {
  "kernelspec": {
   "display_name": "Python 3 (ipykernel)",
   "language": "python",
   "name": "python3"
  },
  "language_info": {
   "codemirror_mode": {
    "name": "ipython",
    "version": 3
   },
   "file_extension": ".py",
   "mimetype": "text/x-python",
   "name": "python",
   "nbconvert_exporter": "python",
   "pygments_lexer": "ipython3",
   "version": "3.7.13"
  }
 },
 "nbformat": 4,
 "nbformat_minor": 5
}
