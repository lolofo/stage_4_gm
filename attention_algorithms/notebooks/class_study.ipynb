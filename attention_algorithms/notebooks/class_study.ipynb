{
 "cells": [
  {
   "cell_type": "markdown",
   "id": "3eef7f74",
   "metadata": {},
   "source": [
    "# Some statistics on the different classes"
   ]
  },
  {
   "cell_type": "markdown",
   "id": "882d5887",
   "metadata": {},
   "source": [
    "first run the script `.\\inference_scripts\\class_accuracy.py`"
   ]
  },
  {
   "cell_type": "code",
   "execution_count": 6,
   "id": "32e1d3d1-c89c-4476-ae49-48b9d76dc2f9",
   "metadata": {
    "pycharm": {
     "name": "#%%\n"
    }
   },
   "outputs": [],
   "source": [
    "import os\n",
    "import pickle\n",
    "from tabulate import tabulate\n",
    "\n",
    "cwd = os.getcwd().split(os.path.sep)\n",
    "while cwd[-1] != \"stage_4_gm\":\n",
    "    os.chdir(\"..\")\n",
    "    cwd = os.getcwd().split(os.path.sep)\n",
    "dir = os.path.join(\".cache\", \"plots\", \"class_accuracy\")\n",
    "with open(os.path.join(dir, \"class_accuracy.pickle\"), \"rb\") as f:\n",
    "    table = pickle.load(f)"
   ]
  },
  {
   "cell_type": "code",
   "execution_count": 8,
   "id": "024911b3",
   "metadata": {},
   "outputs": [
    {
     "name": "stdout",
     "output_type": "stream",
     "text": [
      "Test                           T-stats      p-value  Signifiance\n",
      "---------------------------  ---------  -----------  -------------\n",
      "contradiction > entailement    6.37562  1.94531e-10  * * *\n",
      "contradictions > neutrals      8.48819  2.57668e-17  * * *\n"
     ]
    }
   ],
   "source": [
    "print(tabulate(table, headers=\"firstrow\"))"
   ]
  }
 ],
 "metadata": {
  "kernelspec": {
   "display_name": "Python 3 (ipykernel)",
   "language": "python",
   "name": "python3"
  },
  "language_info": {
   "codemirror_mode": {
    "name": "ipython",
    "version": 3
   },
   "file_extension": ".py",
   "mimetype": "text/x-python",
   "name": "python",
   "nbconvert_exporter": "python",
   "pygments_lexer": "ipython3",
   "version": "3.7.13"
  }
 },
 "nbformat": 4,
 "nbformat_minor": 5
}
