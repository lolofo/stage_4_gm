{
 "cells": [
  {
   "cell_type": "markdown",
   "source": [
    "# Entropia criterion : reg_mul = 0 (no regularization)"
   ],
   "metadata": {
    "collapsed": false,
    "pycharm": {
     "name": "#%% md\n"
    }
   }
  },
  {
   "cell_type": "code",
   "execution_count": 1,
   "outputs": [
    {
     "name": "stdout",
     "output_type": "stream",
     "text": [
      ">> the git rep : C:\\Users\\loicf\\Documents\\IRISA\\stage_4_gm\\stage_4_gm\n",
      ">> the plots location : C:\\Users\\loicf\\Documents\\IRISA\\stage_4_gm\\stage_4_gm\\.cache\\plots\\reg_mul=0\n"
     ]
    },
    {
     "name": "stderr",
     "output_type": "stream",
     "text": [
      "Some weights of the model checkpoint at bert-base-uncased were not used when initializing BertModel: ['cls.predictions.transform.dense.weight', 'cls.predictions.transform.LayerNorm.weight', 'cls.seq_relationship.bias', 'cls.predictions.bias', 'cls.predictions.transform.LayerNorm.bias', 'cls.seq_relationship.weight', 'cls.predictions.transform.dense.bias', 'cls.predictions.decoder.weight']\n",
      "- This IS expected if you are initializing BertModel from the checkpoint of a model trained on another task or with another architecture (e.g. initializing a BertForSequenceClassification model from a BertForPreTraining model).\n",
      "- This IS NOT expected if you are initializing BertModel from the checkpoint of a model that you expect to be exactly identical (initializing a BertForSequenceClassification model from a BertForSequenceClassification model).\n"
     ]
    }
   ],
   "source": [
    "# preparation of the environment\n",
    "%load_ext autoreload\n",
    "%autoreload 2\n",
    "\n",
    "import os\n",
    "from os import path\n",
    "# set the repository to the git repository\n",
    "cwd = os.getcwd().split(os.path.sep)\n",
    "while cwd[-1] != \"stage_4_gm\":\n",
    "    os.chdir(\"..\")\n",
    "    cwd = os.getcwd().split(os.path.sep)\n",
    "print(\">> the git rep : \", end=\"\")\n",
    "print(os.getcwd())\n",
    "\n",
    "# the folder where we will save our data\n",
    "foler_name = \"reg_mul=0.003\"\n",
    "plots_folder = os.path.join(os.getcwd(), '.cache', 'plots')\n",
    "graph_folder = path.join(plots_folder, foler_name)\n",
    "if not path.exists(graph_folder):\n",
    "    os.mkdir(graph_folder)\n",
    "\n",
    "print(f\">> the plots location : {graph_folder}\")\n",
    "\n",
    "import pandas as pd\n",
    "import torch\n",
    "import numpy as np\n",
    "import pickle\n",
    "from scipy.stats import entropy\n",
    "from tqdm import tqdm\n",
    "from tabulate import tabulate\n",
    "from attention_algorithms.attention_metrics import attention_score\n",
    "\n",
    "from training_bert import BertNliLight\n",
    "from custom_data_set import SnliDataset\n",
    "from custom_data_set import test_dir, dev_dir\n",
    "from torch.utils.data import DataLoader\n",
    "\n",
    "# --> from this environment\n",
    "from attention_algorithms.raw_attention import RawAttention\n",
    "from attention_algorithms.attention_metrics import normalize_attention\n",
    "\n",
    "ckp = path.join(\".cache\", \"logs\", \"igrida_trained\", \"reg_mul=0.003\", \"best.ckpt\")\n",
    "model = BertNliLight.load_from_checkpoint(ckp)\n",
    "model = model.eval()  # make sure to have the model in eval mod before using it\n",
    "\n",
    "# load the data >> without the neutral labels\n",
    "data_set = SnliDataset(dir=test_dir,\n",
    "                       nb_sentences=1000,\n",
    "                       msg=False,\n",
    "                       keep_neutral=False)\n",
    "data_loader = DataLoader(data_set, batch_size=1000, shuffle=False)\n",
    "\n",
    "sentences, masks, train_labels = next(iter(data_loader))\n",
    "\n",
    "e_snli_data = pd.read_csv(os.path.join('.cache', 'raw_data', 'e_snli', 'cleaned_data', 'test.csv'), sep=\",\")\\\n",
    "    [[\"tok_sent\", \"hg_goal\", \"label\"]]"
   ],
   "metadata": {
    "collapsed": false,
    "pycharm": {
     "name": "#%%\n"
    }
   }
  },
  {
   "cell_type": "markdown",
   "source": [
    "## The different metrics"
   ],
   "metadata": {
    "collapsed": false,
    "pycharm": {
     "name": "#%% md\n"
    }
   }
  },
  {
   "cell_type": "code",
   "execution_count": 2,
   "outputs": [],
   "source": [
    "from sklearn.metrics import f1_score, precision_score, recall_score, roc_auc_score, average_precision_score, auc"
   ],
   "metadata": {
    "collapsed": false,
    "pycharm": {
     "name": "#%%\n"
    }
   }
  },
  {
   "cell_type": "code",
   "execution_count": 3,
   "outputs": [],
   "source": [
    "def jaccard(y, y_hat):\n",
    "    num = np.dot(y,y_hat)\n",
    "    den = np.sum(y) + np.sum(y_hat) - np.dot(y, y_hat)\n",
    "    return num/den"
   ],
   "metadata": {
    "collapsed": false,
    "pycharm": {
     "name": "#%%\n"
    }
   }
  },
  {
   "cell_type": "markdown",
   "source": [
    "## Create the entropia map"
   ],
   "metadata": {
    "collapsed": false,
    "pycharm": {
     "name": "#%% md\n"
    }
   }
  },
  {
   "cell_type": "code",
   "execution_count": 4,
   "outputs": [
    {
     "name": "stdout",
     "output_type": "stream",
     "text": [
      ">> the files already exist in the environment >> loading the files ... loading finished\n"
     ]
    }
   ],
   "source": [
    "pur_attention, Y_test = None, None\n",
    "# the inference dict will contain all the different values of the attention for the different head and layer\n",
    "# the attention is only the agregation of the different lines\n",
    "dir = os.path.join(graph_folder, \"inference_dict.pickle\")\n",
    "\n",
    "if os.path.exists(dir) and os.path.getsize(dir) != 0:\n",
    "    print(\">> the files already exist in the environment >> loading the files ...\", end=\"\")\n",
    "    with open(os.path.join(graph_folder, \"inference_dict.pickle\"), \"rb\") as f:\n",
    "        pur_attention, Y_test = pickle.load(f)\n",
    "    print(\" loading finished\")\n",
    "else :\n",
    "    print(\">> the file doesn't exists >> downloading ...\")\n",
    "    with open(os.path.join(graph_folder, \"inference_dict.pickle\"), \"wb\") as f:\n",
    "        pur_attention, Y_test, _ = attention_score(sentences=sentences, masks=masks,\n",
    "                                                   e_snli_data=e_snli_data,\n",
    "                                                   model=model, TR_q=0,\n",
    "                                                   quantiles_calc=False)\n",
    "        print(\">> end downloading\")\n",
    "        pickle.dump([pur_attention, Y_test], f)"
   ],
   "metadata": {
    "collapsed": false,
    "pycharm": {
     "name": "#%%\n"
    }
   }
  },
  {
   "cell_type": "code",
   "execution_count": 5,
   "outputs": [],
   "source": [
    "# the entropia map is only here\n",
    "entropy_map = np.zeros((12, 12))\n",
    "for l in range(12):\n",
    "    for h in range(12):\n",
    "        preds = pur_attention[f\"layer_{l}\"][f\"head_{h}\"]\n",
    "        entropy_map[l, h] = entropy(pk=np.exp(np.array(preds))/sum(np.exp(np.array(preds))))"
   ],
   "metadata": {
    "collapsed": false,
    "pycharm": {
     "name": "#%%\n"
    }
   }
  },
  {
   "cell_type": "markdown",
   "source": [
    "## Functions for the Study"
   ],
   "metadata": {
    "collapsed": false,
    "pycharm": {
     "name": "#%% md\n"
    }
   }
  },
  {
   "cell_type": "code",
   "execution_count": 7,
   "outputs": [],
   "source": [
    "def entropi_criterion(ent_tr,sentences=sentences, masks=masks, msg = False):\n",
    "    y_hat = []\n",
    "    y = []\n",
    "    for i in tqdm(range(len(sentences))):\n",
    "        sent = sentences[i, :].clone().detach()[None, :]\n",
    "        mk = masks[i, :].clone().detach()[None, :]\n",
    "        raw_attention_inst = RawAttention(model=model,\n",
    "                                          input_ids=sent,\n",
    "                                          attention_mask=mk,\n",
    "                                          test_mod=False\n",
    "                                          )\n",
    "\n",
    "        # search for the right sentence in the snli dataset\n",
    "        j = 0\n",
    "        while j < e_snli_data.shape[0] and raw_attention_inst.tokens != eval(e_snli_data[\"tok_sent\"][j]):\n",
    "            j += 1\n",
    "\n",
    "        try :\n",
    "            # update the annotation list\n",
    "            annot = eval(e_snli_data.hg_goal[j])\n",
    "            y += annot\n",
    "\n",
    "            # construction of the attention_score based on the SEP criterion\n",
    "            attention_score = torch.zeros(len(raw_attention_inst.tokens))\n",
    "            for layer in range(12):\n",
    "                for head in range(12):\n",
    "                    if entropy_map[layer, head] <= ent_tr: # this is the criterion to proceed the head selection\n",
    "                        buff = raw_attention_inst.attention_tensor[0, layer, head, :, :].sum(dim=0)\n",
    "                        attention_score += buff\n",
    "            # transform to a list\n",
    "            attention_score = list(normalize_attention(tokens=raw_attention_inst.tokens,\n",
    "                                                       attention=attention_score).detach().numpy())\n",
    "            y_hat += attention_score\n",
    "\n",
    "\n",
    "        except Exception as e:\n",
    "            if msg :\n",
    "                print(e)\n",
    "            else :\n",
    "                pass\n",
    "    return {\"y\" : y, \"y_hat\": y_hat}"
   ],
   "metadata": {
    "collapsed": false,
    "pycharm": {
     "name": "#%%\n"
    }
   }
  },
  {
   "cell_type": "code",
   "execution_count": 8,
   "outputs": [],
   "source": [
    "def create_row(y, y_hat, metrics):\n",
    "    row = []\n",
    "    tr = np.linspace(0, 1, 50)\n",
    "    for m in metrics :\n",
    "        if m != \"roc_auc_score\" and m != \"jaccard\" and m != \"average_precision_score\":\n",
    "            ar = [] # --> calculus of the metrics\n",
    "            for t in tr:\n",
    "                buff = 1 * (np.array(y_hat)>=t)\n",
    "                ar.append(eval(m)(y, buff))\n",
    "            row.append(auc(tr, ar))\n",
    "        else:\n",
    "            row.append(eval(m)(y, y_hat))\n",
    "\n",
    "    return row"
   ],
   "metadata": {
    "collapsed": false,
    "pycharm": {
     "name": "#%%\n"
    }
   }
  },
  {
   "cell_type": "code",
   "execution_count": 9,
   "outputs": [],
   "source": [
    "def create_eraser_row(y, y_hat, metrics):\n",
    "    row = []\n",
    "    tr = 0.5\n",
    "    for m in metrics :\n",
    "        if m != \"roc_auc_score\":\n",
    "            buff = 1 * (np.array(y_hat)>=0.5)\n",
    "            row.append(eval(m)(y, buff))\n",
    "        else:\n",
    "            row.append(eval(m)(y, y_hat))\n",
    "\n",
    "    return row"
   ],
   "metadata": {
    "collapsed": false,
    "pycharm": {
     "name": "#%%\n"
    }
   }
  },
  {
   "cell_type": "markdown",
   "source": [
    "## Calculus for multiple Threshold"
   ],
   "metadata": {
    "collapsed": false,
    "pycharm": {
     "name": "#%% md\n"
    }
   }
  },
  {
   "cell_type": "code",
   "execution_count": 10,
   "outputs": [
    {
     "name": "stdout",
     "output_type": "stream",
     "text": [
      ">> the file doesn't exist >> downloading >>  "
     ]
    },
    {
     "name": "stderr",
     "output_type": "stream",
     "text": [
      "100%|██████████| 1000/1000 [03:53<00:00,  4.29it/s]\n"
     ]
    },
    {
     "name": "stdout",
     "output_type": "stream",
     "text": [
      " >> downloading finished !\n",
      ">> the file doesn't exist >> downloading >>  "
     ]
    },
    {
     "name": "stderr",
     "output_type": "stream",
     "text": [
      "100%|██████████| 1000/1000 [03:38<00:00,  4.58it/s]\n"
     ]
    },
    {
     "name": "stdout",
     "output_type": "stream",
     "text": [
      " >> downloading finished !\n",
      ">> the file doesn't exist >> downloading >>  "
     ]
    },
    {
     "name": "stderr",
     "output_type": "stream",
     "text": [
      "100%|██████████| 1000/1000 [03:40<00:00,  4.54it/s]\n"
     ]
    },
    {
     "name": "stdout",
     "output_type": "stream",
     "text": [
      " >> downloading finished !\n",
      ">> the file doesn't exist >> downloading >>  "
     ]
    },
    {
     "name": "stderr",
     "output_type": "stream",
     "text": [
      "100%|██████████| 1000/1000 [04:10<00:00,  4.00it/s]\n"
     ]
    },
    {
     "name": "stdout",
     "output_type": "stream",
     "text": [
      " >> downloading finished !\n",
      ">> the file doesn't exist >> downloading >>  "
     ]
    },
    {
     "name": "stderr",
     "output_type": "stream",
     "text": [
      "100%|██████████| 1000/1000 [03:55<00:00,  4.24it/s]\n"
     ]
    },
    {
     "name": "stdout",
     "output_type": "stream",
     "text": [
      " >> downloading finished !\n",
      ">> the file doesn't exist >> downloading >>  "
     ]
    },
    {
     "name": "stderr",
     "output_type": "stream",
     "text": [
      "100%|██████████| 1000/1000 [03:57<00:00,  4.20it/s]\n"
     ]
    },
    {
     "name": "stdout",
     "output_type": "stream",
     "text": [
      " >> downloading finished !\n",
      ">> the file doesn't exist >> downloading >>  "
     ]
    },
    {
     "name": "stderr",
     "output_type": "stream",
     "text": [
      "100%|██████████| 1000/1000 [03:44<00:00,  4.46it/s]\n"
     ]
    },
    {
     "name": "stdout",
     "output_type": "stream",
     "text": [
      " >> downloading finished !\n"
     ]
    }
   ],
   "source": [
    "y, y_hat = None, None\n",
    "rows = []\n",
    "evaluation_metrics = [\"f1_score\", \"precision_score\", \"recall_score\", \"roc_auc_score\", \"jaccard\", \"average_precision_score\"]\n",
    "\n",
    "# set the header for the table of statistics\n",
    "h1 = [\"AU_\"+x+\"_curve\" for x in [\"f1\", \"PR\", \"RC\"]]\n",
    "\n",
    "h2 = [\"AUROC\", \"jaccard\", \"AUPRC\"]\n",
    "rows.append([\"ent_tr\"] + h1 + h2)\n",
    "\n",
    "\n",
    "for ent_tr in np.linspace(entropy_map.min(), entropy_map.max(), 7):\n",
    "    dir = os.path.join(graph_folder, f\"ent_{ent_tr}_criterion.pickle\")\n",
    "\n",
    "    if os.path.exists(dir) and os.path.getsize(dir) != 0:\n",
    "        print(\">> the files already exist in the environment >> loading the files ...\", end=\"\")\n",
    "        with open(dir, \"rb\") as f:\n",
    "            d = pickle.load(f)\n",
    "            y = d[\"y\"]\n",
    "            y_hat = d[\"y_hat\"]\n",
    "        print(\" loading finished\")\n",
    "    else :\n",
    "        with open(dir, \"wb\") as f:\n",
    "            print(\">> the file doesn't exist >> downloading >> \", end=\" \")\n",
    "            d = entropi_criterion(ent_tr=ent_tr, msg=False)\n",
    "            print(\" >> downloading finished !\")\n",
    "            y = d[\"y\"]\n",
    "            y_hat = d[\"y_hat\"]\n",
    "            pickle.dump(d, f)\n",
    "\n",
    "    rows.append([ent_tr] + create_row(y, y_hat, evaluation_metrics))"
   ],
   "metadata": {
    "collapsed": false,
    "pycharm": {
     "name": "#%%\n"
    }
   }
  },
  {
   "cell_type": "code",
   "execution_count": 12,
   "outputs": [
    {
     "name": "stdout",
     "output_type": "stream",
     "text": [
      "  ent_tr    AU_f1_curve    AU_PR_curve    AU_RC_curve     AUROC    jaccard     AUPRC\n",
      "--------  -------------  -------------  -------------  --------  ---------  --------\n",
      " 10.1319       0.314734       0.452382       0.270312  0.654005   0.195898  0.379944\n",
      " 10.1371       0.315349       0.405274       0.31136   0.6601     0.203098  0.364444\n",
      " 10.1423       0.274954       0.469163       0.227818  0.700883   0.174167  0.398216\n",
      " 10.1474       0.287979       0.482572       0.262245  0.720187   0.190373  0.420657\n",
      " 10.1526       0.333057       0.486617       0.365028  0.725762   0.230185  0.441744\n",
      " 10.1578       0.34181        0.473699       0.401041  0.723675   0.237215  0.44032\n",
      " 10.1629       0.348013       0.464613       0.427524  0.723344   0.241778  0.440037\n"
     ]
    }
   ],
   "source": [
    "print(tabulate(rows, headers=\"firstrow\"))"
   ],
   "metadata": {
    "collapsed": false,
    "pycharm": {
     "name": "#%%\n"
    }
   }
  },
  {
   "cell_type": "code",
   "execution_count": null,
   "outputs": [],
   "source": [
    "from openpyxl import load_workbook, Workbook\n",
    "from openpyxl.worksheet.table import Table, TableStyleInfo\n",
    "\n",
    "xls_dir = os.path.join(plots_folder, \"dash_board.xlsx\")\n",
    "wb = None\n",
    "if os.path.exists(xls_dir):\n",
    "    wb = load_workbook(xls_dir)\n",
    "else :\n",
    "    wb = Workbook()\n",
    "\n",
    "ws = None\n",
    "if \"reg_mul=0.003\" not in wb.sheetnames:\n",
    "    ws = wb.create_sheet(\"reg_mul=0.003\")\n",
    "\n",
    "ws = wb[\"reg_mul=0.003\"] # get the work sheet\n",
    "\n",
    "ws.append([\"Entropia metric score\"])\n",
    "for r in rows :\n",
    "    ws.append(r)\n",
    "\n",
    "wb.save(xls_dir)\n",
    "wb.close()"
   ],
   "metadata": {
    "collapsed": false,
    "pycharm": {
     "name": "#%%\n"
    }
   }
  },
  {
   "cell_type": "markdown",
   "source": [
    "## Table for the ERASER Benchmark"
   ],
   "metadata": {
    "collapsed": false,
    "pycharm": {
     "name": "#%% md\n"
    }
   }
  },
  {
   "cell_type": "code",
   "execution_count": 14,
   "outputs": [
    {
     "name": "stdout",
     "output_type": "stream",
     "text": [
      ">> the files already exist in the environment >> loading the files ... loading finished\n",
      ">> the files already exist in the environment >> loading the files ... loading finished\n",
      ">> the files already exist in the environment >> loading the files ... loading finished\n",
      ">> the files already exist in the environment >> loading the files ... loading finished\n",
      ">> the files already exist in the environment >> loading the files ... loading finished\n",
      ">> the files already exist in the environment >> loading the files ... loading finished\n",
      ">> the files already exist in the environment >> loading the files ... loading finished\n"
     ]
    }
   ],
   "source": [
    "rows = []\n",
    "\n",
    "evaluation_metrics = [\"f1_score\", \"precision_score\", \"recall_score\", \"roc_auc_score\", \"jaccard\"]\n",
    "h = [\"f1_score\", \"precision_score\", \"recall_score\", \"roc_auc_score\", \"IOU\"]\n",
    "\n",
    "rows.append([\"ent_tr\"] + h)\n",
    "\n",
    "for ent_tr in np.linspace(entropy_map.min(), entropy_map.max(), 7):\n",
    "    y, y_hat = None, None\n",
    "    dir = os.path.join(graph_folder, f\"ent_{ent_tr}_criterion.pickle\")\n",
    "    if os.path.exists(dir) and os.path.getsize(dir) != 0:\n",
    "        print(\">> the files already exist in the environment >> loading the files ...\", end=\"\")\n",
    "        with open(dir, \"rb\") as f:\n",
    "            d = pickle.load(f)\n",
    "            y = d[\"y\"]\n",
    "            y_hat = d[\"y_hat\"]\n",
    "        print(\" loading finished\")\n",
    "    else :\n",
    "        with open(dir, \"wb\") as f:\n",
    "            print(\">> the file doesn't exist >> downloading >> \", end=\" \")\n",
    "            d = entropi_criterion(ent_tr=ent_tr ,msg=False)\n",
    "            print(\" >> downloading finished !\")\n",
    "            y = d[\"y\"]\n",
    "            y_hat = d[\"y_hat\"]\n",
    "            pickle.dump(d, f)\n",
    "\n",
    "    rows.append([ent_tr] + create_eraser_row(y, y_hat, evaluation_metrics))\n"
   ],
   "metadata": {
    "collapsed": false,
    "pycharm": {
     "name": "#%%\n"
    }
   }
  },
  {
   "cell_type": "code",
   "execution_count": 15,
   "outputs": [
    {
     "name": "stdout",
     "output_type": "stream",
     "text": [
      "  ent_tr    f1_score    precision_score    recall_score    roc_auc_score       IOU\n",
      "--------  ----------  -----------------  --------------  ---------------  --------\n",
      " 10.1319    0.310886           0.466522        0.233116         0.654005  0.184053\n",
      " 10.1371    0.313667           0.397622        0.258984         0.6601    0.186005\n",
      " 10.1423    0.255571           0.480342        0.174102         0.700883  0.146507\n",
      " 10.1474    0.263416           0.498061        0.179058         0.720187  0.151686\n",
      " 10.1526    0.324665           0.545521        0.231103         0.725762  0.193791\n",
      " 10.1578    0.351671           0.54357         0.259913         0.723675  0.21335\n",
      " 10.1629    0.369693           0.536873        0.281908         0.723344  0.226763\n"
     ]
    }
   ],
   "source": [
    "print(tabulate(rows, headers=\"firstrow\"))"
   ],
   "metadata": {
    "collapsed": false,
    "pycharm": {
     "name": "#%%\n"
    }
   }
  }
 ],
 "metadata": {
  "kernelspec": {
   "display_name": "Python 3",
   "language": "python",
   "name": "python3"
  },
  "language_info": {
   "codemirror_mode": {
    "name": "ipython",
    "version": 2
   },
   "file_extension": ".py",
   "mimetype": "text/x-python",
   "name": "python",
   "nbconvert_exporter": "python",
   "pygments_lexer": "ipython2",
   "version": "2.7.6"
  }
 },
 "nbformat": 4,
 "nbformat_minor": 0
}