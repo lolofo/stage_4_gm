{
 "cells": [
  {
   "cell_type": "code",
   "execution_count": 38,
   "id": "7df9a138-01d2-4d0b-a045-8eff8696e532",
   "metadata": {},
   "outputs": [
    {
     "name": "stdout",
     "output_type": "stream",
     "text": [
      "The autoreload extension is already loaded. To reload it, use:\n",
      "  %reload_ext autoreload\n"
     ]
    }
   ],
   "source": [
    "# preparation of the environment\n",
    "%load_ext autoreload\n",
    "%autoreload 2\n",
    "\n",
    "INF = 1e30\n",
    "\n",
    "from tqdm.notebook import tqdm\n",
    "\n",
    "import os\n",
    "from os import path\n",
    "# set the repository to the git repository\n",
    "cwd = os.getcwd().split(os.path.sep)\n",
    "while cwd[-1] != \"stage_4_gm\":\n",
    "    os.chdir(\"..\")\n",
    "    cwd = os.getcwd().split(os.path.sep)\n",
    "\n",
    "import pandas as pd\n",
    "import numpy as np\n",
    "import torch\n",
    "from training_bert import BertNliLight\n",
    "from regularize_training_bert import SNLIDataModule\n",
    "from regularize_training_bert import BertNliRegu\n",
    "from torch.utils.data import DataLoader\n",
    "\n",
    "# --> from this environment\n",
    "from attention_algorithms.raw_attention import RawAttention\n",
    "from attention_algorithms.attention_metrics import normalize_attention"
   ]
  },
  {
   "cell_type": "code",
   "execution_count": 39,
   "id": "b8a6743d-6ba4-4f26-8c60-c6b73e5fd090",
   "metadata": {},
   "outputs": [
    {
     "name": "stderr",
     "output_type": "stream",
     "text": [
      "Some weights of the model checkpoint at bert-base-uncased were not used when initializing BertModel: ['cls.predictions.bias', 'cls.seq_relationship.bias', 'cls.predictions.transform.dense.weight', 'cls.predictions.transform.LayerNorm.weight', 'cls.predictions.transform.dense.bias', 'cls.predictions.decoder.weight', 'cls.seq_relationship.weight', 'cls.predictions.transform.LayerNorm.bias']\n",
      "- This IS expected if you are initializing BertModel from the checkpoint of a model trained on another task or with another architecture (e.g. initializing a BertForSequenceClassification model from a BertForPreTraining model).\n",
      "- This IS NOT expected if you are initializing BertModel from the checkpoint of a model that you expect to be exactly identical (initializing a BertForSequenceClassification model from a BertForSequenceClassification model).\n",
      "Some weights of the model checkpoint at bert-base-uncased were not used when initializing BertModel: ['cls.predictions.bias', 'cls.seq_relationship.bias', 'cls.predictions.transform.dense.weight', 'cls.predictions.transform.LayerNorm.weight', 'cls.predictions.transform.dense.bias', 'cls.predictions.decoder.weight', 'cls.seq_relationship.weight', 'cls.predictions.transform.LayerNorm.bias']\n",
      "- This IS expected if you are initializing BertModel from the checkpoint of a model trained on another task or with another architecture (e.g. initializing a BertForSequenceClassification model from a BertForPreTraining model).\n",
      "- This IS NOT expected if you are initializing BertModel from the checkpoint of a model that you expect to be exactly identical (initializing a BertForSequenceClassification model from a BertForSequenceClassification model).\n",
      "C:\\Users\\loicf\\miniconda3\\envs\\nlp\\lib\\site-packages\\torchmetrics\\utilities\\prints.py:36: UserWarning: Metric `AUROC` will save all targets and predictions in buffer. For large datasets this may lead to large memory footprint.\n",
      "  warnings.warn(*args, **kwargs)\n",
      "Some weights of the model checkpoint at bert-base-uncased were not used when initializing BertModel: ['cls.predictions.bias', 'cls.seq_relationship.bias', 'cls.predictions.transform.dense.weight', 'cls.predictions.transform.LayerNorm.weight', 'cls.predictions.transform.dense.bias', 'cls.predictions.decoder.weight', 'cls.seq_relationship.weight', 'cls.predictions.transform.LayerNorm.bias']\n",
      "- This IS expected if you are initializing BertModel from the checkpoint of a model trained on another task or with another architecture (e.g. initializing a BertForSequenceClassification model from a BertForPreTraining model).\n",
      "- This IS NOT expected if you are initializing BertModel from the checkpoint of a model that you expect to be exactly identical (initializing a BertForSequenceClassification model from a BertForSequenceClassification model).\n",
      "Some weights of the model checkpoint at bert-base-uncased were not used when initializing BertModel: ['cls.predictions.bias', 'cls.seq_relationship.bias', 'cls.predictions.transform.dense.weight', 'cls.predictions.transform.LayerNorm.weight', 'cls.predictions.transform.dense.bias', 'cls.predictions.decoder.weight', 'cls.seq_relationship.weight', 'cls.predictions.transform.LayerNorm.bias']\n",
      "- This IS expected if you are initializing BertModel from the checkpoint of a model trained on another task or with another architecture (e.g. initializing a BertForSequenceClassification model from a BertForPreTraining model).\n",
      "- This IS NOT expected if you are initializing BertModel from the checkpoint of a model that you expect to be exactly identical (initializing a BertForSequenceClassification model from a BertForSequenceClassification model).\n",
      "Some weights of the model checkpoint at bert-base-uncased were not used when initializing BertModel: ['cls.predictions.bias', 'cls.seq_relationship.bias', 'cls.predictions.transform.dense.weight', 'cls.predictions.transform.LayerNorm.weight', 'cls.predictions.transform.dense.bias', 'cls.predictions.decoder.weight', 'cls.seq_relationship.weight', 'cls.predictions.transform.LayerNorm.bias']\n",
      "- This IS expected if you are initializing BertModel from the checkpoint of a model trained on another task or with another architecture (e.g. initializing a BertForSequenceClassification model from a BertForPreTraining model).\n",
      "- This IS NOT expected if you are initializing BertModel from the checkpoint of a model that you expect to be exactly identical (initializing a BertForSequenceClassification model from a BertForSequenceClassification model).\n",
      "Some weights of the model checkpoint at bert-base-uncased were not used when initializing BertModel: ['cls.predictions.bias', 'cls.seq_relationship.bias', 'cls.predictions.transform.dense.weight', 'cls.predictions.transform.LayerNorm.weight', 'cls.predictions.transform.dense.bias', 'cls.predictions.decoder.weight', 'cls.seq_relationship.weight', 'cls.predictions.transform.LayerNorm.bias']\n",
      "- This IS expected if you are initializing BertModel from the checkpoint of a model trained on another task or with another architecture (e.g. initializing a BertForSequenceClassification model from a BertForPreTraining model).\n",
      "- This IS NOT expected if you are initializing BertModel from the checkpoint of a model that you expect to be exactly identical (initializing a BertForSequenceClassification model from a BertForSequenceClassification model).\n",
      "Some weights of the model checkpoint at bert-base-uncased were not used when initializing BertModel: ['cls.predictions.bias', 'cls.seq_relationship.bias', 'cls.predictions.transform.dense.weight', 'cls.predictions.transform.LayerNorm.weight', 'cls.predictions.transform.dense.bias', 'cls.predictions.decoder.weight', 'cls.seq_relationship.weight', 'cls.predictions.transform.LayerNorm.bias']\n",
      "- This IS expected if you are initializing BertModel from the checkpoint of a model trained on another task or with another architecture (e.g. initializing a BertForSequenceClassification model from a BertForPreTraining model).\n",
      "- This IS NOT expected if you are initializing BertModel from the checkpoint of a model that you expect to be exactly identical (initializing a BertForSequenceClassification model from a BertForSequenceClassification model).\n",
      "Some weights of the model checkpoint at bert-base-uncased were not used when initializing BertModel: ['cls.predictions.bias', 'cls.seq_relationship.bias', 'cls.predictions.transform.dense.weight', 'cls.predictions.transform.LayerNorm.weight', 'cls.predictions.transform.dense.bias', 'cls.predictions.decoder.weight', 'cls.seq_relationship.weight', 'cls.predictions.transform.LayerNorm.bias']\n",
      "- This IS expected if you are initializing BertModel from the checkpoint of a model trained on another task or with another architecture (e.g. initializing a BertForSequenceClassification model from a BertForPreTraining model).\n",
      "- This IS NOT expected if you are initializing BertModel from the checkpoint of a model that you expect to be exactly identical (initializing a BertForSequenceClassification model from a BertForSequenceClassification model).\n",
      "Some weights of the model checkpoint at bert-base-uncased were not used when initializing BertModel: ['cls.predictions.bias', 'cls.seq_relationship.bias', 'cls.predictions.transform.dense.weight', 'cls.predictions.transform.LayerNorm.weight', 'cls.predictions.transform.dense.bias', 'cls.predictions.decoder.weight', 'cls.seq_relationship.weight', 'cls.predictions.transform.LayerNorm.bias']\n",
      "- This IS expected if you are initializing BertModel from the checkpoint of a model trained on another task or with another architecture (e.g. initializing a BertForSequenceClassification model from a BertForPreTraining model).\n",
      "- This IS NOT expected if you are initializing BertModel from the checkpoint of a model that you expect to be exactly identical (initializing a BertForSequenceClassification model from a BertForSequenceClassification model).\n"
     ]
    }
   ],
   "source": [
    "# the different models\n",
    "models_dict = {}\n",
    "for r in [0, 0.001, 0.002, 0.003, 0.004, 0.005, 0.08, 0.1, 0.4]:\n",
    "    model = None\n",
    "    if r==0:\n",
    "        ckp = path.join(\".cache\", \"logs\", \"igrida_trained\", \"0\", \"best.ckpt\")\n",
    "        model = BertNliLight.load_from_checkpoint(ckp)\n",
    "    else :\n",
    "        ckp = path.join(\".cache\", \"logs\", \"igrida_trained\", f\"reg_mul={r}\", \"best.ckpt\")\n",
    "        model = BertNliRegu.load_from_checkpoint(ckp)\n",
    "    models_dict[f\"reg_mul={r}\"] = model.eval()"
   ]
  },
  {
   "cell_type": "code",
   "execution_count": 40,
   "id": "3b2926aa-d27c-4ef3-942e-5ab2882b980f",
   "metadata": {},
   "outputs": [],
   "source": [
    "data_dir = os.path.join(\".cache\", \"raw_data\", \"e_snli\")\n",
    "\n",
    "dm = SNLIDataModule(cache=data_dir,\n",
    "                   batch_size = 1,\n",
    "                   num_workers = 4,\n",
    "                   nb_data = 99)\n",
    "\n",
    "dm.prepare_data()\n",
    "\n",
    "dm.setup(stage=\"test\")\n",
    "\n",
    "test_dataset = dm.test_set\n",
    "test_dataloader = dm.test_dataloader()"
   ]
  },
  {
   "cell_type": "markdown",
   "id": "fbddc1c6-9634-44f9-b084-8ff11cdc30a3",
   "metadata": {},
   "source": [
    "## The KL divergence"
   ]
  },
  {
   "cell_type": "code",
   "execution_count": 41,
   "id": "f703a14b-8c70-4c7b-815f-3119fd04b95e",
   "metadata": {},
   "outputs": [
    {
     "data": {
      "application/vnd.jupyter.widget-view+json": {
       "model_id": "99dbfda5ccb74f2398960178016ddb16",
       "version_major": 2,
       "version_minor": 0
      },
      "text/plain": [
       "  0%|          | 0/99 [00:00<?, ?it/s]"
      ]
     },
     "metadata": {},
     "output_type": "display_data"
    },
    {
     "name": "stderr",
     "output_type": "stream",
     "text": [
      "C:\\Users\\loicf\\miniconda3\\envs\\nlp\\lib\\site-packages\\torch\\nn\\functional.py:2905: UserWarning: reduction: 'mean' divides the total loss by both the batch size and the support size.'batchmean' divides only by the batch size, and aligns with the KL div math definition.'mean' will be changed to behave the same as 'batchmean' in the next major release.\n",
      "  \"reduction: 'mean' divides the total loss by both the batch size and the support size.\"\n"
     ]
    }
   ],
   "source": [
    "import torch.nn.functional as F\n",
    "KL_divergence_dict = {}\n",
    "\n",
    "\n",
    "for r in [0, 0.001, 0.002, 0.003, 0.004, 0.005, 0.08, 0.1, 0.4]:\n",
    "    KL_divergence_dict[f\"reg_mul={r}\"] = torch.zeros((12, 12, 99))\n",
    "\n",
    "with torch.no_grad():\n",
    "    for id_batch, batch in tqdm(enumerate(test_dataloader), total = len(test_dataset)):\n",
    "\n",
    "        ids = batch[\"input_ids\"]\n",
    "        mk = batch[\"attention_masks\"]\n",
    "        labels = batch[\"labels\"]\n",
    "        a_true = batch[\"annotations\"]\n",
    "        spe_tok_mask = torch.isin(ids, torch.tensor([0, 101, 102])).type(torch.uint8)[0]\n",
    "        \n",
    "        for r in [0, 0.001, 0.002, 0.003, 0.004, 0.005, 0.08, 0.1, 0.4]:\n",
    "            raw_attention_inst = RawAttention(model = models_dict[f\"reg_mul={r}\"],\n",
    "                                             input_ids = ids,\n",
    "                                             attention_mask = mk,\n",
    "                                             test_mod = False\n",
    "                                             )\n",
    "            for h in range(12):\n",
    "                for h_p in range(12):\n",
    "                    a_hat_h = raw_attention_inst.attention_tensor[0, 2, h, :, :].sum(dim=0)\n",
    "                    a_hat_h = torch.softmax(a_hat_h - INF*spe_tok_mask[0:len(raw_attention_inst.tokens)],dim=0)\n",
    "                    a_hat_h_p = raw_attention_inst.attention_tensor[0, 2, h_p, :, :].sum(dim=0)\n",
    "                    a_hat_h_p = torch.softmax(a_hat_h_p - INF*spe_tok_mask[0:len(raw_attention_inst.tokens)], dim=0)\n",
    "                    \n",
    "                    KL_divergence_dict[f\"reg_mul={r}\"][h, h_p, id_batch] = F.kl_div(a_hat_h, a_hat_h_p)                  \n",
    "                    "
   ]
  },
  {
   "cell_type": "code",
   "execution_count": 42,
   "id": "cd9ebe52-6b07-4f1e-8826-4e764c73db2a",
   "metadata": {},
   "outputs": [],
   "source": [
    "mean_s = {}\n",
    "var_s = {}\n",
    "\n",
    "x = []\n",
    "y = []\n",
    "\n",
    "for r in [0, 0.001, 0.002, 0.003, 0.004, 0.005, 0.08, 0.1, 0.4]:\n",
    "    mean_s[f\"reg_mul={r}\"] = KL_divergence_dict[f\"reg_mul={r}\"].mean(dim=-1)\n",
    "    var_s[f\"reg_mul={r}\"] = KL_divergence_dict[f\"reg_mul={r}\"].var(dim=-1)\n",
    "    \n",
    "    x += [f\"reg_mul={r}\"]*int(12*12)\n",
    "    \n",
    "    y += list(mean_s[f\"reg_mul={r}\"].flatten().numpy())"
   ]
  },
  {
   "cell_type": "code",
   "execution_count": 45,
   "id": "9bed7acd-05d1-4fd9-87fa-774ee42ff3e0",
   "metadata": {},
   "outputs": [
    {
     "data": {
      "image/png": "[encoded data removed]",
      "text/plain": [
       "<Figure size 1440x720 with 1 Axes>"
      ]
     },
     "metadata": {},
     "output_type": "display_data"
    }
   ],
   "source": [
    "import seaborn as sns\n",
    "import matplotlib.pyplot as plt\n",
    "fig = plt.figure(figsize=(20,10))\n",
    "ax = sns.boxplot(x = x, y = y)\n",
    "plt.savefig(os.path.join(os.getcwd(), \".cache\", \"plots\", \"reg_compensation_study\", \"kl_divergence.png\"))"
   ]
  },
  {
   "cell_type": "markdown",
   "id": "9cc11d20-8d87-4ca3-b437-527b164fd00d",
   "metadata": {},
   "source": [
    "## Look at the distribution for "
   ]
  },
  {
   "cell_type": "code",
   "execution_count": 46,
   "id": "329aae24-f4a4-4eb9-977b-1eccbcbae144",
   "metadata": {},
   "outputs": [],
   "source": [
    "def html_render(model_outputs):\n",
    "    html = ''\n",
    "    table_len = len(model_outputs['GROUNDTRUTH']['Entropy'])\n",
    "    for i in range(table_len):\n",
    "        html += '<table>'\n",
    "        html += '<tr><th></th>' # One xtra head for model's name\n",
    "        for column_name in model_outputs['GROUNDTRUTH'].keys():\n",
    "            html+= '<th>'+ column_name +'</th>'\n",
    "        html += ' </tr>'\n",
    "        for name, model_content in model_outputs.items():\n",
    "            html += '<tr>'\n",
    "            html += '<td><b>' + name + '</b></td>'\n",
    "\n",
    "            for k, output in model_content.items():\n",
    "                displ = output[i] if output is not None else 'N/A'\n",
    "                if isinstance(displ, float):\n",
    "                    displ = str(round(displ, 3))\n",
    "                html += '<td>' + displ + '</td>'\n",
    "\n",
    "            html += '</tr>'\n",
    "\n",
    "        html += '</table>'\n",
    "    return html"
   ]
  },
  {
   "cell_type": "code",
   "execution_count": 49,
   "id": "388efe55-3502-4f24-be08-fdc40b651ae3",
   "metadata": {},
   "outputs": [
    {
     "data": {
      "text/html": [
       "<h5>Reg mul = 0</h5>"
      ],
      "text/plain": [
       "<IPython.core.display.HTML object>"
      ]
     },
     "metadata": {},
     "output_type": "display_data"
    },
    {
     "ename": "RuntimeError",
     "evalue": "The size of tensor a (25) must match the size of tensor b (16) at non-singleton dimension 0",
     "output_type": "error",
     "traceback": [
      "\u001b[1;31m---------------------------------------------------------------------------\u001b[0m",
      "\u001b[1;31mRuntimeError\u001b[0m                              Traceback (most recent call last)",
      "\u001b[1;32m~\\AppData\\Local\\Temp\\ipykernel_4640\\4285128051.py\u001b[0m in \u001b[0;36m<module>\u001b[1;34m\u001b[0m\n\u001b[0;32m     36\u001b[0m                 \u001b[1;32mfor\u001b[0m \u001b[0mh\u001b[0m \u001b[1;32min\u001b[0m \u001b[0mrange\u001b[0m\u001b[1;33m(\u001b[0m\u001b[1;36m12\u001b[0m\u001b[1;33m)\u001b[0m\u001b[1;33m:\u001b[0m\u001b[1;33m\u001b[0m\u001b[1;33m\u001b[0m\u001b[0m\n\u001b[0;32m     37\u001b[0m                     \u001b[0ma_hat\u001b[0m \u001b[1;33m=\u001b[0m \u001b[0mraw_attention_inst\u001b[0m\u001b[1;33m.\u001b[0m\u001b[0mattention_tensor\u001b[0m\u001b[1;33m[\u001b[0m\u001b[1;36m0\u001b[0m\u001b[1;33m,\u001b[0m \u001b[1;36m2\u001b[0m\u001b[1;33m,\u001b[0m \u001b[0mh\u001b[0m\u001b[1;33m,\u001b[0m \u001b[1;33m:\u001b[0m\u001b[1;33m,\u001b[0m \u001b[1;33m:\u001b[0m\u001b[1;33m]\u001b[0m\u001b[1;33m.\u001b[0m\u001b[0msum\u001b[0m\u001b[1;33m(\u001b[0m\u001b[0mdim\u001b[0m\u001b[1;33m=\u001b[0m\u001b[1;36m0\u001b[0m\u001b[1;33m)\u001b[0m\u001b[1;33m\u001b[0m\u001b[1;33m\u001b[0m\u001b[0m\n\u001b[1;32m---> 38\u001b[1;33m                     \u001b[0ma_hat\u001b[0m \u001b[1;33m=\u001b[0m \u001b[0mtorch\u001b[0m\u001b[1;33m.\u001b[0m\u001b[0msoftmax\u001b[0m\u001b[1;33m(\u001b[0m\u001b[0ma_hat_h\u001b[0m \u001b[1;33m-\u001b[0m \u001b[0mINF\u001b[0m\u001b[1;33m*\u001b[0m\u001b[0mspe_tok_mask\u001b[0m\u001b[1;33m[\u001b[0m\u001b[1;36m0\u001b[0m\u001b[1;33m:\u001b[0m\u001b[0mlen\u001b[0m\u001b[1;33m(\u001b[0m\u001b[0mraw_attention_inst\u001b[0m\u001b[1;33m.\u001b[0m\u001b[0mtokens\u001b[0m\u001b[1;33m)\u001b[0m\u001b[1;33m]\u001b[0m\u001b[1;33m,\u001b[0m\u001b[0mdim\u001b[0m\u001b[1;33m=\u001b[0m\u001b[1;36m0\u001b[0m\u001b[1;33m)\u001b[0m\u001b[1;33m\u001b[0m\u001b[1;33m\u001b[0m\u001b[0m\n\u001b[0m\u001b[0;32m     39\u001b[0m \u001b[1;33m\u001b[0m\u001b[0m\n\u001b[0;32m     40\u001b[0m                     \u001b[0ma_hat\u001b[0m \u001b[1;33m=\u001b[0m \u001b[0mlist\u001b[0m\u001b[1;33m(\u001b[0m\u001b[0mnp\u001b[0m\u001b[1;33m.\u001b[0m\u001b[0marray\u001b[0m\u001b[1;33m(\u001b[0m\u001b[0ma_hat\u001b[0m\u001b[1;33m.\u001b[0m\u001b[0mnumpy\u001b[0m\u001b[1;33m(\u001b[0m\u001b[1;33m)\u001b[0m\u001b[1;33m,\u001b[0m \u001b[0mdtype\u001b[0m\u001b[1;33m=\u001b[0m\u001b[1;34m\"float\"\u001b[0m\u001b[1;33m)\u001b[0m\u001b[1;33m)\u001b[0m\u001b[1;33m\u001b[0m\u001b[1;33m\u001b[0m\u001b[0m\n",
      "\u001b[1;31mRuntimeError\u001b[0m: The size of tensor a (25) must match the size of tensor b (16) at non-singleton dimension 0"
     ]
    }
   ],
   "source": [
    "from IPython.display import display, HTML\n",
    "from attention_algorithms.plausibility_visu import hightlight_txt # function to highlight the text\n",
    "with torch.no_grad(): \n",
    "    for r in [0, 0.001, 0.002, 0.003, 0.004, 0.005, 0.08, 0.1, 0.4]:\n",
    "        display(HTML(f'<h5>Reg mul = {r}</h5>'))\n",
    "        model_outputs = {} # dictionnary for our display\n",
    "        for id_batch, elem in enumerate(test_dataloader) :\n",
    "\n",
    "            if id_batch > 1:\n",
    "                # only look at 5 sentences (batch of one here)\n",
    "                break\n",
    "\n",
    "            ids = elem[\"input_ids\"]\n",
    "            masks = elem[\"attention_masks\"]\n",
    "            labels = elem[\"labels\"]\n",
    "            a_true = list(np.array(elem[\"annotations\"][0].numpy(), dtype=float))\n",
    "            spe_tok_mask = torch.isin(ids, torch.tensor([0, 101, 102])).type(torch.uint8)[0]\n",
    "            it = 0\n",
    "            for model_name in models_dict:\n",
    "\n",
    "                # the attention_inst\n",
    "                raw_attention_inst = RawAttention(model = models_dict[f\"reg_mul={r}\"],\n",
    "                                                 input_ids = ids,\n",
    "                                                 attention_mask = masks,\n",
    "                                                 test_mod = False\n",
    "                                                 )\n",
    "                if it == 0:\n",
    "                    model_outputs[\"GROUNDTRUTH\"] = {\n",
    "                        '[CLS] + P + [SEP] + H + [SEP]':  [hightlight_txt(tokens = raw_attention_inst.tokens,\n",
    "                                                                        attention = a_true[0 : len(raw_attention_inst.tokens)])],\n",
    "                        'Label': list(np.array(labels.numpy(), dtype=\"float\"))\n",
    "                    }\n",
    "\n",
    "                    it += 1\n",
    "\n",
    "                for h in range(12):\n",
    "                    a_hat = raw_attention_inst.attention_tensor[0, 2, h, :, :].sum(dim=0)\n",
    "                    a_hat = torch.softmax(a_hat_h - INF*spe_tok_mask[0:len(raw_attention_inst.tokens)],dim=0)\n",
    "\n",
    "                    a_hat = list(np.array(a_hat.numpy(), dtype=\"float\"))\n",
    "\n",
    "                    model_outputs[f\"head{h}\"] =  {\n",
    "                        '[CLS] + P + [SEP] + H + [SEP]': [hightlight_txt(tokens = raw_attention_inst.tokens,\n",
    "                                                                        attention = a_hat)],\n",
    "                        'Label': list(np.array(labels.numpy(), dtype=\"float\"))\n",
    "                    }\n",
    "\n",
    "            display(HTML(html_render(model_outputs)))"
   ]
  },
  {
   "cell_type": "code",
   "execution_count": null,
   "id": "a65aa1f8-a30e-4b45-8141-f6b7272919c7",
   "metadata": {},
   "outputs": [],
   "source": []
  }
 ],
 "metadata": {
  "kernelspec": {
   "display_name": "Python 3 (ipykernel)",
   "language": "python",
   "name": "python3"
  },
  "language_info": {
   "codemirror_mode": {
    "name": "ipython",
    "version": 3
   },
   "file_extension": ".py",
   "mimetype": "text/x-python",
   "name": "python",
   "nbconvert_exporter": "python",
   "pygments_lexer": "ipython3",
   "version": "3.7.13"
  }
 },
 "nbformat": 4,
 "nbformat_minor": 5
}
