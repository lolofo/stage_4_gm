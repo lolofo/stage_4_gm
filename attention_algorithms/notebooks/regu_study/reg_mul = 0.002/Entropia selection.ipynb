{
 "cells": [
  {
   "cell_type": "markdown",
   "source": [
    "# Entropia criterion : reg_mul = 0 (no regularization)"
   ],
   "metadata": {
    "collapsed": false,
    "pycharm": {
     "name": "#%% md\n"
    }
   }
  },
  {
   "cell_type": "code",
   "execution_count": 13,
   "outputs": [
    {
     "name": "stdout",
     "output_type": "stream",
     "text": [
      "The autoreload extension is already loaded. To reload it, use:\n",
      "  %reload_ext autoreload\n",
      ">> the git rep : C:\\Users\\loicf\\Documents\\IRISA\\stage_4_gm\\stage_4_gm\n",
      ">> the plots location : C:\\Users\\loicf\\Documents\\IRISA\\stage_4_gm\\stage_4_gm\\.cache\\plots\\reg_mul=0.002\n"
     ]
    },
    {
     "name": "stderr",
     "output_type": "stream",
     "text": [
      "Some weights of the model checkpoint at bert-base-uncased were not used when initializing BertModel: ['cls.predictions.transform.LayerNorm.weight', 'cls.predictions.transform.LayerNorm.bias', 'cls.predictions.decoder.weight', 'cls.predictions.bias', 'cls.predictions.transform.dense.bias', 'cls.seq_relationship.bias', 'cls.predictions.transform.dense.weight', 'cls.seq_relationship.weight']\n",
      "- This IS expected if you are initializing BertModel from the checkpoint of a model trained on another task or with another architecture (e.g. initializing a BertForSequenceClassification model from a BertForPreTraining model).\n",
      "- This IS NOT expected if you are initializing BertModel from the checkpoint of a model that you expect to be exactly identical (initializing a BertForSequenceClassification model from a BertForSequenceClassification model).\n",
      "C:\\Users\\loicf\\miniconda3\\envs\\nlp\\lib\\site-packages\\torchmetrics\\utilities\\prints.py:36: UserWarning: Metric `AUROC` will save all targets and predictions in buffer. For large datasets this may lead to large memory footprint.\n",
      "  warnings.warn(*args, **kwargs)\n"
     ]
    }
   ],
   "source": [
    "# preparation of the environment\n",
    "%load_ext autoreload\n",
    "%autoreload 2\n",
    "\n",
    "import os\n",
    "from os import path\n",
    "# set the repository to the git repository\n",
    "cwd = os.getcwd().split(os.path.sep)\n",
    "while cwd[-1] != \"stage_4_gm\":\n",
    "    os.chdir(\"..\")\n",
    "    cwd = os.getcwd().split(os.path.sep)\n",
    "print(\">> the git rep : \", end=\"\")\n",
    "print(os.getcwd())\n",
    "\n",
    "# the folder where we will save our data\n",
    "foler_name = \"reg_mul=0.002\"\n",
    "plots_folder = os.path.join(os.getcwd(), '.cache', 'plots')\n",
    "graph_folder = path.join(plots_folder, foler_name)\n",
    "if not path.exists(graph_folder):\n",
    "    os.mkdir(graph_folder)\n",
    "\n",
    "print(f\">> the plots location : {graph_folder}\")\n",
    "\n",
    "import pandas as pd\n",
    "import torch\n",
    "import numpy as np\n",
    "import pickle\n",
    "from scipy.stats import entropy\n",
    "from tqdm import tqdm\n",
    "from tabulate import tabulate\n",
    "from attention_algorithms.attention_metrics import attention_score\n",
    "\n",
    "from regularize_training_bert import BertNliRegu\n",
    "from custom_data_set import SnliDataset\n",
    "from custom_data_set import test_dir, dev_dir\n",
    "from torch.utils.data import DataLoader\n",
    "\n",
    "# --> from this environment\n",
    "from attention_algorithms.raw_attention import RawAttention\n",
    "from attention_algorithms.attention_metrics import normalize_attention\n",
    "\n",
    "ckp = path.join(\".cache\", \"logs\", \"igrida_trained\", \"reg_mul=0.002\", \"best.ckpt\")\n",
    "model = BertNliRegu.load_from_checkpoint(ckp)\n",
    "model = model.eval()  # make sure to have the model in eval mod before using it\n",
    "\n",
    "# load the data >> without the neutral labels\n",
    "data_set = SnliDataset(dir=test_dir,\n",
    "                       nb_sentences=1000,\n",
    "                       msg=False,\n",
    "                       keep_neutral=False)\n",
    "data_loader = DataLoader(data_set, batch_size=1000, shuffle=False)\n",
    "\n",
    "sentences, masks, train_labels = next(iter(data_loader))\n",
    "\n",
    "e_snli_data = pd.read_csv(os.path.join('.cache', 'raw_data', 'e_snli', 'cleaned_data', 'test.csv'), sep=\",\")\\\n",
    "    [[\"tok_sent\", \"hg_goal\", \"label\"]]"
   ],
   "metadata": {
    "collapsed": false,
    "pycharm": {
     "name": "#%%\n"
    }
   }
  },
  {
   "cell_type": "markdown",
   "source": [
    "## The different metrics"
   ],
   "metadata": {
    "collapsed": false,
    "pycharm": {
     "name": "#%% md\n"
    }
   }
  },
  {
   "cell_type": "code",
   "execution_count": 14,
   "outputs": [],
   "source": [
    "from sklearn.metrics import f1_score, precision_score, recall_score, roc_auc_score, average_precision_score, auc"
   ],
   "metadata": {
    "collapsed": false,
    "pycharm": {
     "name": "#%%\n"
    }
   }
  },
  {
   "cell_type": "code",
   "execution_count": 15,
   "outputs": [],
   "source": [
    "def jaccard(y, y_hat):\n",
    "    num = np.dot(y,y_hat)\n",
    "    den = np.sum(y) + np.sum(y_hat) - np.dot(y, y_hat)\n",
    "    return num/den"
   ],
   "metadata": {
    "collapsed": false,
    "pycharm": {
     "name": "#%%\n"
    }
   }
  },
  {
   "cell_type": "markdown",
   "source": [
    "## Create the entropia map"
   ],
   "metadata": {
    "collapsed": false,
    "pycharm": {
     "name": "#%% md\n"
    }
   }
  },
  {
   "cell_type": "code",
   "execution_count": 16,
   "outputs": [
    {
     "name": "stdout",
     "output_type": "stream",
     "text": [
      ">> the files already exist in the environment >> loading the files ... loading finished\n"
     ]
    }
   ],
   "source": [
    "pur_attention, Y_test = None, None\n",
    "# the inference dict will contain all the different values of the attention for the different head and layer\n",
    "# the attention is only the agregation of the different lines\n",
    "dir = os.path.join(graph_folder, \"inference_dict.pickle\")\n",
    "\n",
    "if os.path.exists(dir) and os.path.getsize(dir) != 0:\n",
    "    print(\">> the files already exist in the environment >> loading the files ...\", end=\"\")\n",
    "    with open(os.path.join(graph_folder, \"inference_dict.pickle\"), \"rb\") as f:\n",
    "        pur_attention, Y_test = pickle.load(f)\n",
    "    print(\" loading finished\")\n",
    "else :\n",
    "    print(\">> the file doesn't exists >> downloading ...\")\n",
    "    with open(os.path.join(graph_folder, \"inference_dict.pickle\"), \"wb\") as f:\n",
    "        pur_attention, Y_test, _ = attention_score(sentences=sentences, masks=masks,\n",
    "                                                   e_snli_data=e_snli_data,\n",
    "                                                   model=model, TR_q=0,\n",
    "                                                   quantiles_calc=False)\n",
    "        print(\">> end downloading\")\n",
    "        pickle.dump([pur_attention, Y_test], f)"
   ],
   "metadata": {
    "collapsed": false,
    "pycharm": {
     "name": "#%%\n"
    }
   }
  },
  {
   "cell_type": "code",
   "execution_count": 17,
   "outputs": [],
   "source": [
    "# the entropia map is only here\n",
    "entropy_map = np.zeros((12, 12))\n",
    "for l in range(12):\n",
    "    for h in range(12):\n",
    "        preds = pur_attention[f\"layer_{l}\"][f\"head_{h}\"]\n",
    "        entropy_map[l, h] = entropy(pk=np.exp(np.array(preds))/sum(np.exp(np.array(preds))))"
   ],
   "metadata": {
    "collapsed": false,
    "pycharm": {
     "name": "#%%\n"
    }
   }
  },
  {
   "cell_type": "markdown",
   "source": [
    "## Functions for the Study"
   ],
   "metadata": {
    "collapsed": false,
    "pycharm": {
     "name": "#%% md\n"
    }
   }
  },
  {
   "cell_type": "code",
   "execution_count": 18,
   "outputs": [],
   "source": [
    "def entropi_criterion(ent_tr,sentences=sentences, masks=masks, msg = False):\n",
    "    y_hat = []\n",
    "    y = []\n",
    "    for i in tqdm(range(len(sentences))):\n",
    "        sent = sentences[i, :].clone().detach()[None, :]\n",
    "        mk = masks[i, :].clone().detach()[None, :]\n",
    "        raw_attention_inst = RawAttention(model=model,\n",
    "                                          input_ids=sent,\n",
    "                                          attention_mask=mk,\n",
    "                                          test_mod=False\n",
    "                                          )\n",
    "\n",
    "        # search for the right sentence in the snli dataset\n",
    "        j = 0\n",
    "        while j < e_snli_data.shape[0] and raw_attention_inst.tokens != eval(e_snli_data[\"tok_sent\"][j]):\n",
    "            j += 1\n",
    "\n",
    "        try :\n",
    "            # update the annotation list\n",
    "            annot = eval(e_snli_data.hg_goal[j])\n",
    "            y += annot\n",
    "\n",
    "            # construction of the attention_score based on the SEP criterion\n",
    "            attention_score = torch.zeros(len(raw_attention_inst.tokens))\n",
    "            for layer in range(12):\n",
    "                for head in range(12):\n",
    "                    if entropy_map[layer, head] <= ent_tr: # this is the criterion to proceed the head selection\n",
    "                        buff = raw_attention_inst.attention_tensor[0, layer, head, :, :].sum(dim=0)\n",
    "                        attention_score += buff\n",
    "            # transform to a list\n",
    "            attention_score = list(normalize_attention(tokens=raw_attention_inst.tokens,\n",
    "                                                       attention=attention_score).detach().numpy())\n",
    "            y_hat += attention_score\n",
    "\n",
    "\n",
    "        except Exception as e:\n",
    "            if msg :\n",
    "                print(e)\n",
    "            else :\n",
    "                pass\n",
    "    return {\"y\" : y, \"y_hat\": y_hat}"
   ],
   "metadata": {
    "collapsed": false,
    "pycharm": {
     "name": "#%%\n"
    }
   }
  },
  {
   "cell_type": "code",
   "execution_count": 19,
   "outputs": [],
   "source": [
    "def create_row(y, y_hat, metrics):\n",
    "    row = []\n",
    "    tr = np.linspace(0, 1, 50)\n",
    "    for m in metrics :\n",
    "        if m != \"roc_auc_score\" and m != \"jaccard\" and m != \"average_precision_score\":\n",
    "            ar = [] # --> calculus of the metrics\n",
    "            for t in tr:\n",
    "                buff = 1 * (np.array(y_hat)>=t)\n",
    "                ar.append(eval(m)(y, buff))\n",
    "            row.append(auc(tr, ar))\n",
    "        else:\n",
    "            row.append(eval(m)(y, y_hat))\n",
    "\n",
    "    return row"
   ],
   "metadata": {
    "collapsed": false,
    "pycharm": {
     "name": "#%%\n"
    }
   }
  },
  {
   "cell_type": "code",
   "execution_count": 20,
   "outputs": [],
   "source": [
    "def create_eraser_row(y, y_hat, metrics):\n",
    "    row = []\n",
    "    tr = 0.5\n",
    "    for m in metrics :\n",
    "        if m != \"roc_auc_score\":\n",
    "            buff = 1 * (np.array(y_hat)>=0.5)\n",
    "            row.append(eval(m)(y, buff))\n",
    "        else:\n",
    "            row.append(eval(m)(y, y_hat))\n",
    "\n",
    "    return row"
   ],
   "metadata": {
    "collapsed": false,
    "pycharm": {
     "name": "#%%\n"
    }
   }
  },
  {
   "cell_type": "markdown",
   "source": [
    "## Calculus for multiple Threshold"
   ],
   "metadata": {
    "collapsed": false,
    "pycharm": {
     "name": "#%% md\n"
    }
   }
  },
  {
   "cell_type": "code",
   "execution_count": 21,
   "outputs": [
    {
     "name": "stdout",
     "output_type": "stream",
     "text": [
      ">> the files already exist in the environment >> loading the files ... loading finished\n",
      ">> the files already exist in the environment >> loading the files ... loading finished\n",
      ">> the files already exist in the environment >> loading the files ... loading finished\n",
      ">> the files already exist in the environment >> loading the files ... loading finished\n",
      ">> the files already exist in the environment >> loading the files ... loading finished\n",
      ">> the files already exist in the environment >> loading the files ... loading finished\n",
      ">> the files already exist in the environment >> loading the files ... loading finished\n"
     ]
    }
   ],
   "source": [
    "y, y_hat = None, None\n",
    "rows = []\n",
    "evaluation_metrics = [\"f1_score\", \"precision_score\", \"recall_score\", \"roc_auc_score\", \"jaccard\", \"average_precision_score\"]\n",
    "\n",
    "# set the header for the table of statistics\n",
    "h1 = [\"AU_\"+x+\"_curve\" for x in [\"f1\", \"PR\", \"RC\"]]\n",
    "\n",
    "h2 = [\"AUROC\", \"jaccard\", \"AUPRC\"]\n",
    "rows.append([\"ent_tr\"] + h1 + h2)\n",
    "\n",
    "\n",
    "for ent_tr in np.linspace(entropy_map.min(), entropy_map.max(), 7):\n",
    "    dir = os.path.join(graph_folder, f\"ent_{ent_tr}_criterion.pickle\")\n",
    "\n",
    "    if os.path.exists(dir) and os.path.getsize(dir) != 0:\n",
    "        print(\">> the files already exist in the environment >> loading the files ...\", end=\"\")\n",
    "        with open(dir, \"rb\") as f:\n",
    "            d = pickle.load(f)\n",
    "            y = d[\"y\"]\n",
    "            y_hat = d[\"y_hat\"]\n",
    "        print(\" loading finished\")\n",
    "    else :\n",
    "        with open(dir, \"wb\") as f:\n",
    "            print(\">> the file doesn't exist >> downloading >> \", end=\" \")\n",
    "            d = entropi_criterion(ent_tr=ent_tr, msg=False)\n",
    "            print(\" >> downloading finished !\")\n",
    "            y = d[\"y\"]\n",
    "            y_hat = d[\"y_hat\"]\n",
    "            pickle.dump(d, f)\n",
    "\n",
    "    rows.append([ent_tr] + create_row(y, y_hat, evaluation_metrics))"
   ],
   "metadata": {
    "collapsed": false,
    "pycharm": {
     "name": "#%%\n"
    }
   }
  },
  {
   "cell_type": "code",
   "execution_count": 22,
   "outputs": [
    {
     "name": "stdout",
     "output_type": "stream",
     "text": [
      "  ent_tr    AU_f1_curve    AU_PR_curve    AU_RC_curve     AUROC    jaccard     AUPRC\n",
      "--------  -------------  -------------  -------------  --------  ---------  --------\n",
      " 10.1353       0.277611       0.289849       0.34004   0.592868   0.18368   0.286644\n",
      " 10.1399       0.333921       0.376177       0.390466  0.658553   0.222261  0.357765\n",
      " 10.1444       0.250123       0.446215       0.22595   0.704314   0.167205  0.395579\n",
      " 10.149        0.263649       0.448803       0.262131  0.726838   0.183716  0.420618\n",
      " 10.1535       0.319732       0.444376       0.374758  0.726033   0.22541   0.422264\n",
      " 10.158        0.325434       0.435212       0.404803  0.724478   0.230435  0.420115\n",
      " 10.1626       0.332867       0.429298       0.431393  0.726096   0.235817  0.421236\n"
     ]
    }
   ],
   "source": [
    "print(tabulate(rows, headers=\"firstrow\"))"
   ],
   "metadata": {
    "collapsed": false,
    "pycharm": {
     "name": "#%%\n"
    }
   }
  },
  {
   "cell_type": "code",
   "execution_count": 23,
   "outputs": [],
   "source": [
    "from openpyxl import load_workbook, Workbook\n",
    "from openpyxl.worksheet.table import Table, TableStyleInfo\n",
    "\n",
    "xls_dir = os.path.join(plots_folder, \"dash_board.xlsx\")\n",
    "wb = None\n",
    "if os.path.exists(xls_dir):\n",
    "    wb = load_workbook(xls_dir)\n",
    "else :\n",
    "    wb = Workbook()\n",
    "\n",
    "ws = None\n",
    "if \"reg_mul=0.002\" not in wb.sheetnames:\n",
    "    ws = wb.create_sheet(\"reg_mul=0.002\")\n",
    "\n",
    "ws = wb[\"reg_mul=0.002\"] # get the work sheet\n",
    "\n",
    "ws.append([\"Entropia metric score\"])\n",
    "for r in rows :\n",
    "    ws.append(r)\n",
    "\n",
    "wb.save(xls_dir)\n",
    "wb.close()"
   ],
   "metadata": {
    "collapsed": false,
    "pycharm": {
     "name": "#%%\n"
    }
   }
  },
  {
   "cell_type": "markdown",
   "source": [
    "## Table for the ERASER Benchmark"
   ],
   "metadata": {
    "collapsed": false,
    "pycharm": {
     "name": "#%% md\n"
    }
   }
  },
  {
   "cell_type": "code",
   "execution_count": 11,
   "outputs": [
    {
     "name": "stdout",
     "output_type": "stream",
     "text": [
      ">> the files already exist in the environment >> loading the files ... loading finished\n",
      ">> the files already exist in the environment >> loading the files ... loading finished\n",
      ">> the files already exist in the environment >> loading the files ... loading finished\n",
      ">> the files already exist in the environment >> loading the files ... loading finished\n",
      ">> the files already exist in the environment >> loading the files ... loading finished\n",
      ">> the files already exist in the environment >> loading the files ... loading finished\n",
      ">> the files already exist in the environment >> loading the files ... loading finished\n"
     ]
    }
   ],
   "source": [
    "rows = []\n",
    "\n",
    "evaluation_metrics = [\"f1_score\", \"precision_score\", \"recall_score\", \"roc_auc_score\", \"jaccard\"]\n",
    "h = [\"f1_score\", \"precision_score\", \"recall_score\", \"roc_auc_score\", \"IOU\"]\n",
    "\n",
    "rows.append([\"ent_tr\"] + h)\n",
    "\n",
    "for ent_tr in np.linspace(entropy_map.min(), entropy_map.max(), 7):\n",
    "    y, y_hat = None, None\n",
    "    dir = os.path.join(graph_folder, f\"ent_{ent_tr}_criterion.pickle\")\n",
    "    if os.path.exists(dir) and os.path.getsize(dir) != 0:\n",
    "        print(\">> the files already exist in the environment >> loading the files ...\", end=\"\")\n",
    "        with open(dir, \"rb\") as f:\n",
    "            d = pickle.load(f)\n",
    "            y = d[\"y\"]\n",
    "            y_hat = d[\"y_hat\"]\n",
    "        print(\" loading finished\")\n",
    "    else :\n",
    "        with open(dir, \"wb\") as f:\n",
    "            print(\">> the file doesn't exist >> downloading >> \", end=\" \")\n",
    "            d = entropi_criterion(ent_tr=ent_tr ,msg=False)\n",
    "            print(\" >> downloading finished !\")\n",
    "            y = d[\"y\"]\n",
    "            y_hat = d[\"y_hat\"]\n",
    "            pickle.dump(d, f)\n",
    "\n",
    "    rows.append([ent_tr] + create_eraser_row(y, y_hat, evaluation_metrics))\n"
   ],
   "metadata": {
    "collapsed": false,
    "pycharm": {
     "name": "#%%\n"
    }
   }
  },
  {
   "cell_type": "code",
   "execution_count": 12,
   "outputs": [
    {
     "name": "stdout",
     "output_type": "stream",
     "text": [
      "  ent_tr    f1_score    precision_score    recall_score    roc_auc_score       IOU\n",
      "--------  ----------  -----------------  --------------  ---------------  --------\n",
      " 10.1353    0.289514           0.289067        0.289963         0.592868  0.169259\n",
      " 10.1399    0.358635           0.374179        0.344331         0.658553  0.218498\n",
      " 10.1444    0.196892           0.455107        0.12562          0.704314  0.109196\n",
      " 10.149     0.202762           0.465           0.129647         0.726838  0.112818\n",
      " 10.1535    0.323947           0.548411        0.229864         0.726033  0.193279\n",
      " 10.158     0.341698           0.550017        0.247831         0.724478  0.206053\n",
      " 10.1626    0.363524           0.539305        0.274164         0.726096  0.222139\n"
     ]
    }
   ],
   "source": [
    "print(tabulate(rows, headers=\"firstrow\"))"
   ],
   "metadata": {
    "collapsed": false,
    "pycharm": {
     "name": "#%%\n"
    }
   }
  }
 ],
 "metadata": {
  "kernelspec": {
   "display_name": "Python 3",
   "language": "python",
   "name": "python3"
  },
  "language_info": {
   "codemirror_mode": {
    "name": "ipython",
    "version": 2
   },
   "file_extension": ".py",
   "mimetype": "text/x-python",
   "name": "python",
   "nbconvert_exporter": "python",
   "pygments_lexer": "ipython2",
   "version": "2.7.6"
  }
 },
 "nbformat": 4,
 "nbformat_minor": 0
}