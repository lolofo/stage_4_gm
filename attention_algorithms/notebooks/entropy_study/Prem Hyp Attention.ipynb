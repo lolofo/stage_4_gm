{
 "cells": [
  {
   "cell_type": "markdown",
   "id": "7e773e89-5774-4fdb-90f7-22bf96cd5d21",
   "metadata": {},
   "source": [
    "# Prem Hyp attention distribution"
   ]
  },
  {
   "cell_type": "code",
   "execution_count": 11,
   "id": "9cffaad6-de51-4b74-bd3a-f43b5605853d",
   "metadata": {
    "tags": []
   },
   "outputs": [],
   "source": [
    "import os\n",
    "import pickle\n",
    "from tabulate import tabulate\n",
    "from scipy.stats import ttest_ind\n",
    "import numpy as np\n",
    "\n",
    "cwd = os.getcwd().split(os.path.sep)\n",
    "while cwd[-1] != \"stage_4_gm\":\n",
    "    os.chdir(\"..\")\n",
    "    cwd = os.getcwd().split(os.path.sep)\n",
    "dir = os.path.join(\".cache\", \"plots\", \"entropy_study\")\n",
    "with open(os.path.join(dir, \"attention_prem_hyp.pickle\"), \"rb\") as f:\n",
    "    attention = pickle.load(f)\n",
    "with open(os.path.join(dir, \"entropy_prem_hyp.pickle\"), \"rb\") as f:\n",
    "    entropy = pickle.load(f)"
   ]
  },
  {
   "cell_type": "code",
   "execution_count": 12,
   "id": "4129c478-137f-4fbf-9cf7-4db268fae40c",
   "metadata": {},
   "outputs": [
    {
     "name": "stdout",
     "output_type": "stream",
     "text": [
      "The autoreload extension is already loaded. To reload it, use:\n",
      "  %reload_ext autoreload\n"
     ]
    }
   ],
   "source": [
    "%load_ext autoreload\n",
    "%autoreload 2\n",
    "import matplotlib.pyplot as plt\n",
    "from attention_algorithms.attention_metrics import plot_color_from_ax, default_plot_colormap"
   ]
  },
  {
   "cell_type": "markdown",
   "id": "89e2d737-5fef-449a-9352-3a70719075fa",
   "metadata": {},
   "source": [
    "## Visualisation of the maps"
   ]
  },
  {
   "cell_type": "code",
   "execution_count": 14,
   "id": "d2f487e3-5f91-4b3b-b121-5b56a3087313",
   "metadata": {},
   "outputs": [],
   "source": [
    "%%capture\n",
    "fig, axes = plt.subplots(1, 3, figsize=(30, 10))\n",
    "plot_color_from_ax(attention[\"entailement\"].mean(axis=-1), axes[0],\n",
    "                   ylabel=\"layer\",\n",
    "                   xlabel=\"\",\n",
    "                   xstick=[\"premise\", \"hypothesis\"],\n",
    "                   title = \"Entailement\")\n",
    "\n",
    "plot_color_from_ax(attention[\"neutral\"].mean(axis=-1), axes[1],\n",
    "                   ylabel=\"layer\",\n",
    "                   xlabel=\"\",\n",
    "                   xstick=[\"premise\", \"hypothesis\"],\n",
    "                   title = \"Neutral\")\n",
    "\n",
    "plot_color_from_ax(attention[\"contradiction\"].mean(axis=-1), axes[2],\n",
    "                   ylabel=\"layer\",\n",
    "                   xlabel=\"\",\n",
    "                   xstick=[\"premise\", \"hypothesis\"],\n",
    "                   title = \"Contradiction\")\n",
    "\n",
    "\n",
    "fig.savefig(os.path.join(os.getcwd(),\".cache\", \"plots\", \"entropy_study\", \"prem_hyp_attention_study.png\"))"
   ]
  },
  {
   "cell_type": "code",
   "execution_count": 15,
   "id": "0bb7ce17-817b-4c11-bb9c-6e3a5baff967",
   "metadata": {},
   "outputs": [
    {
     "data": {
      "image/png": "[encoded data removed]",
      "text/plain": [
       "<Figure size 2160x720 with 3 Axes>"
      ]
     },
     "execution_count": 15,
     "metadata": {},
     "output_type": "execute_result"
    }
   ],
   "source": [
    "fig"
   ]
  },
  {
   "cell_type": "markdown",
   "id": "69f9ae5a-5ea3-4741-9290-2ebc4fcbf3bf",
   "metadata": {},
   "source": [
    "évaluation des p_value pour avoir une idée des p_value entre les différents "
   ]
  },
  {
   "cell_type": "markdown",
   "id": "bf9849b8-896e-4445-ac8b-67ccdf2adb9f",
   "metadata": {
    "tags": []
   },
   "source": [
    "## The different tests"
   ]
  },
  {
   "cell_type": "markdown",
   "id": "bf20ec16-f608-4ada-8683-c5fc73911258",
   "metadata": {},
   "source": [
    "creation of the table for the test"
   ]
  },
  {
   "cell_type": "code",
   "execution_count": 16,
   "id": "87f10e78-6742-4d4b-a2af-c5e62e69b6a4",
   "metadata": {},
   "outputs": [],
   "source": [
    "def p_value_signifiance(p):\n",
    "    if p <= 0.001:\n",
    "        return \"* * *\"\n",
    "    elif p <= 0.01:\n",
    "        return \"* *\"\n",
    "    elif p <= 0.05:\n",
    "        return \"*\"\n",
    "    else :\n",
    "        return \".\"\n",
    "\n",
    "\n",
    "def create_table(test_label):\n",
    "    table = [[\"Layer\",\"T-Stats\", \"p-value\", \"signifiance\"]]\n",
    "    for i in range(12):\n",
    "        row = [f\"Layer {i+1}\",\n",
    "               np.round(test_label[0][i], 3), \n",
    "               np.round(test_label[1][i], 3), \n",
    "               p_value_signifiance(test_label[1][i])]\n",
    "        table.append(row)\n",
    "        \n",
    "    return table"
   ]
  },
  {
   "cell_type": "code",
   "execution_count": 17,
   "id": "ee6b040c-085f-4481-984e-e23558b90721",
   "metadata": {},
   "outputs": [],
   "source": [
    "test_entailement = ttest_ind(attention[\"entailement\"][:,0,:], attention[\"entailement\"][:,1,:], axis=-1)\n",
    "test_neutral = ttest_ind(attention[\"neutral\"][:,0,:], attention[\"neutral\"][:,1,:], axis=-1)\n",
    "test_contradiction = ttest_ind(attention[\"contradiction\"][:,0,:], attention[\"contradiction\"][:,1,:], axis=-1)"
   ]
  },
  {
   "cell_type": "code",
   "execution_count": 18,
   "id": "9415d11b-5026-4749-917a-df2525195a1d",
   "metadata": {},
   "outputs": [
    {
     "name": "stdout",
     "output_type": "stream",
     "text": [
      "Layer       T-Stats    p-value  signifiance\n",
      "--------  ---------  ---------  -------------\n",
      "Layer 1     130.841          0  * * *\n",
      "Layer 2     117.689          0  * * *\n",
      "Layer 3     129.012          0  * * *\n",
      "Layer 4     132.361          0  * * *\n",
      "Layer 5      65.249          0  * * *\n",
      "Layer 6      43.029          0  * * *\n",
      "Layer 7      46.449          0  * * *\n",
      "Layer 8      21.74           0  * * *\n",
      "Layer 9      35.756          0  * * *\n",
      "Layer 10     50.82           0  * * *\n",
      "Layer 11    -14.765          0  * * *\n",
      "Layer 12      6.4            0  * * *\n",
      "\n",
      "Layer       T-Stats    p-value  signifiance\n",
      "--------  ---------  ---------  -------------\n",
      "Layer 1      77.201          0  * * *\n",
      "Layer 2      68.415          0  * * *\n",
      "Layer 3      73.211          0  * * *\n",
      "Layer 4      75.765          0  * * *\n",
      "Layer 5      37.144          0  * * *\n",
      "Layer 6      21.101          0  * * *\n",
      "Layer 7      23.367          0  * * *\n",
      "Layer 8       5.358          0  * * *\n",
      "Layer 9       9.47           0  * * *\n",
      "Layer 10     21.019          0  * * *\n",
      "Layer 11    -27.145          0  * * *\n",
      "Layer 12     -7.856          0  * * *\n",
      "\n",
      "Layer       T-Stats    p-value  signifiance\n",
      "--------  ---------  ---------  -------------\n",
      "Layer 1     105.866          0  * * *\n",
      "Layer 2      91.388          0  * * *\n",
      "Layer 3      98.492          0  * * *\n",
      "Layer 4      98.385          0  * * *\n",
      "Layer 5      48.008          0  * * *\n",
      "Layer 6      34.131          0  * * *\n",
      "Layer 7      38.747          0  * * *\n",
      "Layer 8      24.09           0  * * *\n",
      "Layer 9      22.938          0  * * *\n",
      "Layer 10     37.71           0  * * *\n",
      "Layer 11   -132.992          0  * * *\n",
      "Layer 12   -101.13           0  * * *\n"
     ]
    }
   ],
   "source": [
    "print(tabulate(create_table(test_entailement), headers=\"firstrow\"))\n",
    "print()\n",
    "print(tabulate(create_table(test_neutral), headers=\"firstrow\"))\n",
    "print()\n",
    "print(tabulate(create_table(test_contradiction), headers=\"firstrow\"))"
   ]
  },
  {
   "cell_type": "markdown",
   "id": "b9b878de-a0c4-4627-82e1-06a683e9f372",
   "metadata": {},
   "source": [
    "il y a donc bien des différences significatives entre les différentes parties de la phrases peu import la couche et peu import le label\n",
    "- pour la label contradiction on a une forte concentration sur l'hypothèse à partir de la couche 12"
   ]
  },
  {
   "cell_type": "markdown",
   "id": "bb9123a8-7823-4800-b31e-16d3843ff4cb",
   "metadata": {},
   "source": [
    "## Entropy on the prem and the hyp"
   ]
  },
  {
   "cell_type": "code",
   "execution_count": 20,
   "id": "c9deeac8-3c2f-4e62-b7f3-8d394bc8fbe3",
   "metadata": {},
   "outputs": [],
   "source": [
    "%%capture\n",
    "fig, axes = plt.subplots(1, 3, figsize=(30, 10))\n",
    "plot_color_from_ax(entropy[\"entailement\"].mean(axis=-1), axes[0],\n",
    "                   ylabel=\"layer\",\n",
    "                   xlabel=\"\",\n",
    "                   xstick=[\"premise\", \"hypothesis\"],\n",
    "                   title = \"Entailement\")\n",
    "\n",
    "plot_color_from_ax(entropy[\"neutral\"].mean(axis=-1), axes[1],\n",
    "                   ylabel=\"layer\",\n",
    "                   xlabel=\"\",\n",
    "                   xstick=[\"premise\", \"hypothesis\"],\n",
    "                   title = \"Neutral\")\n",
    "\n",
    "plot_color_from_ax(entropy[\"contradiction\"].mean(axis=-1), axes[2],\n",
    "                   ylabel=\"layer\",\n",
    "                   xlabel=\"\",\n",
    "                   xstick=[\"premise\", \"hypothesis\"],\n",
    "                   title = \"Contradiction\")\n",
    "\n",
    "\n",
    "fig.savefig(os.path.join(os.getcwd(),\".cache\", \"plots\", \"entropy_study\", \"prem_hyp_entropy_study.png\"))"
   ]
  },
  {
   "cell_type": "code",
   "execution_count": 21,
   "id": "7f4a3a15-e01e-4877-8508-7afaa20b4863",
   "metadata": {},
   "outputs": [
    {
     "data": {
      "image/png": "[encoded data removed]",
      "text/plain": [
       "<Figure size 2160x720 with 3 Axes>"
      ]
     },
     "execution_count": 21,
     "metadata": {},
     "output_type": "execute_result"
    }
   ],
   "source": [
    "fig"
   ]
  },
  {
   "cell_type": "code",
   "execution_count": 22,
   "id": "a6cffa1b-3500-4d27-a1b5-46176a77e8fc",
   "metadata": {},
   "outputs": [],
   "source": [
    "test_entailement = ttest_ind(entropy[\"entailement\"][:,0,:], entropy[\"entailement\"][:,1,:], axis=-1)\n",
    "test_neutral = ttest_ind(entropy[\"neutral\"][:,0,:], entropy[\"neutral\"][:,1,:], axis=-1)\n",
    "test_contradiction = ttest_ind(entropy[\"contradiction\"][:,0,:], entropy[\"contradiction\"][:,1,:], axis=-1)"
   ]
  },
  {
   "cell_type": "code",
   "execution_count": 23,
   "id": "82f99dbb-0446-4afc-92b0-ac0ace6174af",
   "metadata": {},
   "outputs": [
    {
     "name": "stdout",
     "output_type": "stream",
     "text": [
      "Layer       T-Stats    p-value  signifiance\n",
      "--------  ---------  ---------  -------------\n",
      "Layer 1      -7.018      0      * * *\n",
      "Layer 2     -30.15       0      * * *\n",
      "Layer 3      -7.516      0      * * *\n",
      "Layer 4      -6.333      0      * * *\n",
      "Layer 5      15.842      0      * * *\n",
      "Layer 6      19.094      0      * * *\n",
      "Layer 7      20.057      0      * * *\n",
      "Layer 8      23.539      0      * * *\n",
      "Layer 9      20.387      0      * * *\n",
      "Layer 10     15.115      0      * * *\n",
      "Layer 11     -2.547      0.011  *\n",
      "Layer 12    -21.526      0      * * *\n",
      "\n",
      "Layer       T-Stats    p-value  signifiance\n",
      "--------  ---------  ---------  -------------\n",
      "Layer 1       3.393      0.001  * * *\n",
      "Layer 2     -44.357      0      * * *\n",
      "Layer 3      -8.347      0      * * *\n",
      "Layer 4      -2.336      0.02   *\n",
      "Layer 5      14.737      0      * * *\n",
      "Layer 6      17.986      0      * * *\n",
      "Layer 7      21.081      0      * * *\n",
      "Layer 8      21.66       0      * * *\n",
      "Layer 9      23.133      0      * * *\n",
      "Layer 10     20.848      0      * * *\n",
      "Layer 11     10.864      0      * * *\n",
      "Layer 12    -12.087      0      * * *\n",
      "\n",
      "Layer       T-Stats    p-value  signifiance\n",
      "--------  ---------  ---------  -------------\n",
      "Layer 1      -2.676      0.007  * *\n",
      "Layer 2     -33.49       0      * * *\n",
      "Layer 3       2.867      0.004  * *\n",
      "Layer 4       0.822      0.411  .\n",
      "Layer 5      16.563      0      * * *\n",
      "Layer 6      18.163      0      * * *\n",
      "Layer 7      20.908      0      * * *\n",
      "Layer 8      18.592      0      * * *\n",
      "Layer 9      20.151      0      * * *\n",
      "Layer 10     14.104      0      * * *\n",
      "Layer 11     67.542      0      * * *\n",
      "Layer 12     43.417      0      * * *\n"
     ]
    }
   ],
   "source": [
    "print(tabulate(create_table(test_entailement), headers=\"firstrow\"))\n",
    "print()\n",
    "print(tabulate(create_table(test_neutral), headers=\"firstrow\"))\n",
    "print()\n",
    "print(tabulate(create_table(test_contradiction), headers=\"firstrow\"))"
   ]
  },
  {
   "cell_type": "markdown",
   "id": "78f4123b-f97c-469b-ac27-31bb23f6c8d6",
   "metadata": {},
   "source": [
    "Nous avons ainsi des distributions qui sont déséquilibrées. Nous avons plus d'attention sur la premise mais cela est du à une entropie qui est plus forte"
   ]
  }
 ],
 "metadata": {
  "kernelspec": {
   "display_name": "Python 3 (ipykernel)",
   "language": "python",
   "name": "python3"
  },
  "language_info": {
   "codemirror_mode": {
    "name": "ipython",
    "version": 3
   },
   "file_extension": ".py",
   "mimetype": "text/x-python",
   "name": "python",
   "nbconvert_exporter": "python",
   "pygments_lexer": "ipython3",
   "version": "3.7.13"
  }
 },
 "nbformat": 4,
 "nbformat_minor": 5
}
