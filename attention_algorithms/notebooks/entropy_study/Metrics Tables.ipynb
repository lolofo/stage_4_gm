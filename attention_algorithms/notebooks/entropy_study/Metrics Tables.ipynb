{
 "cells": [
  {
   "cell_type": "markdown",
   "id": "dfeee441",
   "metadata": {},
   "source": [
    "before executing this notebook, execute the following script to have all the data `.\\shell_scripts\\entropy_study.ps1`"
   ]
  },
  {
   "cell_type": "code",
   "execution_count": 1,
   "id": "baede579",
   "metadata": {},
   "outputs": [],
   "source": [
    "# preparation of the environment\n",
    "%load_ext autoreload\n",
    "%autoreload 2\n",
    "\n",
    "INF = 1e30\n",
    "\n",
    "import os\n",
    "from os import path\n",
    "\n",
    "\n",
    "# set the repository to the git repository\n",
    "cwd = os.getcwd().split(os.path.sep)\n",
    "while cwd[-1] != \"stage_4_gm\":\n",
    "    os.chdir(\"..\")\n",
    "    cwd = os.getcwd().split(os.path.sep)\n",
    "import numpy as np\n",
    "import torch\n",
    "import matplotlib.pyplot as plt\n",
    "import seaborn as sns\n",
    "sns.set_theme()\n",
    "from tqdm.notebook import tqdm\n",
    "from torch_set_up import DEVICE\n",
    "from training_bert import BertNliLight\n",
    "from regularize_training_bert import SNLIDataModule"
   ]
  },
  {
   "cell_type": "markdown",
   "id": "6cae6a9c",
   "metadata": {},
   "source": [
    "### The metrics"
   ]
  },
  {
   "cell_type": "code",
   "execution_count": 2,
   "id": "3136dbec",
   "metadata": {},
   "outputs": [],
   "source": [
    "from sklearn.metrics import roc_auc_score\n",
    "from sklearn.metrics import average_precision_score\n",
    "from attention_algorithms.inference_metrics import *"
   ]
  },
  {
   "cell_type": "markdown",
   "id": "27fa92f8",
   "metadata": {},
   "source": [
    "### Special Render for the Metrics"
   ]
  },
  {
   "cell_type": "code",
   "execution_count": 3,
   "id": "cb6ad2bf",
   "metadata": {},
   "outputs": [],
   "source": [
    "from attention_algorithms.plausibility_visu import hightlight_txt # function to highlight the text\n",
    "from attention_algorithms.attention_metrics import normalize_attention\n",
    "from IPython.display import display, HTML\n",
    "\n",
    "def html_render(model_outputs):\n",
    "    html = ''\n",
    "\n",
    "    table_len = len(model_outputs['all_layers']['AUC'])\n",
    "    for i in range(table_len):\n",
    "        html += '<table>'\n",
    "        html += '<tr><th></th>' # One xtra head for model's name\n",
    "        for column_name in model_outputs['all_layers'].keys():\n",
    "            html+= '<th>'+ column_name +'</th>'\n",
    "        html += ' </tr>'\n",
    "        for name, model_content in model_outputs.items():\n",
    "            html += '<tr>'\n",
    "            html += '<td><b>' + name + '</b></td>'\n",
    "\n",
    "            for k, output in model_content.items():\n",
    "                displ = output[i] if output is not None else 'N/A'\n",
    "                if isinstance(displ, float):\n",
    "                    displ = str(round(displ, 3))\n",
    "                html += '<td>' + displ + '</td>'\n",
    "\n",
    "            html += '</tr>'\n",
    "\n",
    "        html += '</table>'\n",
    "    return html"
   ]
  },
  {
   "cell_type": "markdown",
   "id": "70f93254",
   "metadata": {},
   "source": [
    "### Create the figure to sum up all the metrics"
   ]
  },
  {
   "cell_type": "code",
   "execution_count": 4,
   "id": "7e0f968b",
   "metadata": {},
   "outputs": [],
   "source": [
    "%%capture\n",
    "fig, axes = plt.subplots(8, 3, figsize = (30, 40))\n",
    "plt.subplots_adjust(left=0.1,\n",
    "                        bottom=0.1,\n",
    "                        right=0.9,\n",
    "                        top=0.9,\n",
    "                        wspace=0.3,\n",
    "                        hspace=0.8)\n",
    "\n",
    "# set the limits for the axes\n",
    "y_lims = [(0.5, 1), (0, 0.3), (0, 0.5) ,(0, 0.6), (0, 0.3), (0, 0.75), (0,0.3), (0,3)]\n",
    "for i in range(axes.shape[0]):\n",
    "    for j in range(axes.shape[1]) :\n",
    "        axes[i,j].set_ylim(y_lims[i][0], y_lims[i][1])"
   ]
  },
  {
   "cell_type": "markdown",
   "id": "ff890953",
   "metadata": {},
   "source": [
    "### Mean Head agregation"
   ]
  },
  {
   "cell_type": "code",
   "execution_count": 5,
   "id": "a49584c4",
   "metadata": {},
   "outputs": [],
   "source": [
    "# load the data\n",
    "import pickle\n",
    "dir = os.path.join(\".cache\", \"plots\", \"entropy_study\")\n",
    "with open(os.path.join(dir, \"a_true_head_mean.pickle\"), \"rb\") as f:\n",
    "    a_true = pickle.load(f)\n",
    "with open(os.path.join(dir, \"all_layers_head_mean.pickle\"), \"rb\") as f:\n",
    "    all_layers = pickle.load(f)\n",
    "with open(os.path.join(dir, \"layers_1_10_head_mean.pickle\"), \"rb\") as f:\n",
    "    layers_1_10 = pickle.load(f)\n",
    "with open(os.path.join(dir, \"layers_4_10_head_mean.pickle\"), \"rb\") as f:\n",
    "    layers_4_10 = pickle.load(f)\n",
    "with open(os.path.join(dir, \"layers_5_10_head_mean.pickle\"), \"rb\") as f:\n",
    "    layers_5_10 = pickle.load(f)"
   ]
  },
  {
   "cell_type": "code",
   "execution_count": 6,
   "id": "d84a7ecc",
   "metadata": {},
   "outputs": [
    {
     "data": {
      "text/html": [
       "<h4>metric for the label : entailement</h4>"
      ],
      "text/plain": [
       "<IPython.core.display.HTML object>"
      ]
     },
     "metadata": {},
     "output_type": "display_data"
    },
    {
     "data": {
      "text/html": [
       "<table><tr><th></th><th>AUC</th><th>Jaccard</th><th>AUPRC</th><th>AU - Precision</th><th>AU - Recall</th><th>Precision (fixed tr)</th><th>Recall (fixed tr)</th><th>Entropy</th> </tr><tr><td><b>all_layers</b></td><td>0.623</td><td>0.005</td><td>0.286</td><td>0.034</td><td>0.015</td><td>0.026</td><td>0.006</td><td>0.428</td></tr><tr><td><b>layers_1_10</b></td><td>0.651</td><td>0.056</td><td>0.341</td><td>0.372</td><td>0.065</td><td>0.457</td><td>0.084</td><td>1.603</td></tr><tr><td><b>layers_4_10</b></td><td>0.661</td><td>0.059</td><td>0.361</td><td>0.373</td><td>0.067</td><td>0.494</td><td>0.087</td><td>1.712</td></tr><tr><td><b>layers_5_10</b></td><td>0.662</td><td>0.059</td><td>0.363</td><td>0.371</td><td>0.067</td><td>0.5</td><td>0.086</td><td>1.765</td></tr></table>"
      ],
      "text/plain": [
       "<IPython.core.display.HTML object>"
      ]
     },
     "metadata": {},
     "output_type": "display_data"
    },
    {
     "data": {
      "text/html": [
       "<h4>metric for the label : neutral</h4>"
      ],
      "text/plain": [
       "<IPython.core.display.HTML object>"
      ]
     },
     "metadata": {},
     "output_type": "display_data"
    },
    {
     "data": {
      "text/html": [
       "<table><tr><th></th><th>AUC</th><th>Jaccard</th><th>AUPRC</th><th>AU - Precision</th><th>AU - Recall</th><th>Precision (fixed tr)</th><th>Recall (fixed tr)</th><th>Entropy</th> </tr><tr><td><b>all_layers</b></td><td>0.692</td><td>0.014</td><td>0.148</td><td>0.042</td><td>0.029</td><td>0.041</td><td>0.025</td><td>0.401</td></tr><tr><td><b>layers_1_10</b></td><td>0.731</td><td>0.118</td><td>0.258</td><td>0.414</td><td>0.154</td><td>0.441</td><td>0.234</td><td>1.37</td></tr><tr><td><b>layers_4_10</b></td><td>0.73</td><td>0.115</td><td>0.26</td><td>0.407</td><td>0.149</td><td>0.437</td><td>0.225</td><td>1.474</td></tr><tr><td><b>layers_5_10</b></td><td>0.732</td><td>0.114</td><td>0.262</td><td>0.41</td><td>0.148</td><td>0.442</td><td>0.222</td><td>1.529</td></tr></table>"
      ],
      "text/plain": [
       "<IPython.core.display.HTML object>"
      ]
     },
     "metadata": {},
     "output_type": "display_data"
    },
    {
     "data": {
      "text/html": [
       "<h4>metric for the label : contradiction</h4>"
      ],
      "text/plain": [
       "<IPython.core.display.HTML object>"
      ]
     },
     "metadata": {},
     "output_type": "display_data"
    },
    {
     "data": {
      "text/html": [
       "<table><tr><th></th><th>AUC</th><th>Jaccard</th><th>AUPRC</th><th>AU - Precision</th><th>AU - Recall</th><th>Precision (fixed tr)</th><th>Recall (fixed tr)</th><th>Entropy</th> </tr><tr><td><b>all_layers</b></td><td>0.698</td><td>0.073</td><td>0.318</td><td>0.389</td><td>0.09</td><td>0.409</td><td>0.104</td><td>0.354</td></tr><tr><td><b>layers_1_10</b></td><td>0.735</td><td>0.116</td><td>0.434</td><td>0.631</td><td>0.129</td><td>0.69</td><td>0.189</td><td>1.165</td></tr><tr><td><b>layers_4_10</b></td><td>0.741</td><td>0.116</td><td>0.447</td><td>0.631</td><td>0.128</td><td>0.704</td><td>0.189</td><td>1.245</td></tr><tr><td><b>layers_5_10</b></td><td>0.743</td><td>0.116</td><td>0.452</td><td>0.635</td><td>0.128</td><td>0.713</td><td>0.189</td><td>1.274</td></tr></table>"
      ],
      "text/plain": [
       "<IPython.core.display.HTML object>"
      ]
     },
     "metadata": {},
     "output_type": "display_data"
    }
   ],
   "source": [
    "with torch.no_grad():\n",
    "    temp = {}\n",
    "    for k in [\"entailement\", \"neutral\", \"contradiction\"]:\n",
    "        display(HTML(f'<h4>metric for the label : {k}</h4>'))\n",
    "        metric_output = {}\n",
    "        \n",
    "        metric_output[\"all_layers\"] = {\n",
    "            \"AUC\": [roc_auc_score(a_true[k],all_layers[k])],\n",
    "            \"Jaccard\": [scalar_jaccard(a_true[k], all_layers[k])],\n",
    "            \"AUPRC\" : [average_precision_score(a_true[k], all_layers[k])],\n",
    "            \"AU - Precision\" : [au_precision_curve(a_true[k], all_layers[k])],\n",
    "            \"AU - Recall\" : [au_recall_curve(a_true[k], all_layers[k])],\n",
    "            \"Precision (fixed tr)\": [precision(a_true[k], all_layers[k])],\n",
    "            \"Recall (fixed tr)\": [recall(a_true[k], all_layers[k])],\n",
    "            \"Entropy\" : all_layers[\"entropy\"][k]\n",
    "            \n",
    "        }\n",
    "\n",
    "        metric_output[\"layers_1_10\"] = {\n",
    "            \"AUC\": [roc_auc_score(a_true[k],layers_1_10[k])],\n",
    "            \"Jaccard\": [scalar_jaccard(a_true[k], layers_1_10[k])],\n",
    "            \"AUPRC\" : [average_precision_score(a_true[k], layers_1_10[k])],\n",
    "            \"AU - Precision\" : [au_precision_curve(a_true[k], layers_1_10[k])],\n",
    "            \"AU - Recall\" : [au_recall_curve(a_true[k], layers_1_10[k])],\n",
    "            \"Precision (fixed tr)\": [precision(a_true[k], layers_1_10[k])],\n",
    "            \"Recall (fixed tr)\": [recall(a_true[k], layers_1_10[k])],\n",
    "            \"Entropy\" : layers_1_10[\"entropy\"][k]\n",
    "        }\n",
    "\n",
    "        metric_output[\"layers_4_10\"] = {\n",
    "            \"AUC\": [roc_auc_score(a_true[k],layers_4_10[k])],\n",
    "            \"Jaccard\": [scalar_jaccard(a_true[k], layers_4_10[k])],\n",
    "            \"AUPRC\" : [average_precision_score(a_true[k], layers_4_10[k])],\n",
    "            \"AU - Precision\" : [au_precision_curve(a_true[k], layers_4_10[k])],\n",
    "            \"AU - Recall\" : [au_recall_curve(a_true[k], layers_4_10[k])],\n",
    "            \"Precision (fixed tr)\": [precision(a_true[k], layers_4_10[k])],\n",
    "            \"Recall (fixed tr)\": [recall(a_true[k], layers_4_10[k])],\n",
    "            \"Entropy\" : layers_4_10[\"entropy\"][k]\n",
    "        }\n",
    "\n",
    "        metric_output[\"layers_5_10\"] = {\n",
    "            \"AUC\": [roc_auc_score(a_true[k],layers_5_10[k])],\n",
    "            \"Jaccard\": [scalar_jaccard(a_true[k], layers_5_10[k])],\n",
    "            \"AUPRC\" : [average_precision_score(a_true[k], layers_5_10[k])],\n",
    "            \"AU - Precision\" : [au_precision_curve(a_true[k], layers_5_10[k])],\n",
    "            \"AU - Recall\" : [au_recall_curve(a_true[k], layers_5_10[k])],\n",
    "            \"Precision (fixed tr)\": [precision(a_true[k], layers_5_10[k])],\n",
    "            \"Recall (fixed tr)\": [recall(a_true[k], layers_5_10[k])],\n",
    "            \"Entropy\" : layers_5_10[\"entropy\"][k]\n",
    "        }\n",
    "        \n",
    "        temp[k] = metric_output.copy()\n",
    "        \n",
    "\n",
    "        display(HTML(html_render(metric_output)))"
   ]
  },
  {
   "cell_type": "code",
   "execution_count": 7,
   "id": "403242df",
   "metadata": {},
   "outputs": [],
   "source": [
    "%%capture\n",
    "# complete the graphs\n",
    "metrics = list(temp[\"entailement\"][\"all_layers\"].keys())\n",
    "\n",
    "# set the titles\n",
    "cols = [\"Head means\", \"Head Sum\", \"Mean EVW\"]\n",
    "rows = metrics.copy()\n",
    "\n",
    "for ax, col in zip(axes[0], cols):\n",
    "    ax.set_title(col)\n",
    "\n",
    "for ax, row in zip(axes[:,0], rows):\n",
    "    ax.set_ylabel(row, rotation=60, fontsize=15, labelpad=20)\n",
    "\n",
    "for id_m, m in enumerate(metrics):\n",
    "    ax = axes[id_m, 0]\n",
    "    for label in [\"entailement\", \"neutral\", \"contradiction\"]:\n",
    "        buff = []\n",
    "        for agreg in temp[label]:\n",
    "            buff.append(temp[label][agreg][m][0])\n",
    "            \n",
    "        x = [1,2,3,4]\n",
    "        ax.scatter(x, buff, label=label)\n",
    "        ax.set_xticks(x)\n",
    "        ax.set_xticklabels(list(temp[label].keys()),fontsize = 15, rotation=80)\n",
    "        ax.legend(loc='center left', bbox_to_anchor=(1, 0.5), prop={\"size\": 10})\n",
    "        \n",
    "\n",
    "plt.legend()"
   ]
  },
  {
   "cell_type": "markdown",
   "id": "922074e3",
   "metadata": {},
   "source": [
    "### The sum agregation"
   ]
  },
  {
   "cell_type": "code",
   "execution_count": 8,
   "id": "6e795f9d",
   "metadata": {},
   "outputs": [],
   "source": [
    "# load the data\n",
    "import pickle\n",
    "dir = os.path.join(\".cache\", \"plots\", \"entropy_study\")\n",
    "with open(os.path.join(dir, \"a_true_sum.pickle\"), \"rb\") as f:\n",
    "    a_true = pickle.load(f)\n",
    "with open(os.path.join(dir, \"all_layers_sum.pickle\"), \"rb\") as f:\n",
    "    all_layers = pickle.load(f)\n",
    "with open(os.path.join(dir, \"layers_1_10_sum.pickle\"), \"rb\") as f:\n",
    "    layers_1_10 = pickle.load(f)\n",
    "with open(os.path.join(dir, \"layers_4_10_sum.pickle\"), \"rb\") as f:\n",
    "    layers_4_10 = pickle.load(f)\n",
    "with open(os.path.join(dir, \"layers_5_10_sum.pickle\"), \"rb\") as f:\n",
    "    layers_5_10 = pickle.load(f)"
   ]
  },
  {
   "cell_type": "code",
   "execution_count": 9,
   "id": "8dc01fe6",
   "metadata": {},
   "outputs": [
    {
     "data": {
      "text/html": [
       "<h4>metric for the label : entailement</h4>"
      ],
      "text/plain": [
       "<IPython.core.display.HTML object>"
      ]
     },
     "metadata": {},
     "output_type": "display_data"
    },
    {
     "data": {
      "text/html": [
       "<table><tr><th></th><th>AUC</th><th>Jaccard</th><th>AUPRC</th><th>AU - Precision</th><th>AU - Recall</th><th>Precision (fixed tr)</th><th>Recall (fixed tr)</th><th>Entropy</th> </tr><tr><td><b>all_layers</b></td><td>0.516</td><td>0.004</td><td>0.23</td><td>0.032</td><td>0.015</td><td>0.029</td><td>0.005</td><td>0.068</td></tr><tr><td><b>layers_1_10</b></td><td>0.636</td><td>0.063</td><td>0.333</td><td>0.432</td><td>0.077</td><td>0.427</td><td>0.073</td><td>0.113</td></tr><tr><td><b>layers_4_10</b></td><td>0.644</td><td>0.067</td><td>0.349</td><td>0.46</td><td>0.082</td><td>0.463</td><td>0.079</td><td>0.121</td></tr><tr><td><b>layers_5_10</b></td><td>0.644</td><td>0.068</td><td>0.35</td><td>0.464</td><td>0.082</td><td>0.469</td><td>0.081</td><td>0.124</td></tr></table>"
      ],
      "text/plain": [
       "<IPython.core.display.HTML object>"
      ]
     },
     "metadata": {},
     "output_type": "display_data"
    },
    {
     "data": {
      "text/html": [
       "<h4>metric for the label : neutral</h4>"
      ],
      "text/plain": [
       "<IPython.core.display.HTML object>"
      ]
     },
     "metadata": {},
     "output_type": "display_data"
    },
    {
     "data": {
      "text/html": [
       "<table><tr><th></th><th>AUC</th><th>Jaccard</th><th>AUPRC</th><th>AU - Precision</th><th>AU - Recall</th><th>Precision (fixed tr)</th><th>Recall (fixed tr)</th><th>Entropy</th> </tr><tr><td><b>all_layers</b></td><td>0.617</td><td>0.012</td><td>0.112</td><td>0.041</td><td>0.027</td><td>0.039</td><td>0.017</td><td>0.057</td></tr><tr><td><b>layers_1_10</b></td><td>0.72</td><td>0.158</td><td>0.261</td><td>0.454</td><td>0.201</td><td>0.452</td><td>0.204</td><td>0.082</td></tr><tr><td><b>layers_4_10</b></td><td>0.717</td><td>0.155</td><td>0.261</td><td>0.449</td><td>0.199</td><td>0.446</td><td>0.202</td><td>0.086</td></tr><tr><td><b>layers_5_10</b></td><td>0.718</td><td>0.156</td><td>0.263</td><td>0.45</td><td>0.199</td><td>0.446</td><td>0.203</td><td>0.086</td></tr></table>"
      ],
      "text/plain": [
       "<IPython.core.display.HTML object>"
      ]
     },
     "metadata": {},
     "output_type": "display_data"
    },
    {
     "data": {
      "text/html": [
       "<h4>metric for the label : contradiction</h4>"
      ],
      "text/plain": [
       "<IPython.core.display.HTML object>"
      ]
     },
     "metadata": {},
     "output_type": "display_data"
    },
    {
     "data": {
      "text/html": [
       "<table><tr><th></th><th>AUC</th><th>Jaccard</th><th>AUPRC</th><th>AU - Precision</th><th>AU - Recall</th><th>Precision (fixed tr)</th><th>Recall (fixed tr)</th><th>Entropy</th> </tr><tr><td><b>all_layers</b></td><td>0.63</td><td>0.075</td><td>0.269</td><td>0.404</td><td>0.093</td><td>0.408</td><td>0.086</td><td>0.026</td></tr><tr><td><b>layers_1_10</b></td><td>0.72</td><td>0.133</td><td>0.425</td><td>0.682</td><td>0.15</td><td>0.683</td><td>0.149</td><td>0.073</td></tr><tr><td><b>layers_4_10</b></td><td>0.725</td><td>0.135</td><td>0.436</td><td>0.691</td><td>0.151</td><td>0.697</td><td>0.152</td><td>0.074</td></tr><tr><td><b>layers_5_10</b></td><td>0.726</td><td>0.137</td><td>0.439</td><td>0.699</td><td>0.153</td><td>0.704</td><td>0.153</td><td>0.074</td></tr></table>"
      ],
      "text/plain": [
       "<IPython.core.display.HTML object>"
      ]
     },
     "metadata": {},
     "output_type": "display_data"
    }
   ],
   "source": [
    "with torch.no_grad():\n",
    "    temp = {}\n",
    "    for k in [\"entailement\", \"neutral\", \"contradiction\"]:\n",
    "        display(HTML(f'<h4>metric for the label : {k}</h4>'))\n",
    "        metric_output = {}\n",
    "        \n",
    "        metric_output[\"all_layers\"] = {\n",
    "            \"AUC\": [roc_auc_score(a_true[k],all_layers[k])],\n",
    "            \"Jaccard\": [scalar_jaccard(a_true[k], all_layers[k])],\n",
    "            \"AUPRC\" : [average_precision_score(a_true[k], all_layers[k])],\n",
    "            \"AU - Precision\" : [au_precision_curve(a_true[k], all_layers[k])],\n",
    "            \"AU - Recall\" : [au_recall_curve(a_true[k], all_layers[k])],\n",
    "            \"Precision (fixed tr)\": [precision(a_true[k], all_layers[k])],\n",
    "            \"Recall (fixed tr)\": [recall(a_true[k], all_layers[k])],\n",
    "            \"Entropy\" : all_layers[\"entropy\"][k]\n",
    "            \n",
    "        }\n",
    "\n",
    "        metric_output[\"layers_1_10\"] = {\n",
    "            \"AUC\": [roc_auc_score(a_true[k],layers_1_10[k])],\n",
    "            \"Jaccard\": [scalar_jaccard(a_true[k], layers_1_10[k])],\n",
    "            \"AUPRC\" : [average_precision_score(a_true[k], layers_1_10[k])],\n",
    "            \"AU - Precision\" : [au_precision_curve(a_true[k], layers_1_10[k])],\n",
    "            \"AU - Recall\" : [au_recall_curve(a_true[k], layers_1_10[k])],\n",
    "            \"Precision (fixed tr)\": [precision(a_true[k], layers_1_10[k])],\n",
    "            \"Recall (fixed tr)\": [recall(a_true[k], layers_1_10[k])],\n",
    "            \"Entropy\" : layers_1_10[\"entropy\"][k]\n",
    "        }\n",
    "\n",
    "        metric_output[\"layers_4_10\"] = {\n",
    "            \"AUC\": [roc_auc_score(a_true[k],layers_4_10[k])],\n",
    "            \"Jaccard\": [scalar_jaccard(a_true[k], layers_4_10[k])],\n",
    "            \"AUPRC\" : [average_precision_score(a_true[k], layers_4_10[k])],\n",
    "            \"AU - Precision\" : [au_precision_curve(a_true[k], layers_4_10[k])],\n",
    "            \"AU - Recall\" : [au_recall_curve(a_true[k], layers_4_10[k])],\n",
    "            \"Precision (fixed tr)\": [precision(a_true[k], layers_4_10[k])],\n",
    "            \"Recall (fixed tr)\": [recall(a_true[k], layers_4_10[k])],\n",
    "            \"Entropy\" : layers_4_10[\"entropy\"][k]\n",
    "        }\n",
    "\n",
    "        metric_output[\"layers_5_10\"] = {\n",
    "            \"AUC\": [roc_auc_score(a_true[k],layers_5_10[k])],\n",
    "            \"Jaccard\": [scalar_jaccard(a_true[k], layers_5_10[k])],\n",
    "            \"AUPRC\" : [average_precision_score(a_true[k], layers_5_10[k])],\n",
    "            \"AU - Precision\" : [au_precision_curve(a_true[k], layers_5_10[k])],\n",
    "            \"AU - Recall\" : [au_recall_curve(a_true[k], layers_5_10[k])],\n",
    "            \"Precision (fixed tr)\": [precision(a_true[k], layers_5_10[k])],\n",
    "            \"Recall (fixed tr)\": [recall(a_true[k], layers_5_10[k])],\n",
    "            \"Entropy\" : layers_5_10[\"entropy\"][k]\n",
    "        }\n",
    "        \n",
    "        temp[k] = metric_output.copy()\n",
    "        \n",
    "\n",
    "        display(HTML(html_render(metric_output)))"
   ]
  },
  {
   "cell_type": "code",
   "execution_count": 10,
   "id": "bf847596",
   "metadata": {},
   "outputs": [],
   "source": [
    "%%capture\n",
    "# complete the graphs\n",
    "metrics = list(temp[\"entailement\"][\"all_layers\"].keys())\n",
    "for id_m, m in enumerate(metrics):\n",
    "    ax = axes[id_m, 1]\n",
    "    for label in [\"entailement\", \"neutral\", \"contradiction\"]:\n",
    "        buff = []\n",
    "        for agreg in temp[label]:\n",
    "            buff.append(temp[label][agreg][m][0])\n",
    "            \n",
    "        x = [1,2,3,4]\n",
    "        ax.scatter(x, buff, label=label)\n",
    "        ax.set_xticks(x)\n",
    "        ax.set_xticklabels(list(temp[label].keys()),fontsize = 15, rotation=80)\n",
    "        ax.legend(loc='center left', bbox_to_anchor=(1, 0.5), prop={\"size\": 10})"
   ]
  },
  {
   "cell_type": "markdown",
   "id": "3ea70055",
   "metadata": {},
   "source": [
    "### Mean everywhere"
   ]
  },
  {
   "cell_type": "code",
   "execution_count": 11,
   "id": "f6f032d0",
   "metadata": {},
   "outputs": [],
   "source": [
    "# load the data\n",
    "import pickle\n",
    "dir = os.path.join(\".cache\", \"plots\", \"entropy_study\")\n",
    "with open(os.path.join(dir, \"a_true_mean.pickle\"), \"rb\") as f:\n",
    "    a_true = pickle.load(f)\n",
    "with open(os.path.join(dir, \"all_layers_mean.pickle\"), \"rb\") as f:\n",
    "    all_layers = pickle.load(f)\n",
    "with open(os.path.join(dir, \"layers_1_10_mean.pickle\"), \"rb\") as f:\n",
    "    layers_1_10 = pickle.load(f)\n",
    "with open(os.path.join(dir, \"layers_4_10_mean.pickle\"), \"rb\") as f:\n",
    "    layers_4_10 = pickle.load(f)\n",
    "with open(os.path.join(dir, \"layers_5_10_mean.pickle\"), \"rb\") as f:\n",
    "    layers_5_10 = pickle.load(f)"
   ]
  },
  {
   "cell_type": "code",
   "execution_count": 12,
   "id": "f64e2339",
   "metadata": {
    "scrolled": false
   },
   "outputs": [
    {
     "data": {
      "text/html": [
       "<h4>metric for the label : entailement</h4>"
      ],
      "text/plain": [
       "<IPython.core.display.HTML object>"
      ]
     },
     "metadata": {},
     "output_type": "display_data"
    },
    {
     "name": "stderr",
     "output_type": "stream",
     "text": [
      "C:\\Users\\loicf\\miniconda3\\envs\\nlp\\lib\\site-packages\\sklearn\\metrics\\_classification.py:1318: UndefinedMetricWarning: Precision is ill-defined and being set to 0.0 due to no predicted samples. Use `zero_division` parameter to control this behavior.\n",
      "  _warn_prf(average, modifier, msg_start, len(result))\n",
      "C:\\Users\\loicf\\miniconda3\\envs\\nlp\\lib\\site-packages\\sklearn\\metrics\\_classification.py:1318: UndefinedMetricWarning: Precision is ill-defined and being set to 0.0 due to no predicted samples. Use `zero_division` parameter to control this behavior.\n",
      "  _warn_prf(average, modifier, msg_start, len(result))\n",
      "C:\\Users\\loicf\\miniconda3\\envs\\nlp\\lib\\site-packages\\sklearn\\metrics\\_classification.py:1318: UndefinedMetricWarning: Precision is ill-defined and being set to 0.0 due to no predicted samples. Use `zero_division` parameter to control this behavior.\n",
      "  _warn_prf(average, modifier, msg_start, len(result))\n",
      "C:\\Users\\loicf\\miniconda3\\envs\\nlp\\lib\\site-packages\\sklearn\\metrics\\_classification.py:1318: UndefinedMetricWarning: Precision is ill-defined and being set to 0.0 due to no predicted samples. Use `zero_division` parameter to control this behavior.\n",
      "  _warn_prf(average, modifier, msg_start, len(result))\n",
      "C:\\Users\\loicf\\miniconda3\\envs\\nlp\\lib\\site-packages\\sklearn\\metrics\\_classification.py:1318: UndefinedMetricWarning: Precision is ill-defined and being set to 0.0 due to no predicted samples. Use `zero_division` parameter to control this behavior.\n",
      "  _warn_prf(average, modifier, msg_start, len(result))\n",
      "C:\\Users\\loicf\\miniconda3\\envs\\nlp\\lib\\site-packages\\sklearn\\metrics\\_classification.py:1318: UndefinedMetricWarning: Precision is ill-defined and being set to 0.0 due to no predicted samples. Use `zero_division` parameter to control this behavior.\n",
      "  _warn_prf(average, modifier, msg_start, len(result))\n",
      "C:\\Users\\loicf\\miniconda3\\envs\\nlp\\lib\\site-packages\\sklearn\\metrics\\_classification.py:1318: UndefinedMetricWarning: Precision is ill-defined and being set to 0.0 due to no predicted samples. Use `zero_division` parameter to control this behavior.\n",
      "  _warn_prf(average, modifier, msg_start, len(result))\n",
      "C:\\Users\\loicf\\miniconda3\\envs\\nlp\\lib\\site-packages\\sklearn\\metrics\\_classification.py:1318: UndefinedMetricWarning: Precision is ill-defined and being set to 0.0 due to no predicted samples. Use `zero_division` parameter to control this behavior.\n",
      "  _warn_prf(average, modifier, msg_start, len(result))\n",
      "C:\\Users\\loicf\\miniconda3\\envs\\nlp\\lib\\site-packages\\sklearn\\metrics\\_classification.py:1318: UndefinedMetricWarning: Precision is ill-defined and being set to 0.0 due to no predicted samples. Use `zero_division` parameter to control this behavior.\n",
      "  _warn_prf(average, modifier, msg_start, len(result))\n",
      "C:\\Users\\loicf\\miniconda3\\envs\\nlp\\lib\\site-packages\\sklearn\\metrics\\_classification.py:1318: UndefinedMetricWarning: Precision is ill-defined and being set to 0.0 due to no predicted samples. Use `zero_division` parameter to control this behavior.\n",
      "  _warn_prf(average, modifier, msg_start, len(result))\n"
     ]
    },
    {
     "data": {
      "text/html": [
       "<table><tr><th></th><th>AUC</th><th>Jaccard</th><th>AUPRC</th><th>AU - Precision</th><th>AU - Recall</th><th>Precision (fixed tr)</th><th>Recall (fixed tr)</th><th>Entropy</th> </tr><tr><td><b>all_layers</b></td><td>0.622</td><td>0.036</td><td>0.283</td><td>0.114</td><td>0.041</td><td>0.072</td><td>0.001</td><td>2.891</td></tr><tr><td><b>layers_1_10</b></td><td>0.649</td><td>0.04</td><td>0.338</td><td>0.097</td><td>0.045</td><td>0.078</td><td>0.001</td><td>2.972</td></tr><tr><td><b>layers_4_10</b></td><td>0.656</td><td>0.041</td><td>0.355</td><td>0.111</td><td>0.046</td><td>0.077</td><td>0.001</td><td>2.86</td></tr><tr><td><b>layers_5_10</b></td><td>0.658</td><td>0.041</td><td>0.359</td><td>0.114</td><td>0.046</td><td>0.08</td><td>0.001</td><td>2.821</td></tr></table>"
      ],
      "text/plain": [
       "<IPython.core.display.HTML object>"
      ]
     },
     "metadata": {},
     "output_type": "display_data"
    },
    {
     "data": {
      "text/html": [
       "<h4>metric for the label : neutral</h4>"
      ],
      "text/plain": [
       "<IPython.core.display.HTML object>"
      ]
     },
     "metadata": {},
     "output_type": "display_data"
    },
    {
     "name": "stderr",
     "output_type": "stream",
     "text": [
      "C:\\Users\\loicf\\miniconda3\\envs\\nlp\\lib\\site-packages\\sklearn\\metrics\\_classification.py:1318: UndefinedMetricWarning: Precision is ill-defined and being set to 0.0 due to no predicted samples. Use `zero_division` parameter to control this behavior.\n",
      "  _warn_prf(average, modifier, msg_start, len(result))\n",
      "C:\\Users\\loicf\\miniconda3\\envs\\nlp\\lib\\site-packages\\sklearn\\metrics\\_classification.py:1318: UndefinedMetricWarning: Precision is ill-defined and being set to 0.0 due to no predicted samples. Use `zero_division` parameter to control this behavior.\n",
      "  _warn_prf(average, modifier, msg_start, len(result))\n",
      "C:\\Users\\loicf\\miniconda3\\envs\\nlp\\lib\\site-packages\\sklearn\\metrics\\_classification.py:1318: UndefinedMetricWarning: Precision is ill-defined and being set to 0.0 due to no predicted samples. Use `zero_division` parameter to control this behavior.\n",
      "  _warn_prf(average, modifier, msg_start, len(result))\n",
      "C:\\Users\\loicf\\miniconda3\\envs\\nlp\\lib\\site-packages\\sklearn\\metrics\\_classification.py:1318: UndefinedMetricWarning: Precision is ill-defined and being set to 0.0 due to no predicted samples. Use `zero_division` parameter to control this behavior.\n",
      "  _warn_prf(average, modifier, msg_start, len(result))\n",
      "C:\\Users\\loicf\\miniconda3\\envs\\nlp\\lib\\site-packages\\sklearn\\metrics\\_classification.py:1318: UndefinedMetricWarning: Precision is ill-defined and being set to 0.0 due to no predicted samples. Use `zero_division` parameter to control this behavior.\n",
      "  _warn_prf(average, modifier, msg_start, len(result))\n",
      "C:\\Users\\loicf\\miniconda3\\envs\\nlp\\lib\\site-packages\\sklearn\\metrics\\_classification.py:1318: UndefinedMetricWarning: Precision is ill-defined and being set to 0.0 due to no predicted samples. Use `zero_division` parameter to control this behavior.\n",
      "  _warn_prf(average, modifier, msg_start, len(result))\n",
      "C:\\Users\\loicf\\miniconda3\\envs\\nlp\\lib\\site-packages\\sklearn\\metrics\\_classification.py:1318: UndefinedMetricWarning: Precision is ill-defined and being set to 0.0 due to no predicted samples. Use `zero_division` parameter to control this behavior.\n",
      "  _warn_prf(average, modifier, msg_start, len(result))\n",
      "C:\\Users\\loicf\\miniconda3\\envs\\nlp\\lib\\site-packages\\sklearn\\metrics\\_classification.py:1318: UndefinedMetricWarning: Precision is ill-defined and being set to 0.0 due to no predicted samples. Use `zero_division` parameter to control this behavior.\n",
      "  _warn_prf(average, modifier, msg_start, len(result))\n",
      "C:\\Users\\loicf\\miniconda3\\envs\\nlp\\lib\\site-packages\\sklearn\\metrics\\_classification.py:1318: UndefinedMetricWarning: Precision is ill-defined and being set to 0.0 due to no predicted samples. Use `zero_division` parameter to control this behavior.\n",
      "  _warn_prf(average, modifier, msg_start, len(result))\n",
      "C:\\Users\\loicf\\miniconda3\\envs\\nlp\\lib\\site-packages\\sklearn\\metrics\\_classification.py:1318: UndefinedMetricWarning: Precision is ill-defined and being set to 0.0 due to no predicted samples. Use `zero_division` parameter to control this behavior.\n",
      "  _warn_prf(average, modifier, msg_start, len(result))\n",
      "C:\\Users\\loicf\\miniconda3\\envs\\nlp\\lib\\site-packages\\sklearn\\metrics\\_classification.py:1318: UndefinedMetricWarning: Precision is ill-defined and being set to 0.0 due to no predicted samples. Use `zero_division` parameter to control this behavior.\n",
      "  _warn_prf(average, modifier, msg_start, len(result))\n"
     ]
    },
    {
     "data": {
      "text/html": [
       "<table><tr><th></th><th>AUC</th><th>Jaccard</th><th>AUPRC</th><th>AU - Precision</th><th>AU - Recall</th><th>Precision (fixed tr)</th><th>Recall (fixed tr)</th><th>Entropy</th> </tr><tr><td><b>all_layers</b></td><td>0.694</td><td>0.034</td><td>0.143</td><td>0.016</td><td>0.047</td><td>0.003</td><td>0.0</td><td>2.974</td></tr><tr><td><b>layers_1_10</b></td><td>0.694</td><td>0.035</td><td>0.184</td><td>0.028</td><td>0.048</td><td>0.004</td><td>0.0</td><td>3.045</td></tr><tr><td><b>layers_4_10</b></td><td>0.702</td><td>0.036</td><td>0.209</td><td>0.043</td><td>0.051</td><td>0.051</td><td>0.002</td><td>2.942</td></tr><tr><td><b>layers_5_10</b></td><td>0.708</td><td>0.038</td><td>0.22</td><td>0.053</td><td>0.052</td><td>0.066</td><td>0.003</td><td>2.905</td></tr></table>"
      ],
      "text/plain": [
       "<IPython.core.display.HTML object>"
      ]
     },
     "metadata": {},
     "output_type": "display_data"
    },
    {
     "data": {
      "text/html": [
       "<h4>metric for the label : contradiction</h4>"
      ],
      "text/plain": [
       "<IPython.core.display.HTML object>"
      ]
     },
     "metadata": {},
     "output_type": "display_data"
    },
    {
     "name": "stderr",
     "output_type": "stream",
     "text": [
      "C:\\Users\\loicf\\miniconda3\\envs\\nlp\\lib\\site-packages\\sklearn\\metrics\\_classification.py:1318: UndefinedMetricWarning: Precision is ill-defined and being set to 0.0 due to no predicted samples. Use `zero_division` parameter to control this behavior.\n",
      "  _warn_prf(average, modifier, msg_start, len(result))\n",
      "C:\\Users\\loicf\\miniconda3\\envs\\nlp\\lib\\site-packages\\sklearn\\metrics\\_classification.py:1318: UndefinedMetricWarning: Precision is ill-defined and being set to 0.0 due to no predicted samples. Use `zero_division` parameter to control this behavior.\n",
      "  _warn_prf(average, modifier, msg_start, len(result))\n",
      "C:\\Users\\loicf\\miniconda3\\envs\\nlp\\lib\\site-packages\\sklearn\\metrics\\_classification.py:1318: UndefinedMetricWarning: Precision is ill-defined and being set to 0.0 due to no predicted samples. Use `zero_division` parameter to control this behavior.\n",
      "  _warn_prf(average, modifier, msg_start, len(result))\n",
      "C:\\Users\\loicf\\miniconda3\\envs\\nlp\\lib\\site-packages\\sklearn\\metrics\\_classification.py:1318: UndefinedMetricWarning: Precision is ill-defined and being set to 0.0 due to no predicted samples. Use `zero_division` parameter to control this behavior.\n",
      "  _warn_prf(average, modifier, msg_start, len(result))\n",
      "C:\\Users\\loicf\\miniconda3\\envs\\nlp\\lib\\site-packages\\sklearn\\metrics\\_classification.py:1318: UndefinedMetricWarning: Precision is ill-defined and being set to 0.0 due to no predicted samples. Use `zero_division` parameter to control this behavior.\n",
      "  _warn_prf(average, modifier, msg_start, len(result))\n",
      "C:\\Users\\loicf\\miniconda3\\envs\\nlp\\lib\\site-packages\\sklearn\\metrics\\_classification.py:1318: UndefinedMetricWarning: Precision is ill-defined and being set to 0.0 due to no predicted samples. Use `zero_division` parameter to control this behavior.\n",
      "  _warn_prf(average, modifier, msg_start, len(result))\n",
      "C:\\Users\\loicf\\miniconda3\\envs\\nlp\\lib\\site-packages\\sklearn\\metrics\\_classification.py:1318: UndefinedMetricWarning: Precision is ill-defined and being set to 0.0 due to no predicted samples. Use `zero_division` parameter to control this behavior.\n",
      "  _warn_prf(average, modifier, msg_start, len(result))\n",
      "C:\\Users\\loicf\\miniconda3\\envs\\nlp\\lib\\site-packages\\sklearn\\metrics\\_classification.py:1318: UndefinedMetricWarning: Precision is ill-defined and being set to 0.0 due to no predicted samples. Use `zero_division` parameter to control this behavior.\n",
      "  _warn_prf(average, modifier, msg_start, len(result))\n",
      "C:\\Users\\loicf\\miniconda3\\envs\\nlp\\lib\\site-packages\\sklearn\\metrics\\_classification.py:1318: UndefinedMetricWarning: Precision is ill-defined and being set to 0.0 due to no predicted samples. Use `zero_division` parameter to control this behavior.\n",
      "  _warn_prf(average, modifier, msg_start, len(result))\n",
      "C:\\Users\\loicf\\miniconda3\\envs\\nlp\\lib\\site-packages\\sklearn\\metrics\\_classification.py:1318: UndefinedMetricWarning: Precision is ill-defined and being set to 0.0 due to no predicted samples. Use `zero_division` parameter to control this behavior.\n",
      "  _warn_prf(average, modifier, msg_start, len(result))\n",
      "C:\\Users\\loicf\\miniconda3\\envs\\nlp\\lib\\site-packages\\sklearn\\metrics\\_classification.py:1318: UndefinedMetricWarning: Precision is ill-defined and being set to 0.0 due to no predicted samples. Use `zero_division` parameter to control this behavior.\n",
      "  _warn_prf(average, modifier, msg_start, len(result))\n",
      "C:\\Users\\loicf\\miniconda3\\envs\\nlp\\lib\\site-packages\\sklearn\\metrics\\_classification.py:1318: UndefinedMetricWarning: Precision is ill-defined and being set to 0.0 due to no predicted samples. Use `zero_division` parameter to control this behavior.\n",
      "  _warn_prf(average, modifier, msg_start, len(result))\n",
      "C:\\Users\\loicf\\miniconda3\\envs\\nlp\\lib\\site-packages\\sklearn\\metrics\\_classification.py:1318: UndefinedMetricWarning: Precision is ill-defined and being set to 0.0 due to no predicted samples. Use `zero_division` parameter to control this behavior.\n",
      "  _warn_prf(average, modifier, msg_start, len(result))\n"
     ]
    },
    {
     "data": {
      "text/html": [
       "<table><tr><th></th><th>AUC</th><th>Jaccard</th><th>AUPRC</th><th>AU - Precision</th><th>AU - Recall</th><th>Precision (fixed tr)</th><th>Recall (fixed tr)</th><th>Entropy</th> </tr><tr><td><b>all_layers</b></td><td>0.708</td><td>0.044</td><td>0.325</td><td>0.08</td><td>0.051</td><td>0.071</td><td>0.001</td><td>2.955</td></tr><tr><td><b>layers_1_10</b></td><td>0.714</td><td>0.043</td><td>0.373</td><td>0.071</td><td>0.05</td><td>0.032</td><td>0.001</td><td>3.015</td></tr><tr><td><b>layers_4_10</b></td><td>0.727</td><td>0.045</td><td>0.412</td><td>0.093</td><td>0.053</td><td>0.039</td><td>0.001</td><td>2.914</td></tr><tr><td><b>layers_5_10</b></td><td>0.732</td><td>0.047</td><td>0.427</td><td>0.106</td><td>0.054</td><td>0.063</td><td>0.001</td><td>2.876</td></tr></table>"
      ],
      "text/plain": [
       "<IPython.core.display.HTML object>"
      ]
     },
     "metadata": {},
     "output_type": "display_data"
    }
   ],
   "source": [
    "with torch.no_grad():\n",
    "    temp = {}\n",
    "    for k in [\"entailement\", \"neutral\", \"contradiction\"]:\n",
    "        display(HTML(f'<h4>metric for the label : {k}</h4>'))\n",
    "        metric_output = {}\n",
    "        \n",
    "        metric_output[\"all_layers\"] = {\n",
    "            \"AUC\": [roc_auc_score(a_true[k],all_layers[k])],\n",
    "            \"Jaccard\": [scalar_jaccard(a_true[k], all_layers[k])],\n",
    "            \"AUPRC\" : [average_precision_score(a_true[k], all_layers[k])],\n",
    "            \"AU - Precision\" : [au_precision_curve(a_true[k], all_layers[k])],\n",
    "            \"AU - Recall\" : [au_recall_curve(a_true[k], all_layers[k])],\n",
    "            \"Precision (fixed tr)\": [precision(a_true[k], all_layers[k])],\n",
    "            \"Recall (fixed tr)\": [recall(a_true[k], all_layers[k])],\n",
    "            \"Entropy\" : all_layers[\"entropy\"][k]\n",
    "            \n",
    "        }\n",
    "\n",
    "        metric_output[\"layers_1_10\"] = {\n",
    "            \"AUC\": [roc_auc_score(a_true[k],layers_1_10[k])],\n",
    "            \"Jaccard\": [scalar_jaccard(a_true[k], layers_1_10[k])],\n",
    "            \"AUPRC\" : [average_precision_score(a_true[k], layers_1_10[k])],\n",
    "            \"AU - Precision\" : [au_precision_curve(a_true[k], layers_1_10[k])],\n",
    "            \"AU - Recall\" : [au_recall_curve(a_true[k], layers_1_10[k])],\n",
    "            \"Precision (fixed tr)\": [precision(a_true[k], layers_1_10[k])],\n",
    "            \"Recall (fixed tr)\": [recall(a_true[k], layers_1_10[k])],\n",
    "            \"Entropy\" : layers_1_10[\"entropy\"][k]\n",
    "        }\n",
    "\n",
    "        metric_output[\"layers_4_10\"] = {\n",
    "            \"AUC\": [roc_auc_score(a_true[k],layers_4_10[k])],\n",
    "            \"Jaccard\": [scalar_jaccard(a_true[k], layers_4_10[k])],\n",
    "            \"AUPRC\" : [average_precision_score(a_true[k], layers_4_10[k])],\n",
    "            \"AU - Precision\" : [au_precision_curve(a_true[k], layers_4_10[k])],\n",
    "            \"AU - Recall\" : [au_recall_curve(a_true[k], layers_4_10[k])],\n",
    "            \"Precision (fixed tr)\": [precision(a_true[k], layers_4_10[k])],\n",
    "            \"Recall (fixed tr)\": [recall(a_true[k], layers_4_10[k])],\n",
    "            \"Entropy\" : layers_4_10[\"entropy\"][k]\n",
    "        }\n",
    "\n",
    "        metric_output[\"layers_5_10\"] = {\n",
    "            \"AUC\": [roc_auc_score(a_true[k],layers_5_10[k])],\n",
    "            \"Jaccard\": [scalar_jaccard(a_true[k], layers_5_10[k])],\n",
    "            \"AUPRC\" : [average_precision_score(a_true[k], layers_5_10[k])],\n",
    "            \"AU - Precision\" : [au_precision_curve(a_true[k], layers_5_10[k])],\n",
    "            \"AU - Recall\" : [au_recall_curve(a_true[k], layers_5_10[k])],\n",
    "            \"Precision (fixed tr)\": [precision(a_true[k], layers_5_10[k])],\n",
    "            \"Recall (fixed tr)\": [recall(a_true[k], layers_5_10[k])],\n",
    "            \"Entropy\" : layers_5_10[\"entropy\"][k]\n",
    "        }\n",
    "        \n",
    "        temp[k] = metric_output.copy()\n",
    "        \n",
    "\n",
    "        display(HTML(html_render(metric_output)))"
   ]
  },
  {
   "cell_type": "code",
   "execution_count": 13,
   "id": "7bbfec78",
   "metadata": {},
   "outputs": [],
   "source": [
    "%%capture\n",
    "# complete the graphs\n",
    "metrics = list(temp[\"entailement\"][\"all_layers\"].keys())\n",
    "for id_m, m in enumerate(metrics):\n",
    "    ax = axes[id_m, 2]\n",
    "    for label in [\"entailement\", \"neutral\", \"contradiction\"]:\n",
    "        buff = []\n",
    "        for agreg in temp[label]:\n",
    "            buff.append(temp[label][agreg][m][0])\n",
    "            \n",
    "        x = [1,2,3,4]\n",
    "        ax.scatter(x, buff, label=label)\n",
    "        ax.set_xticks(x)\n",
    "        ax.set_xticklabels(list(temp[label].keys()),fontsize = 15, rotation=80)\n",
    "        ax.legend(loc='center left', bbox_to_anchor=(1, 0.5), prop={\"size\": 10})\n",
    "        \n",
    "plt.legend(prop={\"size\":10})\n",
    "plt.savefig(os.path.join(os.getcwd(),\".cache\", \"plots\", \"entropy_study\", \"metrics_graph.png\"))"
   ]
  },
  {
   "cell_type": "code",
   "execution_count": 14,
   "id": "229cf167",
   "metadata": {},
   "outputs": [],
   "source": [
    "fig.savefig(os.path.join(os.getcwd(),\".cache\", \"plots\", \"entropy_study\", \"metrics_graph.png\"))"
   ]
  }
 ],
 "metadata": {
  "kernelspec": {
   "display_name": "Python 3 (ipykernel)",
   "language": "python",
   "name": "python3"
  },
  "language_info": {
   "codemirror_mode": {
    "name": "ipython",
    "version": 3
   },
   "file_extension": ".py",
   "mimetype": "text/x-python",
   "name": "python",
   "nbconvert_exporter": "python",
   "pygments_lexer": "ipython3",
   "version": "3.7.13"
  }
 },
 "nbformat": 4,
 "nbformat_minor": 5
}
