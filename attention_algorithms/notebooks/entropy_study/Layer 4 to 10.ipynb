{
 "cells": [
  {
   "cell_type": "markdown",
   "metadata": {},
   "source": []
  },
  {
   "cell_type": "markdown",
   "metadata": {
    "pycharm": {
     "name": "#%% md\n"
    }
   },
   "source": [
    "based on the previous observation about the entropia, we will study some particular layers"
   ]
  },
  {
   "cell_type": "code",
   "execution_count": 55,
   "metadata": {
    "pycharm": {
     "name": "#%%\n"
    }
   },
   "outputs": [
    {
     "name": "stdout",
     "output_type": "stream",
     "text": [
      "The autoreload extension is already loaded. To reload it, use:\n",
      "  %reload_ext autoreload\n"
     ]
    }
   ],
   "source": [
    "# preparation of the environment\n",
    "%load_ext autoreload\n",
    "%autoreload 2\n",
    "\n",
    "INF = 1e30\n",
    "\n",
    "import os\n",
    "from os import path\n",
    "\n",
    "\n",
    "# set the repository to the git repository\n",
    "cwd = os.getcwd().split(os.path.sep)\n",
    "while cwd[-1] != \"stage_4_gm\":\n",
    "    os.chdir(\"..\")\n",
    "    cwd = os.getcwd().split(os.path.sep)\n",
    "import numpy as np\n",
    "import torch\n",
    "import matplotlib.pyplot as plt\n",
    "import seaborn as sns\n",
    "sns.set_theme()\n",
    "from tqdm.notebook import tqdm\n",
    "from torch_set_up import DEVICE\n",
    "from training_bert import BertNliLight\n",
    "from regularize_training_bert import SNLIDataModule\n",
    "from attention_algorithms.attention_metrics import default_plot_colormap\n",
    "\n",
    "from transformers import BertTokenizer\n",
    "tk = BertTokenizer.from_pretrained('bert-base-uncased')"
   ]
  },
  {
   "cell_type": "code",
   "execution_count": 56,
   "metadata": {
    "pycharm": {
     "name": "#%%\n"
    }
   },
   "outputs": [
    {
     "name": "stderr",
     "output_type": "stream",
     "text": [
      "Some weights of the model checkpoint at bert-base-uncased were not used when initializing BertModel: ['cls.predictions.transform.dense.weight', 'cls.seq_relationship.bias', 'cls.seq_relationship.weight', 'cls.predictions.decoder.weight', 'cls.predictions.transform.dense.bias', 'cls.predictions.transform.LayerNorm.weight', 'cls.predictions.bias', 'cls.predictions.transform.LayerNorm.bias']\n",
      "- This IS expected if you are initializing BertModel from the checkpoint of a model trained on another task or with another architecture (e.g. initializing a BertForSequenceClassification model from a BertForPreTraining model).\n",
      "- This IS NOT expected if you are initializing BertModel from the checkpoint of a model that you expect to be exactly identical (initializing a BertForSequenceClassification model from a BertForSequenceClassification model).\n"
     ]
    }
   ],
   "source": [
    "ckp = path.join(\".cache\", \"logs\", \"igrida_trained\", \"0\", \"best.ckpt\")\n",
    "model = BertNliLight.load_from_checkpoint(ckp)\n",
    "model = model.eval()\n",
    "\n",
    "data_dir = os.path.join(\".cache\", \"raw_data\", \"e_snli\")\n",
    "\n",
    "dm = SNLIDataModule(cache=data_dir,\n",
    "                   batch_size = 1,\n",
    "                   num_workers = 1,\n",
    "                   nb_data = -1)\n",
    "\n",
    "dm.prepare_data()\n",
    "\n",
    "dm.setup(stage=\"test\")\n",
    "\n",
    "test_dataset = dm.test_set\n",
    "test_dataloader = dm.test_dataloader()"
   ]
  },
  {
   "cell_type": "markdown",
   "metadata": {
    "pycharm": {
     "name": "#%% md\n"
    }
   },
   "source": [
    "## First a bit of visualisation"
   ]
  },
  {
   "cell_type": "code",
   "execution_count": 57,
   "metadata": {
    "pycharm": {
     "name": "#%%\n"
    }
   },
   "outputs": [],
   "source": [
    "from attention_algorithms.plausibility_visu import hightlight_txt # function to highlight the text\n",
    "from attention_algorithms.attention_metrics import normalize_attention\n",
    "from IPython.display import display, HTML"
   ]
  },
  {
   "cell_type": "code",
   "execution_count": 58,
   "metadata": {
    "pycharm": {
     "name": "#%%\n"
    }
   },
   "outputs": [],
   "source": [
    "def html_render(model_outputs):\n",
    "    html = ''\n",
    "    table_len = len(model_outputs['GROUNDTRUTH']['Entropy'])\n",
    "    for i in range(table_len):\n",
    "        html += '<table>'\n",
    "        html += '<tr><th></th>' # One xtra head for model's name\n",
    "        for column_name in model_outputs['GROUNDTRUTH'].keys():\n",
    "            html+= '<th>'+ column_name +'</th>'\n",
    "        html += ' </tr>'\n",
    "        for name, model_content in model_outputs.items():\n",
    "            html += '<tr>'\n",
    "            html += '<td><b>' + name + '</b></td>'\n",
    "\n",
    "            for k, output in model_content.items():\n",
    "                displ = output[i] if output is not None else 'N/A'\n",
    "                if isinstance(displ, float):\n",
    "                    displ = str(round(displ, 3))\n",
    "                html += '<td>' + displ + '</td>'\n",
    "\n",
    "            html += '</tr>'\n",
    "\n",
    "        html += '</table>'\n",
    "    return html"
   ]
  },
  {
   "cell_type": "code",
   "execution_count": 59,
   "metadata": {
    "pycharm": {
     "name": "#%%\n"
    },
    "scrolled": false
   },
   "outputs": [
    {
     "data": {
      "text/html": [
       "<h4>Different type of agregation (Line agregation)</h4>"
      ],
      "text/plain": [
       "<IPython.core.display.HTML object>"
      ]
     },
     "metadata": {},
     "output_type": "display_data"
    },
    {
     "data": {
      "text/html": [
       "<table><tr><th></th><th>[CLS] + P + [SEP] + H + [SEP]</th><th>Entropy</th><th>Label</th> </tr><tr><td><b>GROUNDTRUTH</b></td><td><span style=\"background-color:rgba(135,206,250, 0.0);\">[CLS]</span> <span style=\"background-color:rgba(135,206,250, 0.0);\">this</span> <span style=\"background-color:rgba(135,206,250, 0.0);\">church</span> <span style=\"background-color:rgba(135,206,250, 0.0);\">choir</span> <span style=\"background-color:rgba(135,206,250, 0.0);\">sings</span> <span style=\"background-color:rgba(135,206,250, 0.0);\">to</span> <span style=\"background-color:rgba(135,206,250, 0.0);\">the</span> <span style=\"background-color:rgba(135,206,250, 0.0);\">masses</span> <span style=\"background-color:rgba(135,206,250, 0.0);\">as</span> <span style=\"background-color:rgba(135,206,250, 0.0);\">they</span> <span style=\"background-color:rgba(135,206,250, 0.0);\">sing</span> <span style=\"background-color:rgba(135,206,250, 0.0);\">joy</span> <span style=\"background-color:rgba(135,206,250, 0.0);\">##ous</span> <span style=\"background-color:rgba(135,206,250, 0.0);\">songs</span> <span style=\"background-color:rgba(135,206,250, 0.0);\">from</span> <span style=\"background-color:rgba(135,206,250, 0.0);\">the</span> <span style=\"background-color:rgba(135,206,250, 0.0);\">book</span> <span style=\"background-color:rgba(135,206,250, 0.0);\">at</span> <span style=\"background-color:rgba(135,206,250, 0.0);\">a</span> <span style=\"background-color:rgba(135,206,250, 0.0);\">church</span> <span style=\"background-color:rgba(135,206,250, 0.0);\">.</span> <span style=\"background-color:rgba(135,206,250, 0.0);\">[SEP]</span> <span style=\"background-color:rgba(135,206,250, 0.0);\">the</span> <span style=\"background-color:rgba(135,206,250, 0.0);\">church</span> <span style=\"background-color:rgba(135,206,250, 0.0);\">has</span> <span style=\"background-color:rgba(135,206,250, 1.0);\">cracks</span> <span style=\"background-color:rgba(135,206,250, 1.0);\">in</span> <span style=\"background-color:rgba(135,206,250, 1.0);\">the</span> <span style=\"background-color:rgba(135,206,250, 1.0);\">ceiling</span> <span style=\"background-color:rgba(135,206,250, 0.0);\">.</span> <span style=\"background-color:rgba(135,206,250, 0.0);\">[SEP]</span></td><td>0.0</td><td>N</td></tr><tr><td><b>all agreg</b></td><td><span style=\"background-color:rgba(135,206,250, 0.0);\">[CLS]</span> <span style=\"background-color:rgba(135,206,250, 5.010614856360007e-08);\">this</span> <span style=\"background-color:rgba(135,206,250, 1.2422366069131385e-07);\">church</span> <span style=\"background-color:rgba(135,206,250, 4.822904884349555e-06);\">choir</span> <span style=\"background-color:rgba(135,206,250, 4.4765130269297515e-07);\">sings</span> <span style=\"background-color:rgba(135,206,250, 2.1523779025756085e-07);\">to</span> <span style=\"background-color:rgba(135,206,250, 4.0014295876744654e-08);\">the</span> <span style=\"background-color:rgba(135,206,250, 5.690686180059856e-07);\">masses</span> <span style=\"background-color:rgba(135,206,250, 8.767408132825949e-08);\">as</span> <span style=\"background-color:rgba(135,206,250, 5.0856101552199107e-08);\">they</span> <span style=\"background-color:rgba(135,206,250, 3.761030598070647e-07);\">sing</span> <span style=\"background-color:rgba(135,206,250, 8.820007479926062e-08);\">joy</span> <span style=\"background-color:rgba(135,206,250, 2.5360035849075757e-08);\">##ous</span> <span style=\"background-color:rgba(135,206,250, 2.887956043196027e-07);\">songs</span> <span style=\"background-color:rgba(135,206,250, 1.9823131935936544e-07);\">from</span> <span style=\"background-color:rgba(135,206,250, 1.8284168845639215e-08);\">the</span> <span style=\"background-color:rgba(135,206,250, 1.279963726119604e-06);\">book</span> <span style=\"background-color:rgba(135,206,250, 7.971830484621023e-08);\">at</span> <span style=\"background-color:rgba(135,206,250, 1.5070874326283956e-08);\">a</span> <span style=\"background-color:rgba(135,206,250, 2.8499273412307957e-06);\">church</span> <span style=\"background-color:rgba(135,206,250, 0.00013294193195179105);\">.</span> <span style=\"background-color:rgba(135,206,250, 0.0);\">[SEP]</span> <span style=\"background-color:rgba(135,206,250, 1.9535671924586495e-07);\">the</span> <span style=\"background-color:rgba(135,206,250, 3.5725290103982843e-07);\">church</span> <span style=\"background-color:rgba(135,206,250, 2.395141791566857e-06);\">has</span> <span style=\"background-color:rgba(135,206,250, 0.0002158630231861025);\">cracks</span> <span style=\"background-color:rgba(135,206,250, 4.4448778879768724e-08);\">in</span> <span style=\"background-color:rgba(135,206,250, 4.673944431488053e-08);\">the</span> <span style=\"background-color:rgba(135,206,250, 6.349221621348988e-06);\">ceiling</span> <span style=\"background-color:rgba(135,206,250, 1.0);\">.</span> <span style=\"background-color:rgba(135,206,250, 0.0);\">[SEP]</span></td><td>0.004</td><td>N</td></tr><tr><td><b>layer 4 to 10</b></td><td><span style=\"background-color:rgba(135,206,250, 0.0);\">[CLS]</span> <span style=\"background-color:rgba(135,206,250, 0.006133110262453556);\">this</span> <span style=\"background-color:rgba(135,206,250, 0.01497129537165165);\">church</span> <span style=\"background-color:rgba(135,206,250, 0.29153603315353394);\">choir</span> <span style=\"background-color:rgba(135,206,250, 0.03158658370375633);\">sings</span> <span style=\"background-color:rgba(135,206,250, 0.013773275539278984);\">to</span> <span style=\"background-color:rgba(135,206,250, 0.00396201154217124);\">the</span> <span style=\"background-color:rgba(135,206,250, 0.027311453595757484);\">masses</span> <span style=\"background-color:rgba(135,206,250, 0.010229481384158134);\">as</span> <span style=\"background-color:rgba(135,206,250, 0.003470098366960883);\">they</span> <span style=\"background-color:rgba(135,206,250, 0.03188985213637352);\">sing</span> <span style=\"background-color:rgba(135,206,250, 0.0070607420057058334);\">joy</span> <span style=\"background-color:rgba(135,206,250, 0.003432573052123189);\">##ous</span> <span style=\"background-color:rgba(135,206,250, 0.02407093532383442);\">songs</span> <span style=\"background-color:rgba(135,206,250, 0.01612837240099907);\">from</span> <span style=\"background-color:rgba(135,206,250, 0.0026599152479320765);\">the</span> <span style=\"background-color:rgba(135,206,250, 0.117447629570961);\">book</span> <span style=\"background-color:rgba(135,206,250, 0.008600075729191303);\">at</span> <span style=\"background-color:rgba(135,206,250, 0.0025673294439911842);\">a</span> <span style=\"background-color:rgba(135,206,250, 0.26130232214927673);\">church</span> <span style=\"background-color:rgba(135,206,250, 0.011640290729701519);\">.</span> <span style=\"background-color:rgba(135,206,250, 0.0);\">[SEP]</span> <span style=\"background-color:rgba(135,206,250, 0.008329694159328938);\">the</span> <span style=\"background-color:rgba(135,206,250, 0.023171665146946907);\">church</span> <span style=\"background-color:rgba(135,206,250, 0.09794189035892487);\">has</span> <span style=\"background-color:rgba(135,206,250, 1.0);\">cracks</span> <span style=\"background-color:rgba(135,206,250, 0.004093584138900042);\">in</span> <span style=\"background-color:rgba(135,206,250, 0.0030938340350985527);\">the</span> <span style=\"background-color:rgba(135,206,250, 0.06128760427236557);\">ceiling</span> <span style=\"background-color:rgba(135,206,250, 0.009701468050479889);\">.</span> <span style=\"background-color:rgba(135,206,250, 0.0);\">[SEP]</span></td><td>1.917</td><td>N</td></tr><tr><td><b>layer 5 to 10</b></td><td><span style=\"background-color:rgba(135,206,250, 0.0);\">[CLS]</span> <span style=\"background-color:rgba(135,206,250, 0.008303833194077015);\">this</span> <span style=\"background-color:rgba(135,206,250, 0.012241346761584282);\">church</span> <span style=\"background-color:rgba(135,206,250, 0.2174970656633377);\">choir</span> <span style=\"background-color:rgba(135,206,250, 0.027787500992417336);\">sings</span> <span style=\"background-color:rgba(135,206,250, 0.015074707567691803);\">to</span> <span style=\"background-color:rgba(135,206,250, 0.0037083120550960302);\">the</span> <span style=\"background-color:rgba(135,206,250, 0.022037219256162643);\">masses</span> <span style=\"background-color:rgba(135,206,250, 0.011468533426523209);\">as</span> <span style=\"background-color:rgba(135,206,250, 0.004664089065045118);\">they</span> <span style=\"background-color:rgba(135,206,250, 0.033022161573171616);\">sing</span> <span style=\"background-color:rgba(135,206,250, 0.009980477392673492);\">joy</span> <span style=\"background-color:rgba(135,206,250, 0.004510323982685804);\">##ous</span> <span style=\"background-color:rgba(135,206,250, 0.02611123025417328);\">songs</span> <span style=\"background-color:rgba(135,206,250, 0.016213731840252876);\">from</span> <span style=\"background-color:rgba(135,206,250, 0.003040153067559004);\">the</span> <span style=\"background-color:rgba(135,206,250, 0.0685059130191803);\">book</span> <span style=\"background-color:rgba(135,206,250, 0.008615060709416866);\">at</span> <span style=\"background-color:rgba(135,206,250, 0.0033084212336689234);\">a</span> <span style=\"background-color:rgba(135,206,250, 0.19854579865932465);\">church</span> <span style=\"background-color:rgba(135,206,250, 0.011349696666002274);\">.</span> <span style=\"background-color:rgba(135,206,250, 0.0);\">[SEP]</span> <span style=\"background-color:rgba(135,206,250, 0.00890711136162281);\">the</span> <span style=\"background-color:rgba(135,206,250, 0.01989700086414814);\">church</span> <span style=\"background-color:rgba(135,206,250, 0.10009240359067917);\">has</span> <span style=\"background-color:rgba(135,206,250, 1.0);\">cracks</span> <span style=\"background-color:rgba(135,206,250, 0.004159827250987291);\">in</span> <span style=\"background-color:rgba(135,206,250, 0.0032293940894305706);\">the</span> <span style=\"background-color:rgba(135,206,250, 0.05156891793012619);\">ceiling</span> <span style=\"background-color:rgba(135,206,250, 0.009957849979400635);\">.</span> <span style=\"background-color:rgba(135,206,250, 0.0);\">[SEP]</span></td><td>1.872</td><td>N</td></tr><tr><td><b>layer 1 to 10</b></td><td><span style=\"background-color:rgba(135,206,250, 0.0);\">[CLS]</span> <span style=\"background-color:rgba(135,206,250, 0.0030409519094973803);\">this</span> <span style=\"background-color:rgba(135,206,250, 0.0074122510850429535);\">church</span> <span style=\"background-color:rgba(135,206,250, 0.26274189352989197);\">choir</span> <span style=\"background-color:rgba(135,206,250, 0.026361946016550064);\">sings</span> <span style=\"background-color:rgba(135,206,250, 0.008117077872157097);\">to</span> <span style=\"background-color:rgba(135,206,250, 0.00256170192733407);\">the</span> <span style=\"background-color:rgba(135,206,250, 0.0345999151468277);\">masses</span> <span style=\"background-color:rgba(135,206,250, 0.005384050775319338);\">as</span> <span style=\"background-color:rgba(135,206,250, 0.0032322455663233995);\">they</span> <span style=\"background-color:rgba(135,206,250, 0.021908137947320938);\">sing</span> <span style=\"background-color:rgba(135,206,250, 0.004500828217715025);\">joy</span> <span style=\"background-color:rgba(135,206,250, 0.0015860458370298147);\">##ous</span> <span style=\"background-color:rgba(135,206,250, 0.01714818924665451);\">songs</span> <span style=\"background-color:rgba(135,206,250, 0.00848395936191082);\">from</span> <span style=\"background-color:rgba(135,206,250, 0.0011871012393385172);\">the</span> <span style=\"background-color:rgba(135,206,250, 0.07177451252937317);\">book</span> <span style=\"background-color:rgba(135,206,250, 0.004392044618725777);\">at</span> <span style=\"background-color:rgba(135,206,250, 0.0009934359695762396);\">a</span> <span style=\"background-color:rgba(135,206,250, 0.14900155365467072);\">church</span> <span style=\"background-color:rgba(135,206,250, 0.021688012406229973);\">.</span> <span style=\"background-color:rgba(135,206,250, 0.0);\">[SEP]</span> <span style=\"background-color:rgba(135,206,250, 0.004928980953991413);\">the</span> <span style=\"background-color:rgba(135,206,250, 0.01173925306648016);\">church</span> <span style=\"background-color:rgba(135,206,250, 0.0612250417470932);\">has</span> <span style=\"background-color:rgba(135,206,250, 1.0);\">cracks</span> <span style=\"background-color:rgba(135,206,250, 0.0019409192027524114);\">in</span> <span style=\"background-color:rgba(135,206,250, 0.0020258643198758364);\">the</span> <span style=\"background-color:rgba(135,206,250, 0.09577197581529617);\">ceiling</span> <span style=\"background-color:rgba(135,206,250, 0.012249206192791462);\">.</span> <span style=\"background-color:rgba(135,206,250, 0.0);\">[SEP]</span></td><td>1.747</td><td>N</td></tr></table>"
      ],
      "text/plain": [
       "<IPython.core.display.HTML object>"
      ]
     },
     "metadata": {},
     "output_type": "display_data"
    },
    {
     "data": {
      "text/html": [
       "<table><tr><th></th><th>[CLS] + P + [SEP] + H + [SEP]</th><th>Entropy</th><th>Label</th> </tr><tr><td><b>GROUNDTRUTH</b></td><td><span style=\"background-color:rgba(135,206,250, 0.0);\">[CLS]</span> <span style=\"background-color:rgba(135,206,250, 0.0);\">this</span> <span style=\"background-color:rgba(135,206,250, 0.0);\">church</span> <span style=\"background-color:rgba(135,206,250, 1.0);\">choir</span> <span style=\"background-color:rgba(135,206,250, 1.0);\">sings</span> <span style=\"background-color:rgba(135,206,250, 1.0);\">to</span> <span style=\"background-color:rgba(135,206,250, 1.0);\">the</span> <span style=\"background-color:rgba(135,206,250, 1.0);\">masses</span> <span style=\"background-color:rgba(135,206,250, 0.0);\">as</span> <span style=\"background-color:rgba(135,206,250, 0.0);\">they</span> <span style=\"background-color:rgba(135,206,250, 0.0);\">sing</span> <span style=\"background-color:rgba(135,206,250, 0.0);\">joy</span> <span style=\"background-color:rgba(135,206,250, 0.0);\">##ous</span> <span style=\"background-color:rgba(135,206,250, 0.0);\">songs</span> <span style=\"background-color:rgba(135,206,250, 0.0);\">from</span> <span style=\"background-color:rgba(135,206,250, 0.0);\">the</span> <span style=\"background-color:rgba(135,206,250, 0.0);\">book</span> <span style=\"background-color:rgba(135,206,250, 0.0);\">at</span> <span style=\"background-color:rgba(135,206,250, 0.0);\">a</span> <span style=\"background-color:rgba(135,206,250, 0.0);\">church</span> <span style=\"background-color:rgba(135,206,250, 0.0);\">.</span> <span style=\"background-color:rgba(135,206,250, 0.0);\">[SEP]</span> <span style=\"background-color:rgba(135,206,250, 0.0);\">the</span> <span style=\"background-color:rgba(135,206,250, 0.0);\">church</span> <span style=\"background-color:rgba(135,206,250, 0.0);\">is</span> <span style=\"background-color:rgba(135,206,250, 1.0);\">filled</span> <span style=\"background-color:rgba(135,206,250, 1.0);\">with</span> <span style=\"background-color:rgba(135,206,250, 1.0);\">song</span> <span style=\"background-color:rgba(135,206,250, 0.0);\">.</span> <span style=\"background-color:rgba(135,206,250, 0.0);\">[SEP]</span></td><td>0.0</td><td>E</td></tr><tr><td><b>all agreg</b></td><td><span style=\"background-color:rgba(135,206,250, 0.0);\">[CLS]</span> <span style=\"background-color:rgba(135,206,250, 4.869349368163967e-07);\">this</span> <span style=\"background-color:rgba(135,206,250, 8.871385830389045e-07);\">church</span> <span style=\"background-color:rgba(135,206,250, 4.739254654850811e-05);\">choir</span> <span style=\"background-color:rgba(135,206,250, 4.438777978066355e-06);\">sings</span> <span style=\"background-color:rgba(135,206,250, 1.7437346286897082e-06);\">to</span> <span style=\"background-color:rgba(135,206,250, 2.544323649544822e-07);\">the</span> <span style=\"background-color:rgba(135,206,250, 9.209517884301022e-06);\">masses</span> <span style=\"background-color:rgba(135,206,250, 5.876772775081918e-07);\">as</span> <span style=\"background-color:rgba(135,206,250, 4.512014299962175e-07);\">they</span> <span style=\"background-color:rgba(135,206,250, 3.439642568991985e-06);\">sing</span> <span style=\"background-color:rgba(135,206,250, 6.869719868518587e-07);\">joy</span> <span style=\"background-color:rgba(135,206,250, 2.6728184820967726e-07);\">##ous</span> <span style=\"background-color:rgba(135,206,250, 1.1865273563671508e-06);\">songs</span> <span style=\"background-color:rgba(135,206,250, 1.2471194850149914e-06);\">from</span> <span style=\"background-color:rgba(135,206,250, 1.276936956173813e-07);\">the</span> <span style=\"background-color:rgba(135,206,250, 1.8556214854470454e-05);\">book</span> <span style=\"background-color:rgba(135,206,250, 5.197622385821887e-07);\">at</span> <span style=\"background-color:rgba(135,206,250, 1.1690451628965093e-07);\">a</span> <span style=\"background-color:rgba(135,206,250, 9.5376663011848e-06);\">church</span> <span style=\"background-color:rgba(135,206,250, 0.5858079195022583);\">.</span> <span style=\"background-color:rgba(135,206,250, 0.0);\">[SEP]</span> <span style=\"background-color:rgba(135,206,250, 1.3199531849750201e-06);\">the</span> <span style=\"background-color:rgba(135,206,250, 4.369936050352408e-06);\">church</span> <span style=\"background-color:rgba(135,206,250, 4.311064003559295e-07);\">is</span> <span style=\"background-color:rgba(135,206,250, 7.357742106250953e-06);\">filled</span> <span style=\"background-color:rgba(135,206,250, 2.3516172404924873e-06);\">with</span> <span style=\"background-color:rgba(135,206,250, 7.631042535649613e-06);\">song</span> <span style=\"background-color:rgba(135,206,250, 1.0);\">.</span> <span style=\"background-color:rgba(135,206,250, 0.0);\">[SEP]</span></td><td>0.66</td><td>E</td></tr><tr><td><b>layer 4 to 10</b></td><td><span style=\"background-color:rgba(135,206,250, 0.0);\">[CLS]</span> <span style=\"background-color:rgba(135,206,250, 0.023032544180750847);\">this</span> <span style=\"background-color:rgba(135,206,250, 0.04274457320570946);\">church</span> <span style=\"background-color:rgba(135,206,250, 1.0);\">choir</span> <span style=\"background-color:rgba(135,206,250, 0.12350506335496902);\">sings</span> <span style=\"background-color:rgba(135,206,250, 0.0625171959400177);\">to</span> <span style=\"background-color:rgba(135,206,250, 0.009819449856877327);\">the</span> <span style=\"background-color:rgba(135,206,250, 0.1504000723361969);\">masses</span> <span style=\"background-color:rgba(135,206,250, 0.027308523654937744);\">as</span> <span style=\"background-color:rgba(135,206,250, 0.012271796353161335);\">they</span> <span style=\"background-color:rgba(135,206,250, 0.11023702472448349);\">sing</span> <span style=\"background-color:rgba(135,206,250, 0.026976512745022774);\">joy</span> <span style=\"background-color:rgba(135,206,250, 0.01373947411775589);\">##ous</span> <span style=\"background-color:rgba(135,206,250, 0.04313452169299126);\">songs</span> <span style=\"background-color:rgba(135,206,250, 0.04276318475604057);\">from</span> <span style=\"background-color:rgba(135,206,250, 0.007244801614433527);\">the</span> <span style=\"background-color:rgba(135,206,250, 0.6053021550178528);\">book</span> <span style=\"background-color:rgba(135,206,250, 0.022438477724790573);\">at</span> <span style=\"background-color:rgba(135,206,250, 0.007928293198347092);\">a</span> <span style=\"background-color:rgba(135,206,250, 0.33449962735176086);\">church</span> <span style=\"background-color:rgba(135,206,250, 0.0324782058596611);\">.</span> <span style=\"background-color:rgba(135,206,250, 0.0);\">[SEP]</span> <span style=\"background-color:rgba(135,206,250, 0.026840927079319954);\">the</span> <span style=\"background-color:rgba(135,206,250, 0.10178155452013016);\">church</span> <span style=\"background-color:rgba(135,206,250, 0.007917435839772224);\">is</span> <span style=\"background-color:rgba(135,206,250, 0.08194436877965927);\">filled</span> <span style=\"background-color:rgba(135,206,250, 0.03581361100077629);\">with</span> <span style=\"background-color:rgba(135,206,250, 0.08249451220035553);\">song</span> <span style=\"background-color:rgba(135,206,250, 0.035450439900159836);\">.</span> <span style=\"background-color:rgba(135,206,250, 0.0);\">[SEP]</span></td><td>2.347</td><td>E</td></tr><tr><td><b>layer 5 to 10</b></td><td><span style=\"background-color:rgba(135,206,250, 0.0);\">[CLS]</span> <span style=\"background-color:rgba(135,206,250, 0.05001187324523926);\">this</span> <span style=\"background-color:rgba(135,206,250, 0.05323506519198418);\">church</span> <span style=\"background-color:rgba(135,206,250, 1.0);\">choir</span> <span style=\"background-color:rgba(135,206,250, 0.15366387367248535);\">sings</span> <span style=\"background-color:rgba(135,206,250, 0.10778006166219711);\">to</span> <span style=\"background-color:rgba(135,206,250, 0.015106253325939178);\">the</span> <span style=\"background-color:rgba(135,206,250, 0.18489515781402588);\">masses</span> <span style=\"background-color:rgba(135,206,250, 0.04930226877331734);\">as</span> <span style=\"background-color:rgba(135,206,250, 0.025526074692606926);\">they</span> <span style=\"background-color:rgba(135,206,250, 0.16526997089385986);\">sing</span> <span style=\"background-color:rgba(135,206,250, 0.057543981820344925);\">joy</span> <span style=\"background-color:rgba(135,206,250, 0.026860695332288742);\">##ous</span> <span style=\"background-color:rgba(135,206,250, 0.07269543409347534);\">songs</span> <span style=\"background-color:rgba(135,206,250, 0.06791583448648453);\">from</span> <span style=\"background-color:rgba(135,206,250, 0.013247442431747913);\">the</span> <span style=\"background-color:rgba(135,206,250, 0.4892820715904236);\">book</span> <span style=\"background-color:rgba(135,206,250, 0.03701629117131233);\">at</span> <span style=\"background-color:rgba(135,206,250, 0.016117239370942116);\">a</span> <span style=\"background-color:rgba(135,206,250, 0.4094679355621338);\">church</span> <span style=\"background-color:rgba(135,206,250, 0.051726117730140686);\">.</span> <span style=\"background-color:rgba(135,206,250, 0.0);\">[SEP]</span> <span style=\"background-color:rgba(135,206,250, 0.045986782759428024);\">the</span> <span style=\"background-color:rgba(135,206,250, 0.1437894105911255);\">church</span> <span style=\"background-color:rgba(135,206,250, 0.019209865480661392);\">is</span> <span style=\"background-color:rgba(135,206,250, 0.1454644799232483);\">filled</span> <span style=\"background-color:rgba(135,206,250, 0.059310100972652435);\">with</span> <span style=\"background-color:rgba(135,206,250, 0.15792949497699738);\">song</span> <span style=\"background-color:rgba(135,206,250, 0.05638537183403969);\">.</span> <span style=\"background-color:rgba(135,206,250, 0.0);\">[SEP]</span></td><td>2.634</td><td>E</td></tr><tr><td><b>layer 1 to 10</b></td><td><span style=\"background-color:rgba(135,206,250, 0.0);\">[CLS]</span> <span style=\"background-color:rgba(135,206,250, 0.011197054758667946);\">this</span> <span style=\"background-color:rgba(135,206,250, 0.0193634070456028);\">church</span> <span style=\"background-color:rgba(135,206,250, 1.0);\">choir</span> <span style=\"background-color:rgba(135,206,250, 0.10260488092899323);\">sings</span> <span style=\"background-color:rgba(135,206,250, 0.03718582168221474);\">to</span> <span style=\"background-color:rgba(135,206,250, 0.005781366024166346);\">the</span> <span style=\"background-color:rgba(135,206,250, 0.18181505799293518);\">masses</span> <span style=\"background-color:rgba(135,206,250, 0.013684780336916447);\">as</span> <span style=\"background-color:rgba(135,206,250, 0.010618288069963455);\">they</span> <span style=\"background-color:rgba(135,206,250, 0.07936237007379532);\">sing</span> <span style=\"background-color:rgba(135,206,250, 0.016364742070436478);\">joy</span> <span style=\"background-color:rgba(135,206,250, 0.006002326030284166);\">##ous</span> <span style=\"background-color:rgba(135,206,250, 0.02720722369849682);\">songs</span> <span style=\"background-color:rgba(135,206,250, 0.021906843408942223);\">from</span> <span style=\"background-color:rgba(135,206,250, 0.0029984209686517715);\">the</span> <span style=\"background-color:rgba(135,206,250, 0.3639813959598541);\">book</span> <span style=\"background-color:rgba(135,206,250, 0.010784586891531944);\">at</span> <span style=\"background-color:rgba(135,206,250, 0.0027966259513050318);\">a</span> <span style=\"background-color:rgba(135,206,250, 0.1721818745136261);\">church</span> <span style=\"background-color:rgba(135,206,250, 0.05530891567468643);\">.</span> <span style=\"background-color:rgba(135,206,250, 0.0);\">[SEP]</span> <span style=\"background-color:rgba(135,206,250, 0.016181085258722305);\">the</span> <span style=\"background-color:rgba(135,206,250, 0.0482126846909523);\">church</span> <span style=\"background-color:rgba(135,206,250, 0.003701724112033844);\">is</span> <span style=\"background-color:rgba(135,206,250, 0.04688664525747299);\">filled</span> <span style=\"background-color:rgba(135,206,250, 0.018342750146985054);\">with</span> <span style=\"background-color:rgba(135,206,250, 0.03931789845228195);\">song</span> <span style=\"background-color:rgba(135,206,250, 0.0481453500688076);\">.</span> <span style=\"background-color:rgba(135,206,250, 0.0);\">[SEP]</span></td><td>2.15</td><td>E</td></tr></table>"
      ],
      "text/plain": [
       "<IPython.core.display.HTML object>"
      ]
     },
     "metadata": {},
     "output_type": "display_data"
    },
    {
     "data": {
      "text/html": [
       "<table><tr><th></th><th>[CLS] + P + [SEP] + H + [SEP]</th><th>Entropy</th><th>Label</th> </tr><tr><td><b>GROUNDTRUTH</b></td><td><span style=\"background-color:rgba(135,206,250, 0.0);\">[CLS]</span> <span style=\"background-color:rgba(135,206,250, 0.0);\">this</span> <span style=\"background-color:rgba(135,206,250, 0.0);\">church</span> <span style=\"background-color:rgba(135,206,250, 0.0);\">choir</span> <span style=\"background-color:rgba(135,206,250, 0.0);\">sings</span> <span style=\"background-color:rgba(135,206,250, 0.0);\">to</span> <span style=\"background-color:rgba(135,206,250, 0.0);\">the</span> <span style=\"background-color:rgba(135,206,250, 1.0);\">masses</span> <span style=\"background-color:rgba(135,206,250, 0.0);\">as</span> <span style=\"background-color:rgba(135,206,250, 0.0);\">they</span> <span style=\"background-color:rgba(135,206,250, 0.0);\">sing</span> <span style=\"background-color:rgba(135,206,250, 0.0);\">joy</span> <span style=\"background-color:rgba(135,206,250, 0.0);\">##ous</span> <span style=\"background-color:rgba(135,206,250, 0.0);\">songs</span> <span style=\"background-color:rgba(135,206,250, 0.0);\">from</span> <span style=\"background-color:rgba(135,206,250, 0.0);\">the</span> <span style=\"background-color:rgba(135,206,250, 1.0);\">book</span> <span style=\"background-color:rgba(135,206,250, 0.0);\">at</span> <span style=\"background-color:rgba(135,206,250, 0.0);\">a</span> <span style=\"background-color:rgba(135,206,250, 1.0);\">church</span> <span style=\"background-color:rgba(135,206,250, 0.0);\">.</span> <span style=\"background-color:rgba(135,206,250, 0.0);\">[SEP]</span> <span style=\"background-color:rgba(135,206,250, 0.0);\">a</span> <span style=\"background-color:rgba(135,206,250, 0.0);\">choir</span> <span style=\"background-color:rgba(135,206,250, 1.0);\">singing</span> <span style=\"background-color:rgba(135,206,250, 0.0);\">at</span> <span style=\"background-color:rgba(135,206,250, 0.0);\">a</span> <span style=\"background-color:rgba(135,206,250, 1.0);\">baseball</span> <span style=\"background-color:rgba(135,206,250, 1.0);\">game</span> <span style=\"background-color:rgba(135,206,250, 0.0);\">.</span> <span style=\"background-color:rgba(135,206,250, 0.0);\">[SEP]</span></td><td>0.0</td><td>C</td></tr><tr><td><b>all agreg</b></td><td><span style=\"background-color:rgba(135,206,250, 0.0);\">[CLS]</span> <span style=\"background-color:rgba(135,206,250, 5.747811827871324e-19);\">this</span> <span style=\"background-color:rgba(135,206,250, 8.793606545179753e-18);\">church</span> <span style=\"background-color:rgba(135,206,250, 1.0240374387856437e-17);\">choir</span> <span style=\"background-color:rgba(135,206,250, 3.421131332374392e-18);\">sings</span> <span style=\"background-color:rgba(135,206,250, 1.8526368315253224e-18);\">to</span> <span style=\"background-color:rgba(135,206,250, 4.786801664013342e-19);\">the</span> <span style=\"background-color:rgba(135,206,250, 1.4223861978133167e-17);\">masses</span> <span style=\"background-color:rgba(135,206,250, 1.2906185803007886e-18);\">as</span> <span style=\"background-color:rgba(135,206,250, 1.039556236296297e-18);\">they</span> <span style=\"background-color:rgba(135,206,250, 6.523048289690589e-18);\">sing</span> <span style=\"background-color:rgba(135,206,250, 1.235964379085149e-18);\">joy</span> <span style=\"background-color:rgba(135,206,250, 5.195171943636763e-19);\">##ous</span> <span style=\"background-color:rgba(135,206,250, 1.7854666638587194e-18);\">songs</span> <span style=\"background-color:rgba(135,206,250, 1.3959440046850485e-18);\">from</span> <span style=\"background-color:rgba(135,206,250, 2.849555009171808e-19);\">the</span> <span style=\"background-color:rgba(135,206,250, 3.08236480645922e-17);\">book</span> <span style=\"background-color:rgba(135,206,250, 5.967281766138154e-18);\">at</span> <span style=\"background-color:rgba(135,206,250, 4.002834776117674e-19);\">a</span> <span style=\"background-color:rgba(135,206,250, 2.4616530805410784e-15);\">church</span> <span style=\"background-color:rgba(135,206,250, 4.4830252113629496e-14);\">.</span> <span style=\"background-color:rgba(135,206,250, 0.0);\">[SEP]</span> <span style=\"background-color:rgba(135,206,250, 1.0);\">a</span> <span style=\"background-color:rgba(135,206,250, 3.7072940682404177e-16);\">choir</span> <span style=\"background-color:rgba(135,206,250, 1.4119417190908547e-17);\">singing</span> <span style=\"background-color:rgba(135,206,250, 3.102679038814542e-17);\">at</span> <span style=\"background-color:rgba(135,206,250, 7.372457623447177e-19);\">a</span> <span style=\"background-color:rgba(135,206,250, 3.881682998131256e-17);\">baseball</span> <span style=\"background-color:rgba(135,206,250, 1.3618714012782236e-17);\">game</span> <span style=\"background-color:rgba(135,206,250, 5.0432470428529025e-14);\">.</span> <span style=\"background-color:rgba(135,206,250, 0.0);\">[SEP]</span></td><td>0.0</td><td>C</td></tr><tr><td><b>layer 4 to 10</b></td><td><span style=\"background-color:rgba(135,206,250, 0.0);\">[CLS]</span> <span style=\"background-color:rgba(135,206,250, 1.006468180146788e-14);\">this</span> <span style=\"background-color:rgba(135,206,250, 1.1134347025106017e-13);\">church</span> <span style=\"background-color:rgba(135,206,250, 8.316828128962506e-14);\">choir</span> <span style=\"background-color:rgba(135,206,250, 3.7665556166643216e-14);\">sings</span> <span style=\"background-color:rgba(135,206,250, 2.863067923475522e-14);\">to</span> <span style=\"background-color:rgba(135,206,250, 7.160380314120019e-15);\">the</span> <span style=\"background-color:rgba(135,206,250, 5.160658684243147e-14);\">masses</span> <span style=\"background-color:rgba(135,206,250, 2.2021769038307534e-14);\">as</span> <span style=\"background-color:rgba(135,206,250, 9.688049448504203e-15);\">they</span> <span style=\"background-color:rgba(135,206,250, 8.788024426003779e-14);\">sing</span> <span style=\"background-color:rgba(135,206,250, 1.8440632321928968e-14);\">joy</span> <span style=\"background-color:rgba(135,206,250, 1.0168298494872552e-14);\">##ous</span> <span style=\"background-color:rgba(135,206,250, 2.740658618289888e-14);\">songs</span> <span style=\"background-color:rgba(135,206,250, 2.2862576293399516e-14);\">from</span> <span style=\"background-color:rgba(135,206,250, 5.914554937935974e-15);\">the</span> <span style=\"background-color:rgba(135,206,250, 3.2143173756341015e-13);\">book</span> <span style=\"background-color:rgba(135,206,250, 6.988765848588846e-14);\">at</span> <span style=\"background-color:rgba(135,206,250, 8.08593406261774e-15);\">a</span> <span style=\"background-color:rgba(135,206,250, 1.7586302206162863e-11);\">church</span> <span style=\"background-color:rgba(135,206,250, 2.243983909008384e-14);\">.</span> <span style=\"background-color:rgba(135,206,250, 0.0);\">[SEP]</span> <span style=\"background-color:rgba(135,206,250, 1.0);\">a</span> <span style=\"background-color:rgba(135,206,250, 9.255666979374189e-13);\">choir</span> <span style=\"background-color:rgba(135,206,250, 9.473617636895915e-14);\">singing</span> <span style=\"background-color:rgba(135,206,250, 1.871621889588948e-13);\">at</span> <span style=\"background-color:rgba(135,206,250, 7.61706913906049e-15);\">a</span> <span style=\"background-color:rgba(135,206,250, 3.6394772964668323e-14);\">baseball</span> <span style=\"background-color:rgba(135,206,250, 3.538041035274983e-14);\">game</span> <span style=\"background-color:rgba(135,206,250, 2.0233960313460406e-14);\">.</span> <span style=\"background-color:rgba(135,206,250, 0.0);\">[SEP]</span></td><td>0.0</td><td>C</td></tr><tr><td><b>layer 5 to 10</b></td><td><span style=\"background-color:rgba(135,206,250, 0.0);\">[CLS]</span> <span style=\"background-color:rgba(135,206,250, 2.0262152958076818e-14);\">this</span> <span style=\"background-color:rgba(135,206,250, 1.4903069013236236e-13);\">church</span> <span style=\"background-color:rgba(135,206,250, 9.489133925236898e-14);\">choir</span> <span style=\"background-color:rgba(135,206,250, 4.46907491753485e-14);\">sings</span> <span style=\"background-color:rgba(135,206,250, 4.575038739236363e-14);\">to</span> <span style=\"background-color:rgba(135,206,250, 1.0806315897996487e-14);\">the</span> <span style=\"background-color:rgba(135,206,250, 7.059692999460132e-14);\">masses</span> <span style=\"background-color:rgba(135,206,250, 3.799204332209649e-14);\">as</span> <span style=\"background-color:rgba(135,206,250, 1.9102397140762124e-14);\">they</span> <span style=\"background-color:rgba(135,206,250, 1.4551371446767242e-13);\">sing</span> <span style=\"background-color:rgba(135,206,250, 3.7244421549663745e-14);\">joy</span> <span style=\"background-color:rgba(135,206,250, 1.9067997438708233e-14);\">##ous</span> <span style=\"background-color:rgba(135,206,250, 4.590413742481744e-14);\">songs</span> <span style=\"background-color:rgba(135,206,250, 3.286382464448047e-14);\">from</span> <span style=\"background-color:rgba(135,206,250, 1.0396574721190533e-14);\">the</span> <span style=\"background-color:rgba(135,206,250, 2.5773976594471726e-13);\">book</span> <span style=\"background-color:rgba(135,206,250, 9.012690767307152e-14);\">at</span> <span style=\"background-color:rgba(135,206,250, 1.525191072342027e-14);\">a</span> <span style=\"background-color:rgba(135,206,250, 2.2950516487263428e-11);\">church</span> <span style=\"background-color:rgba(135,206,250, 3.356324346595087e-14);\">.</span> <span style=\"background-color:rgba(135,206,250, 0.0);\">[SEP]</span> <span style=\"background-color:rgba(135,206,250, 1.0);\">a</span> <span style=\"background-color:rgba(135,206,250, 1.321110321833574e-12);\">choir</span> <span style=\"background-color:rgba(135,206,250, 1.432577336922189e-13);\">singing</span> <span style=\"background-color:rgba(135,206,250, 2.1589744965758162e-13);\">at</span> <span style=\"background-color:rgba(135,206,250, 1.476535636379256e-14);\">a</span> <span style=\"background-color:rgba(135,206,250, 5.840279296417603e-14);\">baseball</span> <span style=\"background-color:rgba(135,206,250, 3.341409790459833e-14);\">game</span> <span style=\"background-color:rgba(135,206,250, 3.126565304399642e-14);\">.</span> <span style=\"background-color:rgba(135,206,250, 0.0);\">[SEP]</span></td><td>0.0</td><td>C</td></tr><tr><td><b>layer 1 to 10</b></td><td><span style=\"background-color:rgba(135,206,250, 0.0);\">[CLS]</span> <span style=\"background-color:rgba(135,206,250, 1.124485195984435e-14);\">this</span> <span style=\"background-color:rgba(135,206,250, 1.145271892729824e-13);\">church</span> <span style=\"background-color:rgba(135,206,250, 1.645308238609755e-13);\">choir</span> <span style=\"background-color:rgba(135,206,250, 6.256616996410183e-14);\">sings</span> <span style=\"background-color:rgba(135,206,250, 3.3559147214617946e-14);\">to</span> <span style=\"background-color:rgba(135,206,250, 9.209555454402565e-15);\">the</span> <span style=\"background-color:rgba(135,206,250, 1.4314248300128368e-13);\">masses</span> <span style=\"background-color:rgba(135,206,250, 2.4834516428452573e-14);\">as</span> <span style=\"background-color:rgba(135,206,250, 2.0288372015926127e-14);\">they</span> <span style=\"background-color:rgba(135,206,250, 1.1986493340856302e-13);\">sing</span> <span style=\"background-color:rgba(135,206,250, 2.4626781598138456e-14);\">joy</span> <span style=\"background-color:rgba(135,206,250, 1.0470684174844654e-14);\">##ous</span> <span style=\"background-color:rgba(135,206,250, 3.234722263808186e-14);\">songs</span> <span style=\"background-color:rgba(135,206,250, 2.5483358912642418e-14);\">from</span> <span style=\"background-color:rgba(135,206,250, 5.453608925402604e-15);\">the</span> <span style=\"background-color:rgba(135,206,250, 3.938391496607907e-13);\">book</span> <span style=\"background-color:rgba(135,206,250, 8.045385917806319e-14);\">at</span> <span style=\"background-color:rgba(135,206,250, 6.86802138666104e-15);\">a</span> <span style=\"background-color:rgba(135,206,250, 2.0030400949000438e-11);\">church</span> <span style=\"background-color:rgba(135,206,250, 8.413210991591036e-14);\">.</span> <span style=\"background-color:rgba(135,206,250, 0.0);\">[SEP]</span> <span style=\"background-color:rgba(135,206,250, 1.0);\">a</span> <span style=\"background-color:rgba(135,206,250, 1.183463375041549e-12);\">choir</span> <span style=\"background-color:rgba(135,206,250, 8.218789147515504e-14);\">singing</span> <span style=\"background-color:rgba(135,206,250, 2.237330871783516e-13);\">at</span> <span style=\"background-color:rgba(135,206,250, 7.21147588259724e-15);\">a</span> <span style=\"background-color:rgba(135,206,250, 1.9032724615092311e-13);\">baseball</span> <span style=\"background-color:rgba(135,206,250, 9.590648452273073e-14);\">game</span> <span style=\"background-color:rgba(135,206,250, 5.775542262324851e-14);\">.</span> <span style=\"background-color:rgba(135,206,250, 0.0);\">[SEP]</span></td><td>0.0</td><td>C</td></tr></table>"
      ],
      "text/plain": [
       "<IPython.core.display.HTML object>"
      ]
     },
     "metadata": {},
     "output_type": "display_data"
    },
    {
     "data": {
      "text/html": [
       "<table><tr><th></th><th>[CLS] + P + [SEP] + H + [SEP]</th><th>Entropy</th><th>Label</th> </tr><tr><td><b>GROUNDTRUTH</b></td><td><span style=\"background-color:rgba(135,206,250, 0.0);\">[CLS]</span> <span style=\"background-color:rgba(135,206,250, 0.0);\">a</span> <span style=\"background-color:rgba(135,206,250, 0.0);\">woman</span> <span style=\"background-color:rgba(135,206,250, 0.0);\">with</span> <span style=\"background-color:rgba(135,206,250, 0.0);\">a</span> <span style=\"background-color:rgba(135,206,250, 0.0);\">green</span> <span style=\"background-color:rgba(135,206,250, 0.0);\">heads</span> <span style=\"background-color:rgba(135,206,250, 0.0);\">##car</span> <span style=\"background-color:rgba(135,206,250, 0.0);\">##f</span> <span style=\"background-color:rgba(135,206,250, 0.0);\">,</span> <span style=\"background-color:rgba(135,206,250, 0.0);\">blue</span> <span style=\"background-color:rgba(135,206,250, 0.0);\">shirt</span> <span style=\"background-color:rgba(135,206,250, 0.0);\">and</span> <span style=\"background-color:rgba(135,206,250, 0.0);\">a</span> <span style=\"background-color:rgba(135,206,250, 0.0);\">very</span> <span style=\"background-color:rgba(135,206,250, 0.0);\">big</span> <span style=\"background-color:rgba(135,206,250, 0.0);\">grin</span> <span style=\"background-color:rgba(135,206,250, 0.0);\">.</span> <span style=\"background-color:rgba(135,206,250, 0.0);\">[SEP]</span> <span style=\"background-color:rgba(135,206,250, 0.0);\">the</span> <span style=\"background-color:rgba(135,206,250, 0.0);\">woman</span> <span style=\"background-color:rgba(135,206,250, 0.0);\">is</span> <span style=\"background-color:rgba(135,206,250, 1.0);\">young</span> <span style=\"background-color:rgba(135,206,250, 0.0);\">.</span> <span style=\"background-color:rgba(135,206,250, 0.0);\">[SEP]</span></td><td>0.0</td><td>N</td></tr><tr><td><b>all agreg</b></td><td><span style=\"background-color:rgba(135,206,250, 0.0);\">[CLS]</span> <span style=\"background-color:rgba(135,206,250, 7.274376230270718e-07);\">a</span> <span style=\"background-color:rgba(135,206,250, 2.6981153951055603e-06);\">woman</span> <span style=\"background-color:rgba(135,206,250, 1.1353305126249325e-05);\">with</span> <span style=\"background-color:rgba(135,206,250, 1.1287014558547526e-06);\">a</span> <span style=\"background-color:rgba(135,206,250, 1.3777333151665516e-05);\">green</span> <span style=\"background-color:rgba(135,206,250, 4.6059540181886405e-05);\">heads</span> <span style=\"background-color:rgba(135,206,250, 7.019293661869597e-06);\">##car</span> <span style=\"background-color:rgba(135,206,250, 3.5868072245648364e-06);\">##f</span> <span style=\"background-color:rgba(135,206,250, 4.657556928577833e-06);\">,</span> <span style=\"background-color:rgba(135,206,250, 1.7002040522129391e-06);\">blue</span> <span style=\"background-color:rgba(135,206,250, 4.770645773533033e-06);\">shirt</span> <span style=\"background-color:rgba(135,206,250, 1.8296232155989856e-05);\">and</span> <span style=\"background-color:rgba(135,206,250, 8.348405344804632e-07);\">a</span> <span style=\"background-color:rgba(135,206,250, 1.1505306929393555e-06);\">very</span> <span style=\"background-color:rgba(135,206,250, 2.8191514047648525e-06);\">big</span> <span style=\"background-color:rgba(135,206,250, 0.0001671608188189566);\">grin</span> <span style=\"background-color:rgba(135,206,250, 0.2912476062774658);\">.</span> <span style=\"background-color:rgba(135,206,250, 0.0);\">[SEP]</span> <span style=\"background-color:rgba(135,206,250, 1.0065572496387176e-05);\">the</span> <span style=\"background-color:rgba(135,206,250, 3.469358489383012e-06);\">woman</span> <span style=\"background-color:rgba(135,206,250, 7.4193894761265256e-06);\">is</span> <span style=\"background-color:rgba(135,206,250, 0.0040834522806108);\">young</span> <span style=\"background-color:rgba(135,206,250, 1.0);\">.</span> <span style=\"background-color:rgba(135,206,250, 0.0);\">[SEP]</span></td><td>0.556</td><td>N</td></tr><tr><td><b>layer 4 to 10</b></td><td><span style=\"background-color:rgba(135,206,250, 0.0);\">[CLS]</span> <span style=\"background-color:rgba(135,206,250, 0.009184202179312706);\">a</span> <span style=\"background-color:rgba(135,206,250, 0.030343802645802498);\">woman</span> <span style=\"background-color:rgba(135,206,250, 0.09443038702011108);\">with</span> <span style=\"background-color:rgba(135,206,250, 0.012464525178074837);\">a</span> <span style=\"background-color:rgba(135,206,250, 0.0777183473110199);\">green</span> <span style=\"background-color:rgba(135,206,250, 0.19436457753181458);\">heads</span> <span style=\"background-color:rgba(135,206,250, 0.044352512806653976);\">##car</span> <span style=\"background-color:rgba(135,206,250, 0.021622050553560257);\">##f</span> <span style=\"background-color:rgba(135,206,250, 0.028678758069872856);\">,</span> <span style=\"background-color:rgba(135,206,250, 0.014184760861098766);\">blue</span> <span style=\"background-color:rgba(135,206,250, 0.04586109146475792);\">shirt</span> <span style=\"background-color:rgba(135,206,250, 0.09339378774166107);\">and</span> <span style=\"background-color:rgba(135,206,250, 0.00757965911179781);\">a</span> <span style=\"background-color:rgba(135,206,250, 0.010433975607156754);\">very</span> <span style=\"background-color:rgba(135,206,250, 0.025100132450461388);\">big</span> <span style=\"background-color:rgba(135,206,250, 0.5518901944160461);\">grin</span> <span style=\"background-color:rgba(135,206,250, 0.05396396294236183);\">.</span> <span style=\"background-color:rgba(135,206,250, 0.0);\">[SEP]</span> <span style=\"background-color:rgba(135,206,250, 0.028163164854049683);\">the</span> <span style=\"background-color:rgba(135,206,250, 0.015953443944454193);\">woman</span> <span style=\"background-color:rgba(135,206,250, 0.028160279616713524);\">is</span> <span style=\"background-color:rgba(135,206,250, 1.0);\">young</span> <span style=\"background-color:rgba(135,206,250, 0.04185302555561066);\">.</span> <span style=\"background-color:rgba(135,206,250, 0.0);\">[SEP]</span></td><td>2.021</td><td>N</td></tr><tr><td><b>layer 5 to 10</b></td><td><span style=\"background-color:rgba(135,206,250, 0.0);\">[CLS]</span> <span style=\"background-color:rgba(135,206,250, 0.010872789658606052);\">a</span> <span style=\"background-color:rgba(135,206,250, 0.025264013558626175);\">woman</span> <span style=\"background-color:rgba(135,206,250, 0.09277438372373581);\">with</span> <span style=\"background-color:rgba(135,206,250, 0.012568631209433079);\">a</span> <span style=\"background-color:rgba(135,206,250, 0.07580091804265976);\">green</span> <span style=\"background-color:rgba(135,206,250, 0.19577765464782715);\">heads</span> <span style=\"background-color:rgba(135,206,250, 0.04093925654888153);\">##car</span> <span style=\"background-color:rgba(135,206,250, 0.020256180316209793);\">##f</span> <span style=\"background-color:rgba(135,206,250, 0.022656161338090897);\">,</span> <span style=\"background-color:rgba(135,206,250, 0.01811644248664379);\">blue</span> <span style=\"background-color:rgba(135,206,250, 0.03937326371669769);\">shirt</span> <span style=\"background-color:rgba(135,206,250, 0.0690079927444458);\">and</span> <span style=\"background-color:rgba(135,206,250, 0.009471923112869263);\">a</span> <span style=\"background-color:rgba(135,206,250, 0.013832339085638523);\">very</span> <span style=\"background-color:rgba(135,206,250, 0.027408204972743988);\">big</span> <span style=\"background-color:rgba(135,206,250, 0.3391524851322174);\">grin</span> <span style=\"background-color:rgba(135,206,250, 0.037830375134944916);\">.</span> <span style=\"background-color:rgba(135,206,250, 0.0);\">[SEP]</span> <span style=\"background-color:rgba(135,206,250, 0.02653522975742817);\">the</span> <span style=\"background-color:rgba(135,206,250, 0.0168896671384573);\">woman</span> <span style=\"background-color:rgba(135,206,250, 0.030365247279405594);\">is</span> <span style=\"background-color:rgba(135,206,250, 1.0);\">young</span> <span style=\"background-color:rgba(135,206,250, 0.037308648228645325);\">.</span> <span style=\"background-color:rgba(135,206,250, 0.0);\">[SEP]</span></td><td>2.019</td><td>N</td></tr><tr><td><b>layer 1 to 10</b></td><td><span style=\"background-color:rgba(135,206,250, 0.0);\">[CLS]</span> <span style=\"background-color:rgba(135,206,250, 0.004687879700213671);\">a</span> <span style=\"background-color:rgba(135,206,250, 0.016889095306396484);\">woman</span> <span style=\"background-color:rgba(135,206,250, 0.06854522228240967);\">with</span> <span style=\"background-color:rgba(135,206,250, 0.006364056374877691);\">a</span> <span style=\"background-color:rgba(135,206,250, 0.08030211925506592);\">green</span> <span style=\"background-color:rgba(135,206,250, 0.25833699107170105);\">heads</span> <span style=\"background-color:rgba(135,206,250, 0.04186151176691055);\">##car</span> <span style=\"background-color:rgba(135,206,250, 0.021388743072748184);\">##f</span> <span style=\"background-color:rgba(135,206,250, 0.02747173048555851);\">,</span> <span style=\"background-color:rgba(135,206,250, 0.010908007621765137);\">blue</span> <span style=\"background-color:rgba(135,206,250, 0.02973295748233795);\">shirt</span> <span style=\"background-color:rgba(135,206,250, 0.09625145047903061);\">and</span> <span style=\"background-color:rgba(135,206,250, 0.004621820989996195);\">a</span> <span style=\"background-color:rgba(135,206,250, 0.006465036887675524);\">very</span> <span style=\"background-color:rgba(135,206,250, 0.015060353092849255);\">big</span> <span style=\"background-color:rgba(135,206,250, 1.0);\">grin</span> <span style=\"background-color:rgba(135,206,250, 0.17038489878177643);\">.</span> <span style=\"background-color:rgba(135,206,250, 0.0);\">[SEP]</span> <span style=\"background-color:rgba(135,206,250, 0.030310656875371933);\">the</span> <span style=\"background-color:rgba(135,206,250, 0.011946598999202251);\">woman</span> <span style=\"background-color:rgba(135,206,250, 0.017488667741417885);\">is</span> <span style=\"background-color:rgba(135,206,250, 0.7023088335990906);\">young</span> <span style=\"background-color:rgba(135,206,250, 0.07509081810712814);\">.</span> <span style=\"background-color:rgba(135,206,250, 0.0);\">[SEP]</span></td><td>1.975</td><td>N</td></tr></table>"
      ],
      "text/plain": [
       "<IPython.core.display.HTML object>"
      ]
     },
     "metadata": {},
     "output_type": "display_data"
    },
    {
     "data": {
      "text/html": [
       "<table><tr><th></th><th>[CLS] + P + [SEP] + H + [SEP]</th><th>Entropy</th><th>Label</th> </tr><tr><td><b>GROUNDTRUTH</b></td><td><span style=\"background-color:rgba(135,206,250, 0.0);\">[CLS]</span> <span style=\"background-color:rgba(135,206,250, 0.0);\">a</span> <span style=\"background-color:rgba(135,206,250, 0.0);\">woman</span> <span style=\"background-color:rgba(135,206,250, 0.0);\">with</span> <span style=\"background-color:rgba(135,206,250, 0.0);\">a</span> <span style=\"background-color:rgba(135,206,250, 0.0);\">green</span> <span style=\"background-color:rgba(135,206,250, 0.0);\">heads</span> <span style=\"background-color:rgba(135,206,250, 0.0);\">##car</span> <span style=\"background-color:rgba(135,206,250, 0.0);\">##f</span> <span style=\"background-color:rgba(135,206,250, 0.0);\">,</span> <span style=\"background-color:rgba(135,206,250, 0.0);\">blue</span> <span style=\"background-color:rgba(135,206,250, 0.0);\">shirt</span> <span style=\"background-color:rgba(135,206,250, 0.0);\">and</span> <span style=\"background-color:rgba(135,206,250, 0.0);\">a</span> <span style=\"background-color:rgba(135,206,250, 0.0);\">very</span> <span style=\"background-color:rgba(135,206,250, 0.0);\">big</span> <span style=\"background-color:rgba(135,206,250, 1.0);\">grin</span> <span style=\"background-color:rgba(135,206,250, 0.0);\">.</span> <span style=\"background-color:rgba(135,206,250, 0.0);\">[SEP]</span> <span style=\"background-color:rgba(135,206,250, 0.0);\">the</span> <span style=\"background-color:rgba(135,206,250, 0.0);\">woman</span> <span style=\"background-color:rgba(135,206,250, 0.0);\">is</span> <span style=\"background-color:rgba(135,206,250, 0.0);\">very</span> <span style=\"background-color:rgba(135,206,250, 1.0);\">happy</span> <span style=\"background-color:rgba(135,206,250, 0.0);\">.</span> <span style=\"background-color:rgba(135,206,250, 0.0);\">[SEP]</span></td><td>0.0</td><td>E</td></tr><tr><td><b>all agreg</b></td><td><span style=\"background-color:rgba(135,206,250, 0.0);\">[CLS]</span> <span style=\"background-color:rgba(135,206,250, 3.2685812811905635e-07);\">a</span> <span style=\"background-color:rgba(135,206,250, 1.031038891596836e-06);\">woman</span> <span style=\"background-color:rgba(135,206,250, 6.596003458980704e-06);\">with</span> <span style=\"background-color:rgba(135,206,250, 5.882032496629108e-07);\">a</span> <span style=\"background-color:rgba(135,206,250, 6.3353945733979344e-06);\">green</span> <span style=\"background-color:rgba(135,206,250, 1.833326132327784e-05);\">heads</span> <span style=\"background-color:rgba(135,206,250, 3.626887064456241e-06);\">##car</span> <span style=\"background-color:rgba(135,206,250, 2.0089871668460546e-06);\">##f</span> <span style=\"background-color:rgba(135,206,250, 2.3534255433332874e-06);\">,</span> <span style=\"background-color:rgba(135,206,250, 9.259297257813159e-07);\">blue</span> <span style=\"background-color:rgba(135,206,250, 2.3577972569910344e-06);\">shirt</span> <span style=\"background-color:rgba(135,206,250, 1.0308496712241322e-05);\">and</span> <span style=\"background-color:rgba(135,206,250, 4.901814918412128e-07);\">a</span> <span style=\"background-color:rgba(135,206,250, 1.0752553407655796e-06);\">very</span> <span style=\"background-color:rgba(135,206,250, 2.552571231717593e-06);\">big</span> <span style=\"background-color:rgba(135,206,250, 5.243091072770767e-05);\">grin</span> <span style=\"background-color:rgba(135,206,250, 0.5014896988868713);\">.</span> <span style=\"background-color:rgba(135,206,250, 0.0);\">[SEP]</span> <span style=\"background-color:rgba(135,206,250, 8.063746463449206e-06);\">the</span> <span style=\"background-color:rgba(135,206,250, 2.027460595854791e-06);\">woman</span> <span style=\"background-color:rgba(135,206,250, 2.041947936959332e-06);\">is</span> <span style=\"background-color:rgba(135,206,250, 9.320494427811354e-06);\">very</span> <span style=\"background-color:rgba(135,206,250, 0.00016281909483950585);\">happy</span> <span style=\"background-color:rgba(135,206,250, 1.0);\">.</span> <span style=\"background-color:rgba(135,206,250, 0.0);\">[SEP]</span></td><td>0.639</td><td>E</td></tr><tr><td><b>layer 4 to 10</b></td><td><span style=\"background-color:rgba(135,206,250, 0.0);\">[CLS]</span> <span style=\"background-color:rgba(135,206,250, 0.012989707291126251);\">a</span> <span style=\"background-color:rgba(135,206,250, 0.036909013986587524);\">woman</span> <span style=\"background-color:rgba(135,206,250, 0.16587086021900177);\">with</span> <span style=\"background-color:rgba(135,206,250, 0.019567452371120453);\">a</span> <span style=\"background-color:rgba(135,206,250, 0.10708983242511749);\">green</span> <span style=\"background-color:rgba(135,206,250, 0.25208672881126404);\">heads</span> <span style=\"background-color:rgba(135,206,250, 0.07357332855463028);\">##car</span> <span style=\"background-color:rgba(135,206,250, 0.037558455020189285);\">##f</span> <span style=\"background-color:rgba(135,206,250, 0.04309408366680145);\">,</span> <span style=\"background-color:rgba(135,206,250, 0.024528974667191505);\">blue</span> <span style=\"background-color:rgba(135,206,250, 0.0737810954451561);\">shirt</span> <span style=\"background-color:rgba(135,206,250, 0.1813189536333084);\">and</span> <span style=\"background-color:rgba(135,206,250, 0.014929860830307007);\">a</span> <span style=\"background-color:rgba(135,206,250, 0.031063400208950043);\">very</span> <span style=\"background-color:rgba(135,206,250, 0.07146048545837402);\">big</span> <span style=\"background-color:rgba(135,206,250, 0.44224584102630615);\">grin</span> <span style=\"background-color:rgba(135,206,250, 0.12136849761009216);\">.</span> <span style=\"background-color:rgba(135,206,250, 0.0);\">[SEP]</span> <span style=\"background-color:rgba(135,206,250, 0.05368432775139809);\">the</span> <span style=\"background-color:rgba(135,206,250, 0.023681890219449997);\">woman</span> <span style=\"background-color:rgba(135,206,250, 0.021985145285725594);\">is</span> <span style=\"background-color:rgba(135,206,250, 0.058650340884923935);\">very</span> <span style=\"background-color:rgba(135,206,250, 1.0);\">happy</span> <span style=\"background-color:rgba(135,206,250, 0.0740208625793457);\">.</span> <span style=\"background-color:rgba(135,206,250, 0.0);\">[SEP]</span></td><td>2.387</td><td>E</td></tr><tr><td><b>layer 5 to 10</b></td><td><span style=\"background-color:rgba(135,206,250, 0.0);\">[CLS]</span> <span style=\"background-color:rgba(135,206,250, 0.013095810078084469);\">a</span> <span style=\"background-color:rgba(135,206,250, 0.026483099907636642);\">woman</span> <span style=\"background-color:rgba(135,206,250, 0.13711071014404297);\">with</span> <span style=\"background-color:rgba(135,206,250, 0.01652478612959385);\">a</span> <span style=\"background-color:rgba(135,206,250, 0.08911540359258652);\">green</span> <span style=\"background-color:rgba(135,206,250, 0.21152664721012115);\">heads</span> <span style=\"background-color:rgba(135,206,250, 0.056067489087581635);\">##car</span> <span style=\"background-color:rgba(135,206,250, 0.02934337593615055);\">##f</span> <span style=\"background-color:rgba(135,206,250, 0.028681958094239235);\">,</span> <span style=\"background-color:rgba(135,206,250, 0.026134846732020378);\">blue</span> <span style=\"background-color:rgba(135,206,250, 0.05276093631982803);\">shirt</span> <span style=\"background-color:rgba(135,206,250, 0.1129399910569191);\">and</span> <span style=\"background-color:rgba(135,206,250, 0.015464148484170437);\">a</span> <span style=\"background-color:rgba(135,206,250, 0.028864119201898575);\">very</span> <span style=\"background-color:rgba(135,206,250, 0.06617581099271774);\">big</span> <span style=\"background-color:rgba(135,206,250, 0.216831237077713);\">grin</span> <span style=\"background-color:rgba(135,206,250, 0.06748059391975403);\">.</span> <span style=\"background-color:rgba(135,206,250, 0.0);\">[SEP]</span> <span style=\"background-color:rgba(135,206,250, 0.043657947331666946);\">the</span> <span style=\"background-color:rgba(135,206,250, 0.020888684317469597);\">woman</span> <span style=\"background-color:rgba(135,206,250, 0.02406380884349346);\">is</span> <span style=\"background-color:rgba(135,206,250, 0.0577947236597538);\">very</span> <span style=\"background-color:rgba(135,206,250, 1.0);\">happy</span> <span style=\"background-color:rgba(135,206,250, 0.054247163236141205);\">.</span> <span style=\"background-color:rgba(135,206,250, 0.0);\">[SEP]</span></td><td>2.289</td><td>E</td></tr><tr><td><b>layer 1 to 10</b></td><td><span style=\"background-color:rgba(135,206,250, 0.0);\">[CLS]</span> <span style=\"background-color:rgba(135,206,250, 0.006710577290505171);\">a</span> <span style=\"background-color:rgba(135,206,250, 0.020507555454969406);\">woman</span> <span style=\"background-color:rgba(135,206,250, 0.1226816326379776);\">with</span> <span style=\"background-color:rgba(135,206,250, 0.009985590353608131);\">a</span> <span style=\"background-color:rgba(135,206,250, 0.11396704614162445);\">green</span> <span style=\"background-color:rgba(135,206,250, 0.3335549831390381);\">heads</span> <span style=\"background-color:rgba(135,206,250, 0.0696103423833847);\">##car</span> <span style=\"background-color:rgba(135,206,250, 0.03787098452448845);\">##f</span> <span style=\"background-color:rgba(135,206,250, 0.04136771336197853);\">,</span> <span style=\"background-color:rgba(135,206,250, 0.01872846856713295);\">blue</span> <span style=\"background-color:rgba(135,206,250, 0.04712360352277756);\">shirt</span> <span style=\"background-color:rgba(135,206,250, 0.18580849468708038);\">and</span> <span style=\"background-color:rgba(135,206,250, 0.00905791949480772);\">a</span> <span style=\"background-color:rgba(135,206,250, 0.019594762474298477);\">very</span> <span style=\"background-color:rgba(135,206,250, 0.043783485889434814);\">big</span> <span style=\"background-color:rgba(135,206,250, 1.0);\">grin</span> <span style=\"background-color:rgba(135,206,250, 0.41771066188812256);\">.</span> <span style=\"background-color:rgba(135,206,250, 0.0);\">[SEP]</span> <span style=\"background-color:rgba(135,206,250, 0.056654639542102814);\">the</span> <span style=\"background-color:rgba(135,206,250, 0.016728123649954796);\">woman</span> <span style=\"background-color:rgba(135,206,250, 0.014237427152693272);\">is</span> <span style=\"background-color:rgba(135,206,250, 0.03848773241043091);\">very</span> <span style=\"background-color:rgba(135,206,250, 0.7439782619476318);\">happy</span> <span style=\"background-color:rgba(135,206,250, 0.13670653104782104);\">.</span> <span style=\"background-color:rgba(135,206,250, 0.0);\">[SEP]</span></td><td>2.262</td><td>E</td></tr></table>"
      ],
      "text/plain": [
       "<IPython.core.display.HTML object>"
      ]
     },
     "metadata": {},
     "output_type": "display_data"
    },
    {
     "data": {
      "text/html": [
       "<table><tr><th></th><th>[CLS] + P + [SEP] + H + [SEP]</th><th>Entropy</th><th>Label</th> </tr><tr><td><b>GROUNDTRUTH</b></td><td><span style=\"background-color:rgba(135,206,250, 0.0);\">[CLS]</span> <span style=\"background-color:rgba(135,206,250, 0.0);\">a</span> <span style=\"background-color:rgba(135,206,250, 0.0);\">woman</span> <span style=\"background-color:rgba(135,206,250, 0.0);\">with</span> <span style=\"background-color:rgba(135,206,250, 0.0);\">a</span> <span style=\"background-color:rgba(135,206,250, 1.0);\">green</span> <span style=\"background-color:rgba(135,206,250, 0.0);\">heads</span> <span style=\"background-color:rgba(135,206,250, 0.0);\">##car</span> <span style=\"background-color:rgba(135,206,250, 0.0);\">##f</span> <span style=\"background-color:rgba(135,206,250, 0.0);\">,</span> <span style=\"background-color:rgba(135,206,250, 0.0);\">blue</span> <span style=\"background-color:rgba(135,206,250, 0.0);\">shirt</span> <span style=\"background-color:rgba(135,206,250, 0.0);\">and</span> <span style=\"background-color:rgba(135,206,250, 0.0);\">a</span> <span style=\"background-color:rgba(135,206,250, 1.0);\">very</span> <span style=\"background-color:rgba(135,206,250, 1.0);\">big</span> <span style=\"background-color:rgba(135,206,250, 1.0);\">grin</span> <span style=\"background-color:rgba(135,206,250, 0.0);\">.</span> <span style=\"background-color:rgba(135,206,250, 0.0);\">[SEP]</span> <span style=\"background-color:rgba(135,206,250, 0.0);\">the</span> <span style=\"background-color:rgba(135,206,250, 0.0);\">woman</span> <span style=\"background-color:rgba(135,206,250, 0.0);\">has</span> <span style=\"background-color:rgba(135,206,250, 0.0);\">been</span> <span style=\"background-color:rgba(135,206,250, 1.0);\">shot</span> <span style=\"background-color:rgba(135,206,250, 0.0);\">.</span> <span style=\"background-color:rgba(135,206,250, 0.0);\">[SEP]</span></td><td>0.0</td><td>C</td></tr><tr><td><b>all agreg</b></td><td><span style=\"background-color:rgba(135,206,250, 0.0);\">[CLS]</span> <span style=\"background-color:rgba(135,206,250, 2.3952821948114433e-07);\">a</span> <span style=\"background-color:rgba(135,206,250, 8.814293437353626e-07);\">woman</span> <span style=\"background-color:rgba(135,206,250, 3.658171635834151e-06);\">with</span> <span style=\"background-color:rgba(135,206,250, 3.2760053159108793e-07);\">a</span> <span style=\"background-color:rgba(135,206,250, 3.6998037558078067e-06);\">green</span> <span style=\"background-color:rgba(135,206,250, 1.3726945326197892e-05);\">heads</span> <span style=\"background-color:rgba(135,206,250, 2.6701702608988853e-06);\">##car</span> <span style=\"background-color:rgba(135,206,250, 1.215689394484798e-06);\">##f</span> <span style=\"background-color:rgba(135,206,250, 1.3024979352849186e-06);\">,</span> <span style=\"background-color:rgba(135,206,250, 5.050927711636177e-07);\">blue</span> <span style=\"background-color:rgba(135,206,250, 1.3539845440391218e-06);\">shirt</span> <span style=\"background-color:rgba(135,206,250, 5.971360224066302e-06);\">and</span> <span style=\"background-color:rgba(135,206,250, 2.860335257537372e-07);\">a</span> <span style=\"background-color:rgba(135,206,250, 3.486784123651887e-07);\">very</span> <span style=\"background-color:rgba(135,206,250, 8.395511486014584e-07);\">big</span> <span style=\"background-color:rgba(135,206,250, 8.77473212312907e-05);\">grin</span> <span style=\"background-color:rgba(135,206,250, 0.14397521317005157);\">.</span> <span style=\"background-color:rgba(135,206,250, 0.0);\">[SEP]</span> <span style=\"background-color:rgba(135,206,250, 3.191581527062226e-06);\">the</span> <span style=\"background-color:rgba(135,206,250, 1.1050952934965608e-06);\">woman</span> <span style=\"background-color:rgba(135,206,250, 3.4959208278451115e-05);\">has</span> <span style=\"background-color:rgba(135,206,250, 7.0249857344606426e-06);\">been</span> <span style=\"background-color:rgba(135,206,250, 0.00044211780186742544);\">shot</span> <span style=\"background-color:rgba(135,206,250, 1.0);\">.</span> <span style=\"background-color:rgba(135,206,250, 0.0);\">[SEP]</span></td><td>0.383</td><td>C</td></tr><tr><td><b>layer 4 to 10</b></td><td><span style=\"background-color:rgba(135,206,250, 0.0);\">[CLS]</span> <span style=\"background-color:rgba(135,206,250, 0.009665904566645622);\">a</span> <span style=\"background-color:rgba(135,206,250, 0.03060179017484188);\">woman</span> <span style=\"background-color:rgba(135,206,250, 0.09069149941205978);\">with</span> <span style=\"background-color:rgba(135,206,250, 0.012293770909309387);\">a</span> <span style=\"background-color:rgba(135,206,250, 0.06968989968299866);\">green</span> <span style=\"background-color:rgba(135,206,250, 0.169334277510643);\">heads</span> <span style=\"background-color:rgba(135,206,250, 0.05036229267716408);\">##car</span> <span style=\"background-color:rgba(135,206,250, 0.022616760805249214);\">##f</span> <span style=\"background-color:rgba(135,206,250, 0.027055855840444565);\">,</span> <span style=\"background-color:rgba(135,206,250, 0.014161281287670135);\">blue</span> <span style=\"background-color:rgba(135,206,250, 0.04307382553815842);\">shirt</span> <span style=\"background-color:rgba(135,206,250, 0.09309782832860947);\">and</span> <span style=\"background-color:rgba(135,206,250, 0.007829725742340088);\">a</span> <span style=\"background-color:rgba(135,206,250, 0.010867315344512463);\">very</span> <span style=\"background-color:rgba(135,206,250, 0.02583969198167324);\">big</span> <span style=\"background-color:rgba(135,206,250, 0.7793821692466736);\">grin</span> <span style=\"background-color:rgba(135,206,250, 0.05998988449573517);\">.</span> <span style=\"background-color:rgba(135,206,250, 0.0);\">[SEP]</span> <span style=\"background-color:rgba(135,206,250, 0.03236130625009537);\">the</span> <span style=\"background-color:rgba(135,206,250, 0.018821634352207184);\">woman</span> <span style=\"background-color:rgba(135,206,250, 0.18929597735404968);\">has</span> <span style=\"background-color:rgba(135,206,250, 0.04045804589986801);\">been</span> <span style=\"background-color:rgba(135,206,250, 1.0);\">shot</span> <span style=\"background-color:rgba(135,206,250, 0.0395657978951931);\">.</span> <span style=\"background-color:rgba(135,206,250, 0.0);\">[SEP]</span></td><td>2.087</td><td>C</td></tr><tr><td><b>layer 5 to 10</b></td><td><span style=\"background-color:rgba(135,206,250, 0.0);\">[CLS]</span> <span style=\"background-color:rgba(135,206,250, 0.011344908736646175);\">a</span> <span style=\"background-color:rgba(135,206,250, 0.024622434750199318);\">woman</span> <span style=\"background-color:rgba(135,206,250, 0.08776947110891342);\">with</span> <span style=\"background-color:rgba(135,206,250, 0.012199942953884602);\">a</span> <span style=\"background-color:rgba(135,206,250, 0.06908097863197327);\">green</span> <span style=\"background-color:rgba(135,206,250, 0.1683776080608368);\">heads</span> <span style=\"background-color:rgba(135,206,250, 0.0459974966943264);\">##car</span> <span style=\"background-color:rgba(135,206,250, 0.021282706409692764);\">##f</span> <span style=\"background-color:rgba(135,206,250, 0.020810283720493317);\">,</span> <span style=\"background-color:rgba(135,206,250, 0.01785253919661045);\">blue</span> <span style=\"background-color:rgba(135,206,250, 0.03642861917614937);\">shirt</span> <span style=\"background-color:rgba(135,206,250, 0.06808362156152725);\">and</span> <span style=\"background-color:rgba(135,206,250, 0.009671086445450783);\">a</span> <span style=\"background-color:rgba(135,206,250, 0.014209910295903683);\">very</span> <span style=\"background-color:rgba(135,206,250, 0.028577441349625587);\">big</span> <span style=\"background-color:rgba(135,206,250, 0.4483392536640167);\">grin</span> <span style=\"background-color:rgba(135,206,250, 0.03972706198692322);\">.</span> <span style=\"background-color:rgba(135,206,250, 0.0);\">[SEP]</span> <span style=\"background-color:rgba(135,206,250, 0.030481847003102303);\">the</span> <span style=\"background-color:rgba(135,206,250, 0.018051115795969963);\">woman</span> <span style=\"background-color:rgba(135,206,250, 0.18478436768054962);\">has</span> <span style=\"background-color:rgba(135,206,250, 0.04387202486395836);\">been</span> <span style=\"background-color:rgba(135,206,250, 1.0);\">shot</span> <span style=\"background-color:rgba(135,206,250, 0.0345027856528759);\">.</span> <span style=\"background-color:rgba(135,206,250, 0.0);\">[SEP]</span></td><td>2.127</td><td>C</td></tr><tr><td><b>layer 1 to 10</b></td><td><span style=\"background-color:rgba(135,206,250, 0.0);\">[CLS]</span> <span style=\"background-color:rgba(135,206,250, 0.003200339851900935);\">a</span> <span style=\"background-color:rgba(135,206,250, 0.011112255044281483);\">woman</span> <span style=\"background-color:rgba(135,206,250, 0.043382707983255386);\">with</span> <span style=\"background-color:rgba(135,206,250, 0.004007879178971052);\">a</span> <span style=\"background-color:rgba(135,206,250, 0.047395650297403336);\">green</span> <span style=\"background-color:rgba(135,206,250, 0.1522621512413025);\">heads</span> <span style=\"background-color:rgba(135,206,250, 0.03219159319996834);\">##car</span> <span style=\"background-color:rgba(135,206,250, 0.014644596725702286);\">##f</span> <span style=\"background-color:rgba(135,206,250, 0.016813507303595543);\">,</span> <span style=\"background-color:rgba(135,206,250, 0.006896394304931164);\">blue</span> <span style=\"background-color:rgba(135,206,250, 0.017955953255295753);\">shirt</span> <span style=\"background-color:rgba(135,206,250, 0.06043068692088127);\">and</span> <span style=\"background-color:rgba(135,206,250, 0.0030204597860574722);\">a</span> <span style=\"background-color:rgba(135,206,250, 0.004369869828224182);\">very</span> <span style=\"background-color:rgba(135,206,250, 0.01008604560047388);\">big</span> <span style=\"background-color:rgba(135,206,250, 1.0);\">grin</span> <span style=\"background-color:rgba(135,206,250, 0.12411758303642273);\">.</span> <span style=\"background-color:rgba(135,206,250, 0.0);\">[SEP]</span> <span style=\"background-color:rgba(135,206,250, 0.022176513448357582);\">the</span> <span style=\"background-color:rgba(135,206,250, 0.008896312676370144);\">woman</span> <span style=\"background-color:rgba(135,206,250, 0.1224319189786911);\">has</span> <span style=\"background-color:rgba(135,206,250, 0.022206151857972145);\">been</span> <span style=\"background-color:rgba(135,206,250, 0.5929625630378723);\">shot</span> <span style=\"background-color:rgba(135,206,250, 0.045192260295152664);\">.</span> <span style=\"background-color:rgba(135,206,250, 0.0);\">[SEP]</span></td><td>1.892</td><td>C</td></tr></table>"
      ],
      "text/plain": [
       "<IPython.core.display.HTML object>"
      ]
     },
     "metadata": {},
     "output_type": "display_data"
    },
    {
     "data": {
      "text/html": [
       "<table><tr><th></th><th>[CLS] + P + [SEP] + H + [SEP]</th><th>Entropy</th><th>Label</th> </tr><tr><td><b>GROUNDTRUTH</b></td><td><span style=\"background-color:rgba(135,206,250, 0.0);\">[CLS]</span> <span style=\"background-color:rgba(135,206,250, 0.0);\">an</span> <span style=\"background-color:rgba(135,206,250, 0.0);\">old</span> <span style=\"background-color:rgba(135,206,250, 0.0);\">man</span> <span style=\"background-color:rgba(135,206,250, 0.0);\">with</span> <span style=\"background-color:rgba(135,206,250, 0.0);\">a</span> <span style=\"background-color:rgba(135,206,250, 0.0);\">package</span> <span style=\"background-color:rgba(135,206,250, 0.0);\">poses</span> <span style=\"background-color:rgba(135,206,250, 0.0);\">in</span> <span style=\"background-color:rgba(135,206,250, 0.0);\">front</span> <span style=\"background-color:rgba(135,206,250, 0.0);\">of</span> <span style=\"background-color:rgba(135,206,250, 0.0);\">an</span> <span style=\"background-color:rgba(135,206,250, 1.0);\">advertisement</span> <span style=\"background-color:rgba(135,206,250, 0.0);\">.</span> <span style=\"background-color:rgba(135,206,250, 0.0);\">[SEP]</span> <span style=\"background-color:rgba(135,206,250, 0.0);\">a</span> <span style=\"background-color:rgba(135,206,250, 0.0);\">man</span> <span style=\"background-color:rgba(135,206,250, 0.0);\">poses</span> <span style=\"background-color:rgba(135,206,250, 0.0);\">in</span> <span style=\"background-color:rgba(135,206,250, 0.0);\">front</span> <span style=\"background-color:rgba(135,206,250, 0.0);\">of</span> <span style=\"background-color:rgba(135,206,250, 0.0);\">an</span> <span style=\"background-color:rgba(135,206,250, 1.0);\">ad</span> <span style=\"background-color:rgba(135,206,250, 0.0);\">.</span> <span style=\"background-color:rgba(135,206,250, 0.0);\">[SEP]</span></td><td>0.0</td><td>E</td></tr><tr><td><b>all agreg</b></td><td><span style=\"background-color:rgba(135,206,250, 0.0);\">[CLS]</span> <span style=\"background-color:rgba(135,206,250, 4.919771185996069e-07);\">an</span> <span style=\"background-color:rgba(135,206,250, 1.7362583093927242e-05);\">old</span> <span style=\"background-color:rgba(135,206,250, 2.2230610738915857e-06);\">man</span> <span style=\"background-color:rgba(135,206,250, 3.1644228783989092e-06);\">with</span> <span style=\"background-color:rgba(135,206,250, 7.638312240487721e-07);\">a</span> <span style=\"background-color:rgba(135,206,250, 6.499042501673102e-05);\">package</span> <span style=\"background-color:rgba(135,206,250, 9.599663826520555e-06);\">poses</span> <span style=\"background-color:rgba(135,206,250, 9.087994499168417e-07);\">in</span> <span style=\"background-color:rgba(135,206,250, 1.6193263945751823e-05);\">front</span> <span style=\"background-color:rgba(135,206,250, 8.076502808762598e-07);\">of</span> <span style=\"background-color:rgba(135,206,250, 1.0504433021196746e-06);\">an</span> <span style=\"background-color:rgba(135,206,250, 4.818218440050259e-05);\">advertisement</span> <span style=\"background-color:rgba(135,206,250, 0.735011637210846);\">.</span> <span style=\"background-color:rgba(135,206,250, 0.0);\">[SEP]</span> <span style=\"background-color:rgba(135,206,250, 2.2236231416172814e-06);\">a</span> <span style=\"background-color:rgba(135,206,250, 3.1284630495065358e-06);\">man</span> <span style=\"background-color:rgba(135,206,250, 7.195812031568494e-06);\">poses</span> <span style=\"background-color:rgba(135,206,250, 1.015056113828905e-06);\">in</span> <span style=\"background-color:rgba(135,206,250, 9.319436685473192e-06);\">front</span> <span style=\"background-color:rgba(135,206,250, 8.531048933946295e-07);\">of</span> <span style=\"background-color:rgba(135,206,250, 1.408552407156094e-06);\">an</span> <span style=\"background-color:rgba(135,206,250, 3.674172694445588e-05);\">ad</span> <span style=\"background-color:rgba(135,206,250, 1.0);\">.</span> <span style=\"background-color:rgba(135,206,250, 0.0);\">[SEP]</span></td><td>0.683</td><td>E</td></tr><tr><td><b>layer 4 to 10</b></td><td><span style=\"background-color:rgba(135,206,250, 0.0);\">[CLS]</span> <span style=\"background-color:rgba(135,206,250, 0.029210936278104782);\">an</span> <span style=\"background-color:rgba(135,206,250, 0.39572545886039734);\">old</span> <span style=\"background-color:rgba(135,206,250, 0.10894475132226944);\">man</span> <span style=\"background-color:rgba(135,206,250, 0.1440846174955368);\">with</span> <span style=\"background-color:rgba(135,206,250, 0.03585708141326904);\">a</span> <span style=\"background-color:rgba(135,206,250, 0.640590488910675);\">package</span> <span style=\"background-color:rgba(135,206,250, 0.18405018746852875);\">poses</span> <span style=\"background-color:rgba(135,206,250, 0.029918769374489784);\">in</span> <span style=\"background-color:rgba(135,206,250, 0.4589327871799469);\">front</span> <span style=\"background-color:rgba(135,206,250, 0.0330442450940609);\">of</span> <span style=\"background-color:rgba(135,206,250, 0.05677790567278862);\">an</span> <span style=\"background-color:rgba(135,206,250, 1.0);\">advertisement</span> <span style=\"background-color:rgba(135,206,250, 0.17130553722381592);\">.</span> <span style=\"background-color:rgba(135,206,250, 0.0);\">[SEP]</span> <span style=\"background-color:rgba(135,206,250, 0.03681473806500435);\">a</span> <span style=\"background-color:rgba(135,206,250, 0.08324256539344788);\">man</span> <span style=\"background-color:rgba(135,206,250, 0.09494109451770782);\">poses</span> <span style=\"background-color:rgba(135,206,250, 0.02680145762860775);\">in</span> <span style=\"background-color:rgba(135,206,250, 0.221235454082489);\">front</span> <span style=\"background-color:rgba(135,206,250, 0.028999192640185356);\">of</span> <span style=\"background-color:rgba(135,206,250, 0.04609261080622673);\">an</span> <span style=\"background-color:rgba(135,206,250, 0.611889660358429);\">ad</span> <span style=\"background-color:rgba(135,206,250, 0.2598663568496704);\">.</span> <span style=\"background-color:rgba(135,206,250, 0.0);\">[SEP]</span></td><td>2.532</td><td>E</td></tr><tr><td><b>layer 5 to 10</b></td><td><span style=\"background-color:rgba(135,206,250, 0.0);\">[CLS]</span> <span style=\"background-color:rgba(135,206,250, 0.054214708507061005);\">an</span> <span style=\"background-color:rgba(135,206,250, 0.6211938261985779);\">old</span> <span style=\"background-color:rgba(135,206,250, 0.1603735387325287);\">man</span> <span style=\"background-color:rgba(135,206,250, 0.22326505184173584);\">with</span> <span style=\"background-color:rgba(135,206,250, 0.054991818964481354);\">a</span> <span style=\"background-color:rgba(135,206,250, 0.713893473148346);\">package</span> <span style=\"background-color:rgba(135,206,250, 0.23812662065029144);\">poses</span> <span style=\"background-color:rgba(135,206,250, 0.050315894186496735);\">in</span> <span style=\"background-color:rgba(135,206,250, 0.48092588782310486);\">front</span> <span style=\"background-color:rgba(135,206,250, 0.059189021587371826);\">of</span> <span style=\"background-color:rgba(135,206,250, 0.09323887526988983);\">an</span> <span style=\"background-color:rgba(135,206,250, 1.0);\">advertisement</span> <span style=\"background-color:rgba(135,206,250, 0.1841859519481659);\">.</span> <span style=\"background-color:rgba(135,206,250, 0.0);\">[SEP]</span> <span style=\"background-color:rgba(135,206,250, 0.0615551695227623);\">a</span> <span style=\"background-color:rgba(135,206,250, 0.1274593323469162);\">man</span> <span style=\"background-color:rgba(135,206,250, 0.14373937249183655);\">poses</span> <span style=\"background-color:rgba(135,206,250, 0.04837211221456528);\">in</span> <span style=\"background-color:rgba(135,206,250, 0.2696743905544281);\">front</span> <span style=\"background-color:rgba(135,206,250, 0.04630540683865547);\">of</span> <span style=\"background-color:rgba(135,206,250, 0.06797308474779129);\">an</span> <span style=\"background-color:rgba(135,206,250, 0.5641270875930786);\">ad</span> <span style=\"background-color:rgba(135,206,250, 0.3674836754798889);\">.</span> <span style=\"background-color:rgba(135,206,250, 0.0);\">[SEP]</span></td><td>2.662</td><td>E</td></tr><tr><td><b>layer 1 to 10</b></td><td><span style=\"background-color:rgba(135,206,250, 0.0);\">[CLS]</span> <span style=\"background-color:rgba(135,206,250, 0.010149135254323483);\">an</span> <span style=\"background-color:rgba(135,206,250, 0.35990455746650696);\">old</span> <span style=\"background-color:rgba(135,206,250, 0.0429607629776001);\">man</span> <span style=\"background-color:rgba(135,206,250, 0.06465345621109009);\">with</span> <span style=\"background-color:rgba(135,206,250, 0.015275541692972183);\">a</span> <span style=\"background-color:rgba(135,206,250, 1.0);\">package</span> <span style=\"background-color:rgba(135,206,250, 0.19527050852775574);\">poses</span> <span style=\"background-color:rgba(135,206,250, 0.018649602308869362);\">in</span> <span style=\"background-color:rgba(135,206,250, 0.23309952020645142);\">front</span> <span style=\"background-color:rgba(135,206,250, 0.01496950350701809);\">of</span> <span style=\"background-color:rgba(135,206,250, 0.022598937153816223);\">an</span> <span style=\"background-color:rgba(135,206,250, 0.96318119764328);\">advertisement</span> <span style=\"background-color:rgba(135,206,250, 0.451931893825531);\">.</span> <span style=\"background-color:rgba(135,206,250, 0.0);\">[SEP]</span> <span style=\"background-color:rgba(135,206,250, 0.022806227207183838);\">a</span> <span style=\"background-color:rgba(135,206,250, 0.026714110746979713);\">man</span> <span style=\"background-color:rgba(135,206,250, 0.07675313204526901);\">poses</span> <span style=\"background-color:rgba(135,206,250, 0.017426708713173866);\">in</span> <span style=\"background-color:rgba(135,206,250, 0.11105670779943466);\">front</span> <span style=\"background-color:rgba(135,206,250, 0.014115378260612488);\">of</span> <span style=\"background-color:rgba(135,206,250, 0.019886311143636703);\">an</span> <span style=\"background-color:rgba(135,206,250, 0.5981386303901672);\">ad</span> <span style=\"background-color:rgba(135,206,250, 0.33998310565948486);\">.</span> <span style=\"background-color:rgba(135,206,250, 0.0);\">[SEP]</span></td><td>2.304</td><td>E</td></tr></table>"
      ],
      "text/plain": [
       "<IPython.core.display.HTML object>"
      ]
     },
     "metadata": {},
     "output_type": "display_data"
    },
    {
     "data": {
      "text/html": [
       "<table><tr><th></th><th>[CLS] + P + [SEP] + H + [SEP]</th><th>Entropy</th><th>Label</th> </tr><tr><td><b>GROUNDTRUTH</b></td><td><span style=\"background-color:rgba(135,206,250, 0.0);\">[CLS]</span> <span style=\"background-color:rgba(135,206,250, 0.0);\">an</span> <span style=\"background-color:rgba(135,206,250, 0.0);\">old</span> <span style=\"background-color:rgba(135,206,250, 0.0);\">man</span> <span style=\"background-color:rgba(135,206,250, 0.0);\">with</span> <span style=\"background-color:rgba(135,206,250, 0.0);\">a</span> <span style=\"background-color:rgba(135,206,250, 0.0);\">package</span> <span style=\"background-color:rgba(135,206,250, 0.0);\">poses</span> <span style=\"background-color:rgba(135,206,250, 0.0);\">in</span> <span style=\"background-color:rgba(135,206,250, 0.0);\">front</span> <span style=\"background-color:rgba(135,206,250, 0.0);\">of</span> <span style=\"background-color:rgba(135,206,250, 0.0);\">an</span> <span style=\"background-color:rgba(135,206,250, 0.0);\">advertisement</span> <span style=\"background-color:rgba(135,206,250, 0.0);\">.</span> <span style=\"background-color:rgba(135,206,250, 0.0);\">[SEP]</span> <span style=\"background-color:rgba(135,206,250, 0.0);\">a</span> <span style=\"background-color:rgba(135,206,250, 0.0);\">man</span> <span style=\"background-color:rgba(135,206,250, 0.0);\">poses</span> <span style=\"background-color:rgba(135,206,250, 0.0);\">in</span> <span style=\"background-color:rgba(135,206,250, 0.0);\">front</span> <span style=\"background-color:rgba(135,206,250, 0.0);\">of</span> <span style=\"background-color:rgba(135,206,250, 0.0);\">an</span> <span style=\"background-color:rgba(135,206,250, 0.0);\">ad</span> <span style=\"background-color:rgba(135,206,250, 0.0);\">for</span> <span style=\"background-color:rgba(135,206,250, 1.0);\">beer</span> <span style=\"background-color:rgba(135,206,250, 0.0);\">.</span> <span style=\"background-color:rgba(135,206,250, 0.0);\">[SEP]</span></td><td>0.0</td><td>N</td></tr><tr><td><b>all agreg</b></td><td><span style=\"background-color:rgba(135,206,250, 0.0);\">[CLS]</span> <span style=\"background-color:rgba(135,206,250, 6.985991944929992e-07);\">an</span> <span style=\"background-color:rgba(135,206,250, 1.6653064449201338e-05);\">old</span> <span style=\"background-color:rgba(135,206,250, 2.3517070530942874e-06);\">man</span> <span style=\"background-color:rgba(135,206,250, 4.534149411483668e-06);\">with</span> <span style=\"background-color:rgba(135,206,250, 1.0939853609670536e-06);\">a</span> <span style=\"background-color:rgba(135,206,250, 0.000168951359228231);\">package</span> <span style=\"background-color:rgba(135,206,250, 1.38678678922588e-05);\">poses</span> <span style=\"background-color:rgba(135,206,250, 1.281412210119015e-06);\">in</span> <span style=\"background-color:rgba(135,206,250, 1.7175791072077118e-05);\">front</span> <span style=\"background-color:rgba(135,206,250, 1.1960204346905812e-06);\">of</span> <span style=\"background-color:rgba(135,206,250, 2.5428230401303153e-06);\">an</span> <span style=\"background-color:rgba(135,206,250, 6.474223482655361e-05);\">advertisement</span> <span style=\"background-color:rgba(135,206,250, 0.2921174168586731);\">.</span> <span style=\"background-color:rgba(135,206,250, 0.0);\">[SEP]</span> <span style=\"background-color:rgba(135,206,250, 2.526331172703067e-06);\">a</span> <span style=\"background-color:rgba(135,206,250, 2.9840218758181436e-06);\">man</span> <span style=\"background-color:rgba(135,206,250, 2.4690434656804428e-05);\">poses</span> <span style=\"background-color:rgba(135,206,250, 1.800281211217225e-06);\">in</span> <span style=\"background-color:rgba(135,206,250, 1.7941427358891815e-05);\">front</span> <span style=\"background-color:rgba(135,206,250, 2.406819476163946e-06);\">of</span> <span style=\"background-color:rgba(135,206,250, 4.1429912016610615e-06);\">an</span> <span style=\"background-color:rgba(135,206,250, 0.00011151304352097213);\">ad</span> <span style=\"background-color:rgba(135,206,250, 0.0012428908376023173);\">for</span> <span style=\"background-color:rgba(135,206,250, 0.0011134849628433585);\">beer</span> <span style=\"background-color:rgba(135,206,250, 1.0);\">.</span> <span style=\"background-color:rgba(135,206,250, 0.0);\">[SEP]</span></td><td>0.552</td><td>N</td></tr><tr><td><b>layer 4 to 10</b></td><td><span style=\"background-color:rgba(135,206,250, 0.0);\">[CLS]</span> <span style=\"background-color:rgba(135,206,250, 0.0037539214827120304);\">an</span> <span style=\"background-color:rgba(135,206,250, 0.03368674963712692);\">old</span> <span style=\"background-color:rgba(135,206,250, 0.011020206846296787);\">man</span> <span style=\"background-color:rgba(135,206,250, 0.01699565351009369);\">with</span> <span style=\"background-color:rgba(135,206,250, 0.004730770364403725);\">a</span> <span style=\"background-color:rgba(135,206,250, 0.1437133252620697);\">package</span> <span style=\"background-color:rgba(135,206,250, 0.021876059472560883);\">poses</span> <span style=\"background-color:rgba(135,206,250, 0.0036663482896983624);\">in</span> <span style=\"background-color:rgba(135,206,250, 0.049901604652404785);\">front</span> <span style=\"background-color:rgba(135,206,250, 0.00449209101498127);\">of</span> <span style=\"background-color:rgba(135,206,250, 0.01187852118164301);\">an</span> <span style=\"background-color:rgba(135,206,250, 0.10959941893815994);\">advertisement</span> <span style=\"background-color:rgba(135,206,250, 0.02184801734983921);\">.</span> <span style=\"background-color:rgba(135,206,250, 0.0);\">[SEP]</span> <span style=\"background-color:rgba(135,206,250, 0.0052122012712061405);\">a</span> <span style=\"background-color:rgba(135,206,250, 0.010475452989339828);\">man</span> <span style=\"background-color:rgba(135,206,250, 0.030632026493549347);\">poses</span> <span style=\"background-color:rgba(135,206,250, 0.00399401132017374);\">in</span> <span style=\"background-color:rgba(135,206,250, 0.03397409990429878);\">front</span> <span style=\"background-color:rgba(135,206,250, 0.0061509874649345875);\">of</span> <span style=\"background-color:rgba(135,206,250, 0.011479387991130352);\">an</span> <span style=\"background-color:rgba(135,206,250, 0.11899662017822266);\">ad</span> <span style=\"background-color:rgba(135,206,250, 1.0);\">for</span> <span style=\"background-color:rgba(135,206,250, 0.038435060530900955);\">beer</span> <span style=\"background-color:rgba(135,206,250, 0.014982514083385468);\">.</span> <span style=\"background-color:rgba(135,206,250, 0.0);\">[SEP]</span></td><td>1.74</td><td>N</td></tr><tr><td><b>layer 5 to 10</b></td><td><span style=\"background-color:rgba(135,206,250, 0.0);\">[CLS]</span> <span style=\"background-color:rgba(135,206,250, 0.0050737494602799416);\">an</span> <span style=\"background-color:rgba(135,206,250, 0.03968285769224167);\">old</span> <span style=\"background-color:rgba(135,206,250, 0.01152344886213541);\">man</span> <span style=\"background-color:rgba(135,206,250, 0.019249513745307922);\">with</span> <span style=\"background-color:rgba(135,206,250, 0.005248476751148701);\">a</span> <span style=\"background-color:rgba(135,206,250, 0.11405280977487564);\">package</span> <span style=\"background-color:rgba(135,206,250, 0.02117445133626461);\">poses</span> <span style=\"background-color:rgba(135,206,250, 0.004510980099439621);\">in</span> <span style=\"background-color:rgba(135,206,250, 0.037093061953783035);\">front</span> <span style=\"background-color:rgba(135,206,250, 0.005879722535610199);\">of</span> <span style=\"background-color:rgba(135,206,250, 0.01417858712375164);\">an</span> <span style=\"background-color:rgba(135,206,250, 0.08150121569633484);\">advertisement</span> <span style=\"background-color:rgba(135,206,250, 0.016935570165514946);\">.</span> <span style=\"background-color:rgba(135,206,250, 0.0);\">[SEP]</span> <span style=\"background-color:rgba(135,206,250, 0.006162242963910103);\">a</span> <span style=\"background-color:rgba(135,206,250, 0.011526724323630333);\">man</span> <span style=\"background-color:rgba(135,206,250, 0.033277492970228195);\">poses</span> <span style=\"background-color:rgba(135,206,250, 0.005283895879983902);\">in</span> <span style=\"background-color:rgba(135,206,250, 0.030788583680987358);\">front</span> <span style=\"background-color:rgba(135,206,250, 0.006759521085768938);\">of</span> <span style=\"background-color:rgba(135,206,250, 0.011788802221417427);\">an</span> <span style=\"background-color:rgba(135,206,250, 0.07382656633853912);\">ad</span> <span style=\"background-color:rgba(135,206,250, 1.0);\">for</span> <span style=\"background-color:rgba(135,206,250, 0.04103850573301315);\">beer</span> <span style=\"background-color:rgba(135,206,250, 0.01432557962834835);\">.</span> <span style=\"background-color:rgba(135,206,250, 0.0);\">[SEP]</span></td><td>1.688</td><td>N</td></tr><tr><td><b>layer 1 to 10</b></td><td><span style=\"background-color:rgba(135,206,250, 0.0);\">[CLS]</span> <span style=\"background-color:rgba(135,206,250, 0.0017897457582876086);\">an</span> <span style=\"background-color:rgba(135,206,250, 0.041771162301301956);\">old</span> <span style=\"background-color:rgba(135,206,250, 0.0059518455527722836);\">man</span> <span style=\"background-color:rgba(135,206,250, 0.010518107563257217);\">with</span> <span style=\"background-color:rgba(135,206,250, 0.0026015937328338623);\">a</span> <span style=\"background-color:rgba(135,206,250, 0.27522313594818115);\">package</span> <span style=\"background-color:rgba(135,206,250, 0.03289368748664856);\">poses</span> <span style=\"background-color:rgba(135,206,250, 0.0032157779205590487);\">in</span> <span style=\"background-color:rgba(135,206,250, 0.034928418695926666);\">front</span> <span style=\"background-color:rgba(135,206,250, 0.002799642737954855);\">of</span> <span style=\"background-color:rgba(135,206,250, 0.006340808235108852);\">an</span> <span style=\"background-color:rgba(135,206,250, 0.14147122204303741);\">advertisement</span> <span style=\"background-color:rgba(135,206,250, 0.08497616648674011);\">.</span> <span style=\"background-color:rgba(135,206,250, 0.0);\">[SEP]</span> <span style=\"background-color:rgba(135,206,250, 0.004394853953272104);\">a</span> <span style=\"background-color:rgba(135,206,250, 0.0045262607745826244);\">man</span> <span style=\"background-color:rgba(135,206,250, 0.03600605949759483);\">poses</span> <span style=\"background-color:rgba(135,206,250, 0.0035039966460317373);\">in</span> <span style=\"background-color:rgba(135,206,250, 0.024622680619359016);\">front</span> <span style=\"background-color:rgba(135,206,250, 0.004220977425575256);\">of</span> <span style=\"background-color:rgba(135,206,250, 0.006593548227101564);\">an</span> <span style=\"background-color:rgba(135,206,250, 0.193872332572937);\">ad</span> <span style=\"background-color:rgba(135,206,250, 1.0);\">for</span> <span style=\"background-color:rgba(135,206,250, 0.05610227212309837);\">beer</span> <span style=\"background-color:rgba(135,206,250, 0.030650319531559944);\">.</span> <span style=\"background-color:rgba(135,206,250, 0.0);\">[SEP]</span></td><td>1.841</td><td>N</td></tr></table>"
      ],
      "text/plain": [
       "<IPython.core.display.HTML object>"
      ]
     },
     "metadata": {},
     "output_type": "display_data"
    },
    {
     "data": {
      "text/html": [
       "<table><tr><th></th><th>[CLS] + P + [SEP] + H + [SEP]</th><th>Entropy</th><th>Label</th> </tr><tr><td><b>GROUNDTRUTH</b></td><td><span style=\"background-color:rgba(135,206,250, 0.0);\">[CLS]</span> <span style=\"background-color:rgba(135,206,250, 0.0);\">an</span> <span style=\"background-color:rgba(135,206,250, 0.0);\">old</span> <span style=\"background-color:rgba(135,206,250, 1.0);\">man</span> <span style=\"background-color:rgba(135,206,250, 0.0);\">with</span> <span style=\"background-color:rgba(135,206,250, 0.0);\">a</span> <span style=\"background-color:rgba(135,206,250, 0.0);\">package</span> <span style=\"background-color:rgba(135,206,250, 1.0);\">poses</span> <span style=\"background-color:rgba(135,206,250, 1.0);\">in</span> <span style=\"background-color:rgba(135,206,250, 1.0);\">front</span> <span style=\"background-color:rgba(135,206,250, 0.0);\">of</span> <span style=\"background-color:rgba(135,206,250, 0.0);\">an</span> <span style=\"background-color:rgba(135,206,250, 1.0);\">advertisement</span> <span style=\"background-color:rgba(135,206,250, 0.0);\">.</span> <span style=\"background-color:rgba(135,206,250, 0.0);\">[SEP]</span> <span style=\"background-color:rgba(135,206,250, 0.0);\">a</span> <span style=\"background-color:rgba(135,206,250, 0.0);\">man</span> <span style=\"background-color:rgba(135,206,250, 1.0);\">walks</span> <span style=\"background-color:rgba(135,206,250, 1.0);\">by</span> <span style=\"background-color:rgba(135,206,250, 0.0);\">an</span> <span style=\"background-color:rgba(135,206,250, 1.0);\">ad</span> <span style=\"background-color:rgba(135,206,250, 0.0);\">.</span> <span style=\"background-color:rgba(135,206,250, 0.0);\">[SEP]</span></td><td>0.0</td><td>C</td></tr><tr><td><b>all agreg</b></td><td><span style=\"background-color:rgba(135,206,250, 0.0);\">[CLS]</span> <span style=\"background-color:rgba(135,206,250, 1.3223042287791031e-06);\">an</span> <span style=\"background-color:rgba(135,206,250, 2.0494482669164427e-05);\">old</span> <span style=\"background-color:rgba(135,206,250, 5.14020211994648e-06);\">man</span> <span style=\"background-color:rgba(135,206,250, 7.426150204992155e-06);\">with</span> <span style=\"background-color:rgba(135,206,250, 2.5176798317261273e-06);\">a</span> <span style=\"background-color:rgba(135,206,250, 0.00010547548299655318);\">package</span> <span style=\"background-color:rgba(135,206,250, 0.0005233916454017162);\">poses</span> <span style=\"background-color:rgba(135,206,250, 2.030444193223957e-06);\">in</span> <span style=\"background-color:rgba(135,206,250, 0.00022009284293744713);\">front</span> <span style=\"background-color:rgba(135,206,250, 1.841404809965752e-06);\">of</span> <span style=\"background-color:rgba(135,206,250, 3.411986654100474e-06);\">an</span> <span style=\"background-color:rgba(135,206,250, 6.600569031434134e-05);\">advertisement</span> <span style=\"background-color:rgba(135,206,250, 0.006380248349159956);\">.</span> <span style=\"background-color:rgba(135,206,250, 0.0);\">[SEP]</span> <span style=\"background-color:rgba(135,206,250, 7.349326551775448e-06);\">a</span> <span style=\"background-color:rgba(135,206,250, 7.182476110756397e-06);\">man</span> <span style=\"background-color:rgba(135,206,250, 0.0019766425248235464);\">walks</span> <span style=\"background-color:rgba(135,206,250, 4.994992559659295e-05);\">by</span> <span style=\"background-color:rgba(135,206,250, 2.953456487375661e-06);\">an</span> <span style=\"background-color:rgba(135,206,250, 3.250028021284379e-05);\">ad</span> <span style=\"background-color:rgba(135,206,250, 1.0);\">.</span> <span style=\"background-color:rgba(135,206,250, 0.0);\">[SEP]</span></td><td>0.062</td><td>C</td></tr><tr><td><b>layer 4 to 10</b></td><td><span style=\"background-color:rgba(135,206,250, 0.0);\">[CLS]</span> <span style=\"background-color:rgba(135,206,250, 0.012158246710896492);\">an</span> <span style=\"background-color:rgba(135,206,250, 0.07491539418697357);\">old</span> <span style=\"background-color:rgba(135,206,250, 0.040931958705186844);\">man</span> <span style=\"background-color:rgba(135,206,250, 0.04430471360683441);\">with</span> <span style=\"background-color:rgba(135,206,250, 0.015304924920201302);\">a</span> <span style=\"background-color:rgba(135,206,250, 0.1770058274269104);\">package</span> <span style=\"background-color:rgba(135,206,250, 1.0);\">poses</span> <span style=\"background-color:rgba(135,206,250, 0.009373283013701439);\">in</span> <span style=\"background-color:rgba(135,206,250, 0.7306429743766785);\">front</span> <span style=\"background-color:rgba(135,206,250, 0.013105053454637527);\">of</span> <span style=\"background-color:rgba(135,206,250, 0.028207693248987198);\">an</span> <span style=\"background-color:rgba(135,206,250, 0.2334815412759781);\">advertisement</span> <span style=\"background-color:rgba(135,206,250, 0.050020504742860794);\">.</span> <span style=\"background-color:rgba(135,206,250, 0.0);\">[SEP]</span> <span style=\"background-color:rgba(135,206,250, 0.017510805279016495);\">a</span> <span style=\"background-color:rgba(135,206,250, 0.038722842931747437);\">man</span> <span style=\"background-color:rgba(135,206,250, 0.8956435322761536);\">walks</span> <span style=\"background-color:rgba(135,206,250, 0.07269677519798279);\">by</span> <span style=\"background-color:rgba(135,206,250, 0.016976749524474144);\">an</span> <span style=\"background-color:rgba(135,206,250, 0.10513193905353546);\">ad</span> <span style=\"background-color:rgba(135,206,250, 0.059074483811855316);\">.</span> <span style=\"background-color:rgba(135,206,250, 0.0);\">[SEP]</span></td><td>2.052</td><td>C</td></tr><tr><td><b>layer 5 to 10</b></td><td><span style=\"background-color:rgba(135,206,250, 0.0);\">[CLS]</span> <span style=\"background-color:rgba(135,206,250, 0.014260302297770977);\">an</span> <span style=\"background-color:rgba(135,206,250, 0.07655707001686096);\">old</span> <span style=\"background-color:rgba(135,206,250, 0.04027033969759941);\">man</span> <span style=\"background-color:rgba(135,206,250, 0.044019997119903564);\">with</span> <span style=\"background-color:rgba(135,206,250, 0.015422939322888851);\">a</span> <span style=\"background-color:rgba(135,206,250, 0.132297545671463);\">package</span> <span style=\"background-color:rgba(135,206,250, 1.0);\">poses</span> <span style=\"background-color:rgba(135,206,250, 0.011011850088834763);\">in</span> <span style=\"background-color:rgba(135,206,250, 0.5602880716323853);\">front</span> <span style=\"background-color:rgba(135,206,250, 0.01689426600933075);\">of</span> <span style=\"background-color:rgba(135,206,250, 0.029321206733584404);\">an</span> <span style=\"background-color:rgba(135,206,250, 0.1581650823354721);\">advertisement</span> <span style=\"background-color:rgba(135,206,250, 0.035966068506240845);\">.</span> <span style=\"background-color:rgba(135,206,250, 0.0);\">[SEP]</span> <span style=\"background-color:rgba(135,206,250, 0.019830074161291122);\">a</span> <span style=\"background-color:rgba(135,206,250, 0.04165393114089966);\">man</span> <span style=\"background-color:rgba(135,206,250, 0.9003540873527527);\">walks</span> <span style=\"background-color:rgba(135,206,250, 0.07029252499341965);\">by</span> <span style=\"background-color:rgba(135,206,250, 0.019386807456612587);\">an</span> <span style=\"background-color:rgba(135,206,250, 0.05604657530784607);\">ad</span> <span style=\"background-color:rgba(135,206,250, 0.05466641113162041);\">.</span> <span style=\"background-color:rgba(135,206,250, 0.0);\">[SEP]</span></td><td>2.013</td><td>C</td></tr><tr><td><b>layer 1 to 10</b></td><td><span style=\"background-color:rgba(135,206,250, 0.0);\">[CLS]</span> <span style=\"background-color:rgba(135,206,250, 0.00407676724717021);\">an</span> <span style=\"background-color:rgba(135,206,250, 0.06471902877092361);\">old</span> <span style=\"background-color:rgba(135,206,250, 0.015102781355381012);\">man</span> <span style=\"background-color:rgba(135,206,250, 0.02032279036939144);\">with</span> <span style=\"background-color:rgba(135,206,250, 0.006355183199048042);\">a</span> <span style=\"background-color:rgba(135,206,250, 0.2406056821346283);\">package</span> <span style=\"background-color:rgba(135,206,250, 1.0);\">poses</span> <span style=\"background-color:rgba(135,206,250, 0.005825234577059746);\">in</span> <span style=\"background-color:rgba(135,206,250, 0.37834903597831726);\">front</span> <span style=\"background-color:rgba(135,206,250, 0.0056188530288636684);\">of</span> <span style=\"background-color:rgba(135,206,250, 0.010768194682896137);\">an</span> <span style=\"background-color:rgba(135,206,250, 0.2098575085401535);\">advertisement</span> <span style=\"background-color:rgba(135,206,250, 0.11797080934047699);\">.</span> <span style=\"background-color:rgba(135,206,250, 0.0);\">[SEP]</span> <span style=\"background-color:rgba(135,206,250, 0.010046043433248997);\">a</span> <span style=\"background-color:rgba(135,206,250, 0.011323332786560059);\">man</span> <span style=\"background-color:rgba(135,206,250, 0.6244527697563171);\">walks</span> <span style=\"background-color:rgba(135,206,250, 0.037221357226371765);\">by</span> <span style=\"background-color:rgba(135,206,250, 0.0075874049216508865);\">an</span> <span style=\"background-color:rgba(135,206,250, 0.10337836295366287);\">ad</span> <span style=\"background-color:rgba(135,206,250, 0.0740135908126831);\">.</span> <span style=\"background-color:rgba(135,206,250, 0.0);\">[SEP]</span></td><td>2.014</td><td>C</td></tr></table>"
      ],
      "text/plain": [
       "<IPython.core.display.HTML object>"
      ]
     },
     "metadata": {},
     "output_type": "display_data"
    }
   ],
   "source": [
    "INF = 1e30\n",
    "LABELS = [\"E\", \"N\", \"C\"]\n",
    "with torch.no_grad():\n",
    "\n",
    "    display(HTML('<h4>Different type of agregation (Line agregation)</h4>'))\n",
    "    model_outputs = {}\n",
    "\n",
    "    for id_batch, elem in enumerate(test_dataloader) :\n",
    "\n",
    "        if id_batch > 8:\n",
    "            # only look at 5 sentences (batch of one here)\n",
    "            break\n",
    "\n",
    "        ids = elem[\"input_ids\"]\n",
    "        masks = elem[\"attention_masks\"]\n",
    "        labels = elem[\"labels\"]\n",
    "        a_true = elem[\"annotations\"]\n",
    "        \n",
    "        \n",
    "        # ids of the specials tokens\n",
    "        special_tokens = [0, 101, 102]\n",
    "        spe_tok_mask = torch.isin(ids, torch.tensor(special_tokens))[0].type(torch.uint8)\n",
    "        \n",
    "        # ids of the punctuation\n",
    "        punct = list(range(999, 1037))\n",
    "        punct_pos = 1 - torch.isin(ids, torch.tensor(punct)).type(torch.uint8)\n",
    "        a_true = torch.mul(a_true, punct_pos) # we don't want the punctuation in our annotation\n",
    "        a_true = list(np.array(a_true[0].numpy(), dtype=float))\n",
    "\n",
    "        m = masks[0].sum() # nb tokens in the sentence\n",
    "        tokens = tk.convert_ids_to_tokens(ids[0])[0:m]\n",
    "\n",
    "        it = 0\n",
    "\n",
    "        if it == 0:\n",
    "            model_outputs[\"GROUNDTRUTH\"] = {\n",
    "                '[CLS] + P + [SEP] + H + [SEP]':  [hightlight_txt(tokens = tokens,\n",
    "                                                                attention = a_true[0 : m])],\n",
    "                'Entropy': [0.0],\n",
    "                'Label':LABELS[labels[0]]\n",
    "            }\n",
    "\n",
    "            it += 1\n",
    "\n",
    "        output = model(input_ids = ids,\n",
    "                       attention_mask = masks)\n",
    "\n",
    "        # process the attention_tensor\n",
    "        attention_tensor = torch.stack(output[\"outputs\"].attentions, dim=1) # shape [b, l, h, T, T]\n",
    "        pad = torch.tensor([0])\n",
    "        pad_mask = torch.logical_not(torch.isin(ids, pad)).type(torch.uint8).unsqueeze(1).unsqueeze(1).unsqueeze(1).repeat(1, 12, 12, 150, 1)\n",
    "        pad_mask = torch.transpose(pad_mask, dim0=3, dim1=4)\n",
    "        attention_tensor = torch.mul(attention_tensor, pad_mask)\n",
    "\n",
    "        # all the layer agregation\n",
    "        a_hat = attention_tensor[0, :, :, :, :]\n",
    "        a_hat = a_hat.sum(dim=1)/12 # mean over the heads\n",
    "        a_hat = a_hat.sum(dim=0) # mean over the layers\n",
    "        a_hat = a_hat.sum(dim=0) # line agregation\n",
    "        a_hat = a_hat[0:m]\n",
    "        a_hat = torch.softmax(a_hat - INF * spe_tok_mask[0:m], dim=0)\n",
    "\n",
    "        a_visu = normalize_attention(attention=a_hat, tokens=tokens)\n",
    "\n",
    "        model_outputs[\"all agreg\"] =  {\n",
    "            '[CLS] + P + [SEP] + H + [SEP]': [hightlight_txt(tokens = tokens,\n",
    "                                                            attention = a_visu)],\n",
    "            'Entropy': [(-a_hat * torch.log(a_hat + 1e-16)).sum().item()],\n",
    "            'Label':LABELS[labels[0]]\n",
    "        }\n",
    "\n",
    "        # layer 4 to 10 agregation\n",
    "        a_hat = attention_tensor[0, 3:10, :, :, :] # select only some layers\n",
    "        a_hat = a_hat.sum(dim=1)/12 # mean head agregation\n",
    "        a_hat = a_hat.sum(dim=0) # mean over the layers\n",
    "        a_hat = a_hat.sum(dim=0) # line agregation\n",
    "        a_hat = a_hat[0:m]\n",
    "        a_hat = torch.softmax(a_hat - INF * spe_tok_mask[0:m], dim=0)\n",
    "        a_visu = normalize_attention(attention=a_hat, tokens=tokens)\n",
    "\n",
    "        model_outputs[\"layer 4 to 10\"] =  {\n",
    "            '[CLS] + P + [SEP] + H + [SEP]': [hightlight_txt(tokens = tokens,\n",
    "                                                            attention = a_visu)],\n",
    "            'Entropy': [(-a_hat * torch.log(a_hat + 1e-16)).sum().item()],\n",
    "            'Label':LABELS[labels[0]]\n",
    "        }\n",
    "        # layer 5 to 10 agregation\n",
    "        a_hat = attention_tensor[0, 4:10, :, :, :] # select only some layers\n",
    "        a_hat = a_hat.sum(dim=1)/12 # mean head agregation\n",
    "        a_hat = a_hat.sum(dim=0) # mean over the layers\n",
    "        a_hat = a_hat.sum(dim=0) # line agregation\n",
    "        a_hat = a_hat[0:m]\n",
    "        a_hat = torch.softmax(a_hat - INF * spe_tok_mask[0:m], dim=-1)\n",
    "        a_visu = normalize_attention(attention=a_hat, tokens=tokens)\n",
    "\n",
    "        model_outputs[\"layer 5 to 10\"] =  {\n",
    "            '[CLS] + P + [SEP] + H + [SEP]': [hightlight_txt(tokens = tokens,\n",
    "                                                            attention = a_visu)],\n",
    "            'Entropy': [(-a_hat * torch.log(a_hat + 1e-16)).sum().item()],\n",
    "            'Label':LABELS[labels[0]]\n",
    "        }\n",
    "\n",
    "        # layer 0 to 10 agregation\n",
    "        a_hat = attention_tensor[0, 0:10, :, :, :] # select only some layers\n",
    "        a_hat = a_hat.sum(dim=1)/12 # mean head agregation\n",
    "        a_hat = a_hat.sum(dim=0) # mean over the layers\n",
    "        a_hat = a_hat.sum(dim=0)\n",
    "        a_hat = a_hat[0:m]\n",
    "        a_hat = torch.softmax(a_hat - INF * spe_tok_mask[0:m], dim=-1)\n",
    "        a_visu = normalize_attention(attention=a_hat, tokens=tokens)\n",
    "\n",
    "        model_outputs[\"layer 1 to 10\"] =  {\n",
    "            '[CLS] + P + [SEP] + H + [SEP]': [hightlight_txt(tokens = tokens,\n",
    "                                                            attention = a_visu)],\n",
    "            'Entropy': [(-a_hat * torch.log(a_hat + 1e-16)).sum().item()],\n",
    "            'Label':LABELS[labels[0]]\n",
    "        }\n",
    "\n",
    "\n",
    "        display(HTML(html_render(model_outputs)))"
   ]
  },
  {
   "cell_type": "markdown",
   "metadata": {
    "pycharm": {
     "name": "#%% md\n"
    }
   },
   "source": [
    "Maybe a regularization criterion is possible to find with this last discovery we clearly see that some information is possible to find here but we need to regularize the entropia on this special"
   ]
  },
  {
   "cell_type": "markdown",
   "metadata": {
    "pycharm": {
     "name": "#%% md\n"
    }
   },
   "source": [
    "## Now a bit a metrics to have a closer look to what happens"
   ]
  },
  {
   "cell_type": "markdown",
   "metadata": {
    "pycharm": {
     "name": "#%% md\n"
    }
   },
   "source": [
    "before running the following cells we need to execute `entropy_study_layers_study.py` in the folder `inference_scripts`\n",
    "the script was executed with the following command line :\n",
    "```{command line}\n",
    "python .\\inference_scripts\\entropy_study_layers_study.py --batch_size 4\n",
    "```"
   ]
  },
  {
   "cell_type": "code",
   "execution_count": 50,
   "metadata": {
    "pycharm": {
     "name": "#%%\n"
    }
   },
   "outputs": [],
   "source": [
    "def html_render(model_outputs):\n",
    "    html = ''\n",
    "\n",
    "    table_len = len(model_outputs['all_layers']['AUC'])\n",
    "    for i in range(table_len):\n",
    "        html += '<table>'\n",
    "        html += '<tr><th></th>' # One xtra head for model's name\n",
    "        for column_name in model_outputs['all_layers'].keys():\n",
    "            html+= '<th>'+ column_name +'</th>'\n",
    "        html += ' </tr>'\n",
    "        for name, model_content in model_outputs.items():\n",
    "            html += '<tr>'\n",
    "            html += '<td><b>' + name + '</b></td>'\n",
    "\n",
    "            for k, output in model_content.items():\n",
    "                displ = output[i] if output is not None else 'N/A'\n",
    "                if isinstance(displ, float):\n",
    "                    displ = str(round(displ, 3))\n",
    "                html += '<td>' + displ + '</td>'\n",
    "\n",
    "            html += '</tr>'\n",
    "\n",
    "        html += '</table>'\n",
    "    return html"
   ]
  },
  {
   "cell_type": "code",
   "execution_count": 51,
   "metadata": {
    "pycharm": {
     "name": "#%%\n"
    }
   },
   "outputs": [],
   "source": [
    "# load the data\n",
    "import pickle\n",
    "dir = os.path.join(\".cache\", \"plots\", \"entropy_study\")\n",
    "with open(os.path.join(dir, \"a_true.pickle\"), \"rb\") as f:\n",
    "    a_true = pickle.load(f)\n",
    "with open(os.path.join(dir, \"all_layers.pickle\"), \"rb\") as f:\n",
    "    all_layers = pickle.load(f)\n",
    "with open(os.path.join(dir, \"layers_1_10.pickle\"), \"rb\") as f:\n",
    "    layers_1_10 = pickle.load(f)\n",
    "with open(os.path.join(dir, \"layers_4_10.pickle\"), \"rb\") as f:\n",
    "    layers_4_10 = pickle.load(f)\n",
    "with open(os.path.join(dir, \"layers_5_10.pickle\"), \"rb\") as f:\n",
    "    layers_5_10 = pickle.load(f)\n"
   ]
  },
  {
   "cell_type": "code",
   "execution_count": 52,
   "metadata": {
    "pycharm": {
     "name": "#%%\n"
    }
   },
   "outputs": [],
   "source": [
    "def scalar_jaccard(y_true, y_pred):\n",
    "    num = np.dot(y_true, y_pred)\n",
    "    den = sum(y_true)+sum(y_pred)-np.dot(y_true, y_pred)\n",
    "    return num/den"
   ]
  },
  {
   "cell_type": "code",
   "execution_count": 53,
   "metadata": {
    "pycharm": {
     "name": "#%%\n"
    }
   },
   "outputs": [],
   "source": [
    "from sklearn.metrics import precision_score, recall_score\n",
    "from sklearn.metrics import auc\n",
    "\n",
    "def au_precision_curve(y_true, y_pred):\n",
    "    tr = np.linspace(0, 1, 50)\n",
    "    curve = []\n",
    "    for t in tr:\n",
    "        preds = 1*(y_pred>=t)\n",
    "        curve.append(precision_score(y_true, preds))\n",
    "        \n",
    "    return auc(x=tr, y=curve)\n",
    "\n",
    "\n",
    "def au_recall_curve(y_true, y_pred):\n",
    "    tr = np.linspace(0, 1, 50)\n",
    "    curve = []\n",
    "    for t in tr:\n",
    "        preds = 1*(y_pred>=t)\n",
    "        curve.append(recall_score(y_true, preds))\n",
    "        \n",
    "    return auc(x=tr, y=curve)\n",
    "\n",
    "\n",
    "\n",
    "def precision(y_true, y_pred):\n",
    "    tr = 0.2\n",
    "    preds = 1*(y_pred>=tr)\n",
    "    return precision_score(y_true, preds)\n",
    "\n",
    "def recall(y_true, y_pred):\n",
    "    tr = 0.2\n",
    "    preds = 1*(y_pred>=tr)\n",
    "    return recall_score(y_true, preds)\n",
    "        \n"
   ]
  },
  {
   "cell_type": "code",
   "execution_count": 54,
   "metadata": {
    "pycharm": {
     "name": "#%%\n"
    },
    "scrolled": false
   },
   "outputs": [
    {
     "data": {
      "text/html": [
       "<h4>metric for the label : entailement</h4>"
      ],
      "text/plain": [
       "<IPython.core.display.HTML object>"
      ]
     },
     "metadata": {},
     "output_type": "display_data"
    },
    {
     "data": {
      "text/html": [
       "<table><tr><th></th><th>AUC</th><th>Jaccard</th><th>AUPRC</th><th>AU - Precision</th><th>AU - Recall</th><th>Precision (fixed tr)</th><th>Recall (fixed tr)</th> </tr><tr><td><b>all_layers</b></td><td>0.623</td><td>0.005</td><td>0.286</td><td>0.034</td><td>0.015</td><td>0.026</td><td>0.006</td></tr><tr><td><b>layers_1_10</b></td><td>0.651</td><td>0.056</td><td>0.341</td><td>0.372</td><td>0.065</td><td>0.457</td><td>0.084</td></tr><tr><td><b>layers_4_10</b></td><td>0.661</td><td>0.059</td><td>0.361</td><td>0.373</td><td>0.067</td><td>0.494</td><td>0.087</td></tr><tr><td><b>layers_5_10</b></td><td>0.662</td><td>0.059</td><td>0.363</td><td>0.371</td><td>0.067</td><td>0.5</td><td>0.086</td></tr></table>"
      ],
      "text/plain": [
       "<IPython.core.display.HTML object>"
      ]
     },
     "metadata": {},
     "output_type": "display_data"
    },
    {
     "data": {
      "text/html": [
       "<h4>metric for the label : neutral</h4>"
      ],
      "text/plain": [
       "<IPython.core.display.HTML object>"
      ]
     },
     "metadata": {},
     "output_type": "display_data"
    },
    {
     "data": {
      "text/html": [
       "<table><tr><th></th><th>AUC</th><th>Jaccard</th><th>AUPRC</th><th>AU - Precision</th><th>AU - Recall</th><th>Precision (fixed tr)</th><th>Recall (fixed tr)</th> </tr><tr><td><b>all_layers</b></td><td>0.692</td><td>0.014</td><td>0.148</td><td>0.042</td><td>0.029</td><td>0.041</td><td>0.025</td></tr><tr><td><b>layers_1_10</b></td><td>0.731</td><td>0.118</td><td>0.258</td><td>0.414</td><td>0.154</td><td>0.441</td><td>0.234</td></tr><tr><td><b>layers_4_10</b></td><td>0.73</td><td>0.115</td><td>0.26</td><td>0.407</td><td>0.149</td><td>0.437</td><td>0.225</td></tr><tr><td><b>layers_5_10</b></td><td>0.732</td><td>0.114</td><td>0.262</td><td>0.41</td><td>0.148</td><td>0.442</td><td>0.222</td></tr></table>"
      ],
      "text/plain": [
       "<IPython.core.display.HTML object>"
      ]
     },
     "metadata": {},
     "output_type": "display_data"
    },
    {
     "data": {
      "text/html": [
       "<h4>metric for the label : contradiction</h4>"
      ],
      "text/plain": [
       "<IPython.core.display.HTML object>"
      ]
     },
     "metadata": {},
     "output_type": "display_data"
    },
    {
     "data": {
      "text/html": [
       "<table><tr><th></th><th>AUC</th><th>Jaccard</th><th>AUPRC</th><th>AU - Precision</th><th>AU - Recall</th><th>Precision (fixed tr)</th><th>Recall (fixed tr)</th> </tr><tr><td><b>all_layers</b></td><td>0.698</td><td>0.073</td><td>0.318</td><td>0.389</td><td>0.09</td><td>0.409</td><td>0.104</td></tr><tr><td><b>layers_1_10</b></td><td>0.735</td><td>0.116</td><td>0.434</td><td>0.631</td><td>0.129</td><td>0.69</td><td>0.189</td></tr><tr><td><b>layers_4_10</b></td><td>0.741</td><td>0.116</td><td>0.447</td><td>0.631</td><td>0.128</td><td>0.704</td><td>0.189</td></tr><tr><td><b>layers_5_10</b></td><td>0.743</td><td>0.116</td><td>0.452</td><td>0.635</td><td>0.128</td><td>0.713</td><td>0.189</td></tr></table>"
      ],
      "text/plain": [
       "<IPython.core.display.HTML object>"
      ]
     },
     "metadata": {},
     "output_type": "display_data"
    }
   ],
   "source": [
    "from sklearn.metrics import roc_auc_score\n",
    "from sklearn.metrics import average_precision_score\n",
    "\n",
    "with torch.no_grad():\n",
    "    for k in [\"entailement\", \"neutral\", \"contradiction\"]:\n",
    "        display(HTML(f'<h4>metric for the label : {k}</h4>'))\n",
    "        metric_output = {}\n",
    "        metric_output[\"all_layers\"] = {\n",
    "            \"AUC\": [roc_auc_score(a_true[k],all_layers[k])],\n",
    "            \"Jaccard\": [scalar_jaccard(a_true[k], all_layers[k])],\n",
    "            \"AUPRC\" : [average_precision_score(a_true[k], all_layers[k])],\n",
    "            \"AU - Precision\" : [au_precision_curve(a_true[k], all_layers[k])],\n",
    "            \"AU - Recall\" : [au_recall_curve(a_true[k], all_layers[k])],\n",
    "            \"Precision (fixed tr)\": [precision(a_true[k], all_layers[k])],\n",
    "            \"Recall (fixed tr)\": [recall(a_true[k], all_layers[k])]\n",
    "            \n",
    "        }\n",
    "\n",
    "        metric_output[\"layers_1_10\"] = {\n",
    "            \"AUC\": [roc_auc_score(a_true[k],layers_1_10[k])],\n",
    "            \"Jaccard\": [scalar_jaccard(a_true[k], layers_1_10[k])],\n",
    "            \"AUPRC\" : [average_precision_score(a_true[k], layers_1_10[k])],\n",
    "            \"AU - Precision\" : [au_precision_curve(a_true[k], layers_1_10[k])],\n",
    "            \"AU - Recall\" : [au_recall_curve(a_true[k], layers_1_10[k])],\n",
    "            \"Precision (fixed tr)\": [precision(a_true[k], layers_1_10[k])],\n",
    "            \"Recall (fixed tr)\": [recall(a_true[k], layers_1_10[k])]\n",
    "        }\n",
    "\n",
    "        metric_output[\"layers_4_10\"] = {\n",
    "            \"AUC\": [roc_auc_score(a_true[k],layers_4_10[k])],\n",
    "            \"Jaccard\": [scalar_jaccard(a_true[k], layers_4_10[k])],\n",
    "            \"AUPRC\" : [average_precision_score(a_true[k], layers_4_10[k])],\n",
    "            \"AU - Precision\" : [au_precision_curve(a_true[k], layers_4_10[k])],\n",
    "            \"AU - Recall\" : [au_recall_curve(a_true[k], layers_4_10[k])],\n",
    "            \"Precision (fixed tr)\": [precision(a_true[k], layers_4_10[k])],\n",
    "            \"Recall (fixed tr)\": [recall(a_true[k], layers_4_10[k])]\n",
    "        }\n",
    "\n",
    "        metric_output[\"layers_5_10\"] = {\n",
    "            \"AUC\": [roc_auc_score(a_true[k],layers_5_10[k])],\n",
    "            \"Jaccard\": [scalar_jaccard(a_true[k], layers_5_10[k])],\n",
    "            \"AUPRC\" : [average_precision_score(a_true[k], layers_5_10[k])],\n",
    "            \"AU - Precision\" : [au_precision_curve(a_true[k], layers_5_10[k])],\n",
    "            \"AU - Recall\" : [au_recall_curve(a_true[k], layers_5_10[k])],\n",
    "            \"Precision (fixed tr)\": [precision(a_true[k], layers_5_10[k])],\n",
    "            \"Recall (fixed tr)\": [recall(a_true[k], layers_5_10[k])],\n",
    "        }\n",
    "\n",
    "        display(HTML(html_render(metric_output)))"
   ]
  }
 ],
 "metadata": {
  "kernelspec": {
   "display_name": "Python 3 (ipykernel)",
   "language": "python",
   "name": "python3"
  },
  "language_info": {
   "codemirror_mode": {
    "name": "ipython",
    "version": 3
   },
   "file_extension": ".py",
   "mimetype": "text/x-python",
   "name": "python",
   "nbconvert_exporter": "python",
   "pygments_lexer": "ipython3",
   "version": "3.7.13"
  }
 },
 "nbformat": 4,
 "nbformat_minor": 1
}
