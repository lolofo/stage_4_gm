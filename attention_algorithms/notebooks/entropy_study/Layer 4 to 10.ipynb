{
 "cells": [
  {
   "cell_type": "markdown",
   "source": [
    "based on the previous observation about the entropia, we will study some particular layers"
   ],
   "metadata": {
    "collapsed": false,
    "pycharm": {
     "name": "#%% md\n"
    }
   }
  },
  {
   "cell_type": "code",
   "execution_count": 9,
   "outputs": [
    {
     "name": "stdout",
     "output_type": "stream",
     "text": [
      "The autoreload extension is already loaded. To reload it, use:\n",
      "  %reload_ext autoreload\n"
     ]
    }
   ],
   "source": [
    "# preparation of the environment\n",
    "%load_ext autoreload\n",
    "%autoreload 2\n",
    "\n",
    "INF = 1e30\n",
    "\n",
    "import os\n",
    "from os import path\n",
    "\n",
    "\n",
    "# set the repository to the git repository\n",
    "cwd = os.getcwd().split(os.path.sep)\n",
    "while cwd[-1] != \"stage_4_gm\":\n",
    "    os.chdir(\"..\")\n",
    "    cwd = os.getcwd().split(os.path.sep)\n",
    "import numpy as np\n",
    "import torch\n",
    "import matplotlib.pyplot as plt\n",
    "import seaborn as sns\n",
    "sns.set_theme()\n",
    "from tqdm.notebook import tqdm\n",
    "from torch_set_up import DEVICE\n",
    "from training_bert import BertNliLight\n",
    "from regularize_training_bert import SNLIDataModule\n",
    "from attention_algorithms.attention_metrics import default_plot_colormap\n",
    "\n",
    "from transformers import BertTokenizer\n",
    "tk = BertTokenizer.from_pretrained('bert-base-uncased')"
   ],
   "metadata": {
    "collapsed": false,
    "pycharm": {
     "name": "#%%\n"
    }
   }
  },
  {
   "cell_type": "code",
   "execution_count": 10,
   "outputs": [
    {
     "name": "stderr",
     "output_type": "stream",
     "text": [
      "Some weights of the model checkpoint at bert-base-uncased were not used when initializing BertModel: ['cls.seq_relationship.weight', 'cls.predictions.bias', 'cls.predictions.transform.LayerNorm.bias', 'cls.predictions.decoder.weight', 'cls.predictions.transform.dense.weight', 'cls.predictions.transform.LayerNorm.weight', 'cls.predictions.transform.dense.bias', 'cls.seq_relationship.bias']\n",
      "- This IS expected if you are initializing BertModel from the checkpoint of a model trained on another task or with another architecture (e.g. initializing a BertForSequenceClassification model from a BertForPreTraining model).\n",
      "- This IS NOT expected if you are initializing BertModel from the checkpoint of a model that you expect to be exactly identical (initializing a BertForSequenceClassification model from a BertForSequenceClassification model).\n"
     ]
    }
   ],
   "source": [
    "ckp = path.join(\".cache\", \"logs\", \"igrida_trained\", \"0\", \"best.ckpt\")\n",
    "model = BertNliLight.load_from_checkpoint(ckp)\n",
    "model = model.eval()\n",
    "\n",
    "data_dir = os.path.join(\".cache\", \"raw_data\", \"e_snli\")\n",
    "\n",
    "dm = SNLIDataModule(cache=data_dir,\n",
    "                   batch_size = 1,\n",
    "                   num_workers = 1,\n",
    "                   nb_data = -1)\n",
    "\n",
    "dm.prepare_data()\n",
    "\n",
    "dm.setup(stage=\"test\")\n",
    "\n",
    "test_dataset = dm.test_set\n",
    "test_dataloader = dm.test_dataloader()"
   ],
   "metadata": {
    "collapsed": false,
    "pycharm": {
     "name": "#%%\n"
    }
   }
  },
  {
   "cell_type": "markdown",
   "source": [
    "## First a bit of visualisation"
   ],
   "metadata": {
    "collapsed": false,
    "pycharm": {
     "name": "#%% md\n"
    }
   }
  },
  {
   "cell_type": "code",
   "execution_count": 11,
   "outputs": [],
   "source": [
    "from attention_algorithms.plausibility_visu import hightlight_txt # function to highlight the text\n",
    "from attention_algorithms.attention_metrics import normalize_attention\n",
    "from IPython.display import display, HTML"
   ],
   "metadata": {
    "collapsed": false,
    "pycharm": {
     "name": "#%%\n"
    }
   }
  },
  {
   "cell_type": "code",
   "execution_count": 12,
   "outputs": [],
   "source": [
    "def html_render(model_outputs):\n",
    "    html = ''\n",
    "    table_len = len(model_outputs['GROUNDTRUTH']['Entropy'])\n",
    "    for i in range(table_len):\n",
    "        html += '<table>'\n",
    "        html += '<tr><th></th>' # One xtra head for model's name\n",
    "        for column_name in model_outputs['GROUNDTRUTH'].keys():\n",
    "            html+= '<th>'+ column_name +'</th>'\n",
    "        html += ' </tr>'\n",
    "        for name, model_content in model_outputs.items():\n",
    "            html += '<tr>'\n",
    "            html += '<td><b>' + name + '</b></td>'\n",
    "\n",
    "            for k, output in model_content.items():\n",
    "                displ = output[i] if output is not None else 'N/A'\n",
    "                if isinstance(displ, float):\n",
    "                    displ = str(round(displ, 3))\n",
    "                html += '<td>' + displ + '</td>'\n",
    "\n",
    "            html += '</tr>'\n",
    "\n",
    "        html += '</table>'\n",
    "    return html"
   ],
   "metadata": {
    "collapsed": false,
    "pycharm": {
     "name": "#%%\n"
    }
   }
  },
  {
   "cell_type": "code",
   "execution_count": 16,
   "outputs": [
    {
     "data": {
      "text/plain": "<IPython.core.display.HTML object>",
      "text/html": "<h4>Different type of agregation (Line agregation)</h4>"
     },
     "metadata": {},
     "output_type": "display_data"
    },
    {
     "data": {
      "text/plain": "<IPython.core.display.HTML object>",
      "text/html": "<table><tr><th></th><th>[CLS] + P + [SEP] + H + [SEP]</th><th>Entropy</th><th>&#x3A3;a</th> </tr><tr><td><b>GROUNDTRUTH</b></td><td><span style=\"background-color:rgba(135,206,250, 0.0);\">[CLS]</span> <span style=\"background-color:rgba(135,206,250, 0.0);\">this</span> <span style=\"background-color:rgba(135,206,250, 0.0);\">church</span> <span style=\"background-color:rgba(135,206,250, 0.0);\">choir</span> <span style=\"background-color:rgba(135,206,250, 0.0);\">sings</span> <span style=\"background-color:rgba(135,206,250, 0.0);\">to</span> <span style=\"background-color:rgba(135,206,250, 0.0);\">the</span> <span style=\"background-color:rgba(135,206,250, 0.0);\">masses</span> <span style=\"background-color:rgba(135,206,250, 0.0);\">as</span> <span style=\"background-color:rgba(135,206,250, 0.0);\">they</span> <span style=\"background-color:rgba(135,206,250, 0.0);\">sing</span> <span style=\"background-color:rgba(135,206,250, 0.0);\">joy</span> <span style=\"background-color:rgba(135,206,250, 0.0);\">##ous</span> <span style=\"background-color:rgba(135,206,250, 0.0);\">songs</span> <span style=\"background-color:rgba(135,206,250, 0.0);\">from</span> <span style=\"background-color:rgba(135,206,250, 0.0);\">the</span> <span style=\"background-color:rgba(135,206,250, 0.0);\">book</span> <span style=\"background-color:rgba(135,206,250, 0.0);\">at</span> <span style=\"background-color:rgba(135,206,250, 0.0);\">a</span> <span style=\"background-color:rgba(135,206,250, 0.0);\">church</span> <span style=\"background-color:rgba(135,206,250, 0.0);\">.</span> <span style=\"background-color:rgba(135,206,250, 0.0);\">[SEP]</span> <span style=\"background-color:rgba(135,206,250, 0.0);\">the</span> <span style=\"background-color:rgba(135,206,250, 0.0);\">church</span> <span style=\"background-color:rgba(135,206,250, 0.0);\">has</span> <span style=\"background-color:rgba(135,206,250, 1.0);\">cracks</span> <span style=\"background-color:rgba(135,206,250, 1.0);\">in</span> <span style=\"background-color:rgba(135,206,250, 1.0);\">the</span> <span style=\"background-color:rgba(135,206,250, 1.0);\">ceiling</span> <span style=\"background-color:rgba(135,206,250, 1.0);\">.</span> <span style=\"background-color:rgba(135,206,250, 0.0);\">[SEP]</span></td><td>0.0</td><td>0.0</td></tr><tr><td><b>all agreg</b></td><td><span style=\"background-color:rgba(135,206,250, 0.0);\">[CLS]</span> <span style=\"background-color:rgba(135,206,250, 0.0);\">this</span> <span style=\"background-color:rgba(135,206,250, 0.0);\">church</span> <span style=\"background-color:rgba(135,206,250, 0.0);\">choir</span> <span style=\"background-color:rgba(135,206,250, 0.0);\">sings</span> <span style=\"background-color:rgba(135,206,250, 0.0);\">to</span> <span style=\"background-color:rgba(135,206,250, 0.0);\">the</span> <span style=\"background-color:rgba(135,206,250, 0.0);\">masses</span> <span style=\"background-color:rgba(135,206,250, 0.0);\">as</span> <span style=\"background-color:rgba(135,206,250, 0.0);\">they</span> <span style=\"background-color:rgba(135,206,250, 0.0);\">sing</span> <span style=\"background-color:rgba(135,206,250, 0.0);\">joy</span> <span style=\"background-color:rgba(135,206,250, 0.0);\">##ous</span> <span style=\"background-color:rgba(135,206,250, 0.0);\">songs</span> <span style=\"background-color:rgba(135,206,250, 0.0);\">from</span> <span style=\"background-color:rgba(135,206,250, 0.0);\">the</span> <span style=\"background-color:rgba(135,206,250, 0.0);\">book</span> <span style=\"background-color:rgba(135,206,250, 0.0);\">at</span> <span style=\"background-color:rgba(135,206,250, 0.0);\">a</span> <span style=\"background-color:rgba(135,206,250, 0.0);\">church</span> <span style=\"background-color:rgba(135,206,250, 0.0);\">.</span> <span style=\"background-color:rgba(135,206,250, 0.0);\">[SEP]</span> <span style=\"background-color:rgba(135,206,250, 0.0);\">the</span> <span style=\"background-color:rgba(135,206,250, 0.0);\">church</span> <span style=\"background-color:rgba(135,206,250, 0.0);\">has</span> <span style=\"background-color:rgba(135,206,250, 1.0);\">cracks</span> <span style=\"background-color:rgba(135,206,250, 0.0);\">in</span> <span style=\"background-color:rgba(135,206,250, 0.0);\">the</span> <span style=\"background-color:rgba(135,206,250, 0.0);\">ceiling</span> <span style=\"background-color:rgba(135,206,250, 0.0);\">.</span> <span style=\"background-color:rgba(135,206,250, 0.0);\">[SEP]</span></td><td>0.0</td><td>1.0</td></tr><tr><td><b>layer 4 to 10</b></td><td><span style=\"background-color:rgba(135,206,250, 0.0);\">[CLS]</span> <span style=\"background-color:rgba(135,206,250, 0.48300808668136597);\">this</span> <span style=\"background-color:rgba(135,206,250, 0.5486845970153809);\">church</span> <span style=\"background-color:rgba(135,206,250, 0.8385470509529114);\">choir</span> <span style=\"background-color:rgba(135,206,250, 0.6104403734207153);\">sings</span> <span style=\"background-color:rgba(135,206,250, 0.5421858429908752);\">to</span> <span style=\"background-color:rgba(135,206,250, 0.4537797272205353);\">the</span> <span style=\"background-color:rgba(135,206,250, 0.5978891849517822);\">masses</span> <span style=\"background-color:rgba(135,206,250, 0.5196290016174316);\">as</span> <span style=\"background-color:rgba(135,206,250, 0.4452667534351349);\">they</span> <span style=\"background-color:rgba(135,206,250, 0.6112741827964783);\">sing</span> <span style=\"background-color:rgba(135,206,250, 0.4928252100944519);\">joy</span> <span style=\"background-color:rgba(135,206,250, 0.444575697183609);\">##ous</span> <span style=\"background-color:rgba(135,206,250, 0.5871981978416443);\">songs</span> <span style=\"background-color:rgba(135,206,250, 0.5545510053634644);\">from</span> <span style=\"background-color:rgba(135,206,250, 0.42867085337638855);\">the</span> <span style=\"background-color:rgba(135,206,250, 0.7364116311073303);\">book</span> <span style=\"background-color:rgba(135,206,250, 0.5069077014923096);\">at</span> <span style=\"background-color:rgba(135,206,250, 0.42650681734085083);\">a</span> <span style=\"background-color:rgba(135,206,250, 0.8255336284637451);\">church</span> <span style=\"background-color:rgba(135,206,250, 0.0);\">.</span> <span style=\"background-color:rgba(135,206,250, 0.0);\">[SEP]</span> <span style=\"background-color:rgba(135,206,250, 0.5045997500419617);\">the</span> <span style=\"background-color:rgba(135,206,250, 0.5840129256248474);\">church</span> <span style=\"background-color:rgba(135,206,250, 0.7175507545471191);\">has</span> <span style=\"background-color:rgba(135,206,250, 1.0);\">cracks</span> <span style=\"background-color:rgba(135,206,250, 0.45590248703956604);\">in</span> <span style=\"background-color:rgba(135,206,250, 0.43802568316459656);\">the</span> <span style=\"background-color:rgba(135,206,250, 0.6710695624351501);\">ceiling</span> <span style=\"background-color:rgba(135,206,250, 0.0);\">.</span> <span style=\"background-color:rgba(135,206,250, 0.0);\">[SEP]</span></td><td>3.306</td><td>1.0</td></tr><tr><td><b>layer 5 to 10</b></td><td><span style=\"background-color:rgba(135,206,250, 0.0);\">[CLS]</span> <span style=\"background-color:rgba(135,206,250, 0.5043756365776062);\">this</span> <span style=\"background-color:rgba(135,206,250, 0.5331295728683472);\">church</span> <span style=\"background-color:rgba(135,206,250, 0.8041749000549316);\">choir</span> <span style=\"background-color:rgba(135,206,250, 0.5993669629096985);\">sings</span> <span style=\"background-color:rgba(135,206,250, 0.5492244958877563);\">to</span> <span style=\"background-color:rgba(135,206,250, 0.4495101571083069);\">the</span> <span style=\"background-color:rgba(135,206,250, 0.5798399448394775);\">masses</span> <span style=\"background-color:rgba(135,206,250, 0.528186023235321);\">as</span> <span style=\"background-color:rgba(135,206,250, 0.4644796848297119);\">they</span> <span style=\"background-color:rgba(135,206,250, 0.6143286824226379);\">sing</span> <span style=\"background-color:rgba(135,206,250, 0.517802894115448);\">joy</span> <span style=\"background-color:rgba(135,206,250, 0.46226054430007935);\">##ous</span> <span style=\"background-color:rgba(135,206,250, 0.5940629839897156);\">songs</span> <span style=\"background-color:rgba(135,206,250, 0.5549694299697876);\">from</span> <span style=\"background-color:rgba(135,206,250, 0.4369318187236786);\">the</span> <span style=\"background-color:rgba(135,206,250, 0.6818289160728455);\">book</span> <span style=\"background-color:rgba(135,206,250, 0.5070338249206543);\">at</span> <span style=\"background-color:rgba(135,206,250, 0.44224217534065247);\">a</span> <span style=\"background-color:rgba(135,206,250, 0.7937694787979126);\">church</span> <span style=\"background-color:rgba(135,206,250, 0.0);\">.</span> <span style=\"background-color:rgba(135,206,250, 0.0);\">[SEP]</span> <span style=\"background-color:rgba(135,206,250, 0.5094543695449829);\">the</span> <span style=\"background-color:rgba(135,206,250, 0.571438729763031);\">church</span> <span style=\"background-color:rgba(135,206,250, 0.719780683517456);\">has</span> <span style=\"background-color:rgba(135,206,250, 1.0);\">cracks</span> <span style=\"background-color:rgba(135,206,250, 0.4569491744041443);\">in</span> <span style=\"background-color:rgba(135,206,250, 0.4407173693180084);\">the</span> <span style=\"background-color:rgba(135,206,250, 0.6547197699546814);\">ceiling</span> <span style=\"background-color:rgba(135,206,250, 0.0);\">.</span> <span style=\"background-color:rgba(135,206,250, 0.0);\">[SEP]</span></td><td>3.309</td><td>1.0</td></tr></table>"
     },
     "metadata": {},
     "output_type": "display_data"
    },
    {
     "data": {
      "text/plain": "<IPython.core.display.HTML object>",
      "text/html": "<table><tr><th></th><th>[CLS] + P + [SEP] + H + [SEP]</th><th>Entropy</th><th>&#x3A3;a</th> </tr><tr><td><b>GROUNDTRUTH</b></td><td><span style=\"background-color:rgba(135,206,250, 0.0);\">[CLS]</span> <span style=\"background-color:rgba(135,206,250, 0.0);\">this</span> <span style=\"background-color:rgba(135,206,250, 0.0);\">church</span> <span style=\"background-color:rgba(135,206,250, 1.0);\">choir</span> <span style=\"background-color:rgba(135,206,250, 1.0);\">sings</span> <span style=\"background-color:rgba(135,206,250, 1.0);\">to</span> <span style=\"background-color:rgba(135,206,250, 1.0);\">the</span> <span style=\"background-color:rgba(135,206,250, 1.0);\">masses</span> <span style=\"background-color:rgba(135,206,250, 0.0);\">as</span> <span style=\"background-color:rgba(135,206,250, 0.0);\">they</span> <span style=\"background-color:rgba(135,206,250, 0.0);\">sing</span> <span style=\"background-color:rgba(135,206,250, 0.0);\">joy</span> <span style=\"background-color:rgba(135,206,250, 0.0);\">##ous</span> <span style=\"background-color:rgba(135,206,250, 0.0);\">songs</span> <span style=\"background-color:rgba(135,206,250, 0.0);\">from</span> <span style=\"background-color:rgba(135,206,250, 0.0);\">the</span> <span style=\"background-color:rgba(135,206,250, 0.0);\">book</span> <span style=\"background-color:rgba(135,206,250, 0.0);\">at</span> <span style=\"background-color:rgba(135,206,250, 0.0);\">a</span> <span style=\"background-color:rgba(135,206,250, 0.0);\">church</span> <span style=\"background-color:rgba(135,206,250, 0.0);\">.</span> <span style=\"background-color:rgba(135,206,250, 0.0);\">[SEP]</span> <span style=\"background-color:rgba(135,206,250, 0.0);\">the</span> <span style=\"background-color:rgba(135,206,250, 0.0);\">church</span> <span style=\"background-color:rgba(135,206,250, 0.0);\">is</span> <span style=\"background-color:rgba(135,206,250, 1.0);\">filled</span> <span style=\"background-color:rgba(135,206,250, 1.0);\">with</span> <span style=\"background-color:rgba(135,206,250, 1.0);\">song</span> <span style=\"background-color:rgba(135,206,250, 1.0);\">.</span> <span style=\"background-color:rgba(135,206,250, 0.0);\">[SEP]</span></td><td>0.0</td><td>0.0</td></tr><tr><td><b>all agreg</b></td><td><span style=\"background-color:rgba(135,206,250, 0.0);\">[CLS]</span> <span style=\"background-color:rgba(135,206,250, 0.0);\">this</span> <span style=\"background-color:rgba(135,206,250, 0.0);\">church</span> <span style=\"background-color:rgba(135,206,250, 0.0);\">choir</span> <span style=\"background-color:rgba(135,206,250, 0.0);\">sings</span> <span style=\"background-color:rgba(135,206,250, 0.0);\">to</span> <span style=\"background-color:rgba(135,206,250, 0.0);\">the</span> <span style=\"background-color:rgba(135,206,250, 0.0);\">masses</span> <span style=\"background-color:rgba(135,206,250, 0.0);\">as</span> <span style=\"background-color:rgba(135,206,250, 0.0);\">they</span> <span style=\"background-color:rgba(135,206,250, 0.0);\">sing</span> <span style=\"background-color:rgba(135,206,250, 0.0);\">joy</span> <span style=\"background-color:rgba(135,206,250, 0.0);\">##ous</span> <span style=\"background-color:rgba(135,206,250, 0.0);\">songs</span> <span style=\"background-color:rgba(135,206,250, 0.0);\">from</span> <span style=\"background-color:rgba(135,206,250, 0.0);\">the</span> <span style=\"background-color:rgba(135,206,250, 0.0);\">book</span> <span style=\"background-color:rgba(135,206,250, 0.0);\">at</span> <span style=\"background-color:rgba(135,206,250, 0.0);\">a</span> <span style=\"background-color:rgba(135,206,250, 0.0);\">church</span> <span style=\"background-color:rgba(135,206,250, 0.0);\">.</span> <span style=\"background-color:rgba(135,206,250, 0.0);\">[SEP]</span> <span style=\"background-color:rgba(135,206,250, 0.0);\">the</span> <span style=\"background-color:rgba(135,206,250, 0.0);\">church</span> <span style=\"background-color:rgba(135,206,250, 0.0);\">is</span> <span style=\"background-color:rgba(135,206,250, 0.0);\">filled</span> <span style=\"background-color:rgba(135,206,250, 0.0);\">with</span> <span style=\"background-color:rgba(135,206,250, 0.0);\">song</span> <span style=\"background-color:rgba(135,206,250, 0.0);\">.</span> <span style=\"background-color:rgba(135,206,250, 0.0);\">[SEP]</span></td><td>0.012</td><td>1.0</td></tr><tr><td><b>layer 4 to 10</b></td><td><span style=\"background-color:rgba(135,206,250, 0.0);\">[CLS]</span> <span style=\"background-color:rgba(135,206,250, 0.58351069688797);\">this</span> <span style=\"background-color:rgba(135,206,250, 0.6373992562294006);\">church</span> <span style=\"background-color:rgba(135,206,250, 1.0);\">choir</span> <span style=\"background-color:rgba(135,206,250, 0.7417210936546326);\">sings</span> <span style=\"background-color:rgba(135,206,250, 0.672976553440094);\">to</span> <span style=\"background-color:rgba(135,206,250, 0.5166010856628418);\">the</span> <span style=\"background-color:rgba(135,206,250, 0.762893557548523);\">masses</span> <span style=\"background-color:rgba(135,206,250, 0.5978800058364868);\">as</span> <span style=\"background-color:rgba(135,206,250, 0.5333187580108643);\">they</span> <span style=\"background-color:rgba(135,206,250, 0.7297760844230652);\">sing</span> <span style=\"background-color:rgba(135,206,250, 0.5968360900878906);\">joy</span> <span style=\"background-color:rgba(135,206,250, 0.5419955253601074);\">##ous</span> <span style=\"background-color:rgba(135,206,250, 0.6382266879081726);\">songs</span> <span style=\"background-color:rgba(135,206,250, 0.6374388337135315);\">from</span> <span style=\"background-color:rgba(135,206,250, 0.4946402609348297);\">the</span> <span style=\"background-color:rgba(135,206,250, 0.9307931661605835);\">book</span> <span style=\"background-color:rgba(135,206,250, 0.581336498260498);\">at</span> <span style=\"background-color:rgba(135,206,250, 0.5010520219802856);\">a</span> <span style=\"background-color:rgba(135,206,250, 0.8551778197288513);\">church</span> <span style=\"background-color:rgba(135,206,250, 0.0);\">.</span> <span style=\"background-color:rgba(135,206,250, 0.0);\">[SEP]</span> <span style=\"background-color:rgba(135,206,250, 0.5964066386222839);\">the</span> <span style=\"background-color:rgba(135,206,250, 0.7215034365653992);\">church</span> <span style=\"background-color:rgba(135,206,250, 0.5009538531303406);\">is</span> <span style=\"background-color:rgba(135,206,250, 0.699501097202301);\">filled</span> <span style=\"background-color:rgba(135,206,250, 0.6214918494224548);\">with</span> <span style=\"background-color:rgba(135,206,250, 0.70017009973526);\">song</span> <span style=\"background-color:rgba(135,206,250, 0.0);\">.</span> <span style=\"background-color:rgba(135,206,250, 0.0);\">[SEP]</span></td><td>3.279</td><td>1.0</td></tr><tr><td><b>layer 5 to 10</b></td><td><span style=\"background-color:rgba(135,206,250, 0.0);\">[CLS]</span> <span style=\"background-color:rgba(135,206,250, 0.6518585085868835);\">this</span> <span style=\"background-color:rgba(135,206,250, 0.6577006578445435);\">church</span> <span style=\"background-color:rgba(135,206,250, 1.0);\">choir</span> <span style=\"background-color:rgba(135,206,250, 0.7652370929718018);\">sings</span> <span style=\"background-color:rgba(135,206,250, 0.7274301052093506);\">to</span> <span style=\"background-color:rgba(135,206,250, 0.5493885278701782);\">the</span> <span style=\"background-color:rgba(135,206,250, 0.7857332229614258);\">masses</span> <span style=\"background-color:rgba(135,206,250, 0.650529146194458);\">as</span> <span style=\"background-color:rgba(135,206,250, 0.5921425223350525);\">they</span> <span style=\"background-color:rgba(135,206,250, 0.773238480091095);\">sing</span> <span style=\"background-color:rgba(135,206,250, 0.6650543808937073);\">joy</span> <span style=\"background-color:rgba(135,206,250, 0.5964694619178772);\">##ous</span> <span style=\"background-color:rgba(135,206,250, 0.6876353621482849);\">songs</span> <span style=\"background-color:rgba(135,206,250, 0.6809868216514587);\">from</span> <span style=\"background-color:rgba(135,206,250, 0.539179265499115);\">the</span> <span style=\"background-color:rgba(135,206,250, 0.9029243588447571);\">book</span> <span style=\"background-color:rgba(135,206,250, 0.6244313716888428);\">at</span> <span style=\"background-color:rgba(135,206,250, 0.5544963479042053);\">a</span> <span style=\"background-color:rgba(135,206,250, 0.8802435994148254);\">church</span> <span style=\"background-color:rgba(135,206,250, 0.0);\">.</span> <span style=\"background-color:rgba(135,206,250, 0.0);\">[SEP]</span> <span style=\"background-color:rgba(135,206,250, 0.6440915465354919);\">the</span> <span style=\"background-color:rgba(135,206,250, 0.7580105662345886);\">church</span> <span style=\"background-color:rgba(135,206,250, 0.5685768723487854);\">is</span> <span style=\"background-color:rgba(135,206,250, 0.7592658400535583);\">filled</span> <span style=\"background-color:rgba(135,206,250, 0.6679326891899109);\">with</span> <span style=\"background-color:rgba(135,206,250, 0.7682362198829651);\">song</span> <span style=\"background-color:rgba(135,206,250, 0.0);\">.</span> <span style=\"background-color:rgba(135,206,250, 0.0);\">[SEP]</span></td><td>3.284</td><td>1.0</td></tr></table>"
     },
     "metadata": {},
     "output_type": "display_data"
    },
    {
     "data": {
      "text/plain": "<IPython.core.display.HTML object>",
      "text/html": "<table><tr><th></th><th>[CLS] + P + [SEP] + H + [SEP]</th><th>Entropy</th><th>&#x3A3;a</th> </tr><tr><td><b>GROUNDTRUTH</b></td><td><span style=\"background-color:rgba(135,206,250, 0.0);\">[CLS]</span> <span style=\"background-color:rgba(135,206,250, 0.0);\">this</span> <span style=\"background-color:rgba(135,206,250, 0.0);\">church</span> <span style=\"background-color:rgba(135,206,250, 0.0);\">choir</span> <span style=\"background-color:rgba(135,206,250, 0.0);\">sings</span> <span style=\"background-color:rgba(135,206,250, 0.0);\">to</span> <span style=\"background-color:rgba(135,206,250, 0.0);\">the</span> <span style=\"background-color:rgba(135,206,250, 1.0);\">masses</span> <span style=\"background-color:rgba(135,206,250, 0.0);\">as</span> <span style=\"background-color:rgba(135,206,250, 0.0);\">they</span> <span style=\"background-color:rgba(135,206,250, 0.0);\">sing</span> <span style=\"background-color:rgba(135,206,250, 0.0);\">joy</span> <span style=\"background-color:rgba(135,206,250, 0.0);\">##ous</span> <span style=\"background-color:rgba(135,206,250, 0.0);\">songs</span> <span style=\"background-color:rgba(135,206,250, 0.0);\">from</span> <span style=\"background-color:rgba(135,206,250, 0.0);\">the</span> <span style=\"background-color:rgba(135,206,250, 1.0);\">book</span> <span style=\"background-color:rgba(135,206,250, 0.0);\">at</span> <span style=\"background-color:rgba(135,206,250, 0.0);\">a</span> <span style=\"background-color:rgba(135,206,250, 1.0);\">church</span> <span style=\"background-color:rgba(135,206,250, 1.0);\">.</span> <span style=\"background-color:rgba(135,206,250, 0.0);\">[SEP]</span> <span style=\"background-color:rgba(135,206,250, 0.0);\">a</span> <span style=\"background-color:rgba(135,206,250, 0.0);\">choir</span> <span style=\"background-color:rgba(135,206,250, 1.0);\">singing</span> <span style=\"background-color:rgba(135,206,250, 0.0);\">at</span> <span style=\"background-color:rgba(135,206,250, 0.0);\">a</span> <span style=\"background-color:rgba(135,206,250, 1.0);\">baseball</span> <span style=\"background-color:rgba(135,206,250, 1.0);\">game</span> <span style=\"background-color:rgba(135,206,250, 1.0);\">.</span> <span style=\"background-color:rgba(135,206,250, 0.0);\">[SEP]</span></td><td>0.0</td><td>0.0</td></tr><tr><td><b>all agreg</b></td><td><span style=\"background-color:rgba(135,206,250, 0.0);\">[CLS]</span> <span style=\"background-color:rgba(135,206,250, 0.0);\">this</span> <span style=\"background-color:rgba(135,206,250, 0.0);\">church</span> <span style=\"background-color:rgba(135,206,250, 0.0);\">choir</span> <span style=\"background-color:rgba(135,206,250, 0.0);\">sings</span> <span style=\"background-color:rgba(135,206,250, 0.0);\">to</span> <span style=\"background-color:rgba(135,206,250, 0.0);\">the</span> <span style=\"background-color:rgba(135,206,250, 0.0);\">masses</span> <span style=\"background-color:rgba(135,206,250, 0.0);\">as</span> <span style=\"background-color:rgba(135,206,250, 0.0);\">they</span> <span style=\"background-color:rgba(135,206,250, 0.0);\">sing</span> <span style=\"background-color:rgba(135,206,250, 0.0);\">joy</span> <span style=\"background-color:rgba(135,206,250, 0.0);\">##ous</span> <span style=\"background-color:rgba(135,206,250, 0.0);\">songs</span> <span style=\"background-color:rgba(135,206,250, 0.0);\">from</span> <span style=\"background-color:rgba(135,206,250, 0.0);\">the</span> <span style=\"background-color:rgba(135,206,250, 0.0);\">book</span> <span style=\"background-color:rgba(135,206,250, 0.0);\">at</span> <span style=\"background-color:rgba(135,206,250, 0.0);\">a</span> <span style=\"background-color:rgba(135,206,250, 0.0);\">church</span> <span style=\"background-color:rgba(135,206,250, 0.0);\">.</span> <span style=\"background-color:rgba(135,206,250, 0.0);\">[SEP]</span> <span style=\"background-color:rgba(135,206,250, 1.0);\">a</span> <span style=\"background-color:rgba(135,206,250, 0.0);\">choir</span> <span style=\"background-color:rgba(135,206,250, 0.0);\">singing</span> <span style=\"background-color:rgba(135,206,250, 0.0);\">at</span> <span style=\"background-color:rgba(135,206,250, 0.0);\">a</span> <span style=\"background-color:rgba(135,206,250, 0.0);\">baseball</span> <span style=\"background-color:rgba(135,206,250, 0.0);\">game</span> <span style=\"background-color:rgba(135,206,250, 0.0);\">.</span> <span style=\"background-color:rgba(135,206,250, 0.0);\">[SEP]</span></td><td>0.0</td><td>1.0</td></tr><tr><td><b>layer 4 to 10</b></td><td><span style=\"background-color:rgba(135,206,250, 0.0);\">[CLS]</span> <span style=\"background-color:rgba(135,206,250, 0.01000920683145523);\">this</span> <span style=\"background-color:rgba(135,206,250, 0.014109873212873936);\">church</span> <span style=\"background-color:rgba(135,206,250, 0.013533876277506351);\">choir</span> <span style=\"background-color:rgba(135,206,250, 0.01208585500717163);\">sings</span> <span style=\"background-color:rgba(135,206,250, 0.011621473357081413);\">to</span> <span style=\"background-color:rgba(135,206,250, 0.009534024633467197);\">the</span> <span style=\"background-color:rgba(135,206,250, 0.0126419672742486);\">masses</span> <span style=\"background-color:rgba(135,206,250, 0.01119382493197918);\">as</span> <span style=\"background-color:rgba(135,206,250, 0.009954821318387985);\">they</span> <span style=\"background-color:rgba(135,206,250, 0.013640842400491238);\">sing</span> <span style=\"background-color:rgba(135,206,250, 0.010913589037954807);\">joy</span> <span style=\"background-color:rgba(135,206,250, 0.01002386026084423);\">##ous</span> <span style=\"background-color:rgba(135,206,250, 0.011549160815775394);\">songs</span> <span style=\"background-color:rgba(135,206,250, 0.011253905482590199);\">from</span> <span style=\"background-color:rgba(135,206,250, 0.009277205914258957);\">the</span> <span style=\"background-color:rgba(135,206,250, 0.016417155042290688);\">book</span> <span style=\"background-color:rgba(135,206,250, 0.013201647438108921);\">at</span> <span style=\"background-color:rgba(135,206,250, 0.009701037779450417);\">a</span> <span style=\"background-color:rgba(135,206,250, 0.029080107808113098);\">church</span> <span style=\"background-color:rgba(135,206,250, 0.0);\">.</span> <span style=\"background-color:rgba(135,206,250, 0.0);\">[SEP]</span> <span style=\"background-color:rgba(135,206,250, 1.0);\">a</span> <span style=\"background-color:rgba(135,206,250, 0.019094794988632202);\">choir</span> <span style=\"background-color:rgba(135,206,250, 0.013788021169602871);\">singing</span> <span style=\"background-color:rgba(135,206,250, 0.01519655529409647);\">at</span> <span style=\"background-color:rgba(135,206,250, 0.0096186064183712);\">a</span> <span style=\"background-color:rgba(135,206,250, 0.012026745826005936);\">baseball</span> <span style=\"background-color:rgba(135,206,250, 0.011978276073932648);\">game</span> <span style=\"background-color:rgba(135,206,250, 0.0);\">.</span> <span style=\"background-color:rgba(135,206,250, 0.0);\">[SEP]</span></td><td>1.402</td><td>1.0</td></tr><tr><td><b>layer 5 to 10</b></td><td><span style=\"background-color:rgba(135,206,250, 0.0);\">[CLS]</span> <span style=\"background-color:rgba(135,206,250, 0.011061456054449081);\">this</span> <span style=\"background-color:rgba(135,206,250, 0.014709936454892159);\">church</span> <span style=\"background-color:rgba(135,206,250, 0.013791256584227085);\">choir</span> <span style=\"background-color:rgba(135,206,250, 0.012384776026010513);\">sings</span> <span style=\"background-color:rgba(135,206,250, 0.012426307424902916);\">to</span> <span style=\"background-color:rgba(135,206,250, 0.010111394338309765);\">the</span> <span style=\"background-color:rgba(135,206,250, 0.013220717199146748);\">masses</span> <span style=\"background-color:rgba(135,206,250, 0.012100772932171822);\">as</span> <span style=\"background-color:rgba(135,206,250, 0.010968709364533424);\">they</span> <span style=\"background-color:rgba(135,206,250, 0.014659835025668144);\">sing</span> <span style=\"background-color:rgba(135,206,250, 0.012066466733813286);\">joy</span> <span style=\"background-color:rgba(135,206,250, 0.010965880006551743);\">##ous</span> <span style=\"background-color:rgba(135,206,250, 0.012432264164090157);\">songs</span> <span style=\"background-color:rgba(135,206,250, 0.01185268722474575);\">from</span> <span style=\"background-color:rgba(135,206,250, 0.010055715218186378);\">the</span> <span style=\"background-color:rgba(135,206,250, 0.015907326713204384);\">book</span> <span style=\"background-color:rgba(135,206,250, 0.01369013823568821);\">at</span> <span style=\"background-color:rgba(135,206,250, 0.010621579363942146);\">a</span> <span style=\"background-color:rgba(135,206,250, 0.030207378789782524);\">church</span> <span style=\"background-color:rgba(135,206,250, 0.0);\">.</span> <span style=\"background-color:rgba(135,206,250, 0.0);\">[SEP]</span> <span style=\"background-color:rgba(135,206,250, 1.0);\">a</span> <span style=\"background-color:rgba(135,206,250, 0.020090525969862938);\">choir</span> <span style=\"background-color:rgba(135,206,250, 0.014627150259912014);\">singing</span> <span style=\"background-color:rgba(135,206,250, 0.015509823337197304);\">at</span> <span style=\"background-color:rgba(135,206,250, 0.010572499595582485);\">a</span> <span style=\"background-color:rgba(135,206,250, 0.012867387384176254);\">baseball</span> <span style=\"background-color:rgba(135,206,250, 0.011880838312208652);\">game</span> <span style=\"background-color:rgba(135,206,250, 0.0);\">.</span> <span style=\"background-color:rgba(135,206,250, 0.0);\">[SEP]</span></td><td>1.447</td><td>1.0</td></tr></table>"
     },
     "metadata": {},
     "output_type": "display_data"
    },
    {
     "data": {
      "text/plain": "<IPython.core.display.HTML object>",
      "text/html": "<table><tr><th></th><th>[CLS] + P + [SEP] + H + [SEP]</th><th>Entropy</th><th>&#x3A3;a</th> </tr><tr><td><b>GROUNDTRUTH</b></td><td><span style=\"background-color:rgba(135,206,250, 0.0);\">[CLS]</span> <span style=\"background-color:rgba(135,206,250, 0.0);\">a</span> <span style=\"background-color:rgba(135,206,250, 0.0);\">woman</span> <span style=\"background-color:rgba(135,206,250, 0.0);\">with</span> <span style=\"background-color:rgba(135,206,250, 0.0);\">a</span> <span style=\"background-color:rgba(135,206,250, 0.0);\">green</span> <span style=\"background-color:rgba(135,206,250, 0.0);\">heads</span> <span style=\"background-color:rgba(135,206,250, 0.0);\">##car</span> <span style=\"background-color:rgba(135,206,250, 0.0);\">##f</span> <span style=\"background-color:rgba(135,206,250, 0.0);\">,</span> <span style=\"background-color:rgba(135,206,250, 0.0);\">blue</span> <span style=\"background-color:rgba(135,206,250, 0.0);\">shirt</span> <span style=\"background-color:rgba(135,206,250, 0.0);\">and</span> <span style=\"background-color:rgba(135,206,250, 0.0);\">a</span> <span style=\"background-color:rgba(135,206,250, 0.0);\">very</span> <span style=\"background-color:rgba(135,206,250, 0.0);\">big</span> <span style=\"background-color:rgba(135,206,250, 0.0);\">grin</span> <span style=\"background-color:rgba(135,206,250, 0.0);\">.</span> <span style=\"background-color:rgba(135,206,250, 0.0);\">[SEP]</span> <span style=\"background-color:rgba(135,206,250, 0.0);\">the</span> <span style=\"background-color:rgba(135,206,250, 0.0);\">woman</span> <span style=\"background-color:rgba(135,206,250, 0.0);\">is</span> <span style=\"background-color:rgba(135,206,250, 1.0);\">young</span> <span style=\"background-color:rgba(135,206,250, 1.0);\">.</span> <span style=\"background-color:rgba(135,206,250, 0.0);\">[SEP]</span></td><td>0.0</td><td>0.0</td></tr><tr><td><b>all agreg</b></td><td><span style=\"background-color:rgba(135,206,250, 0.0);\">[CLS]</span> <span style=\"background-color:rgba(135,206,250, 0.0);\">a</span> <span style=\"background-color:rgba(135,206,250, 0.0);\">woman</span> <span style=\"background-color:rgba(135,206,250, 0.0);\">with</span> <span style=\"background-color:rgba(135,206,250, 0.0);\">a</span> <span style=\"background-color:rgba(135,206,250, 0.0);\">green</span> <span style=\"background-color:rgba(135,206,250, 0.0);\">heads</span> <span style=\"background-color:rgba(135,206,250, 0.0);\">##car</span> <span style=\"background-color:rgba(135,206,250, 0.0);\">##f</span> <span style=\"background-color:rgba(135,206,250, 0.0);\">,</span> <span style=\"background-color:rgba(135,206,250, 0.0);\">blue</span> <span style=\"background-color:rgba(135,206,250, 0.0);\">shirt</span> <span style=\"background-color:rgba(135,206,250, 0.0);\">and</span> <span style=\"background-color:rgba(135,206,250, 0.0);\">a</span> <span style=\"background-color:rgba(135,206,250, 0.0);\">very</span> <span style=\"background-color:rgba(135,206,250, 0.0);\">big</span> <span style=\"background-color:rgba(135,206,250, 0.0);\">grin</span> <span style=\"background-color:rgba(135,206,250, 0.0);\">.</span> <span style=\"background-color:rgba(135,206,250, 0.0);\">[SEP]</span> <span style=\"background-color:rgba(135,206,250, 0.0);\">the</span> <span style=\"background-color:rgba(135,206,250, 0.0);\">woman</span> <span style=\"background-color:rgba(135,206,250, 0.0);\">is</span> <span style=\"background-color:rgba(135,206,250, 1.0);\">young</span> <span style=\"background-color:rgba(135,206,250, 0.0);\">.</span> <span style=\"background-color:rgba(135,206,250, 0.0);\">[SEP]</span></td><td>0.0</td><td>1.0</td></tr><tr><td><b>layer 4 to 10</b></td><td><span style=\"background-color:rgba(135,206,250, 0.0);\">[CLS]</span> <span style=\"background-color:rgba(135,206,250, 0.511688768863678);\">a</span> <span style=\"background-color:rgba(135,206,250, 0.6069498658180237);\">woman</span> <span style=\"background-color:rgba(135,206,250, 0.7138177752494812);\">with</span> <span style=\"background-color:rgba(135,206,250, 0.5345073342323303);\">a</span> <span style=\"background-color:rgba(135,206,250, 0.6942299604415894);\">green</span> <span style=\"background-color:rgba(135,206,250, 0.7913596034049988);\">heads</span> <span style=\"background-color:rgba(135,206,250, 0.6407706141471863);\">##car</span> <span style=\"background-color:rgba(135,206,250, 0.5782666206359863);\">##f</span> <span style=\"background-color:rgba(135,206,250, 0.0);\">,</span> <span style=\"background-color:rgba(135,206,250, 0.5444707870483398);\">blue</span> <span style=\"background-color:rgba(135,206,250, 0.6438397169113159);\">shirt</span> <span style=\"background-color:rgba(135,206,250, 0.7126930952072144);\">and</span> <span style=\"background-color:rgba(135,206,250, 0.4978434145450592);\">a</span> <span style=\"background-color:rgba(135,206,250, 0.5211003422737122);\">very</span> <span style=\"background-color:rgba(135,206,250, 0.5907207727432251);\">big</span> <span style=\"background-color:rgba(135,206,250, 0.9185901880264282);\">grin</span> <span style=\"background-color:rgba(135,206,250, 0.0);\">.</span> <span style=\"background-color:rgba(135,206,250, 0.0);\">[SEP]</span> <span style=\"background-color:rgba(135,206,250, 0.6005178689956665);\">the</span> <span style=\"background-color:rgba(135,206,250, 0.5536877512931824);\">woman</span> <span style=\"background-color:rgba(135,206,250, 0.6005090475082397);\">is</span> <span style=\"background-color:rgba(135,206,250, 1.0);\">young</span> <span style=\"background-color:rgba(135,206,250, 0.0);\">.</span> <span style=\"background-color:rgba(135,206,250, 0.0);\">[SEP]</span></td><td>3.074</td><td>1.0</td></tr><tr><td><b>layer 5 to 10</b></td><td><span style=\"background-color:rgba(135,206,250, 0.0);\">[CLS]</span> <span style=\"background-color:rgba(135,206,250, 0.5241761207580566);\">a</span> <span style=\"background-color:rgba(135,206,250, 0.5912702679634094);\">woman</span> <span style=\"background-color:rgba(135,206,250, 0.7120159268379211);\">with</span> <span style=\"background-color:rgba(135,206,250, 0.5351428389549255);\">a</span> <span style=\"background-color:rgba(135,206,250, 0.6917568445205688);\">green</span> <span style=\"background-color:rgba(135,206,250, 0.7921789288520813);\">heads</span> <span style=\"background-color:rgba(135,206,250, 0.6334819793701172);\">##car</span> <span style=\"background-color:rgba(135,206,250, 0.5729010701179504);\">##f</span> <span style=\"background-color:rgba(135,206,250, 0.0);\">,</span> <span style=\"background-color:rgba(135,206,250, 0.5638365745544434);\">blue</span> <span style=\"background-color:rgba(135,206,250, 0.629962146282196);\">shirt</span> <span style=\"background-color:rgba(135,206,250, 0.6825405955314636);\">and</span> <span style=\"background-color:rgba(135,206,250, 0.5139486193656921);\">a</span> <span style=\"background-color:rgba(135,206,250, 0.542517364025116);\">very</span> <span style=\"background-color:rgba(135,206,250, 0.5981912612915039);\">big</span> <span style=\"background-color:rgba(135,206,250, 0.8568671941757202);\">grin</span> <span style=\"background-color:rgba(135,206,250, 0.0);\">.</span> <span style=\"background-color:rgba(135,206,250, 0.0);\">[SEP]</span> <span style=\"background-color:rgba(135,206,250, 0.5954315066337585);\">the</span> <span style=\"background-color:rgba(135,206,250, 0.5582168698310852);\">woman</span> <span style=\"background-color:rgba(135,206,250, 0.6070111393928528);\">is</span> <span style=\"background-color:rgba(135,206,250, 1.0);\">young</span> <span style=\"background-color:rgba(135,206,250, 0.0);\">.</span> <span style=\"background-color:rgba(135,206,250, 0.0);\">[SEP]</span></td><td>3.076</td><td>1.0</td></tr></table>"
     },
     "metadata": {},
     "output_type": "display_data"
    },
    {
     "data": {
      "text/plain": "<IPython.core.display.HTML object>",
      "text/html": "<table><tr><th></th><th>[CLS] + P + [SEP] + H + [SEP]</th><th>Entropy</th><th>&#x3A3;a</th> </tr><tr><td><b>GROUNDTRUTH</b></td><td><span style=\"background-color:rgba(135,206,250, 0.0);\">[CLS]</span> <span style=\"background-color:rgba(135,206,250, 0.0);\">a</span> <span style=\"background-color:rgba(135,206,250, 0.0);\">woman</span> <span style=\"background-color:rgba(135,206,250, 0.0);\">with</span> <span style=\"background-color:rgba(135,206,250, 0.0);\">a</span> <span style=\"background-color:rgba(135,206,250, 0.0);\">green</span> <span style=\"background-color:rgba(135,206,250, 0.0);\">heads</span> <span style=\"background-color:rgba(135,206,250, 0.0);\">##car</span> <span style=\"background-color:rgba(135,206,250, 0.0);\">##f</span> <span style=\"background-color:rgba(135,206,250, 0.0);\">,</span> <span style=\"background-color:rgba(135,206,250, 0.0);\">blue</span> <span style=\"background-color:rgba(135,206,250, 0.0);\">shirt</span> <span style=\"background-color:rgba(135,206,250, 0.0);\">and</span> <span style=\"background-color:rgba(135,206,250, 0.0);\">a</span> <span style=\"background-color:rgba(135,206,250, 0.0);\">very</span> <span style=\"background-color:rgba(135,206,250, 0.0);\">big</span> <span style=\"background-color:rgba(135,206,250, 1.0);\">grin</span> <span style=\"background-color:rgba(135,206,250, 1.0);\">.</span> <span style=\"background-color:rgba(135,206,250, 0.0);\">[SEP]</span> <span style=\"background-color:rgba(135,206,250, 0.0);\">the</span> <span style=\"background-color:rgba(135,206,250, 0.0);\">woman</span> <span style=\"background-color:rgba(135,206,250, 0.0);\">is</span> <span style=\"background-color:rgba(135,206,250, 0.0);\">very</span> <span style=\"background-color:rgba(135,206,250, 1.0);\">happy</span> <span style=\"background-color:rgba(135,206,250, 1.0);\">.</span> <span style=\"background-color:rgba(135,206,250, 0.0);\">[SEP]</span></td><td>0.0</td><td>0.0</td></tr><tr><td><b>all agreg</b></td><td><span style=\"background-color:rgba(135,206,250, 0.0);\">[CLS]</span> <span style=\"background-color:rgba(135,206,250, 0.0);\">a</span> <span style=\"background-color:rgba(135,206,250, 0.0);\">woman</span> <span style=\"background-color:rgba(135,206,250, 0.0);\">with</span> <span style=\"background-color:rgba(135,206,250, 0.0);\">a</span> <span style=\"background-color:rgba(135,206,250, 0.0);\">green</span> <span style=\"background-color:rgba(135,206,250, 0.0);\">heads</span> <span style=\"background-color:rgba(135,206,250, 0.0);\">##car</span> <span style=\"background-color:rgba(135,206,250, 0.0);\">##f</span> <span style=\"background-color:rgba(135,206,250, 0.0);\">,</span> <span style=\"background-color:rgba(135,206,250, 0.0);\">blue</span> <span style=\"background-color:rgba(135,206,250, 0.0);\">shirt</span> <span style=\"background-color:rgba(135,206,250, 0.0);\">and</span> <span style=\"background-color:rgba(135,206,250, 0.0);\">a</span> <span style=\"background-color:rgba(135,206,250, 0.0);\">very</span> <span style=\"background-color:rgba(135,206,250, 0.0);\">big</span> <span style=\"background-color:rgba(135,206,250, 0.0);\">grin</span> <span style=\"background-color:rgba(135,206,250, 0.0);\">.</span> <span style=\"background-color:rgba(135,206,250, 0.0);\">[SEP]</span> <span style=\"background-color:rgba(135,206,250, 0.0);\">the</span> <span style=\"background-color:rgba(135,206,250, 0.0);\">woman</span> <span style=\"background-color:rgba(135,206,250, 0.0);\">is</span> <span style=\"background-color:rgba(135,206,250, 0.0);\">very</span> <span style=\"background-color:rgba(135,206,250, 0.0);\">happy</span> <span style=\"background-color:rgba(135,206,250, 0.0);\">.</span> <span style=\"background-color:rgba(135,206,250, 0.0);\">[SEP]</span></td><td>0.002</td><td>1.0</td></tr><tr><td><b>layer 4 to 10</b></td><td><span style=\"background-color:rgba(135,206,250, 0.0);\">[CLS]</span> <span style=\"background-color:rgba(135,206,250, 0.537667989730835);\">a</span> <span style=\"background-color:rgba(135,206,250, 0.6241724491119385);\">woman</span> <span style=\"background-color:rgba(135,206,250, 0.773639440536499);\">with</span> <span style=\"background-color:rgba(135,206,250, 0.5700768828392029);\">a</span> <span style=\"background-color:rgba(135,206,250, 0.7267626523971558);\">green</span> <span style=\"background-color:rgba(135,206,250, 0.8213099837303162);\">heads</span> <span style=\"background-color:rgba(135,206,250, 0.6888155341148376);\">##car</span> <span style=\"background-color:rgba(135,206,250, 0.6257297396659851);\">##f</span> <span style=\"background-color:rgba(135,206,250, 0.0);\">,</span> <span style=\"background-color:rgba(135,206,250, 0.5887815356254578);\">blue</span> <span style=\"background-color:rgba(135,206,250, 0.6890929937362671);\">shirt</span> <span style=\"background-color:rgba(135,206,250, 0.7835438251495361);\">and</span> <span style=\"background-color:rgba(135,206,250, 0.5484673976898193);\">a</span> <span style=\"background-color:rgba(135,206,250, 0.6089855432510376);\">very</span> <span style=\"background-color:rgba(135,206,250, 0.685954213142395);\">big</span> <span style=\"background-color:rgba(135,206,250, 0.8899804949760437);\">grin</span> <span style=\"background-color:rgba(135,206,250, 0.0);\">.</span> <span style=\"background-color:rgba(135,206,250, 0.0);\">[SEP]</span> <span style=\"background-color:rgba(135,206,250, 0.6584906578063965);\">the</span> <span style=\"background-color:rgba(135,206,250, 0.5858328938484192);\">woman</span> <span style=\"background-color:rgba(135,206,250, 0.579643964767456);\">is</span> <span style=\"background-color:rgba(135,206,250, 0.6668660640716553);\">very</span> <span style=\"background-color:rgba(135,206,250, 1.0);\">happy</span> <span style=\"background-color:rgba(135,206,250, 0.0);\">.</span> <span style=\"background-color:rgba(135,206,250, 0.0);\">[SEP]</span></td><td>3.123</td><td>1.0</td></tr><tr><td><b>layer 5 to 10</b></td><td><span style=\"background-color:rgba(135,206,250, 0.0);\">[CLS]</span> <span style=\"background-color:rgba(135,206,250, 0.538293182849884);\">a</span> <span style=\"background-color:rgba(135,206,250, 0.5952643156051636);\">woman</span> <span style=\"background-color:rgba(135,206,250, 0.7528778314590454);\">with</span> <span style=\"background-color:rgba(135,206,250, 0.5564780235290527);\">a</span> <span style=\"background-color:rgba(135,206,250, 0.7079347968101501);\">green</span> <span style=\"background-color:rgba(135,206,250, 0.8009835481643677);\">heads</span> <span style=\"background-color:rgba(135,206,250, 0.6625893115997314);\">##car</span> <span style=\"background-color:rgba(135,206,250, 0.6040499806404114);\">##f</span> <span style=\"background-color:rgba(135,206,250, 0.0);\">,</span> <span style=\"background-color:rgba(135,206,250, 0.5941396951675415);\">blue</span> <span style=\"background-color:rgba(135,206,250, 0.6568605899810791);\">shirt</span> <span style=\"background-color:rgba(135,206,250, 0.7323059439659119);\">and</span> <span style=\"background-color:rgba(135,206,250, 0.5512292981147766);\">a</span> <span style=\"background-color:rgba(135,206,250, 0.602630615234375);\">very</span> <span style=\"background-color:rgba(135,206,250, 0.6784665584564209);\">big</span> <span style=\"background-color:rgba(135,206,250, 0.8038226962089539);\">grin</span> <span style=\"background-color:rgba(135,206,250, 0.0);\">.</span> <span style=\"background-color:rgba(135,206,250, 0.0);\">[SEP]</span> <span style=\"background-color:rgba(135,206,250, 0.6393274068832397);\">the</span> <span style=\"background-color:rgba(135,206,250, 0.5754231214523315);\">woman</span> <span style=\"background-color:rgba(135,206,250, 0.587173342704773);\">is</span> <span style=\"background-color:rgba(135,206,250, 0.6654675602912903);\">very</span> <span style=\"background-color:rgba(135,206,250, 1.0);\">happy</span> <span style=\"background-color:rgba(135,206,250, 0.0);\">.</span> <span style=\"background-color:rgba(135,206,250, 0.0);\">[SEP]</span></td><td>3.124</td><td>1.0</td></tr></table>"
     },
     "metadata": {},
     "output_type": "display_data"
    },
    {
     "data": {
      "text/plain": "<IPython.core.display.HTML object>",
      "text/html": "<table><tr><th></th><th>[CLS] + P + [SEP] + H + [SEP]</th><th>Entropy</th><th>&#x3A3;a</th> </tr><tr><td><b>GROUNDTRUTH</b></td><td><span style=\"background-color:rgba(135,206,250, 0.0);\">[CLS]</span> <span style=\"background-color:rgba(135,206,250, 0.0);\">a</span> <span style=\"background-color:rgba(135,206,250, 0.0);\">woman</span> <span style=\"background-color:rgba(135,206,250, 0.0);\">with</span> <span style=\"background-color:rgba(135,206,250, 0.0);\">a</span> <span style=\"background-color:rgba(135,206,250, 1.0);\">green</span> <span style=\"background-color:rgba(135,206,250, 0.0);\">heads</span> <span style=\"background-color:rgba(135,206,250, 0.0);\">##car</span> <span style=\"background-color:rgba(135,206,250, 0.0);\">##f</span> <span style=\"background-color:rgba(135,206,250, 0.0);\">,</span> <span style=\"background-color:rgba(135,206,250, 0.0);\">blue</span> <span style=\"background-color:rgba(135,206,250, 0.0);\">shirt</span> <span style=\"background-color:rgba(135,206,250, 0.0);\">and</span> <span style=\"background-color:rgba(135,206,250, 0.0);\">a</span> <span style=\"background-color:rgba(135,206,250, 1.0);\">very</span> <span style=\"background-color:rgba(135,206,250, 1.0);\">big</span> <span style=\"background-color:rgba(135,206,250, 1.0);\">grin</span> <span style=\"background-color:rgba(135,206,250, 1.0);\">.</span> <span style=\"background-color:rgba(135,206,250, 0.0);\">[SEP]</span> <span style=\"background-color:rgba(135,206,250, 0.0);\">the</span> <span style=\"background-color:rgba(135,206,250, 0.0);\">woman</span> <span style=\"background-color:rgba(135,206,250, 0.0);\">has</span> <span style=\"background-color:rgba(135,206,250, 0.0);\">been</span> <span style=\"background-color:rgba(135,206,250, 1.0);\">shot</span> <span style=\"background-color:rgba(135,206,250, 1.0);\">.</span> <span style=\"background-color:rgba(135,206,250, 0.0);\">[SEP]</span></td><td>0.0</td><td>0.0</td></tr><tr><td><b>all agreg</b></td><td><span style=\"background-color:rgba(135,206,250, 0.0);\">[CLS]</span> <span style=\"background-color:rgba(135,206,250, 0.0);\">a</span> <span style=\"background-color:rgba(135,206,250, 0.0);\">woman</span> <span style=\"background-color:rgba(135,206,250, 0.0);\">with</span> <span style=\"background-color:rgba(135,206,250, 0.0);\">a</span> <span style=\"background-color:rgba(135,206,250, 0.0);\">green</span> <span style=\"background-color:rgba(135,206,250, 0.0);\">heads</span> <span style=\"background-color:rgba(135,206,250, 0.0);\">##car</span> <span style=\"background-color:rgba(135,206,250, 0.0);\">##f</span> <span style=\"background-color:rgba(135,206,250, 0.0);\">,</span> <span style=\"background-color:rgba(135,206,250, 0.0);\">blue</span> <span style=\"background-color:rgba(135,206,250, 0.0);\">shirt</span> <span style=\"background-color:rgba(135,206,250, 0.0);\">and</span> <span style=\"background-color:rgba(135,206,250, 0.0);\">a</span> <span style=\"background-color:rgba(135,206,250, 0.0);\">very</span> <span style=\"background-color:rgba(135,206,250, 0.0);\">big</span> <span style=\"background-color:rgba(135,206,250, 0.0);\">grin</span> <span style=\"background-color:rgba(135,206,250, 0.0);\">.</span> <span style=\"background-color:rgba(135,206,250, 0.0);\">[SEP]</span> <span style=\"background-color:rgba(135,206,250, 0.0);\">the</span> <span style=\"background-color:rgba(135,206,250, 0.0);\">woman</span> <span style=\"background-color:rgba(135,206,250, 0.0);\">has</span> <span style=\"background-color:rgba(135,206,250, 0.0);\">been</span> <span style=\"background-color:rgba(135,206,250, 1.0);\">shot</span> <span style=\"background-color:rgba(135,206,250, 0.0);\">.</span> <span style=\"background-color:rgba(135,206,250, 0.0);\">[SEP]</span></td><td>0.0</td><td>1.0</td></tr><tr><td><b>layer 4 to 10</b></td><td><span style=\"background-color:rgba(135,206,250, 0.0);\">[CLS]</span> <span style=\"background-color:rgba(135,206,250, 0.5154392719268799);\">a</span> <span style=\"background-color:rgba(135,206,250, 0.6076844334602356);\">woman</span> <span style=\"background-color:rgba(135,206,250, 0.7097100019454956);\">with</span> <span style=\"background-color:rgba(135,206,250, 0.5334550738334656);\">a</span> <span style=\"background-color:rgba(135,206,250, 0.6834999918937683);\">green</span> <span style=\"background-color:rgba(135,206,250, 0.7759266495704651);\">heads</span> <span style=\"background-color:rgba(135,206,250, 0.6525090336799622);\">##car</span> <span style=\"background-color:rgba(135,206,250, 0.5819941759109497);\">##f</span> <span style=\"background-color:rgba(135,206,250, 0.0);\">,</span> <span style=\"background-color:rgba(135,206,250, 0.5443419218063354);\">blue</span> <span style=\"background-color:rgba(135,206,250, 0.6380983591079712);\">shirt</span> <span style=\"background-color:rgba(135,206,250, 0.712369978427887);\">and</span> <span style=\"background-color:rgba(135,206,250, 0.5001572966575623);\">a</span> <span style=\"background-color:rgba(135,206,250, 0.5241384506225586);\">very</span> <span style=\"background-color:rgba(135,206,250, 0.5931764841079712);\">big</span> <span style=\"background-color:rgba(135,206,250, 0.9650188684463501);\">grin</span> <span style=\"background-color:rgba(135,206,250, 0.0);\">.</span> <span style=\"background-color:rgba(135,206,250, 0.0);\">[SEP]</span> <span style=\"background-color:rgba(135,206,250, 0.6125571131706238);\">the</span> <span style=\"background-color:rgba(135,206,250, 0.5669208765029907);\">woman</span> <span style=\"background-color:rgba(135,206,250, 0.7883779406547546);\">has</span> <span style=\"background-color:rgba(135,206,250, 0.632412850856781);\">been</span> <span style=\"background-color:rgba(135,206,250, 1.0);\">shot</span> <span style=\"background-color:rgba(135,206,250, 0.0);\">.</span> <span style=\"background-color:rgba(135,206,250, 0.0);\">[SEP]</span></td><td>3.118</td><td>1.0</td></tr><tr><td><b>layer 5 to 10</b></td><td><span style=\"background-color:rgba(135,206,250, 0.0);\">[CLS]</span> <span style=\"background-color:rgba(135,206,250, 0.5273687839508057);\">a</span> <span style=\"background-color:rgba(135,206,250, 0.5891015529632568);\">woman</span> <span style=\"background-color:rgba(135,206,250, 0.706397294998169);\">with</span> <span style=\"background-color:rgba(135,206,250, 0.5328715443611145);\">a</span> <span style=\"background-color:rgba(135,206,250, 0.682643711566925);\">green</span> <span style=\"background-color:rgba(135,206,250, 0.7752989530563354);\">heads</span> <span style=\"background-color:rgba(135,206,250, 0.6441129446029663);\">##car</span> <span style=\"background-color:rgba(135,206,250, 0.5769612789154053);\">##f</span> <span style=\"background-color:rgba(135,206,250, 0.0);\">,</span> <span style=\"background-color:rgba(135,206,250, 0.5626558661460876);\">blue</span> <span style=\"background-color:rgba(135,206,250, 0.6230053901672363);\">shirt</span> <span style=\"background-color:rgba(135,206,250, 0.681226909160614);\">and</span> <span style=\"background-color:rgba(135,206,250, 0.5154787302017212);\">a</span> <span style=\"background-color:rgba(135,206,250, 0.5446085929870605);\">very</span> <span style=\"background-color:rgba(135,206,250, 0.601771891117096);\">big</span> <span style=\"background-color:rgba(135,206,250, 0.8917220830917358);\">grin</span> <span style=\"background-color:rgba(135,206,250, 0.0);\">.</span> <span style=\"background-color:rgba(135,206,250, 0.0);\">[SEP]</span> <span style=\"background-color:rgba(135,206,250, 0.6073436141014099);\">the</span> <span style=\"background-color:rgba(135,206,250, 0.5635457038879395);\">woman</span> <span style=\"background-color:rgba(135,206,250, 0.7856659293174744);\">has</span> <span style=\"background-color:rgba(135,206,250, 0.6397743225097656);\">been</span> <span style=\"background-color:rgba(135,206,250, 1.0);\">shot</span> <span style=\"background-color:rgba(135,206,250, 0.0);\">.</span> <span style=\"background-color:rgba(135,206,250, 0.0);\">[SEP]</span></td><td>3.12</td><td>1.0</td></tr></table>"
     },
     "metadata": {},
     "output_type": "display_data"
    }
   ],
   "source": [
    "INF = 1e30\n",
    "with torch.no_grad():\n",
    "\n",
    "    display(HTML('<h4>Different type of agregation (Line agregation)</h4>'))\n",
    "    model_outputs = {}\n",
    "\n",
    "    for id_batch, elem in enumerate(test_dataloader) :\n",
    "\n",
    "        if id_batch > 5:\n",
    "            # only look at 5 sentences (batch of one here)\n",
    "            break\n",
    "\n",
    "        ids = elem[\"input_ids\"]\n",
    "        masks = elem[\"attention_masks\"]\n",
    "        labels = elem[\"labels\"]\n",
    "        a_true = list(np.array(elem[\"annotations\"][0].numpy(), dtype=float))\n",
    "\n",
    "        special_tokens = [0, 101, 102]\n",
    "        spe_tok_mask = torch.isin(ids, torch.tensor(special_tokens))[0].type(torch.uint8)\n",
    "\n",
    "        m = masks[0].sum() # nb tokens in the sentence\n",
    "        tokens = tk.convert_ids_to_tokens(ids[0])[0:m]\n",
    "\n",
    "        it = 0\n",
    "\n",
    "        if it == 0:\n",
    "            model_outputs[\"GROUNDTRUTH\"] = {\n",
    "                '[CLS] + P + [SEP] + H + [SEP]':  [hightlight_txt(tokens = tokens,\n",
    "                                                                attention = a_true[0 : m])],\n",
    "                'Entropy': [0.0],\n",
    "                '&#x3A3;a':[0.0]\n",
    "            }\n",
    "\n",
    "            it += 1\n",
    "\n",
    "        output = model(input_ids = ids,\n",
    "                       attention_mask = masks)\n",
    "\n",
    "        # process the attention_tensor\n",
    "        attention_tensor = torch.stack(output[\"outputs\"].attentions, dim=1) # shape [b, l, h, T, T]\n",
    "        pad = torch.tensor([0])\n",
    "        pad_mask = torch.logical_not(torch.isin(ids, pad)).type(torch.uint8).unsqueeze(1).unsqueeze(1).unsqueeze(1).repeat(1, 12, 12, 150, 1)\n",
    "        pad_mask = torch.transpose(pad_mask, dim0=3, dim1=4)\n",
    "        attention_tensor = torch.mul(attention_tensor, pad_mask)\n",
    "\n",
    "\n",
    "\n",
    "        # all the layer agregation\n",
    "        a_hat = attention_tensor[0, :, :, 0:m, :].sum(dim=2).sum(dim=0).sum(dim=0)\n",
    "        a_hat = a_hat[0:m]\n",
    "        a_hat = torch.softmax(a_hat - INF * spe_tok_mask[0:m], dim=0)\n",
    "\n",
    "        a_visu = normalize_attention(attention=a_hat, tokens=tokens)\n",
    "\n",
    "        model_outputs[\"all agreg\"] =  {\n",
    "            '[CLS] + P + [SEP] + H + [SEP]': [hightlight_txt(tokens = tokens,\n",
    "                                                            attention = a_visu)],\n",
    "            'Entropy': [(-a_hat * torch.log(a_hat + 1e-16)).sum().item()],\n",
    "            '&#x3A3;a':[a_hat.sum().item()]\n",
    "        }\n",
    "\n",
    "        # layer 4 to 10 agregation\n",
    "        a_hat = attention_tensor[0, 3:10, :, :, :] # select only some layers\n",
    "        a_hat = a_hat.sum(dim=2)/12 # mean head agregation\n",
    "        a_hat = a_hat.sum(dim=0)/7 # mean over the layers\n",
    "        a_hat = a_hat.sum(dim=0)\n",
    "        a_hat = a_hat[0:m]\n",
    "        a_hat = torch.softmax(a_hat - INF * spe_tok_mask[0:m], dim=0)\n",
    "        a_visu = normalize_attention(attention=a_hat, tokens=tokens)\n",
    "\n",
    "        model_outputs[\"layer 4 to 10\"] =  {\n",
    "            '[CLS] + P + [SEP] + H + [SEP]': [hightlight_txt(tokens = tokens,\n",
    "                                                            attention = a_visu)],\n",
    "            'Entropy': [(-a_hat * torch.log(a_hat + 1e-16)).sum().item()],\n",
    "            '&#x3A3;a':[a_hat.sum().item()]\n",
    "        }\n",
    "        # layer 5 to 10 agregation\n",
    "        a_hat = attention_tensor[0, 4:10, :, :, :] # select only some layers\n",
    "        a_hat = a_hat.sum(dim=2)/12 # mean head agregation\n",
    "        a_hat = a_hat.sum(dim=0)/7 # mean over the layers\n",
    "        a_hat = a_hat.sum(dim=0)\n",
    "        a_hat = a_hat[0:m]\n",
    "        a_hat = torch.softmax(a_hat - INF * spe_tok_mask[0:m], dim=0)\n",
    "        a_visu = normalize_attention(attention=a_hat, tokens=tokens)\n",
    "\n",
    "        model_outputs[\"layer 5 to 10\"] =  {\n",
    "            '[CLS] + P + [SEP] + H + [SEP]': [hightlight_txt(tokens = tokens,\n",
    "                                                            attention = a_visu)],\n",
    "            'Entropy': [(-a_hat * torch.log(a_hat + 1e-16)).sum().item()],\n",
    "            '&#x3A3;a':[a_hat.sum().item()]\n",
    "        }\n",
    "\n",
    "\n",
    "        display(HTML(html_render(model_outputs)))"
   ],
   "metadata": {
    "collapsed": false,
    "pycharm": {
     "name": "#%%\n"
    }
   }
  },
  {
   "cell_type": "markdown",
   "source": [
    "Maybe a regularization criterion is possible to find with this last discovery we clearly see that some information is possible to find here but we need to regularize the entropia on this special"
   ],
   "metadata": {
    "collapsed": false,
    "pycharm": {
     "name": "#%% md\n"
    }
   }
  },
  {
   "cell_type": "markdown",
   "source": [
    "## Now a bit a metrics to have a closer look to what happens"
   ],
   "metadata": {
    "collapsed": false,
    "pycharm": {
     "name": "#%% md\n"
    }
   }
  },
  {
   "cell_type": "code",
   "execution_count": null,
   "outputs": [],
   "source": [],
   "metadata": {
    "collapsed": false,
    "pycharm": {
     "name": "#%%\n"
    }
   }
  }
 ],
 "metadata": {
  "kernelspec": {
   "display_name": "Python 3",
   "language": "python",
   "name": "python3"
  },
  "language_info": {
   "codemirror_mode": {
    "name": "ipython",
    "version": 2
   },
   "file_extension": ".py",
   "mimetype": "text/x-python",
   "name": "python",
   "nbconvert_exporter": "python",
   "pygments_lexer": "ipython2",
   "version": "2.7.6"
  }
 },
 "nbformat": 4,
 "nbformat_minor": 0
}