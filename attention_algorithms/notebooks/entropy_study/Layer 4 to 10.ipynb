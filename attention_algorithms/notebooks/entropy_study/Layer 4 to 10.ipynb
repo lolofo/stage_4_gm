{
 "cells": [
  {
   "cell_type": "markdown",
   "metadata": {
    "pycharm": {
     "name": "#%% md\n"
    }
   },
   "source": [
    "based on the previous observation about the entropia, we will study some particular layers"
   ]
  },
  {
   "cell_type": "code",
   "execution_count": 1,
   "metadata": {
    "pycharm": {
     "name": "#%%\n"
    }
   },
   "outputs": [],
   "source": [
    "# preparation of the environment\n",
    "%load_ext autoreload\n",
    "%autoreload 2\n",
    "\n",
    "INF = 1e30\n",
    "\n",
    "import os\n",
    "from os import path\n",
    "\n",
    "\n",
    "# set the repository to the git repository\n",
    "cwd = os.getcwd().split(os.path.sep)\n",
    "while cwd[-1] != \"stage_4_gm\":\n",
    "    os.chdir(\"..\")\n",
    "    cwd = os.getcwd().split(os.path.sep)\n",
    "import numpy as np\n",
    "import torch\n",
    "import matplotlib.pyplot as plt\n",
    "import seaborn as sns\n",
    "sns.set_theme()\n",
    "from tqdm.notebook import tqdm\n",
    "from torch_set_up import DEVICE\n",
    "from training_bert import BertNliLight\n",
    "from regularize_training_bert import SNLIDataModule\n",
    "from attention_algorithms.attention_metrics import default_plot_colormap\n",
    "\n",
    "from transformers import BertTokenizer\n",
    "tk = BertTokenizer.from_pretrained('bert-base-uncased')"
   ]
  },
  {
   "cell_type": "code",
   "execution_count": 2,
   "metadata": {
    "pycharm": {
     "name": "#%%\n"
    }
   },
   "outputs": [
    {
     "name": "stderr",
     "output_type": "stream",
     "text": [
      "Some weights of the model checkpoint at bert-base-uncased were not used when initializing BertModel: ['cls.predictions.bias', 'cls.predictions.transform.dense.bias', 'cls.predictions.transform.LayerNorm.bias', 'cls.seq_relationship.weight', 'cls.predictions.transform.dense.weight', 'cls.predictions.decoder.weight', 'cls.predictions.transform.LayerNorm.weight', 'cls.seq_relationship.bias']\n",
      "- This IS expected if you are initializing BertModel from the checkpoint of a model trained on another task or with another architecture (e.g. initializing a BertForSequenceClassification model from a BertForPreTraining model).\n",
      "- This IS NOT expected if you are initializing BertModel from the checkpoint of a model that you expect to be exactly identical (initializing a BertForSequenceClassification model from a BertForSequenceClassification model).\n"
     ]
    }
   ],
   "source": [
    "ckp = path.join(\".cache\", \"logs\", \"igrida_trained\", \"0\", \"best.ckpt\")\n",
    "model = BertNliLight.load_from_checkpoint(ckp)\n",
    "model = model.eval()\n",
    "\n",
    "data_dir = os.path.join(\".cache\", \"raw_data\", \"e_snli\")\n",
    "\n",
    "dm = SNLIDataModule(cache=data_dir,\n",
    "                   batch_size = 1,\n",
    "                   num_workers = 1,\n",
    "                   nb_data = -1)\n",
    "\n",
    "dm.prepare_data()\n",
    "\n",
    "dm.setup(stage=\"test\")\n",
    "\n",
    "test_dataset = dm.test_set\n",
    "test_dataloader = dm.test_dataloader()"
   ]
  },
  {
   "cell_type": "markdown",
   "metadata": {
    "pycharm": {
     "name": "#%% md\n"
    }
   },
   "source": [
    "## First a bit of visualisation"
   ]
  },
  {
   "cell_type": "code",
   "execution_count": 3,
   "metadata": {
    "pycharm": {
     "name": "#%%\n"
    }
   },
   "outputs": [],
   "source": [
    "from attention_algorithms.plausibility_visu import hightlight_txt # function to highlight the text\n",
    "from attention_algorithms.attention_metrics import normalize_attention\n",
    "from IPython.display import display, HTML"
   ]
  },
  {
   "cell_type": "code",
   "execution_count": 4,
   "metadata": {
    "pycharm": {
     "name": "#%%\n"
    }
   },
   "outputs": [],
   "source": [
    "def html_render(model_outputs):\n",
    "    html = ''\n",
    "    table_len = len(model_outputs['GROUNDTRUTH']['Entropy'])\n",
    "    for i in range(table_len):\n",
    "        html += '<table>'\n",
    "        html += '<tr><th></th>' # One xtra head for model's name\n",
    "        for column_name in model_outputs['GROUNDTRUTH'].keys():\n",
    "            html+= '<th>'+ column_name +'</th>'\n",
    "        html += ' </tr>'\n",
    "        for name, model_content in model_outputs.items():\n",
    "            html += '<tr>'\n",
    "            html += '<td><b>' + name + '</b></td>'\n",
    "\n",
    "            for k, output in model_content.items():\n",
    "                displ = output[i] if output is not None else 'N/A'\n",
    "                if isinstance(displ, float):\n",
    "                    displ = str(round(displ, 3))\n",
    "                html += '<td>' + displ + '</td>'\n",
    "\n",
    "            html += '</tr>'\n",
    "\n",
    "        html += '</table>'\n",
    "    return html"
   ]
  },
  {
   "cell_type": "code",
   "execution_count": 6,
   "metadata": {
    "pycharm": {
     "name": "#%%\n"
    }
   },
   "outputs": [
    {
     "data": {
      "text/plain": "<IPython.core.display.HTML object>",
      "text/html": "<h4>Different type of agregation (Line agregation)</h4>"
     },
     "metadata": {},
     "output_type": "display_data"
    },
    {
     "data": {
      "text/plain": "<IPython.core.display.HTML object>",
      "text/html": "<table><tr><th></th><th>[CLS] + P + [SEP] + H + [SEP]</th><th>Entropy</th><th>&#x3A3;a</th> </tr><tr><td><b>GROUNDTRUTH</b></td><td><span style=\"background-color:rgba(135,206,250, 0.0);\">[CLS]</span> <span style=\"background-color:rgba(135,206,250, 0.0);\">this</span> <span style=\"background-color:rgba(135,206,250, 0.0);\">church</span> <span style=\"background-color:rgba(135,206,250, 0.0);\">choir</span> <span style=\"background-color:rgba(135,206,250, 0.0);\">sings</span> <span style=\"background-color:rgba(135,206,250, 0.0);\">to</span> <span style=\"background-color:rgba(135,206,250, 0.0);\">the</span> <span style=\"background-color:rgba(135,206,250, 0.0);\">masses</span> <span style=\"background-color:rgba(135,206,250, 0.0);\">as</span> <span style=\"background-color:rgba(135,206,250, 0.0);\">they</span> <span style=\"background-color:rgba(135,206,250, 0.0);\">sing</span> <span style=\"background-color:rgba(135,206,250, 0.0);\">joy</span> <span style=\"background-color:rgba(135,206,250, 0.0);\">##ous</span> <span style=\"background-color:rgba(135,206,250, 0.0);\">songs</span> <span style=\"background-color:rgba(135,206,250, 0.0);\">from</span> <span style=\"background-color:rgba(135,206,250, 0.0);\">the</span> <span style=\"background-color:rgba(135,206,250, 0.0);\">book</span> <span style=\"background-color:rgba(135,206,250, 0.0);\">at</span> <span style=\"background-color:rgba(135,206,250, 0.0);\">a</span> <span style=\"background-color:rgba(135,206,250, 0.0);\">church</span> <span style=\"background-color:rgba(135,206,250, 0.0);\">.</span> <span style=\"background-color:rgba(135,206,250, 0.0);\">[SEP]</span> <span style=\"background-color:rgba(135,206,250, 0.0);\">the</span> <span style=\"background-color:rgba(135,206,250, 0.0);\">church</span> <span style=\"background-color:rgba(135,206,250, 0.0);\">has</span> <span style=\"background-color:rgba(135,206,250, 1.0);\">cracks</span> <span style=\"background-color:rgba(135,206,250, 1.0);\">in</span> <span style=\"background-color:rgba(135,206,250, 1.0);\">the</span> <span style=\"background-color:rgba(135,206,250, 1.0);\">ceiling</span> <span style=\"background-color:rgba(135,206,250, 1.0);\">.</span> <span style=\"background-color:rgba(135,206,250, 0.0);\">[SEP]</span></td><td>0.0</td><td>0.0</td></tr><tr><td><b>all agreg</b></td><td><span style=\"background-color:rgba(135,206,250, 0.0);\">[CLS]</span> <span style=\"background-color:rgba(135,206,250, 5.008762471447881e-08);\">this</span> <span style=\"background-color:rgba(135,206,250, 1.2417774541972904e-07);\">church</span> <span style=\"background-color:rgba(135,206,250, 4.821121819986729e-06);\">choir</span> <span style=\"background-color:rgba(135,206,250, 4.4748583150067134e-07);\">sings</span> <span style=\"background-color:rgba(135,206,250, 2.1515822368201043e-07);\">to</span> <span style=\"background-color:rgba(135,206,250, 3.999950237698613e-08);\">the</span> <span style=\"background-color:rgba(135,206,250, 5.688582405127818e-07);\">masses</span> <span style=\"background-color:rgba(135,206,250, 8.764167347408147e-08);\">as</span> <span style=\"background-color:rgba(135,206,250, 5.0837300591410894e-08);\">they</span> <span style=\"background-color:rgba(135,206,250, 3.759640208045312e-07);\">sing</span> <span style=\"background-color:rgba(135,206,250, 8.816746799311659e-08);\">joy</span> <span style=\"background-color:rgba(135,206,250, 2.5350660237677403e-08);\">##ous</span> <span style=\"background-color:rgba(135,206,250, 2.886888523789821e-07);\">songs</span> <span style=\"background-color:rgba(135,206,250, 1.9815803398159915e-07);\">from</span> <span style=\"background-color:rgba(135,206,250, 1.8277409807865297e-08);\">the</span> <span style=\"background-color:rgba(135,206,250, 1.2794905615010066e-06);\">book</span> <span style=\"background-color:rgba(135,206,250, 7.968883863895826e-08);\">at</span> <span style=\"background-color:rgba(135,206,250, 1.5065303671235597e-08);\">a</span> <span style=\"background-color:rgba(135,206,250, 2.8488739189924672e-06);\">church</span> <span style=\"background-color:rgba(135,206,250, 0.00013289279013406485);\">.</span> <span style=\"background-color:rgba(135,206,250, 0.0);\">[SEP]</span> <span style=\"background-color:rgba(135,206,250, 1.952844996822023e-07);\">the</span> <span style=\"background-color:rgba(135,206,250, 3.5712082535610534e-07);\">church</span> <span style=\"background-color:rgba(135,206,250, 2.394256398474681e-06);\">has</span> <span style=\"background-color:rgba(135,206,250, 0.00021578322048299015);\">cracks</span> <span style=\"background-color:rgba(135,206,250, 4.443234757900427e-08);\">in</span> <span style=\"background-color:rgba(135,206,250, 4.672216746826052e-08);\">the</span> <span style=\"background-color:rgba(135,206,250, 6.346874670271063e-06);\">ceiling</span> <span style=\"background-color:rgba(135,206,250, 0.999630331993103);\">.</span> <span style=\"background-color:rgba(135,206,250, 0.0);\">[SEP]</span></td><td>0.004</td><td>1.0</td></tr><tr><td><b>layer 4 to 10</b></td><td><span style=\"background-color:rgba(135,206,250, 0.0);\">[CLS]</span> <span style=\"background-color:rgba(135,206,250, 0.006133110262453556);\">this</span> <span style=\"background-color:rgba(135,206,250, 0.01497129537165165);\">church</span> <span style=\"background-color:rgba(135,206,250, 0.29153603315353394);\">choir</span> <span style=\"background-color:rgba(135,206,250, 0.03158658370375633);\">sings</span> <span style=\"background-color:rgba(135,206,250, 0.013773275539278984);\">to</span> <span style=\"background-color:rgba(135,206,250, 0.00396201154217124);\">the</span> <span style=\"background-color:rgba(135,206,250, 0.027311453595757484);\">masses</span> <span style=\"background-color:rgba(135,206,250, 0.010229481384158134);\">as</span> <span style=\"background-color:rgba(135,206,250, 0.003470098366960883);\">they</span> <span style=\"background-color:rgba(135,206,250, 0.03188985213637352);\">sing</span> <span style=\"background-color:rgba(135,206,250, 0.0070607420057058334);\">joy</span> <span style=\"background-color:rgba(135,206,250, 0.003432573052123189);\">##ous</span> <span style=\"background-color:rgba(135,206,250, 0.02407093532383442);\">songs</span> <span style=\"background-color:rgba(135,206,250, 0.01612837240099907);\">from</span> <span style=\"background-color:rgba(135,206,250, 0.0026599152479320765);\">the</span> <span style=\"background-color:rgba(135,206,250, 0.117447629570961);\">book</span> <span style=\"background-color:rgba(135,206,250, 0.008600075729191303);\">at</span> <span style=\"background-color:rgba(135,206,250, 0.0025673294439911842);\">a</span> <span style=\"background-color:rgba(135,206,250, 0.26130232214927673);\">church</span> <span style=\"background-color:rgba(135,206,250, 0.011640290729701519);\">.</span> <span style=\"background-color:rgba(135,206,250, 0.0);\">[SEP]</span> <span style=\"background-color:rgba(135,206,250, 0.008329694159328938);\">the</span> <span style=\"background-color:rgba(135,206,250, 0.023171665146946907);\">church</span> <span style=\"background-color:rgba(135,206,250, 0.09794189035892487);\">has</span> <span style=\"background-color:rgba(135,206,250, 1.0);\">cracks</span> <span style=\"background-color:rgba(135,206,250, 0.004093584138900042);\">in</span> <span style=\"background-color:rgba(135,206,250, 0.0030938340350985527);\">the</span> <span style=\"background-color:rgba(135,206,250, 0.06128760427236557);\">ceiling</span> <span style=\"background-color:rgba(135,206,250, 0.009701468050479889);\">.</span> <span style=\"background-color:rgba(135,206,250, 0.0);\">[SEP]</span></td><td>1.917</td><td>1.0</td></tr><tr><td><b>layer 5 to 10</b></td><td><span style=\"background-color:rgba(135,206,250, 0.0);\">[CLS]</span> <span style=\"background-color:rgba(135,206,250, 0.008303833194077015);\">this</span> <span style=\"background-color:rgba(135,206,250, 0.012241346761584282);\">church</span> <span style=\"background-color:rgba(135,206,250, 0.2174970656633377);\">choir</span> <span style=\"background-color:rgba(135,206,250, 0.027787500992417336);\">sings</span> <span style=\"background-color:rgba(135,206,250, 0.015074707567691803);\">to</span> <span style=\"background-color:rgba(135,206,250, 0.0037083120550960302);\">the</span> <span style=\"background-color:rgba(135,206,250, 0.022037219256162643);\">masses</span> <span style=\"background-color:rgba(135,206,250, 0.011468533426523209);\">as</span> <span style=\"background-color:rgba(135,206,250, 0.004664089065045118);\">they</span> <span style=\"background-color:rgba(135,206,250, 0.033022161573171616);\">sing</span> <span style=\"background-color:rgba(135,206,250, 0.009980477392673492);\">joy</span> <span style=\"background-color:rgba(135,206,250, 0.004510323982685804);\">##ous</span> <span style=\"background-color:rgba(135,206,250, 0.02611123025417328);\">songs</span> <span style=\"background-color:rgba(135,206,250, 0.016213731840252876);\">from</span> <span style=\"background-color:rgba(135,206,250, 0.003040153067559004);\">the</span> <span style=\"background-color:rgba(135,206,250, 0.0685059130191803);\">book</span> <span style=\"background-color:rgba(135,206,250, 0.008615060709416866);\">at</span> <span style=\"background-color:rgba(135,206,250, 0.0033084212336689234);\">a</span> <span style=\"background-color:rgba(135,206,250, 0.19854579865932465);\">church</span> <span style=\"background-color:rgba(135,206,250, 0.011349696666002274);\">.</span> <span style=\"background-color:rgba(135,206,250, 0.0);\">[SEP]</span> <span style=\"background-color:rgba(135,206,250, 0.00890711136162281);\">the</span> <span style=\"background-color:rgba(135,206,250, 0.01989700086414814);\">church</span> <span style=\"background-color:rgba(135,206,250, 0.10009240359067917);\">has</span> <span style=\"background-color:rgba(135,206,250, 1.0);\">cracks</span> <span style=\"background-color:rgba(135,206,250, 0.004159827250987291);\">in</span> <span style=\"background-color:rgba(135,206,250, 0.0032293940894305706);\">the</span> <span style=\"background-color:rgba(135,206,250, 0.05156891793012619);\">ceiling</span> <span style=\"background-color:rgba(135,206,250, 0.009957849979400635);\">.</span> <span style=\"background-color:rgba(135,206,250, 0.0);\">[SEP]</span></td><td>1.872</td><td>1.0</td></tr><tr><td><b>layer 0 to 10</b></td><td><span style=\"background-color:rgba(135,206,250, 0.0);\">[CLS]</span> <span style=\"background-color:rgba(135,206,250, 0.0030409519094973803);\">this</span> <span style=\"background-color:rgba(135,206,250, 0.0074122510850429535);\">church</span> <span style=\"background-color:rgba(135,206,250, 0.26274189352989197);\">choir</span> <span style=\"background-color:rgba(135,206,250, 0.026361946016550064);\">sings</span> <span style=\"background-color:rgba(135,206,250, 0.008117077872157097);\">to</span> <span style=\"background-color:rgba(135,206,250, 0.00256170192733407);\">the</span> <span style=\"background-color:rgba(135,206,250, 0.0345999151468277);\">masses</span> <span style=\"background-color:rgba(135,206,250, 0.005384050775319338);\">as</span> <span style=\"background-color:rgba(135,206,250, 0.0032322455663233995);\">they</span> <span style=\"background-color:rgba(135,206,250, 0.021908137947320938);\">sing</span> <span style=\"background-color:rgba(135,206,250, 0.004500828217715025);\">joy</span> <span style=\"background-color:rgba(135,206,250, 0.0015860458370298147);\">##ous</span> <span style=\"background-color:rgba(135,206,250, 0.01714818924665451);\">songs</span> <span style=\"background-color:rgba(135,206,250, 0.00848395936191082);\">from</span> <span style=\"background-color:rgba(135,206,250, 0.0011871012393385172);\">the</span> <span style=\"background-color:rgba(135,206,250, 0.07177451252937317);\">book</span> <span style=\"background-color:rgba(135,206,250, 0.004392044618725777);\">at</span> <span style=\"background-color:rgba(135,206,250, 0.0009934359695762396);\">a</span> <span style=\"background-color:rgba(135,206,250, 0.14900155365467072);\">church</span> <span style=\"background-color:rgba(135,206,250, 0.021688012406229973);\">.</span> <span style=\"background-color:rgba(135,206,250, 0.0);\">[SEP]</span> <span style=\"background-color:rgba(135,206,250, 0.004928980953991413);\">the</span> <span style=\"background-color:rgba(135,206,250, 0.01173925306648016);\">church</span> <span style=\"background-color:rgba(135,206,250, 0.0612250417470932);\">has</span> <span style=\"background-color:rgba(135,206,250, 1.0);\">cracks</span> <span style=\"background-color:rgba(135,206,250, 0.0019409192027524114);\">in</span> <span style=\"background-color:rgba(135,206,250, 0.0020258643198758364);\">the</span> <span style=\"background-color:rgba(135,206,250, 0.09577197581529617);\">ceiling</span> <span style=\"background-color:rgba(135,206,250, 0.012249206192791462);\">.</span> <span style=\"background-color:rgba(135,206,250, 0.0);\">[SEP]</span></td><td>1.747</td><td>1.0</td></tr></table>"
     },
     "metadata": {},
     "output_type": "display_data"
    },
    {
     "data": {
      "text/plain": "<IPython.core.display.HTML object>",
      "text/html": "<table><tr><th></th><th>[CLS] + P + [SEP] + H + [SEP]</th><th>Entropy</th><th>&#x3A3;a</th> </tr><tr><td><b>GROUNDTRUTH</b></td><td><span style=\"background-color:rgba(135,206,250, 0.0);\">[CLS]</span> <span style=\"background-color:rgba(135,206,250, 0.0);\">this</span> <span style=\"background-color:rgba(135,206,250, 0.0);\">church</span> <span style=\"background-color:rgba(135,206,250, 1.0);\">choir</span> <span style=\"background-color:rgba(135,206,250, 1.0);\">sings</span> <span style=\"background-color:rgba(135,206,250, 1.0);\">to</span> <span style=\"background-color:rgba(135,206,250, 1.0);\">the</span> <span style=\"background-color:rgba(135,206,250, 1.0);\">masses</span> <span style=\"background-color:rgba(135,206,250, 0.0);\">as</span> <span style=\"background-color:rgba(135,206,250, 0.0);\">they</span> <span style=\"background-color:rgba(135,206,250, 0.0);\">sing</span> <span style=\"background-color:rgba(135,206,250, 0.0);\">joy</span> <span style=\"background-color:rgba(135,206,250, 0.0);\">##ous</span> <span style=\"background-color:rgba(135,206,250, 0.0);\">songs</span> <span style=\"background-color:rgba(135,206,250, 0.0);\">from</span> <span style=\"background-color:rgba(135,206,250, 0.0);\">the</span> <span style=\"background-color:rgba(135,206,250, 0.0);\">book</span> <span style=\"background-color:rgba(135,206,250, 0.0);\">at</span> <span style=\"background-color:rgba(135,206,250, 0.0);\">a</span> <span style=\"background-color:rgba(135,206,250, 0.0);\">church</span> <span style=\"background-color:rgba(135,206,250, 0.0);\">.</span> <span style=\"background-color:rgba(135,206,250, 0.0);\">[SEP]</span> <span style=\"background-color:rgba(135,206,250, 0.0);\">the</span> <span style=\"background-color:rgba(135,206,250, 0.0);\">church</span> <span style=\"background-color:rgba(135,206,250, 0.0);\">is</span> <span style=\"background-color:rgba(135,206,250, 1.0);\">filled</span> <span style=\"background-color:rgba(135,206,250, 1.0);\">with</span> <span style=\"background-color:rgba(135,206,250, 1.0);\">song</span> <span style=\"background-color:rgba(135,206,250, 1.0);\">.</span> <span style=\"background-color:rgba(135,206,250, 0.0);\">[SEP]</span></td><td>0.0</td><td>0.0</td></tr><tr><td><b>all agreg</b></td><td><span style=\"background-color:rgba(135,206,250, 0.0);\">[CLS]</span> <span style=\"background-color:rgba(135,206,250, 3.0703381526109297e-07);\">this</span> <span style=\"background-color:rgba(135,206,250, 5.593797709479986e-07);\">church</span> <span style=\"background-color:rgba(135,206,250, 2.9883078241255134e-05);\">choir</span> <span style=\"background-color:rgba(135,206,250, 2.798843979689991e-06);\">sings</span> <span style=\"background-color:rgba(135,206,250, 1.0995011052727932e-06);\">to</span> <span style=\"background-color:rgba(135,206,250, 1.6043075845573185e-07);\">the</span> <span style=\"background-color:rgba(135,206,250, 5.8070045270142145e-06);\">masses</span> <span style=\"background-color:rgba(135,206,250, 3.7055627899462706e-07);\">as</span> <span style=\"background-color:rgba(135,206,250, 2.8450227773646475e-07);\">they</span> <span style=\"background-color:rgba(135,206,250, 2.168845412597875e-06);\">sing</span> <span style=\"background-color:rgba(135,206,250, 4.331659511080943e-07);\">joy</span> <span style=\"background-color:rgba(135,206,250, 1.685329209522024e-07);\">##ous</span> <span style=\"background-color:rgba(135,206,250, 7.481575039491872e-07);\">songs</span> <span style=\"background-color:rgba(135,206,250, 7.863635005378455e-07);\">from</span> <span style=\"background-color:rgba(135,206,250, 8.051647171214427e-08);\">the</span> <span style=\"background-color:rgba(135,206,250, 1.1700506547640543e-05);\">book</span> <span style=\"background-color:rgba(135,206,250, 3.277328630701959e-07);\">at</span> <span style=\"background-color:rgba(135,206,250, 7.371342292117333e-08);\">a</span> <span style=\"background-color:rgba(135,206,250, 6.01391684540431e-06);\">church</span> <span style=\"background-color:rgba(135,206,250, 0.3693775534629822);\">.</span> <span style=\"background-color:rgba(135,206,250, 0.0);\">[SEP]</span> <span style=\"background-color:rgba(135,206,250, 8.322883218170318e-07);\">the</span> <span style=\"background-color:rgba(135,206,250, 2.755436298684799e-06);\">church</span> <span style=\"background-color:rgba(135,206,250, 2.718314817684586e-07);\">is</span> <span style=\"background-color:rgba(135,206,250, 4.639378857973497e-06);\">filled</span> <span style=\"background-color:rgba(135,206,250, 1.482797756580112e-06);\">with</span> <span style=\"background-color:rgba(135,206,250, 4.811706730833976e-06);\">song</span> <span style=\"background-color:rgba(135,206,250, 0.6305438280105591);\">.</span> <span style=\"background-color:rgba(135,206,250, 0.0);\">[SEP]</span></td><td>0.66</td><td>1.0</td></tr><tr><td><b>layer 4 to 10</b></td><td><span style=\"background-color:rgba(135,206,250, 0.0);\">[CLS]</span> <span style=\"background-color:rgba(135,206,250, 0.023032544180750847);\">this</span> <span style=\"background-color:rgba(135,206,250, 0.04274457320570946);\">church</span> <span style=\"background-color:rgba(135,206,250, 1.0);\">choir</span> <span style=\"background-color:rgba(135,206,250, 0.12350506335496902);\">sings</span> <span style=\"background-color:rgba(135,206,250, 0.0625171959400177);\">to</span> <span style=\"background-color:rgba(135,206,250, 0.009819449856877327);\">the</span> <span style=\"background-color:rgba(135,206,250, 0.1504000723361969);\">masses</span> <span style=\"background-color:rgba(135,206,250, 0.027308523654937744);\">as</span> <span style=\"background-color:rgba(135,206,250, 0.012271796353161335);\">they</span> <span style=\"background-color:rgba(135,206,250, 0.11023702472448349);\">sing</span> <span style=\"background-color:rgba(135,206,250, 0.026976512745022774);\">joy</span> <span style=\"background-color:rgba(135,206,250, 0.01373947411775589);\">##ous</span> <span style=\"background-color:rgba(135,206,250, 0.04313452169299126);\">songs</span> <span style=\"background-color:rgba(135,206,250, 0.04276318475604057);\">from</span> <span style=\"background-color:rgba(135,206,250, 0.007244801614433527);\">the</span> <span style=\"background-color:rgba(135,206,250, 0.6053021550178528);\">book</span> <span style=\"background-color:rgba(135,206,250, 0.022438477724790573);\">at</span> <span style=\"background-color:rgba(135,206,250, 0.007928293198347092);\">a</span> <span style=\"background-color:rgba(135,206,250, 0.33449962735176086);\">church</span> <span style=\"background-color:rgba(135,206,250, 0.0324782058596611);\">.</span> <span style=\"background-color:rgba(135,206,250, 0.0);\">[SEP]</span> <span style=\"background-color:rgba(135,206,250, 0.026840927079319954);\">the</span> <span style=\"background-color:rgba(135,206,250, 0.10178155452013016);\">church</span> <span style=\"background-color:rgba(135,206,250, 0.007917435839772224);\">is</span> <span style=\"background-color:rgba(135,206,250, 0.08194436877965927);\">filled</span> <span style=\"background-color:rgba(135,206,250, 0.03581361100077629);\">with</span> <span style=\"background-color:rgba(135,206,250, 0.08249451220035553);\">song</span> <span style=\"background-color:rgba(135,206,250, 0.035450439900159836);\">.</span> <span style=\"background-color:rgba(135,206,250, 0.0);\">[SEP]</span></td><td>2.347</td><td>1.0</td></tr><tr><td><b>layer 5 to 10</b></td><td><span style=\"background-color:rgba(135,206,250, 0.0);\">[CLS]</span> <span style=\"background-color:rgba(135,206,250, 0.05001187324523926);\">this</span> <span style=\"background-color:rgba(135,206,250, 0.05323506519198418);\">church</span> <span style=\"background-color:rgba(135,206,250, 1.0);\">choir</span> <span style=\"background-color:rgba(135,206,250, 0.15366387367248535);\">sings</span> <span style=\"background-color:rgba(135,206,250, 0.10778006166219711);\">to</span> <span style=\"background-color:rgba(135,206,250, 0.015106253325939178);\">the</span> <span style=\"background-color:rgba(135,206,250, 0.18489515781402588);\">masses</span> <span style=\"background-color:rgba(135,206,250, 0.04930226877331734);\">as</span> <span style=\"background-color:rgba(135,206,250, 0.025526074692606926);\">they</span> <span style=\"background-color:rgba(135,206,250, 0.16526997089385986);\">sing</span> <span style=\"background-color:rgba(135,206,250, 0.057543981820344925);\">joy</span> <span style=\"background-color:rgba(135,206,250, 0.026860695332288742);\">##ous</span> <span style=\"background-color:rgba(135,206,250, 0.07269543409347534);\">songs</span> <span style=\"background-color:rgba(135,206,250, 0.06791583448648453);\">from</span> <span style=\"background-color:rgba(135,206,250, 0.013247442431747913);\">the</span> <span style=\"background-color:rgba(135,206,250, 0.4892820715904236);\">book</span> <span style=\"background-color:rgba(135,206,250, 0.03701629117131233);\">at</span> <span style=\"background-color:rgba(135,206,250, 0.016117239370942116);\">a</span> <span style=\"background-color:rgba(135,206,250, 0.4094679355621338);\">church</span> <span style=\"background-color:rgba(135,206,250, 0.051726117730140686);\">.</span> <span style=\"background-color:rgba(135,206,250, 0.0);\">[SEP]</span> <span style=\"background-color:rgba(135,206,250, 0.045986782759428024);\">the</span> <span style=\"background-color:rgba(135,206,250, 0.1437894105911255);\">church</span> <span style=\"background-color:rgba(135,206,250, 0.019209865480661392);\">is</span> <span style=\"background-color:rgba(135,206,250, 0.1454644799232483);\">filled</span> <span style=\"background-color:rgba(135,206,250, 0.059310100972652435);\">with</span> <span style=\"background-color:rgba(135,206,250, 0.15792949497699738);\">song</span> <span style=\"background-color:rgba(135,206,250, 0.05638537183403969);\">.</span> <span style=\"background-color:rgba(135,206,250, 0.0);\">[SEP]</span></td><td>2.634</td><td>1.0</td></tr><tr><td><b>layer 0 to 10</b></td><td><span style=\"background-color:rgba(135,206,250, 0.0);\">[CLS]</span> <span style=\"background-color:rgba(135,206,250, 0.011197054758667946);\">this</span> <span style=\"background-color:rgba(135,206,250, 0.0193634070456028);\">church</span> <span style=\"background-color:rgba(135,206,250, 1.0);\">choir</span> <span style=\"background-color:rgba(135,206,250, 0.10260488092899323);\">sings</span> <span style=\"background-color:rgba(135,206,250, 0.03718582168221474);\">to</span> <span style=\"background-color:rgba(135,206,250, 0.005781366024166346);\">the</span> <span style=\"background-color:rgba(135,206,250, 0.18181505799293518);\">masses</span> <span style=\"background-color:rgba(135,206,250, 0.013684780336916447);\">as</span> <span style=\"background-color:rgba(135,206,250, 0.010618288069963455);\">they</span> <span style=\"background-color:rgba(135,206,250, 0.07936237007379532);\">sing</span> <span style=\"background-color:rgba(135,206,250, 0.016364742070436478);\">joy</span> <span style=\"background-color:rgba(135,206,250, 0.006002326030284166);\">##ous</span> <span style=\"background-color:rgba(135,206,250, 0.02720722369849682);\">songs</span> <span style=\"background-color:rgba(135,206,250, 0.021906843408942223);\">from</span> <span style=\"background-color:rgba(135,206,250, 0.0029984209686517715);\">the</span> <span style=\"background-color:rgba(135,206,250, 0.3639813959598541);\">book</span> <span style=\"background-color:rgba(135,206,250, 0.010784586891531944);\">at</span> <span style=\"background-color:rgba(135,206,250, 0.0027966259513050318);\">a</span> <span style=\"background-color:rgba(135,206,250, 0.1721818745136261);\">church</span> <span style=\"background-color:rgba(135,206,250, 0.05530891567468643);\">.</span> <span style=\"background-color:rgba(135,206,250, 0.0);\">[SEP]</span> <span style=\"background-color:rgba(135,206,250, 0.016181085258722305);\">the</span> <span style=\"background-color:rgba(135,206,250, 0.0482126846909523);\">church</span> <span style=\"background-color:rgba(135,206,250, 0.003701724112033844);\">is</span> <span style=\"background-color:rgba(135,206,250, 0.04688664525747299);\">filled</span> <span style=\"background-color:rgba(135,206,250, 0.018342750146985054);\">with</span> <span style=\"background-color:rgba(135,206,250, 0.03931789845228195);\">song</span> <span style=\"background-color:rgba(135,206,250, 0.0481453500688076);\">.</span> <span style=\"background-color:rgba(135,206,250, 0.0);\">[SEP]</span></td><td>2.15</td><td>1.0</td></tr></table>"
     },
     "metadata": {},
     "output_type": "display_data"
    },
    {
     "data": {
      "text/plain": "<IPython.core.display.HTML object>",
      "text/html": "<table><tr><th></th><th>[CLS] + P + [SEP] + H + [SEP]</th><th>Entropy</th><th>&#x3A3;a</th> </tr><tr><td><b>GROUNDTRUTH</b></td><td><span style=\"background-color:rgba(135,206,250, 0.0);\">[CLS]</span> <span style=\"background-color:rgba(135,206,250, 0.0);\">this</span> <span style=\"background-color:rgba(135,206,250, 0.0);\">church</span> <span style=\"background-color:rgba(135,206,250, 0.0);\">choir</span> <span style=\"background-color:rgba(135,206,250, 0.0);\">sings</span> <span style=\"background-color:rgba(135,206,250, 0.0);\">to</span> <span style=\"background-color:rgba(135,206,250, 0.0);\">the</span> <span style=\"background-color:rgba(135,206,250, 1.0);\">masses</span> <span style=\"background-color:rgba(135,206,250, 0.0);\">as</span> <span style=\"background-color:rgba(135,206,250, 0.0);\">they</span> <span style=\"background-color:rgba(135,206,250, 0.0);\">sing</span> <span style=\"background-color:rgba(135,206,250, 0.0);\">joy</span> <span style=\"background-color:rgba(135,206,250, 0.0);\">##ous</span> <span style=\"background-color:rgba(135,206,250, 0.0);\">songs</span> <span style=\"background-color:rgba(135,206,250, 0.0);\">from</span> <span style=\"background-color:rgba(135,206,250, 0.0);\">the</span> <span style=\"background-color:rgba(135,206,250, 1.0);\">book</span> <span style=\"background-color:rgba(135,206,250, 0.0);\">at</span> <span style=\"background-color:rgba(135,206,250, 0.0);\">a</span> <span style=\"background-color:rgba(135,206,250, 1.0);\">church</span> <span style=\"background-color:rgba(135,206,250, 1.0);\">.</span> <span style=\"background-color:rgba(135,206,250, 0.0);\">[SEP]</span> <span style=\"background-color:rgba(135,206,250, 0.0);\">a</span> <span style=\"background-color:rgba(135,206,250, 0.0);\">choir</span> <span style=\"background-color:rgba(135,206,250, 1.0);\">singing</span> <span style=\"background-color:rgba(135,206,250, 0.0);\">at</span> <span style=\"background-color:rgba(135,206,250, 0.0);\">a</span> <span style=\"background-color:rgba(135,206,250, 1.0);\">baseball</span> <span style=\"background-color:rgba(135,206,250, 1.0);\">game</span> <span style=\"background-color:rgba(135,206,250, 1.0);\">.</span> <span style=\"background-color:rgba(135,206,250, 0.0);\">[SEP]</span></td><td>0.0</td><td>0.0</td></tr><tr><td><b>all agreg</b></td><td><span style=\"background-color:rgba(135,206,250, 0.0);\">[CLS]</span> <span style=\"background-color:rgba(135,206,250, 5.747811827871324e-19);\">this</span> <span style=\"background-color:rgba(135,206,250, 8.793606545179753e-18);\">church</span> <span style=\"background-color:rgba(135,206,250, 1.0240374387856437e-17);\">choir</span> <span style=\"background-color:rgba(135,206,250, 3.421131332374392e-18);\">sings</span> <span style=\"background-color:rgba(135,206,250, 1.8526368315253224e-18);\">to</span> <span style=\"background-color:rgba(135,206,250, 4.786801664013342e-19);\">the</span> <span style=\"background-color:rgba(135,206,250, 1.4223861978133167e-17);\">masses</span> <span style=\"background-color:rgba(135,206,250, 1.2906185803007886e-18);\">as</span> <span style=\"background-color:rgba(135,206,250, 1.039556236296297e-18);\">they</span> <span style=\"background-color:rgba(135,206,250, 6.523048289690589e-18);\">sing</span> <span style=\"background-color:rgba(135,206,250, 1.235964379085149e-18);\">joy</span> <span style=\"background-color:rgba(135,206,250, 5.195171943636763e-19);\">##ous</span> <span style=\"background-color:rgba(135,206,250, 1.7854666638587194e-18);\">songs</span> <span style=\"background-color:rgba(135,206,250, 1.3959440046850485e-18);\">from</span> <span style=\"background-color:rgba(135,206,250, 2.849555009171808e-19);\">the</span> <span style=\"background-color:rgba(135,206,250, 3.08236480645922e-17);\">book</span> <span style=\"background-color:rgba(135,206,250, 5.967281766138154e-18);\">at</span> <span style=\"background-color:rgba(135,206,250, 4.002834776117674e-19);\">a</span> <span style=\"background-color:rgba(135,206,250, 2.4616530805410784e-15);\">church</span> <span style=\"background-color:rgba(135,206,250, 4.4830252113629496e-14);\">.</span> <span style=\"background-color:rgba(135,206,250, 0.0);\">[SEP]</span> <span style=\"background-color:rgba(135,206,250, 1.0);\">a</span> <span style=\"background-color:rgba(135,206,250, 3.7072940682404177e-16);\">choir</span> <span style=\"background-color:rgba(135,206,250, 1.4119417190908547e-17);\">singing</span> <span style=\"background-color:rgba(135,206,250, 3.102679038814542e-17);\">at</span> <span style=\"background-color:rgba(135,206,250, 7.372457623447177e-19);\">a</span> <span style=\"background-color:rgba(135,206,250, 3.881682998131256e-17);\">baseball</span> <span style=\"background-color:rgba(135,206,250, 1.3618714012782236e-17);\">game</span> <span style=\"background-color:rgba(135,206,250, 5.0432470428529025e-14);\">.</span> <span style=\"background-color:rgba(135,206,250, 0.0);\">[SEP]</span></td><td>0.0</td><td>1.0</td></tr><tr><td><b>layer 4 to 10</b></td><td><span style=\"background-color:rgba(135,206,250, 0.0);\">[CLS]</span> <span style=\"background-color:rgba(135,206,250, 1.006468180146788e-14);\">this</span> <span style=\"background-color:rgba(135,206,250, 1.1134347025106017e-13);\">church</span> <span style=\"background-color:rgba(135,206,250, 8.316828128962506e-14);\">choir</span> <span style=\"background-color:rgba(135,206,250, 3.7665556166643216e-14);\">sings</span> <span style=\"background-color:rgba(135,206,250, 2.863067923475522e-14);\">to</span> <span style=\"background-color:rgba(135,206,250, 7.160380314120019e-15);\">the</span> <span style=\"background-color:rgba(135,206,250, 5.160658684243147e-14);\">masses</span> <span style=\"background-color:rgba(135,206,250, 2.2021769038307534e-14);\">as</span> <span style=\"background-color:rgba(135,206,250, 9.688049448504203e-15);\">they</span> <span style=\"background-color:rgba(135,206,250, 8.788024426003779e-14);\">sing</span> <span style=\"background-color:rgba(135,206,250, 1.8440632321928968e-14);\">joy</span> <span style=\"background-color:rgba(135,206,250, 1.0168298494872552e-14);\">##ous</span> <span style=\"background-color:rgba(135,206,250, 2.740658618289888e-14);\">songs</span> <span style=\"background-color:rgba(135,206,250, 2.2862576293399516e-14);\">from</span> <span style=\"background-color:rgba(135,206,250, 5.914554937935974e-15);\">the</span> <span style=\"background-color:rgba(135,206,250, 3.2143173756341015e-13);\">book</span> <span style=\"background-color:rgba(135,206,250, 6.988765848588846e-14);\">at</span> <span style=\"background-color:rgba(135,206,250, 8.08593406261774e-15);\">a</span> <span style=\"background-color:rgba(135,206,250, 1.7586302206162863e-11);\">church</span> <span style=\"background-color:rgba(135,206,250, 2.243983909008384e-14);\">.</span> <span style=\"background-color:rgba(135,206,250, 0.0);\">[SEP]</span> <span style=\"background-color:rgba(135,206,250, 1.0);\">a</span> <span style=\"background-color:rgba(135,206,250, 9.255666979374189e-13);\">choir</span> <span style=\"background-color:rgba(135,206,250, 9.473617636895915e-14);\">singing</span> <span style=\"background-color:rgba(135,206,250, 1.871621889588948e-13);\">at</span> <span style=\"background-color:rgba(135,206,250, 7.61706913906049e-15);\">a</span> <span style=\"background-color:rgba(135,206,250, 3.6394772964668323e-14);\">baseball</span> <span style=\"background-color:rgba(135,206,250, 3.538041035274983e-14);\">game</span> <span style=\"background-color:rgba(135,206,250, 2.0233960313460406e-14);\">.</span> <span style=\"background-color:rgba(135,206,250, 0.0);\">[SEP]</span></td><td>0.0</td><td>1.0</td></tr><tr><td><b>layer 5 to 10</b></td><td><span style=\"background-color:rgba(135,206,250, 0.0);\">[CLS]</span> <span style=\"background-color:rgba(135,206,250, 2.0262152958076818e-14);\">this</span> <span style=\"background-color:rgba(135,206,250, 1.4903069013236236e-13);\">church</span> <span style=\"background-color:rgba(135,206,250, 9.489133925236898e-14);\">choir</span> <span style=\"background-color:rgba(135,206,250, 4.46907491753485e-14);\">sings</span> <span style=\"background-color:rgba(135,206,250, 4.575038739236363e-14);\">to</span> <span style=\"background-color:rgba(135,206,250, 1.0806315897996487e-14);\">the</span> <span style=\"background-color:rgba(135,206,250, 7.059692999460132e-14);\">masses</span> <span style=\"background-color:rgba(135,206,250, 3.799204332209649e-14);\">as</span> <span style=\"background-color:rgba(135,206,250, 1.9102397140762124e-14);\">they</span> <span style=\"background-color:rgba(135,206,250, 1.4551371446767242e-13);\">sing</span> <span style=\"background-color:rgba(135,206,250, 3.7244421549663745e-14);\">joy</span> <span style=\"background-color:rgba(135,206,250, 1.9067997438708233e-14);\">##ous</span> <span style=\"background-color:rgba(135,206,250, 4.590413742481744e-14);\">songs</span> <span style=\"background-color:rgba(135,206,250, 3.286382464448047e-14);\">from</span> <span style=\"background-color:rgba(135,206,250, 1.0396574721190533e-14);\">the</span> <span style=\"background-color:rgba(135,206,250, 2.5773976594471726e-13);\">book</span> <span style=\"background-color:rgba(135,206,250, 9.012690767307152e-14);\">at</span> <span style=\"background-color:rgba(135,206,250, 1.525191072342027e-14);\">a</span> <span style=\"background-color:rgba(135,206,250, 2.2950516487263428e-11);\">church</span> <span style=\"background-color:rgba(135,206,250, 3.356324346595087e-14);\">.</span> <span style=\"background-color:rgba(135,206,250, 0.0);\">[SEP]</span> <span style=\"background-color:rgba(135,206,250, 1.0);\">a</span> <span style=\"background-color:rgba(135,206,250, 1.321110321833574e-12);\">choir</span> <span style=\"background-color:rgba(135,206,250, 1.432577336922189e-13);\">singing</span> <span style=\"background-color:rgba(135,206,250, 2.1589744965758162e-13);\">at</span> <span style=\"background-color:rgba(135,206,250, 1.476535636379256e-14);\">a</span> <span style=\"background-color:rgba(135,206,250, 5.840279296417603e-14);\">baseball</span> <span style=\"background-color:rgba(135,206,250, 3.341409790459833e-14);\">game</span> <span style=\"background-color:rgba(135,206,250, 3.126565304399642e-14);\">.</span> <span style=\"background-color:rgba(135,206,250, 0.0);\">[SEP]</span></td><td>0.0</td><td>1.0</td></tr><tr><td><b>layer 0 to 10</b></td><td><span style=\"background-color:rgba(135,206,250, 0.0);\">[CLS]</span> <span style=\"background-color:rgba(135,206,250, 1.124485195984435e-14);\">this</span> <span style=\"background-color:rgba(135,206,250, 1.145271892729824e-13);\">church</span> <span style=\"background-color:rgba(135,206,250, 1.645308238609755e-13);\">choir</span> <span style=\"background-color:rgba(135,206,250, 6.256616996410183e-14);\">sings</span> <span style=\"background-color:rgba(135,206,250, 3.3559147214617946e-14);\">to</span> <span style=\"background-color:rgba(135,206,250, 9.209555454402565e-15);\">the</span> <span style=\"background-color:rgba(135,206,250, 1.4314248300128368e-13);\">masses</span> <span style=\"background-color:rgba(135,206,250, 2.4834516428452573e-14);\">as</span> <span style=\"background-color:rgba(135,206,250, 2.0288372015926127e-14);\">they</span> <span style=\"background-color:rgba(135,206,250, 1.1986493340856302e-13);\">sing</span> <span style=\"background-color:rgba(135,206,250, 2.4626781598138456e-14);\">joy</span> <span style=\"background-color:rgba(135,206,250, 1.0470684174844654e-14);\">##ous</span> <span style=\"background-color:rgba(135,206,250, 3.234722263808186e-14);\">songs</span> <span style=\"background-color:rgba(135,206,250, 2.5483358912642418e-14);\">from</span> <span style=\"background-color:rgba(135,206,250, 5.453608925402604e-15);\">the</span> <span style=\"background-color:rgba(135,206,250, 3.938391496607907e-13);\">book</span> <span style=\"background-color:rgba(135,206,250, 8.045385917806319e-14);\">at</span> <span style=\"background-color:rgba(135,206,250, 6.86802138666104e-15);\">a</span> <span style=\"background-color:rgba(135,206,250, 2.0030400949000438e-11);\">church</span> <span style=\"background-color:rgba(135,206,250, 8.413210991591036e-14);\">.</span> <span style=\"background-color:rgba(135,206,250, 0.0);\">[SEP]</span> <span style=\"background-color:rgba(135,206,250, 1.0);\">a</span> <span style=\"background-color:rgba(135,206,250, 1.183463375041549e-12);\">choir</span> <span style=\"background-color:rgba(135,206,250, 8.218789147515504e-14);\">singing</span> <span style=\"background-color:rgba(135,206,250, 2.237330871783516e-13);\">at</span> <span style=\"background-color:rgba(135,206,250, 7.21147588259724e-15);\">a</span> <span style=\"background-color:rgba(135,206,250, 1.9032724615092311e-13);\">baseball</span> <span style=\"background-color:rgba(135,206,250, 9.590648452273073e-14);\">game</span> <span style=\"background-color:rgba(135,206,250, 5.775542262324851e-14);\">.</span> <span style=\"background-color:rgba(135,206,250, 0.0);\">[SEP]</span></td><td>0.0</td><td>1.0</td></tr></table>"
     },
     "metadata": {},
     "output_type": "display_data"
    },
    {
     "data": {
      "text/plain": "<IPython.core.display.HTML object>",
      "text/html": "<table><tr><th></th><th>[CLS] + P + [SEP] + H + [SEP]</th><th>Entropy</th><th>&#x3A3;a</th> </tr><tr><td><b>GROUNDTRUTH</b></td><td><span style=\"background-color:rgba(135,206,250, 0.0);\">[CLS]</span> <span style=\"background-color:rgba(135,206,250, 0.0);\">a</span> <span style=\"background-color:rgba(135,206,250, 0.0);\">woman</span> <span style=\"background-color:rgba(135,206,250, 0.0);\">with</span> <span style=\"background-color:rgba(135,206,250, 0.0);\">a</span> <span style=\"background-color:rgba(135,206,250, 0.0);\">green</span> <span style=\"background-color:rgba(135,206,250, 0.0);\">heads</span> <span style=\"background-color:rgba(135,206,250, 0.0);\">##car</span> <span style=\"background-color:rgba(135,206,250, 0.0);\">##f</span> <span style=\"background-color:rgba(135,206,250, 0.0);\">,</span> <span style=\"background-color:rgba(135,206,250, 0.0);\">blue</span> <span style=\"background-color:rgba(135,206,250, 0.0);\">shirt</span> <span style=\"background-color:rgba(135,206,250, 0.0);\">and</span> <span style=\"background-color:rgba(135,206,250, 0.0);\">a</span> <span style=\"background-color:rgba(135,206,250, 0.0);\">very</span> <span style=\"background-color:rgba(135,206,250, 0.0);\">big</span> <span style=\"background-color:rgba(135,206,250, 0.0);\">grin</span> <span style=\"background-color:rgba(135,206,250, 0.0);\">.</span> <span style=\"background-color:rgba(135,206,250, 0.0);\">[SEP]</span> <span style=\"background-color:rgba(135,206,250, 0.0);\">the</span> <span style=\"background-color:rgba(135,206,250, 0.0);\">woman</span> <span style=\"background-color:rgba(135,206,250, 0.0);\">is</span> <span style=\"background-color:rgba(135,206,250, 1.0);\">young</span> <span style=\"background-color:rgba(135,206,250, 1.0);\">.</span> <span style=\"background-color:rgba(135,206,250, 0.0);\">[SEP]</span></td><td>0.0</td><td>0.0</td></tr><tr><td><b>all agreg</b></td><td><span style=\"background-color:rgba(135,206,250, 0.0);\">[CLS]</span> <span style=\"background-color:rgba(135,206,250, 5.61450519853679e-07);\">a</span> <span style=\"background-color:rgba(135,206,250, 2.0824579678446753e-06);\">woman</span> <span style=\"background-color:rgba(135,206,250, 8.76270223670872e-06);\">with</span> <span style=\"background-color:rgba(135,206,250, 8.711537589078944e-07);\">a</span> <span style=\"background-color:rgba(135,206,250, 1.063361378328409e-05);\">green</span> <span style=\"background-color:rgba(135,206,250, 3.554964860086329e-05);\">heads</span> <span style=\"background-color:rgba(135,206,250, 5.4176275625650305e-06);\">##car</span> <span style=\"background-color:rgba(135,206,250, 2.768367721728282e-06);\">##f</span> <span style=\"background-color:rgba(135,206,250, 3.5947930427937536e-06);\">,</span> <span style=\"background-color:rgba(135,206,250, 1.3122505606588675e-06);\">blue</span> <span style=\"background-color:rgba(135,206,250, 3.6820772493229015e-06);\">shirt</span> <span style=\"background-color:rgba(135,206,250, 1.4121388630883303e-05);\">and</span> <span style=\"background-color:rgba(135,206,250, 6.443461870730971e-07);\">a</span> <span style=\"background-color:rgba(135,206,250, 8.880019777279813e-07);\">very</span> <span style=\"background-color:rgba(135,206,250, 2.1758760340162553e-06);\">big</span> <span style=\"background-color:rgba(135,206,250, 0.00012901797890663147);\">grin</span> <span style=\"background-color:rgba(135,206,250, 0.2247905731201172);\">.</span> <span style=\"background-color:rgba(135,206,250, 0.0);\">[SEP]</span> <span style=\"background-color:rgba(135,206,250, 7.76880460762186e-06);\">the</span> <span style=\"background-color:rgba(135,206,250, 2.6777183848025743e-06);\">woman</span> <span style=\"background-color:rgba(135,206,250, 5.726429208152695e-06);\">is</span> <span style=\"background-color:rgba(135,206,250, 0.00315168802626431);\">young</span> <span style=\"background-color:rgba(135,206,250, 0.7718194723129272);\">.</span> <span style=\"background-color:rgba(135,206,250, 0.0);\">[SEP]</span></td><td>0.556</td><td>1.0</td></tr><tr><td><b>layer 4 to 10</b></td><td><span style=\"background-color:rgba(135,206,250, 0.0);\">[CLS]</span> <span style=\"background-color:rgba(135,206,250, 0.009184202179312706);\">a</span> <span style=\"background-color:rgba(135,206,250, 0.030343802645802498);\">woman</span> <span style=\"background-color:rgba(135,206,250, 0.09443038702011108);\">with</span> <span style=\"background-color:rgba(135,206,250, 0.012464525178074837);\">a</span> <span style=\"background-color:rgba(135,206,250, 0.0777183473110199);\">green</span> <span style=\"background-color:rgba(135,206,250, 0.19436457753181458);\">heads</span> <span style=\"background-color:rgba(135,206,250, 0.044352512806653976);\">##car</span> <span style=\"background-color:rgba(135,206,250, 0.021622050553560257);\">##f</span> <span style=\"background-color:rgba(135,206,250, 0.028678758069872856);\">,</span> <span style=\"background-color:rgba(135,206,250, 0.014184760861098766);\">blue</span> <span style=\"background-color:rgba(135,206,250, 0.04586109146475792);\">shirt</span> <span style=\"background-color:rgba(135,206,250, 0.09339378774166107);\">and</span> <span style=\"background-color:rgba(135,206,250, 0.00757965911179781);\">a</span> <span style=\"background-color:rgba(135,206,250, 0.010433975607156754);\">very</span> <span style=\"background-color:rgba(135,206,250, 0.025100132450461388);\">big</span> <span style=\"background-color:rgba(135,206,250, 0.5518901944160461);\">grin</span> <span style=\"background-color:rgba(135,206,250, 0.05396396294236183);\">.</span> <span style=\"background-color:rgba(135,206,250, 0.0);\">[SEP]</span> <span style=\"background-color:rgba(135,206,250, 0.028163164854049683);\">the</span> <span style=\"background-color:rgba(135,206,250, 0.015953443944454193);\">woman</span> <span style=\"background-color:rgba(135,206,250, 0.028160279616713524);\">is</span> <span style=\"background-color:rgba(135,206,250, 1.0);\">young</span> <span style=\"background-color:rgba(135,206,250, 0.04185302555561066);\">.</span> <span style=\"background-color:rgba(135,206,250, 0.0);\">[SEP]</span></td><td>2.021</td><td>1.0</td></tr><tr><td><b>layer 5 to 10</b></td><td><span style=\"background-color:rgba(135,206,250, 0.0);\">[CLS]</span> <span style=\"background-color:rgba(135,206,250, 0.010872789658606052);\">a</span> <span style=\"background-color:rgba(135,206,250, 0.025264013558626175);\">woman</span> <span style=\"background-color:rgba(135,206,250, 0.09277438372373581);\">with</span> <span style=\"background-color:rgba(135,206,250, 0.012568631209433079);\">a</span> <span style=\"background-color:rgba(135,206,250, 0.07580091804265976);\">green</span> <span style=\"background-color:rgba(135,206,250, 0.19577765464782715);\">heads</span> <span style=\"background-color:rgba(135,206,250, 0.04093925654888153);\">##car</span> <span style=\"background-color:rgba(135,206,250, 0.020256180316209793);\">##f</span> <span style=\"background-color:rgba(135,206,250, 0.022656161338090897);\">,</span> <span style=\"background-color:rgba(135,206,250, 0.01811644248664379);\">blue</span> <span style=\"background-color:rgba(135,206,250, 0.03937326371669769);\">shirt</span> <span style=\"background-color:rgba(135,206,250, 0.0690079927444458);\">and</span> <span style=\"background-color:rgba(135,206,250, 0.009471923112869263);\">a</span> <span style=\"background-color:rgba(135,206,250, 0.013832339085638523);\">very</span> <span style=\"background-color:rgba(135,206,250, 0.027408204972743988);\">big</span> <span style=\"background-color:rgba(135,206,250, 0.3391524851322174);\">grin</span> <span style=\"background-color:rgba(135,206,250, 0.037830375134944916);\">.</span> <span style=\"background-color:rgba(135,206,250, 0.0);\">[SEP]</span> <span style=\"background-color:rgba(135,206,250, 0.02653522975742817);\">the</span> <span style=\"background-color:rgba(135,206,250, 0.0168896671384573);\">woman</span> <span style=\"background-color:rgba(135,206,250, 0.030365247279405594);\">is</span> <span style=\"background-color:rgba(135,206,250, 1.0);\">young</span> <span style=\"background-color:rgba(135,206,250, 0.037308648228645325);\">.</span> <span style=\"background-color:rgba(135,206,250, 0.0);\">[SEP]</span></td><td>2.019</td><td>1.0</td></tr><tr><td><b>layer 0 to 10</b></td><td><span style=\"background-color:rgba(135,206,250, 0.0);\">[CLS]</span> <span style=\"background-color:rgba(135,206,250, 0.004687879700213671);\">a</span> <span style=\"background-color:rgba(135,206,250, 0.016889095306396484);\">woman</span> <span style=\"background-color:rgba(135,206,250, 0.06854522228240967);\">with</span> <span style=\"background-color:rgba(135,206,250, 0.006364056374877691);\">a</span> <span style=\"background-color:rgba(135,206,250, 0.08030211925506592);\">green</span> <span style=\"background-color:rgba(135,206,250, 0.25833699107170105);\">heads</span> <span style=\"background-color:rgba(135,206,250, 0.04186151176691055);\">##car</span> <span style=\"background-color:rgba(135,206,250, 0.021388743072748184);\">##f</span> <span style=\"background-color:rgba(135,206,250, 0.02747173048555851);\">,</span> <span style=\"background-color:rgba(135,206,250, 0.010908007621765137);\">blue</span> <span style=\"background-color:rgba(135,206,250, 0.02973295748233795);\">shirt</span> <span style=\"background-color:rgba(135,206,250, 0.09625145047903061);\">and</span> <span style=\"background-color:rgba(135,206,250, 0.004621820989996195);\">a</span> <span style=\"background-color:rgba(135,206,250, 0.006465036887675524);\">very</span> <span style=\"background-color:rgba(135,206,250, 0.015060353092849255);\">big</span> <span style=\"background-color:rgba(135,206,250, 1.0);\">grin</span> <span style=\"background-color:rgba(135,206,250, 0.17038489878177643);\">.</span> <span style=\"background-color:rgba(135,206,250, 0.0);\">[SEP]</span> <span style=\"background-color:rgba(135,206,250, 0.030310656875371933);\">the</span> <span style=\"background-color:rgba(135,206,250, 0.011946598999202251);\">woman</span> <span style=\"background-color:rgba(135,206,250, 0.017488667741417885);\">is</span> <span style=\"background-color:rgba(135,206,250, 0.7023088335990906);\">young</span> <span style=\"background-color:rgba(135,206,250, 0.07509081810712814);\">.</span> <span style=\"background-color:rgba(135,206,250, 0.0);\">[SEP]</span></td><td>1.975</td><td>1.0</td></tr></table>"
     },
     "metadata": {},
     "output_type": "display_data"
    },
    {
     "data": {
      "text/plain": "<IPython.core.display.HTML object>",
      "text/html": "<table><tr><th></th><th>[CLS] + P + [SEP] + H + [SEP]</th><th>Entropy</th><th>&#x3A3;a</th> </tr><tr><td><b>GROUNDTRUTH</b></td><td><span style=\"background-color:rgba(135,206,250, 0.0);\">[CLS]</span> <span style=\"background-color:rgba(135,206,250, 0.0);\">a</span> <span style=\"background-color:rgba(135,206,250, 0.0);\">woman</span> <span style=\"background-color:rgba(135,206,250, 0.0);\">with</span> <span style=\"background-color:rgba(135,206,250, 0.0);\">a</span> <span style=\"background-color:rgba(135,206,250, 0.0);\">green</span> <span style=\"background-color:rgba(135,206,250, 0.0);\">heads</span> <span style=\"background-color:rgba(135,206,250, 0.0);\">##car</span> <span style=\"background-color:rgba(135,206,250, 0.0);\">##f</span> <span style=\"background-color:rgba(135,206,250, 0.0);\">,</span> <span style=\"background-color:rgba(135,206,250, 0.0);\">blue</span> <span style=\"background-color:rgba(135,206,250, 0.0);\">shirt</span> <span style=\"background-color:rgba(135,206,250, 0.0);\">and</span> <span style=\"background-color:rgba(135,206,250, 0.0);\">a</span> <span style=\"background-color:rgba(135,206,250, 0.0);\">very</span> <span style=\"background-color:rgba(135,206,250, 0.0);\">big</span> <span style=\"background-color:rgba(135,206,250, 1.0);\">grin</span> <span style=\"background-color:rgba(135,206,250, 1.0);\">.</span> <span style=\"background-color:rgba(135,206,250, 0.0);\">[SEP]</span> <span style=\"background-color:rgba(135,206,250, 0.0);\">the</span> <span style=\"background-color:rgba(135,206,250, 0.0);\">woman</span> <span style=\"background-color:rgba(135,206,250, 0.0);\">is</span> <span style=\"background-color:rgba(135,206,250, 0.0);\">very</span> <span style=\"background-color:rgba(135,206,250, 1.0);\">happy</span> <span style=\"background-color:rgba(135,206,250, 1.0);\">.</span> <span style=\"background-color:rgba(135,206,250, 0.0);\">[SEP]</span></td><td>0.0</td><td>0.0</td></tr><tr><td><b>all agreg</b></td><td><span style=\"background-color:rgba(135,206,250, 0.0);\">[CLS]</span> <span style=\"background-color:rgba(135,206,250, 2.1764637381238572e-07);\">a</span> <span style=\"background-color:rgba(135,206,250, 6.865421369184332e-07);\">woman</span> <span style=\"background-color:rgba(135,206,250, 4.392108166939579e-06);\">with</span> <span style=\"background-color:rgba(135,206,250, 3.9166931742329325e-07);\">a</span> <span style=\"background-color:rgba(135,206,250, 4.218575213599252e-06);\">green</span> <span style=\"background-color:rgba(135,206,250, 1.2207644431327935e-05);\">heads</span> <span style=\"background-color:rgba(135,206,250, 2.4150501758413156e-06);\">##car</span> <span style=\"background-color:rgba(135,206,250, 1.337732555839466e-06);\">##f</span> <span style=\"background-color:rgba(135,206,250, 1.5670851780669182e-06);\">,</span> <span style=\"background-color:rgba(135,206,250, 6.165526542645239e-07);\">blue</span> <span style=\"background-color:rgba(135,206,250, 1.5699961295467801e-06);\">shirt</span> <span style=\"background-color:rgba(135,206,250, 6.864161150588188e-06);\">and</span> <span style=\"background-color:rgba(135,206,250, 3.263991743551742e-07);\">a</span> <span style=\"background-color:rgba(135,206,250, 7.159846973081585e-07);\">very</span> <span style=\"background-color:rgba(135,206,250, 1.6996910972011392e-06);\">big</span> <span style=\"background-color:rgba(135,206,250, 3.4912387491203845e-05);\">grin</span> <span style=\"background-color:rgba(135,206,250, 0.33392900228500366);\">.</span> <span style=\"background-color:rgba(135,206,250, 0.0);\">[SEP]</span> <span style=\"background-color:rgba(135,206,250, 5.369440259528346e-06);\">the</span> <span style=\"background-color:rgba(135,206,250, 1.3500335853677825e-06);\">woman</span> <span style=\"background-color:rgba(135,206,250, 1.3596802546089748e-06);\">is</span> <span style=\"background-color:rgba(135,206,250, 6.206275884323986e-06);\">very</span> <span style=\"background-color:rgba(135,206,250, 0.00010841702169273049);\">happy</span> <span style=\"background-color:rgba(135,206,250, 0.6658741235733032);\">.</span> <span style=\"background-color:rgba(135,206,250, 0.0);\">[SEP]</span></td><td>0.639</td><td>1.0</td></tr><tr><td><b>layer 4 to 10</b></td><td><span style=\"background-color:rgba(135,206,250, 0.0);\">[CLS]</span> <span style=\"background-color:rgba(135,206,250, 0.012989707291126251);\">a</span> <span style=\"background-color:rgba(135,206,250, 0.036909013986587524);\">woman</span> <span style=\"background-color:rgba(135,206,250, 0.16587086021900177);\">with</span> <span style=\"background-color:rgba(135,206,250, 0.019567452371120453);\">a</span> <span style=\"background-color:rgba(135,206,250, 0.10708983242511749);\">green</span> <span style=\"background-color:rgba(135,206,250, 0.25208672881126404);\">heads</span> <span style=\"background-color:rgba(135,206,250, 0.07357332855463028);\">##car</span> <span style=\"background-color:rgba(135,206,250, 0.037558455020189285);\">##f</span> <span style=\"background-color:rgba(135,206,250, 0.04309408366680145);\">,</span> <span style=\"background-color:rgba(135,206,250, 0.024528974667191505);\">blue</span> <span style=\"background-color:rgba(135,206,250, 0.0737810954451561);\">shirt</span> <span style=\"background-color:rgba(135,206,250, 0.1813189536333084);\">and</span> <span style=\"background-color:rgba(135,206,250, 0.014929860830307007);\">a</span> <span style=\"background-color:rgba(135,206,250, 0.031063400208950043);\">very</span> <span style=\"background-color:rgba(135,206,250, 0.07146048545837402);\">big</span> <span style=\"background-color:rgba(135,206,250, 0.44224584102630615);\">grin</span> <span style=\"background-color:rgba(135,206,250, 0.12136849761009216);\">.</span> <span style=\"background-color:rgba(135,206,250, 0.0);\">[SEP]</span> <span style=\"background-color:rgba(135,206,250, 0.05368432775139809);\">the</span> <span style=\"background-color:rgba(135,206,250, 0.023681890219449997);\">woman</span> <span style=\"background-color:rgba(135,206,250, 0.021985145285725594);\">is</span> <span style=\"background-color:rgba(135,206,250, 0.058650340884923935);\">very</span> <span style=\"background-color:rgba(135,206,250, 1.0);\">happy</span> <span style=\"background-color:rgba(135,206,250, 0.0740208625793457);\">.</span> <span style=\"background-color:rgba(135,206,250, 0.0);\">[SEP]</span></td><td>2.387</td><td>1.0</td></tr><tr><td><b>layer 5 to 10</b></td><td><span style=\"background-color:rgba(135,206,250, 0.0);\">[CLS]</span> <span style=\"background-color:rgba(135,206,250, 0.013095810078084469);\">a</span> <span style=\"background-color:rgba(135,206,250, 0.026483099907636642);\">woman</span> <span style=\"background-color:rgba(135,206,250, 0.13711071014404297);\">with</span> <span style=\"background-color:rgba(135,206,250, 0.01652478612959385);\">a</span> <span style=\"background-color:rgba(135,206,250, 0.08911540359258652);\">green</span> <span style=\"background-color:rgba(135,206,250, 0.21152664721012115);\">heads</span> <span style=\"background-color:rgba(135,206,250, 0.056067489087581635);\">##car</span> <span style=\"background-color:rgba(135,206,250, 0.02934337593615055);\">##f</span> <span style=\"background-color:rgba(135,206,250, 0.028681958094239235);\">,</span> <span style=\"background-color:rgba(135,206,250, 0.026134846732020378);\">blue</span> <span style=\"background-color:rgba(135,206,250, 0.05276093631982803);\">shirt</span> <span style=\"background-color:rgba(135,206,250, 0.1129399910569191);\">and</span> <span style=\"background-color:rgba(135,206,250, 0.015464148484170437);\">a</span> <span style=\"background-color:rgba(135,206,250, 0.028864119201898575);\">very</span> <span style=\"background-color:rgba(135,206,250, 0.06617581099271774);\">big</span> <span style=\"background-color:rgba(135,206,250, 0.216831237077713);\">grin</span> <span style=\"background-color:rgba(135,206,250, 0.06748059391975403);\">.</span> <span style=\"background-color:rgba(135,206,250, 0.0);\">[SEP]</span> <span style=\"background-color:rgba(135,206,250, 0.043657947331666946);\">the</span> <span style=\"background-color:rgba(135,206,250, 0.020888684317469597);\">woman</span> <span style=\"background-color:rgba(135,206,250, 0.02406380884349346);\">is</span> <span style=\"background-color:rgba(135,206,250, 0.0577947236597538);\">very</span> <span style=\"background-color:rgba(135,206,250, 1.0);\">happy</span> <span style=\"background-color:rgba(135,206,250, 0.054247163236141205);\">.</span> <span style=\"background-color:rgba(135,206,250, 0.0);\">[SEP]</span></td><td>2.289</td><td>1.0</td></tr><tr><td><b>layer 0 to 10</b></td><td><span style=\"background-color:rgba(135,206,250, 0.0);\">[CLS]</span> <span style=\"background-color:rgba(135,206,250, 0.006710577290505171);\">a</span> <span style=\"background-color:rgba(135,206,250, 0.020507555454969406);\">woman</span> <span style=\"background-color:rgba(135,206,250, 0.1226816326379776);\">with</span> <span style=\"background-color:rgba(135,206,250, 0.009985590353608131);\">a</span> <span style=\"background-color:rgba(135,206,250, 0.11396704614162445);\">green</span> <span style=\"background-color:rgba(135,206,250, 0.3335549831390381);\">heads</span> <span style=\"background-color:rgba(135,206,250, 0.0696103423833847);\">##car</span> <span style=\"background-color:rgba(135,206,250, 0.03787098452448845);\">##f</span> <span style=\"background-color:rgba(135,206,250, 0.04136771336197853);\">,</span> <span style=\"background-color:rgba(135,206,250, 0.01872846856713295);\">blue</span> <span style=\"background-color:rgba(135,206,250, 0.04712360352277756);\">shirt</span> <span style=\"background-color:rgba(135,206,250, 0.18580849468708038);\">and</span> <span style=\"background-color:rgba(135,206,250, 0.00905791949480772);\">a</span> <span style=\"background-color:rgba(135,206,250, 0.019594762474298477);\">very</span> <span style=\"background-color:rgba(135,206,250, 0.043783485889434814);\">big</span> <span style=\"background-color:rgba(135,206,250, 1.0);\">grin</span> <span style=\"background-color:rgba(135,206,250, 0.41771066188812256);\">.</span> <span style=\"background-color:rgba(135,206,250, 0.0);\">[SEP]</span> <span style=\"background-color:rgba(135,206,250, 0.056654639542102814);\">the</span> <span style=\"background-color:rgba(135,206,250, 0.016728123649954796);\">woman</span> <span style=\"background-color:rgba(135,206,250, 0.014237427152693272);\">is</span> <span style=\"background-color:rgba(135,206,250, 0.03848773241043091);\">very</span> <span style=\"background-color:rgba(135,206,250, 0.7439782619476318);\">happy</span> <span style=\"background-color:rgba(135,206,250, 0.13670653104782104);\">.</span> <span style=\"background-color:rgba(135,206,250, 0.0);\">[SEP]</span></td><td>2.262</td><td>1.0</td></tr></table>"
     },
     "metadata": {},
     "output_type": "display_data"
    },
    {
     "data": {
      "text/plain": "<IPython.core.display.HTML object>",
      "text/html": "<table><tr><th></th><th>[CLS] + P + [SEP] + H + [SEP]</th><th>Entropy</th><th>&#x3A3;a</th> </tr><tr><td><b>GROUNDTRUTH</b></td><td><span style=\"background-color:rgba(135,206,250, 0.0);\">[CLS]</span> <span style=\"background-color:rgba(135,206,250, 0.0);\">a</span> <span style=\"background-color:rgba(135,206,250, 0.0);\">woman</span> <span style=\"background-color:rgba(135,206,250, 0.0);\">with</span> <span style=\"background-color:rgba(135,206,250, 0.0);\">a</span> <span style=\"background-color:rgba(135,206,250, 1.0);\">green</span> <span style=\"background-color:rgba(135,206,250, 0.0);\">heads</span> <span style=\"background-color:rgba(135,206,250, 0.0);\">##car</span> <span style=\"background-color:rgba(135,206,250, 0.0);\">##f</span> <span style=\"background-color:rgba(135,206,250, 0.0);\">,</span> <span style=\"background-color:rgba(135,206,250, 0.0);\">blue</span> <span style=\"background-color:rgba(135,206,250, 0.0);\">shirt</span> <span style=\"background-color:rgba(135,206,250, 0.0);\">and</span> <span style=\"background-color:rgba(135,206,250, 0.0);\">a</span> <span style=\"background-color:rgba(135,206,250, 1.0);\">very</span> <span style=\"background-color:rgba(135,206,250, 1.0);\">big</span> <span style=\"background-color:rgba(135,206,250, 1.0);\">grin</span> <span style=\"background-color:rgba(135,206,250, 1.0);\">.</span> <span style=\"background-color:rgba(135,206,250, 0.0);\">[SEP]</span> <span style=\"background-color:rgba(135,206,250, 0.0);\">the</span> <span style=\"background-color:rgba(135,206,250, 0.0);\">woman</span> <span style=\"background-color:rgba(135,206,250, 0.0);\">has</span> <span style=\"background-color:rgba(135,206,250, 0.0);\">been</span> <span style=\"background-color:rgba(135,206,250, 1.0);\">shot</span> <span style=\"background-color:rgba(135,206,250, 1.0);\">.</span> <span style=\"background-color:rgba(135,206,250, 0.0);\">[SEP]</span></td><td>0.0</td><td>0.0</td></tr><tr><td><b>all agreg</b></td><td><span style=\"background-color:rgba(135,206,250, 0.0);\">[CLS]</span> <span style=\"background-color:rgba(135,206,250, 2.0927018340444192e-07);\">a</span> <span style=\"background-color:rgba(135,206,250, 7.700841138102987e-07);\">woman</span> <span style=\"background-color:rgba(135,206,250, 3.1960587421053788e-06);\">with</span> <span style=\"background-color:rgba(135,206,250, 2.8621690262298216e-07);\">a</span> <span style=\"background-color:rgba(135,206,250, 3.2324317089660326e-06);\">green</span> <span style=\"background-color:rgba(135,206,250, 1.1992910003755242e-05);\">heads</span> <span style=\"background-color:rgba(135,206,250, 2.3328650513576576e-06);\">##car</span> <span style=\"background-color:rgba(135,206,250, 1.0621192814141978e-06);\">##f</span> <span style=\"background-color:rgba(135,206,250, 1.1379619309082045e-06);\">,</span> <span style=\"background-color:rgba(135,206,250, 4.412877103732171e-07);\">blue</span> <span style=\"background-color:rgba(135,206,250, 1.182944515676354e-06);\">shirt</span> <span style=\"background-color:rgba(135,206,250, 5.2170371418469585e-06);\">and</span> <span style=\"background-color:rgba(135,206,250, 2.4990077918118914e-07);\">a</span> <span style=\"background-color:rgba(135,206,250, 3.046321523925144e-07);\">very</span> <span style=\"background-color:rgba(135,206,250, 7.334961651395133e-07);\">big</span> <span style=\"background-color:rgba(135,206,250, 7.666277815587819e-05);\">grin</span> <span style=\"background-color:rgba(135,206,250, 0.12578776478767395);\">.</span> <span style=\"background-color:rgba(135,206,250, 0.0);\">[SEP]</span> <span style=\"background-color:rgba(135,206,250, 2.788409801723901e-06);\">the</span> <span style=\"background-color:rgba(135,206,250, 9.654958148530568e-07);\">woman</span> <span style=\"background-color:rgba(135,206,250, 3.0543040338670835e-05);\">has</span> <span style=\"background-color:rgba(135,206,250, 6.137565378594445e-06);\">been</span> <span style=\"background-color:rgba(135,206,250, 0.00038626795867457986);\">shot</span> <span style=\"background-color:rgba(135,206,250, 0.8736765384674072);\">.</span> <span style=\"background-color:rgba(135,206,250, 0.0);\">[SEP]</span></td><td>0.383</td><td>1.0</td></tr><tr><td><b>layer 4 to 10</b></td><td><span style=\"background-color:rgba(135,206,250, 0.0);\">[CLS]</span> <span style=\"background-color:rgba(135,206,250, 0.009665904566645622);\">a</span> <span style=\"background-color:rgba(135,206,250, 0.03060179017484188);\">woman</span> <span style=\"background-color:rgba(135,206,250, 0.09069149941205978);\">with</span> <span style=\"background-color:rgba(135,206,250, 0.012293770909309387);\">a</span> <span style=\"background-color:rgba(135,206,250, 0.06968989968299866);\">green</span> <span style=\"background-color:rgba(135,206,250, 0.169334277510643);\">heads</span> <span style=\"background-color:rgba(135,206,250, 0.05036229267716408);\">##car</span> <span style=\"background-color:rgba(135,206,250, 0.022616760805249214);\">##f</span> <span style=\"background-color:rgba(135,206,250, 0.027055855840444565);\">,</span> <span style=\"background-color:rgba(135,206,250, 0.014161281287670135);\">blue</span> <span style=\"background-color:rgba(135,206,250, 0.04307382553815842);\">shirt</span> <span style=\"background-color:rgba(135,206,250, 0.09309782832860947);\">and</span> <span style=\"background-color:rgba(135,206,250, 0.007829725742340088);\">a</span> <span style=\"background-color:rgba(135,206,250, 0.010867315344512463);\">very</span> <span style=\"background-color:rgba(135,206,250, 0.02583969198167324);\">big</span> <span style=\"background-color:rgba(135,206,250, 0.7793821692466736);\">grin</span> <span style=\"background-color:rgba(135,206,250, 0.05998988449573517);\">.</span> <span style=\"background-color:rgba(135,206,250, 0.0);\">[SEP]</span> <span style=\"background-color:rgba(135,206,250, 0.03236130625009537);\">the</span> <span style=\"background-color:rgba(135,206,250, 0.018821634352207184);\">woman</span> <span style=\"background-color:rgba(135,206,250, 0.18929597735404968);\">has</span> <span style=\"background-color:rgba(135,206,250, 0.04045804589986801);\">been</span> <span style=\"background-color:rgba(135,206,250, 1.0);\">shot</span> <span style=\"background-color:rgba(135,206,250, 0.0395657978951931);\">.</span> <span style=\"background-color:rgba(135,206,250, 0.0);\">[SEP]</span></td><td>2.087</td><td>1.0</td></tr><tr><td><b>layer 5 to 10</b></td><td><span style=\"background-color:rgba(135,206,250, 0.0);\">[CLS]</span> <span style=\"background-color:rgba(135,206,250, 0.011344908736646175);\">a</span> <span style=\"background-color:rgba(135,206,250, 0.024622434750199318);\">woman</span> <span style=\"background-color:rgba(135,206,250, 0.08776947110891342);\">with</span> <span style=\"background-color:rgba(135,206,250, 0.012199942953884602);\">a</span> <span style=\"background-color:rgba(135,206,250, 0.06908097863197327);\">green</span> <span style=\"background-color:rgba(135,206,250, 0.1683776080608368);\">heads</span> <span style=\"background-color:rgba(135,206,250, 0.0459974966943264);\">##car</span> <span style=\"background-color:rgba(135,206,250, 0.021282706409692764);\">##f</span> <span style=\"background-color:rgba(135,206,250, 0.020810283720493317);\">,</span> <span style=\"background-color:rgba(135,206,250, 0.01785253919661045);\">blue</span> <span style=\"background-color:rgba(135,206,250, 0.03642861917614937);\">shirt</span> <span style=\"background-color:rgba(135,206,250, 0.06808362156152725);\">and</span> <span style=\"background-color:rgba(135,206,250, 0.009671086445450783);\">a</span> <span style=\"background-color:rgba(135,206,250, 0.014209910295903683);\">very</span> <span style=\"background-color:rgba(135,206,250, 0.028577441349625587);\">big</span> <span style=\"background-color:rgba(135,206,250, 0.4483392536640167);\">grin</span> <span style=\"background-color:rgba(135,206,250, 0.03972706198692322);\">.</span> <span style=\"background-color:rgba(135,206,250, 0.0);\">[SEP]</span> <span style=\"background-color:rgba(135,206,250, 0.030481847003102303);\">the</span> <span style=\"background-color:rgba(135,206,250, 0.018051115795969963);\">woman</span> <span style=\"background-color:rgba(135,206,250, 0.18478436768054962);\">has</span> <span style=\"background-color:rgba(135,206,250, 0.04387202486395836);\">been</span> <span style=\"background-color:rgba(135,206,250, 1.0);\">shot</span> <span style=\"background-color:rgba(135,206,250, 0.0345027856528759);\">.</span> <span style=\"background-color:rgba(135,206,250, 0.0);\">[SEP]</span></td><td>2.127</td><td>1.0</td></tr><tr><td><b>layer 0 to 10</b></td><td><span style=\"background-color:rgba(135,206,250, 0.0);\">[CLS]</span> <span style=\"background-color:rgba(135,206,250, 0.003200339851900935);\">a</span> <span style=\"background-color:rgba(135,206,250, 0.011112255044281483);\">woman</span> <span style=\"background-color:rgba(135,206,250, 0.043382707983255386);\">with</span> <span style=\"background-color:rgba(135,206,250, 0.004007879178971052);\">a</span> <span style=\"background-color:rgba(135,206,250, 0.047395650297403336);\">green</span> <span style=\"background-color:rgba(135,206,250, 0.1522621512413025);\">heads</span> <span style=\"background-color:rgba(135,206,250, 0.03219159319996834);\">##car</span> <span style=\"background-color:rgba(135,206,250, 0.014644596725702286);\">##f</span> <span style=\"background-color:rgba(135,206,250, 0.016813507303595543);\">,</span> <span style=\"background-color:rgba(135,206,250, 0.006896394304931164);\">blue</span> <span style=\"background-color:rgba(135,206,250, 0.017955953255295753);\">shirt</span> <span style=\"background-color:rgba(135,206,250, 0.06043068692088127);\">and</span> <span style=\"background-color:rgba(135,206,250, 0.0030204597860574722);\">a</span> <span style=\"background-color:rgba(135,206,250, 0.004369869828224182);\">very</span> <span style=\"background-color:rgba(135,206,250, 0.01008604560047388);\">big</span> <span style=\"background-color:rgba(135,206,250, 1.0);\">grin</span> <span style=\"background-color:rgba(135,206,250, 0.12411758303642273);\">.</span> <span style=\"background-color:rgba(135,206,250, 0.0);\">[SEP]</span> <span style=\"background-color:rgba(135,206,250, 0.022176513448357582);\">the</span> <span style=\"background-color:rgba(135,206,250, 0.008896312676370144);\">woman</span> <span style=\"background-color:rgba(135,206,250, 0.1224319189786911);\">has</span> <span style=\"background-color:rgba(135,206,250, 0.022206151857972145);\">been</span> <span style=\"background-color:rgba(135,206,250, 0.5929625630378723);\">shot</span> <span style=\"background-color:rgba(135,206,250, 0.045192260295152664);\">.</span> <span style=\"background-color:rgba(135,206,250, 0.0);\">[SEP]</span></td><td>1.892</td><td>1.0</td></tr></table>"
     },
     "metadata": {},
     "output_type": "display_data"
    }
   ],
   "source": [
    "INF = 1e30\n",
    "with torch.no_grad():\n",
    "\n",
    "    display(HTML('<h4>Different type of agregation (Line agregation)</h4>'))\n",
    "    model_outputs = {}\n",
    "\n",
    "    for id_batch, elem in enumerate(test_dataloader) :\n",
    "\n",
    "        if id_batch > 5:\n",
    "            # only look at 5 sentences (batch of one here)\n",
    "            break\n",
    "\n",
    "        ids = elem[\"input_ids\"]\n",
    "        masks = elem[\"attention_masks\"]\n",
    "        labels = elem[\"labels\"]\n",
    "        a_true = list(np.array(elem[\"annotations\"][0].numpy(), dtype=float))\n",
    "\n",
    "        special_tokens = [0, 101, 102]\n",
    "        spe_tok_mask = torch.isin(ids, torch.tensor(special_tokens))[0].type(torch.uint8)\n",
    "\n",
    "        m = masks[0].sum() # nb tokens in the sentence\n",
    "        tokens = tk.convert_ids_to_tokens(ids[0])[0:m]\n",
    "\n",
    "        it = 0\n",
    "\n",
    "        if it == 0:\n",
    "            model_outputs[\"GROUNDTRUTH\"] = {\n",
    "                '[CLS] + P + [SEP] + H + [SEP]':  [hightlight_txt(tokens = tokens,\n",
    "                                                                attention = a_true[0 : m])],\n",
    "                'Entropy': [0.0],\n",
    "                '&#x3A3;a':[0.0]\n",
    "            }\n",
    "\n",
    "            it += 1\n",
    "\n",
    "        output = model(input_ids = ids,\n",
    "                       attention_mask = masks)\n",
    "\n",
    "        # process the attention_tensor\n",
    "        attention_tensor = torch.stack(output[\"outputs\"].attentions, dim=1) # shape [b, l, h, T, T]\n",
    "        pad = torch.tensor([0])\n",
    "        pad_mask = torch.logical_not(torch.isin(ids, pad)).type(torch.uint8).unsqueeze(1).unsqueeze(1).unsqueeze(1).repeat(1, 12, 12, 150, 1)\n",
    "        pad_mask = torch.transpose(pad_mask, dim0=3, dim1=4)\n",
    "        attention_tensor = torch.mul(attention_tensor, pad_mask)\n",
    "\n",
    "        # all the layer agregation\n",
    "        a_hat = attention_tensor[0, :, :, :, :]\n",
    "        a_hat = a_hat.sum(dim=1)/12 # mean over the heads\n",
    "        a_hat = a_hat.sum(dim=0) # mean over the layers\n",
    "        a_hat = a_hat.sum(dim=0) # line agregation\n",
    "        a_hat = a_hat[0:m]\n",
    "        a_hat = torch.softmax(a_hat - INF * spe_tok_mask[0:m], dim=0)\n",
    "\n",
    "        a_visu = normalize_attention(attention=a_hat, tokens=tokens)\n",
    "\n",
    "        model_outputs[\"all agreg\"] =  {\n",
    "            '[CLS] + P + [SEP] + H + [SEP]': [hightlight_txt(tokens = tokens,\n",
    "                                                            attention = a_hat)],\n",
    "            'Entropy': [(-a_hat * torch.log(a_hat + 1e-16)).sum().item()],\n",
    "            '&#x3A3;a':[a_hat.sum().item()]\n",
    "        }\n",
    "\n",
    "        # layer 4 to 10 agregation\n",
    "        a_hat = attention_tensor[0, 3:10, :, :, :] # select only some layers\n",
    "        a_hat = a_hat.sum(dim=1)/12 # mean head agregation\n",
    "        a_hat = a_hat.sum(dim=0) # mean over the layers\n",
    "        a_hat = a_hat.sum(dim=0) # line agregation\n",
    "        a_hat = a_hat[0:m]\n",
    "        a_hat = torch.softmax(a_hat - INF * spe_tok_mask[0:m], dim=0)\n",
    "        a_visu = normalize_attention(attention=a_hat, tokens=tokens)\n",
    "\n",
    "        model_outputs[\"layer 4 to 10\"] =  {\n",
    "            '[CLS] + P + [SEP] + H + [SEP]': [hightlight_txt(tokens = tokens,\n",
    "                                                            attention = a_visu)],\n",
    "            'Entropy': [(-a_hat * torch.log(a_hat + 1e-16)).sum().item()],\n",
    "            '&#x3A3;a':[a_hat.sum().item()]\n",
    "        }\n",
    "        # layer 5 to 10 agregation\n",
    "        a_hat = attention_tensor[0, 4:10, :, :, :] # select only some layers\n",
    "        a_hat = a_hat.sum(dim=1)/12 # mean head agregation\n",
    "        a_hat = a_hat.sum(dim=0) # mean over the layers\n",
    "        a_hat = a_hat.sum(dim=0) # line agregation\n",
    "        a_hat = a_hat[0:m]\n",
    "        a_hat = torch.softmax(a_hat - INF * spe_tok_mask[0:m], dim=-1)\n",
    "        a_visu = normalize_attention(attention=a_hat, tokens=tokens)\n",
    "\n",
    "        model_outputs[\"layer 5 to 10\"] =  {\n",
    "            '[CLS] + P + [SEP] + H + [SEP]': [hightlight_txt(tokens = tokens,\n",
    "                                                            attention = a_visu)],\n",
    "            'Entropy': [(-a_hat * torch.log(a_hat + 1e-16)).sum().item()],\n",
    "            '&#x3A3;a':[a_hat.sum().item()]\n",
    "        }\n",
    "\n",
    "        # layer 0 to 10 agregation\n",
    "        a_hat = attention_tensor[0, 0:10, :, :, :] # select only some layers\n",
    "        a_hat = a_hat.sum(dim=1)/12 # mean head agregation\n",
    "        a_hat = a_hat.sum(dim=0) # mean over the layers\n",
    "        a_hat = a_hat.sum(dim=0)\n",
    "        a_hat = a_hat[0:m]\n",
    "        a_hat = torch.softmax(a_hat - INF * spe_tok_mask[0:m], dim=-1)\n",
    "        a_visu = normalize_attention(attention=a_hat, tokens=tokens)\n",
    "\n",
    "        model_outputs[\"layer 0 to 10\"] =  {\n",
    "            '[CLS] + P + [SEP] + H + [SEP]': [hightlight_txt(tokens = tokens,\n",
    "                                                            attention = a_visu)],\n",
    "            'Entropy': [(-a_hat * torch.log(a_hat + 1e-16)).sum().item()],\n",
    "            '&#x3A3;a':[a_hat.sum().item()]\n",
    "        }\n",
    "\n",
    "\n",
    "        display(HTML(html_render(model_outputs)))"
   ]
  },
  {
   "cell_type": "markdown",
   "metadata": {
    "pycharm": {
     "name": "#%% md\n"
    }
   },
   "source": [
    "Maybe a regularization criterion is possible to find with this last discovery we clearly see that some information is possible to find here but we need to regularize the entropia on this special"
   ]
  },
  {
   "cell_type": "markdown",
   "metadata": {
    "pycharm": {
     "name": "#%% md\n"
    }
   },
   "source": [
    "## Now a bit a metrics to have a closer look to what happens"
   ]
  },
  {
   "cell_type": "markdown",
   "metadata": {
    "pycharm": {
     "name": "#%% md\n"
    }
   },
   "source": [
    "before running the following cells we need to execute `entropy_study_layers_study.py` in the folder `inference_scripts`\n",
    "the script was executed with the following command line :\n",
    "```{command line}\n",
    "python .\\inference_scripts\\entropy_study_layers_study.py --batch_size 4\n",
    "```"
   ]
  },
  {
   "cell_type": "code",
   "execution_count": 8,
   "metadata": {
    "pycharm": {
     "name": "#%%\n"
    }
   },
   "outputs": [],
   "source": [
    "def html_render(model_outputs):\n",
    "    html = ''\n",
    "\n",
    "    table_len = len(model_outputs['all_layers']['AUC'])\n",
    "    for i in range(table_len):\n",
    "        html += '<table>'\n",
    "        html += '<tr><th></th>' # One xtra head for model's name\n",
    "        for column_name in model_outputs['all_layers'].keys():\n",
    "            html+= '<th>'+ column_name +'</th>'\n",
    "        html += ' </tr>'\n",
    "        for name, model_content in model_outputs.items():\n",
    "            html += '<tr>'\n",
    "            html += '<td><b>' + name + '</b></td>'\n",
    "\n",
    "            for k, output in model_content.items():\n",
    "                displ = output[i] if output is not None else 'N/A'\n",
    "                if isinstance(displ, float):\n",
    "                    displ = str(round(displ, 3))\n",
    "                html += '<td>' + displ + '</td>'\n",
    "\n",
    "            html += '</tr>'\n",
    "\n",
    "        html += '</table>'\n",
    "    return html"
   ]
  },
  {
   "cell_type": "code",
   "execution_count": 12,
   "metadata": {
    "pycharm": {
     "name": "#%%\n"
    }
   },
   "outputs": [],
   "source": [
    "# load the data\n",
    "import pickle\n",
    "dir = os.path.join(\".cache\", \"plots\", \"entropy_study\")\n",
    "with open(os.path.join(dir, \"a_true.pickle\"), \"rb\") as f:\n",
    "    a_true = pickle.load(f)\n",
    "with open(os.path.join(dir, \"all_layers.pickle\"), \"rb\") as f:\n",
    "    all_layers = pickle.load(f)\n",
    "with open(os.path.join(dir, \"layers_1_10.pickle\"), \"rb\") as f:\n",
    "    layers_1_10 = pickle.load(f)\n",
    "with open(os.path.join(dir, \"layers_4_10.pickle\"), \"rb\") as f:\n",
    "    layers_4_10 = pickle.load(f)\n",
    "with open(os.path.join(dir, \"layers_5_10.pickle\"), \"rb\") as f:\n",
    "    layers_5_10 = pickle.load(f)\n"
   ]
  },
  {
   "cell_type": "code",
   "execution_count": 13,
   "metadata": {
    "pycharm": {
     "name": "#%%\n"
    }
   },
   "outputs": [],
   "source": [
    "def scalar_jaccard(y_true, y_pred):\n",
    "    num = np.dot(y_true, y_pred)\n",
    "    den = sum(y_true)+sum(y_pred)-np.dot(y_true, y_pred)\n",
    "    return num/den"
   ]
  },
  {
   "cell_type": "code",
   "execution_count": null,
   "outputs": [],
   "source": [
    "from sklearn.metrics import precision_score\n",
    "from sklearn.metrics import auc\n",
    "\n",
    "def au_precision_curve(y_true, y_pred):\n",
    "    tr = np.linspace(0, 1, 150)\n",
    "    curve = []\n",
    "    for t in tr:\n",
    "        preds = 1*(y_pred>=tr)\n",
    "        curve.append(y_true, preds)\n",
    "        \n",
    "    return auc(x=tr, y=curve)\n",
    "        \n"
   ],
   "metadata": {
    "collapsed": false,
    "pycharm": {
     "name": "#%%\n"
    }
   }
  },
  {
   "cell_type": "code",
   "execution_count": 14,
   "metadata": {
    "pycharm": {
     "name": "#%%\n"
    }
   },
   "outputs": [
    {
     "data": {
      "text/html": [
       "<h4>metric for the label : entailement</h4>"
      ],
      "text/plain": [
       "<IPython.core.display.HTML object>"
      ]
     },
     "metadata": {},
     "output_type": "display_data"
    },
    {
     "data": {
      "text/html": [
       "<table><tr><th></th><th>AUC</th><th>Jaccard</th><th>AUPRC</th> </tr><tr><td><b>all_layers</b></td><td>0.956</td><td>0.061</td><td>0.416</td></tr><tr><td><b>layers_1_10</b></td><td>0.956</td><td>0.056</td><td>0.412</td></tr><tr><td><b>layers_4_10</b></td><td>0.956</td><td>0.055</td><td>0.409</td></tr><tr><td><b>layers_5_10</b></td><td>0.955</td><td>0.055</td><td>0.408</td></tr></table>"
      ],
      "text/plain": [
       "<IPython.core.display.HTML object>"
      ]
     },
     "metadata": {},
     "output_type": "display_data"
    },
    {
     "data": {
      "text/html": [
       "<h4>metric for the label : neutral</h4>"
      ],
      "text/plain": [
       "<IPython.core.display.HTML object>"
      ]
     },
     "metadata": {},
     "output_type": "display_data"
    },
    {
     "data": {
      "text/html": [
       "<table><tr><th></th><th>AUC</th><th>Jaccard</th><th>AUPRC</th> </tr><tr><td><b>all_layers</b></td><td>0.955</td><td>0.087</td><td>0.251</td></tr><tr><td><b>layers_1_10</b></td><td>0.953</td><td>0.104</td><td>0.265</td></tr><tr><td><b>layers_4_10</b></td><td>0.951</td><td>0.1</td><td>0.256</td></tr><tr><td><b>layers_5_10</b></td><td>0.95</td><td>0.099</td><td>0.257</td></tr></table>"
      ],
      "text/plain": [
       "<IPython.core.display.HTML object>"
      ]
     },
     "metadata": {},
     "output_type": "display_data"
    },
    {
     "data": {
      "text/html": [
       "<h4>metric for the label : contradiction</h4>"
      ],
      "text/plain": [
       "<IPython.core.display.HTML object>"
      ]
     },
     "metadata": {},
     "output_type": "display_data"
    },
    {
     "data": {
      "text/html": [
       "<table><tr><th></th><th>AUC</th><th>Jaccard</th><th>AUPRC</th> </tr><tr><td><b>all_layers</b></td><td>0.959</td><td>0.102</td><td>0.424</td></tr><tr><td><b>layers_1_10</b></td><td>0.961</td><td>0.102</td><td>0.453</td></tr><tr><td><b>layers_4_10</b></td><td>0.959</td><td>0.102</td><td>0.451</td></tr><tr><td><b>layers_5_10</b></td><td>0.959</td><td>0.102</td><td>0.452</td></tr></table>"
      ],
      "text/plain": [
       "<IPython.core.display.HTML object>"
      ]
     },
     "metadata": {},
     "output_type": "display_data"
    }
   ],
   "source": [
    "from sklearn.metrics import roc_auc_score\n",
    "from sklearn.metrics import average_precision_score\n",
    "\n",
    "with torch.no_grad():\n",
    "    for k in [\"entailement\", \"neutral\", \"contradiction\"]:\n",
    "        display(HTML(f'<h4>metric for the label : {k}</h4>'))\n",
    "        metric_output = {}\n",
    "        metric_output[\"all_layers\"] = {\n",
    "            \"AUC\": [roc_auc_score(a_true[k],all_layers[k])],\n",
    "            \"Jaccard\": [scalar_jaccard(a_true[k], all_layers[k])],\n",
    "            \"AUPRC\" : [average_precision_score(a_true[k], all_layers[k])],\n",
    "            \"AU - Precision\" : [au_precision_curve(a_true[k], all_layers[k])]\n",
    "        }\n",
    "\n",
    "        metric_output[\"layers_1_10\"] = {\n",
    "            \"AUC\": [roc_auc_score(a_true[k],layers_1_10[k])],\n",
    "            \"Jaccard\": [scalar_jaccard(a_true[k], layers_1_10[k])],\n",
    "            \"AUPRC\" : [average_precision_score(a_true[k], layers_1_10[k])],\n",
    "            \"AU - Precision\" : [au_precision_curve(a_true[k], layers_1_10[k])]\n",
    "        }\n",
    "\n",
    "        metric_output[\"layers_4_10\"] = {\n",
    "            \"AUC\": [roc_auc_score(a_true[k],layers_4_10[k])],\n",
    "            \"Jaccard\": [scalar_jaccard(a_true[k], layers_4_10[k])],\n",
    "            \"AUPRC\" : [average_precision_score(a_true[k], layers_4_10[k])],\n",
    "            \"AU - Precision\" : [au_precision_curve(a_true[k], layers_1_10[k])]\n",
    "        }\n",
    "\n",
    "        metric_output[\"layers_5_10\"] = {\n",
    "            \"AUC\": [roc_auc_score(a_true[k],layers_5_10[k])],\n",
    "            \"Jaccard\": [scalar_jaccard(a_true[k], layers_5_10[k])],\n",
    "            \"AUPRC\" : [average_precision_score(a_true[k], layers_5_10[k])]\n",
    "        }\n",
    "\n",
    "        display(HTML(html_render(metric_output)))"
   ]
  }
 ],
 "metadata": {
  "kernelspec": {
   "display_name": "Python 3 (ipykernel)",
   "language": "python",
   "name": "python3"
  },
  "language_info": {
   "codemirror_mode": {
    "name": "ipython",
    "version": 3
   },
   "file_extension": ".py",
   "mimetype": "text/x-python",
   "name": "python",
   "nbconvert_exporter": "python",
   "pygments_lexer": "ipython3",
   "version": "3.7.13"
  }
 },
 "nbformat": 4,
 "nbformat_minor": 1
}