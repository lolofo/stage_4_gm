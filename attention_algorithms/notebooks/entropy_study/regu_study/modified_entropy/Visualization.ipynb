{
 "cells": [
  {
   "cell_type": "code",
   "execution_count": 1,
   "id": "24ce09e7",
   "metadata": {},
   "outputs": [],
   "source": [
    "# preparation of the environment\n",
    "%load_ext autoreload\n",
    "%autoreload 2\n",
    "\n",
    "INF = 1e30\n",
    "\n",
    "import os\n",
    "from os import path\n",
    "\n",
    "\n",
    "# set the repository to the git repository\n",
    "cwd = os.getcwd().split(os.path.sep)\n",
    "while cwd[-1] != \"stage_4_gm\":\n",
    "    os.chdir(\"..\")\n",
    "    cwd = os.getcwd().split(os.path.sep)\n",
    "import numpy as np\n",
    "import torch\n",
    "from regularize_training_bert import BertNliRegu\n",
    "from regularize_training_bert import SNLIDataModule\n",
    "from regularize_training_bert_ent_modify import BertNliRegu as BertNliReguModif\n",
    "\n",
    "from transformers import BertTokenizer\n",
    "tk = BertTokenizer.from_pretrained('bert-base-uncased')"
   ]
  },
  {
   "cell_type": "code",
   "execution_count": 2,
   "id": "f176d6ec-6b41-4ce3-ad5a-e655aeac2273",
   "metadata": {},
   "outputs": [
    {
     "name": "stderr",
     "output_type": "stream",
     "text": [
      "Some weights of the model checkpoint at bert-base-uncased were not used when initializing BertModel: ['cls.predictions.transform.LayerNorm.bias', 'cls.predictions.transform.dense.weight', 'cls.predictions.decoder.weight', 'cls.seq_relationship.bias', 'cls.predictions.transform.dense.bias', 'cls.predictions.transform.LayerNorm.weight', 'cls.seq_relationship.weight', 'cls.predictions.bias']\n",
      "- This IS expected if you are initializing BertModel from the checkpoint of a model trained on another task or with another architecture (e.g. initializing a BertForSequenceClassification model from a BertForPreTraining model).\n",
      "- This IS NOT expected if you are initializing BertModel from the checkpoint of a model that you expect to be exactly identical (initializing a BertForSequenceClassification model from a BertForSequenceClassification model).\n",
      "Some weights of the model checkpoint at bert-base-uncased were not used when initializing BertModel: ['cls.predictions.transform.LayerNorm.bias', 'cls.predictions.transform.dense.weight', 'cls.predictions.decoder.weight', 'cls.seq_relationship.bias', 'cls.predictions.transform.dense.bias', 'cls.predictions.transform.LayerNorm.weight', 'cls.seq_relationship.weight', 'cls.predictions.bias']\n",
      "- This IS expected if you are initializing BertModel from the checkpoint of a model trained on another task or with another architecture (e.g. initializing a BertForSequenceClassification model from a BertForPreTraining model).\n",
      "- This IS NOT expected if you are initializing BertModel from the checkpoint of a model that you expect to be exactly identical (initializing a BertForSequenceClassification model from a BertForSequenceClassification model).\n"
     ]
    }
   ],
   "source": [
    "%%capture\n",
    "d = os.path.join(\".cache\", \"logs\", \"igrida_trained\", \"regu_study\", \"layer_4_10\")\n",
    "models_dict = {}\n",
    "for mul in [\"mul=0.0\", \"modif_mul=0.001\"]:\n",
    "    ckp = path.join(d, mul, \"checkpoints\", \"best.ckpt\")\n",
    "    if \"modif\" in mul :\n",
    "        model = BertNliReguModif.load_from_checkpoint(ckp)\n",
    "        models_dict[mul] = model.eval()\n",
    "    else :\n",
    "        model = BertNliRegu.load_from_checkpoint(ckp)\n",
    "        models_dict[mul] = model.eval()\n",
    "        "
   ]
  },
  {
   "cell_type": "code",
   "execution_count": 3,
   "id": "ae732382",
   "metadata": {},
   "outputs": [],
   "source": [
    "data_dir = os.path.join(\".cache\", \"raw_data\", \"e_snli\")\n",
    "dm = SNLIDataModule(cache=data_dir,\n",
    "                   batch_size = 1,\n",
    "                   num_workers = 1,\n",
    "                   nb_data = -1)\n",
    "\n",
    "dm.prepare_data()\n",
    "\n",
    "dm.setup(stage=\"test\")\n",
    "\n",
    "test_dataset = dm.test_set\n",
    "test_dataloader = dm.test_dataloader()"
   ]
  },
  {
   "cell_type": "code",
   "execution_count": 4,
   "id": "81285793",
   "metadata": {},
   "outputs": [],
   "source": [
    "from attention_algorithms.plausibility_visu import hightlight_txt # function to highlight the text\n",
    "from attention_algorithms.attention_metrics import normalize_attention\n",
    "from IPython.display import display, HTML\n",
    "\n",
    "def html_render(model_outputs):\n",
    "    html = ''\n",
    "    table_len = len(model_outputs['GROUNDTRUTH']['Entropy'])\n",
    "    for i in range(table_len):\n",
    "        html += '<table>'\n",
    "        html += '<tr><th></th>' # One xtra head for model's name\n",
    "        for column_name in model_outputs['GROUNDTRUTH'].keys():\n",
    "            html+= '<th>'+ column_name +'</th>'\n",
    "        html += ' </tr>'\n",
    "        for name, model_content in model_outputs.items():\n",
    "            html += '<tr>'\n",
    "            html += '<td><b>' + name + '</b></td>'\n",
    "\n",
    "            for k, output in model_content.items():\n",
    "                displ = output[i] if output is not None else 'N/A'\n",
    "                if isinstance(displ, float):\n",
    "                    displ = str(round(displ, 3))\n",
    "                html += '<td>' + displ + '</td>'\n",
    "\n",
    "            html += '</tr>'\n",
    "\n",
    "        html += '</table>'\n",
    "    return html"
   ]
  },
  {
   "cell_type": "code",
   "execution_count": 5,
   "id": "fb276b87",
   "metadata": {},
   "outputs": [
    {
     "data": {
      "text/html": [
       "<h4>Mean Head agregation</h4>"
      ],
      "text/plain": [
       "<IPython.core.display.HTML object>"
      ]
     },
     "metadata": {},
     "output_type": "display_data"
    },
    {
     "data": {
      "text/html": [
       "<table><tr><th></th><th>[CLS] + P + [SEP] + H + [SEP]</th><th>Entropy</th><th>Label</th> </tr><tr><td><b>GROUNDTRUTH</b></td><td><span style=\"background-color:rgba(135,206,250, 0.0);\">[CLS]</span> <span style=\"background-color:rgba(135,206,250, 0.0);\">this</span> <span style=\"background-color:rgba(135,206,250, 0.0);\">church</span> <span style=\"background-color:rgba(135,206,250, 0.0);\">choir</span> <span style=\"background-color:rgba(135,206,250, 0.0);\">sings</span> <span style=\"background-color:rgba(135,206,250, 0.0);\">to</span> <span style=\"background-color:rgba(135,206,250, 0.0);\">the</span> <span style=\"background-color:rgba(135,206,250, 0.0);\">masses</span> <span style=\"background-color:rgba(135,206,250, 0.0);\">as</span> <span style=\"background-color:rgba(135,206,250, 0.0);\">they</span> <span style=\"background-color:rgba(135,206,250, 0.0);\">sing</span> <span style=\"background-color:rgba(135,206,250, 0.0);\">joy</span> <span style=\"background-color:rgba(135,206,250, 0.0);\">##ous</span> <span style=\"background-color:rgba(135,206,250, 0.0);\">songs</span> <span style=\"background-color:rgba(135,206,250, 0.0);\">from</span> <span style=\"background-color:rgba(135,206,250, 0.0);\">the</span> <span style=\"background-color:rgba(135,206,250, 0.0);\">book</span> <span style=\"background-color:rgba(135,206,250, 0.0);\">at</span> <span style=\"background-color:rgba(135,206,250, 0.0);\">a</span> <span style=\"background-color:rgba(135,206,250, 0.0);\">church</span> <span style=\"background-color:rgba(135,206,250, 0.0);\">.</span> <span style=\"background-color:rgba(135,206,250, 0.0);\">[SEP]</span> <span style=\"background-color:rgba(135,206,250, 0.0);\">the</span> <span style=\"background-color:rgba(135,206,250, 0.0);\">church</span> <span style=\"background-color:rgba(135,206,250, 0.0);\">has</span> <span style=\"background-color:rgba(135,206,250, 1.0);\">cracks</span> <span style=\"background-color:rgba(135,206,250, 1.0);\">in</span> <span style=\"background-color:rgba(135,206,250, 1.0);\">the</span> <span style=\"background-color:rgba(135,206,250, 1.0);\">ceiling</span> <span style=\"background-color:rgba(135,206,250, 0.0);\">.</span> <span style=\"background-color:rgba(135,206,250, 0.0);\">[SEP]</span></td><td>0.0</td><td>N</td></tr><tr><td><b>mul=0.0</b></td><td><span style=\"background-color:rgba(135,206,250, 0.0);\">[CLS]</span> <span style=\"background-color:rgba(135,206,250, 0.02234550006687641);\">this</span> <span style=\"background-color:rgba(135,206,250, 0.014728318899869919);\">church</span> <span style=\"background-color:rgba(135,206,250, 0.04711904376745224);\">choir</span> <span style=\"background-color:rgba(135,206,250, 0.020105289295315742);\">sings</span> <span style=\"background-color:rgba(135,206,250, 0.005108498502522707);\">to</span> <span style=\"background-color:rgba(135,206,250, 0.0019302185392007232);\">the</span> <span style=\"background-color:rgba(135,206,250, 0.021403862163424492);\">masses</span> <span style=\"background-color:rgba(135,206,250, 0.007681958377361298);\">as</span> <span style=\"background-color:rgba(135,206,250, 0.0028333100490272045);\">they</span> <span style=\"background-color:rgba(135,206,250, 0.01653560809791088);\">sing</span> <span style=\"background-color:rgba(135,206,250, 0.006791004445403814);\">joy</span> <span style=\"background-color:rgba(135,206,250, 0.0022954067680984735);\">##ous</span> <span style=\"background-color:rgba(135,206,250, 0.004893140401691198);\">songs</span> <span style=\"background-color:rgba(135,206,250, 0.004193413071334362);\">from</span> <span style=\"background-color:rgba(135,206,250, 0.001471623545512557);\">the</span> <span style=\"background-color:rgba(135,206,250, 0.02239391580224037);\">book</span> <span style=\"background-color:rgba(135,206,250, 0.007879299111664295);\">at</span> <span style=\"background-color:rgba(135,206,250, 0.002282727975398302);\">a</span> <span style=\"background-color:rgba(135,206,250, 0.053506411612033844);\">church</span> <span style=\"background-color:rgba(135,206,250, 0.012079448439180851);\">.</span> <span style=\"background-color:rgba(135,206,250, 0.0);\">[SEP]</span> <span style=\"background-color:rgba(135,206,250, 0.003114562714472413);\">the</span> <span style=\"background-color:rgba(135,206,250, 0.007803173735737801);\">church</span> <span style=\"background-color:rgba(135,206,250, 0.019742358475923538);\">has</span> <span style=\"background-color:rgba(135,206,250, 1.0);\">cracks</span> <span style=\"background-color:rgba(135,206,250, 0.0017751117702573538);\">in</span> <span style=\"background-color:rgba(135,206,250, 0.0012169654946774244);\">the</span> <span style=\"background-color:rgba(135,206,250, 0.04939164221286774);\">ceiling</span> <span style=\"background-color:rgba(135,206,250, 0.004502399358898401);\">.</span> <span style=\"background-color:rgba(135,206,250, 0.0);\">[SEP]</span></td><td>1.331</td><td>N</td></tr><tr><td><b>modif_mul=0.001</b></td><td><span style=\"background-color:rgba(135,206,250, 0.0);\">[CLS]</span> <span style=\"background-color:rgba(135,206,250, 0.006645325105637312);\">this</span> <span style=\"background-color:rgba(135,206,250, 0.007940446026623249);\">church</span> <span style=\"background-color:rgba(135,206,250, 0.04431343078613281);\">choir</span> <span style=\"background-color:rgba(135,206,250, 0.03429067134857178);\">sings</span> <span style=\"background-color:rgba(135,206,250, 0.006270614918321371);\">to</span> <span style=\"background-color:rgba(135,206,250, 0.0011883284896612167);\">the</span> <span style=\"background-color:rgba(135,206,250, 0.11755362898111343);\">masses</span> <span style=\"background-color:rgba(135,206,250, 0.00954756885766983);\">as</span> <span style=\"background-color:rgba(135,206,250, 0.0038851420395076275);\">they</span> <span style=\"background-color:rgba(135,206,250, 0.012375996448099613);\">sing</span> <span style=\"background-color:rgba(135,206,250, 0.014219054020941257);\">joy</span> <span style=\"background-color:rgba(135,206,250, 0.0036760340444743633);\">##ous</span> <span style=\"background-color:rgba(135,206,250, 0.09307172149419785);\">songs</span> <span style=\"background-color:rgba(135,206,250, 0.004124225117266178);\">from</span> <span style=\"background-color:rgba(135,206,250, 0.0008269818499684334);\">the</span> <span style=\"background-color:rgba(135,206,250, 0.07520361989736557);\">book</span> <span style=\"background-color:rgba(135,206,250, 0.006092367693781853);\">at</span> <span style=\"background-color:rgba(135,206,250, 0.0015358063392341137);\">a</span> <span style=\"background-color:rgba(135,206,250, 0.0072549027390778065);\">church</span> <span style=\"background-color:rgba(135,206,250, 0.006311105098575354);\">.</span> <span style=\"background-color:rgba(135,206,250, 0.0);\">[SEP]</span> <span style=\"background-color:rgba(135,206,250, 0.0019581690430641174);\">the</span> <span style=\"background-color:rgba(135,206,250, 0.005316406954079866);\">church</span> <span style=\"background-color:rgba(135,206,250, 0.010432105511426926);\">has</span> <span style=\"background-color:rgba(135,206,250, 1.0);\">cracks</span> <span style=\"background-color:rgba(135,206,250, 0.0010331729426980019);\">in</span> <span style=\"background-color:rgba(135,206,250, 0.0005613603862002492);\">the</span> <span style=\"background-color:rgba(135,206,250, 0.08995898067951202);\">ceiling</span> <span style=\"background-color:rgba(135,206,250, 0.0020701014436781406);\">.</span> <span style=\"background-color:rgba(135,206,250, 0.0);\">[SEP]</span></td><td>1.534</td><td>N</td></tr></table>"
      ],
      "text/plain": [
       "<IPython.core.display.HTML object>"
      ]
     },
     "metadata": {},
     "output_type": "display_data"
    },
    {
     "data": {
      "text/html": [
       "<table><tr><th></th><th>[CLS] + P + [SEP] + H + [SEP]</th><th>Entropy</th><th>Label</th> </tr><tr><td><b>GROUNDTRUTH</b></td><td><span style=\"background-color:rgba(135,206,250, 0.0);\">[CLS]</span> <span style=\"background-color:rgba(135,206,250, 0.0);\">this</span> <span style=\"background-color:rgba(135,206,250, 0.0);\">church</span> <span style=\"background-color:rgba(135,206,250, 1.0);\">choir</span> <span style=\"background-color:rgba(135,206,250, 1.0);\">sings</span> <span style=\"background-color:rgba(135,206,250, 1.0);\">to</span> <span style=\"background-color:rgba(135,206,250, 1.0);\">the</span> <span style=\"background-color:rgba(135,206,250, 1.0);\">masses</span> <span style=\"background-color:rgba(135,206,250, 0.0);\">as</span> <span style=\"background-color:rgba(135,206,250, 0.0);\">they</span> <span style=\"background-color:rgba(135,206,250, 0.0);\">sing</span> <span style=\"background-color:rgba(135,206,250, 0.0);\">joy</span> <span style=\"background-color:rgba(135,206,250, 0.0);\">##ous</span> <span style=\"background-color:rgba(135,206,250, 0.0);\">songs</span> <span style=\"background-color:rgba(135,206,250, 0.0);\">from</span> <span style=\"background-color:rgba(135,206,250, 0.0);\">the</span> <span style=\"background-color:rgba(135,206,250, 0.0);\">book</span> <span style=\"background-color:rgba(135,206,250, 0.0);\">at</span> <span style=\"background-color:rgba(135,206,250, 0.0);\">a</span> <span style=\"background-color:rgba(135,206,250, 0.0);\">church</span> <span style=\"background-color:rgba(135,206,250, 0.0);\">.</span> <span style=\"background-color:rgba(135,206,250, 0.0);\">[SEP]</span> <span style=\"background-color:rgba(135,206,250, 0.0);\">the</span> <span style=\"background-color:rgba(135,206,250, 0.0);\">church</span> <span style=\"background-color:rgba(135,206,250, 0.0);\">is</span> <span style=\"background-color:rgba(135,206,250, 1.0);\">filled</span> <span style=\"background-color:rgba(135,206,250, 1.0);\">with</span> <span style=\"background-color:rgba(135,206,250, 1.0);\">song</span> <span style=\"background-color:rgba(135,206,250, 0.0);\">.</span> <span style=\"background-color:rgba(135,206,250, 0.0);\">[SEP]</span></td><td>0.0</td><td>E</td></tr><tr><td><b>mul=0.0</b></td><td><span style=\"background-color:rgba(135,206,250, 0.0);\">[CLS]</span> <span style=\"background-color:rgba(135,206,250, 0.19920364022254944);\">this</span> <span style=\"background-color:rgba(135,206,250, 0.15697018802165985);\">church</span> <span style=\"background-color:rgba(135,206,250, 1.0);\">choir</span> <span style=\"background-color:rgba(135,206,250, 0.2949414849281311);\">sings</span> <span style=\"background-color:rgba(135,206,250, 0.04887956380844116);\">to</span> <span style=\"background-color:rgba(135,206,250, 0.01587797701358795);\">the</span> <span style=\"background-color:rgba(135,206,250, 0.27928441762924194);\">masses</span> <span style=\"background-color:rgba(135,206,250, 0.0684753879904747);\">as</span> <span style=\"background-color:rgba(135,206,250, 0.027901526540517807);\">they</span> <span style=\"background-color:rgba(135,206,250, 0.2784310281276703);\">sing</span> <span style=\"background-color:rgba(135,206,250, 0.08057279139757156);\">joy</span> <span style=\"background-color:rgba(135,206,250, 0.02102397009730339);\">##ous</span> <span style=\"background-color:rgba(135,206,250, 0.058516450226306915);\">songs</span> <span style=\"background-color:rgba(135,206,250, 0.03963687643408775);\">from</span> <span style=\"background-color:rgba(135,206,250, 0.01224250253289938);\">the</span> <span style=\"background-color:rgba(135,206,250, 0.3257657289505005);\">book</span> <span style=\"background-color:rgba(135,206,250, 0.060283906757831573);\">at</span> <span style=\"background-color:rgba(135,206,250, 0.0200825035572052);\">a</span> <span style=\"background-color:rgba(135,206,250, 0.19544506072998047);\">church</span> <span style=\"background-color:rgba(135,206,250, 0.07844579219818115);\">.</span> <span style=\"background-color:rgba(135,206,250, 0.0);\">[SEP]</span> <span style=\"background-color:rgba(135,206,250, 0.04379550367593765);\">the</span> <span style=\"background-color:rgba(135,206,250, 0.03535144403576851);\">church</span> <span style=\"background-color:rgba(135,206,250, 0.021509459242224693);\">is</span> <span style=\"background-color:rgba(135,206,250, 0.20185457170009613);\">filled</span> <span style=\"background-color:rgba(135,206,250, 0.21572527289390564);\">with</span> <span style=\"background-color:rgba(135,206,250, 0.15349213778972626);\">song</span> <span style=\"background-color:rgba(135,206,250, 0.09040430933237076);\">.</span> <span style=\"background-color:rgba(135,206,250, 0.0);\">[SEP]</span></td><td>2.745</td><td>E</td></tr><tr><td><b>modif_mul=0.001</b></td><td><span style=\"background-color:rgba(135,206,250, 0.0);\">[CLS]</span> <span style=\"background-color:rgba(135,206,250, 0.045093316584825516);\">this</span> <span style=\"background-color:rgba(135,206,250, 0.03751615807414055);\">church</span> <span style=\"background-color:rgba(135,206,250, 0.43450552225112915);\">choir</span> <span style=\"background-color:rgba(135,206,250, 0.4261223375797272);\">sings</span> <span style=\"background-color:rgba(135,206,250, 0.03861990198493004);\">to</span> <span style=\"background-color:rgba(135,206,250, 0.007100978866219521);\">the</span> <span style=\"background-color:rgba(135,206,250, 1.0);\">masses</span> <span style=\"background-color:rgba(135,206,250, 0.05580202862620354);\">as</span> <span style=\"background-color:rgba(135,206,250, 0.032056182622909546);\">they</span> <span style=\"background-color:rgba(135,206,250, 0.23169781267642975);\">sing</span> <span style=\"background-color:rgba(135,206,250, 0.15826883912086487);\">joy</span> <span style=\"background-color:rgba(135,206,250, 0.04196706786751747);\">##ous</span> <span style=\"background-color:rgba(135,206,250, 0.5787903666496277);\">songs</span> <span style=\"background-color:rgba(135,206,250, 0.025644248351454735);\">from</span> <span style=\"background-color:rgba(135,206,250, 0.005651557352393866);\">the</span> <span style=\"background-color:rgba(135,206,250, 0.49271202087402344);\">book</span> <span style=\"background-color:rgba(135,206,250, 0.04216368868947029);\">at</span> <span style=\"background-color:rgba(135,206,250, 0.012111417949199677);\">a</span> <span style=\"background-color:rgba(135,206,250, 0.050467971712350845);\">church</span> <span style=\"background-color:rgba(135,206,250, 0.06640291959047318);\">.</span> <span style=\"background-color:rgba(135,206,250, 0.0);\">[SEP]</span> <span style=\"background-color:rgba(135,206,250, 0.023702582344412804);\">the</span> <span style=\"background-color:rgba(135,206,250, 0.029080046340823174);\">church</span> <span style=\"background-color:rgba(135,206,250, 0.012078751809895039);\">is</span> <span style=\"background-color:rgba(135,206,250, 0.034302014857530594);\">filled</span> <span style=\"background-color:rgba(135,206,250, 0.017899446189403534);\">with</span> <span style=\"background-color:rgba(135,206,250, 0.31170693039894104);\">song</span> <span style=\"background-color:rgba(135,206,250, 0.02034665457904339);\">.</span> <span style=\"background-color:rgba(135,206,250, 0.0);\">[SEP]</span></td><td>2.474</td><td>E</td></tr></table>"
      ],
      "text/plain": [
       "<IPython.core.display.HTML object>"
      ]
     },
     "metadata": {},
     "output_type": "display_data"
    },
    {
     "data": {
      "text/html": [
       "<table><tr><th></th><th>[CLS] + P + [SEP] + H + [SEP]</th><th>Entropy</th><th>Label</th> </tr><tr><td><b>GROUNDTRUTH</b></td><td><span style=\"background-color:rgba(135,206,250, 0.0);\">[CLS]</span> <span style=\"background-color:rgba(135,206,250, 0.0);\">this</span> <span style=\"background-color:rgba(135,206,250, 0.0);\">church</span> <span style=\"background-color:rgba(135,206,250, 0.0);\">choir</span> <span style=\"background-color:rgba(135,206,250, 0.0);\">sings</span> <span style=\"background-color:rgba(135,206,250, 0.0);\">to</span> <span style=\"background-color:rgba(135,206,250, 0.0);\">the</span> <span style=\"background-color:rgba(135,206,250, 1.0);\">masses</span> <span style=\"background-color:rgba(135,206,250, 0.0);\">as</span> <span style=\"background-color:rgba(135,206,250, 0.0);\">they</span> <span style=\"background-color:rgba(135,206,250, 0.0);\">sing</span> <span style=\"background-color:rgba(135,206,250, 0.0);\">joy</span> <span style=\"background-color:rgba(135,206,250, 0.0);\">##ous</span> <span style=\"background-color:rgba(135,206,250, 0.0);\">songs</span> <span style=\"background-color:rgba(135,206,250, 0.0);\">from</span> <span style=\"background-color:rgba(135,206,250, 0.0);\">the</span> <span style=\"background-color:rgba(135,206,250, 1.0);\">book</span> <span style=\"background-color:rgba(135,206,250, 0.0);\">at</span> <span style=\"background-color:rgba(135,206,250, 0.0);\">a</span> <span style=\"background-color:rgba(135,206,250, 1.0);\">church</span> <span style=\"background-color:rgba(135,206,250, 0.0);\">.</span> <span style=\"background-color:rgba(135,206,250, 0.0);\">[SEP]</span> <span style=\"background-color:rgba(135,206,250, 0.0);\">a</span> <span style=\"background-color:rgba(135,206,250, 0.0);\">choir</span> <span style=\"background-color:rgba(135,206,250, 1.0);\">singing</span> <span style=\"background-color:rgba(135,206,250, 0.0);\">at</span> <span style=\"background-color:rgba(135,206,250, 0.0);\">a</span> <span style=\"background-color:rgba(135,206,250, 1.0);\">baseball</span> <span style=\"background-color:rgba(135,206,250, 1.0);\">game</span> <span style=\"background-color:rgba(135,206,250, 0.0);\">.</span> <span style=\"background-color:rgba(135,206,250, 0.0);\">[SEP]</span></td><td>0.0</td><td>C</td></tr><tr><td><b>mul=0.0</b></td><td><span style=\"background-color:rgba(135,206,250, 0.0);\">[CLS]</span> <span style=\"background-color:rgba(135,206,250, 0.09710773825645447);\">this</span> <span style=\"background-color:rgba(135,206,250, 0.28726333379745483);\">church</span> <span style=\"background-color:rgba(135,206,250, 0.04189459979534149);\">choir</span> <span style=\"background-color:rgba(135,206,250, 0.14389218389987946);\">sings</span> <span style=\"background-color:rgba(135,206,250, 0.036295752972364426);\">to</span> <span style=\"background-color:rgba(135,206,250, 0.013079145923256874);\">the</span> <span style=\"background-color:rgba(135,206,250, 0.23470939695835114);\">masses</span> <span style=\"background-color:rgba(135,206,250, 0.05435265228152275);\">as</span> <span style=\"background-color:rgba(135,206,250, 0.03081810660660267);\">they</span> <span style=\"background-color:rgba(135,206,250, 0.15235891938209534);\">sing</span> <span style=\"background-color:rgba(135,206,250, 0.05342895910143852);\">joy</span> <span style=\"background-color:rgba(135,206,250, 0.020687181502580643);\">##ous</span> <span style=\"background-color:rgba(135,206,250, 0.04374450445175171);\">songs</span> <span style=\"background-color:rgba(135,206,250, 0.028398524969816208);\">from</span> <span style=\"background-color:rgba(135,206,250, 0.011965716257691383);\">the</span> <span style=\"background-color:rgba(135,206,250, 0.24298690259456635);\">book</span> <span style=\"background-color:rgba(135,206,250, 0.1277083307504654);\">at</span> <span style=\"background-color:rgba(135,206,250, 0.01816522143781185);\">a</span> <span style=\"background-color:rgba(135,206,250, 0.24447359144687653);\">church</span> <span style=\"background-color:rgba(135,206,250, 0.11631108820438385);\">.</span> <span style=\"background-color:rgba(135,206,250, 0.0);\">[SEP]</span> <span style=\"background-color:rgba(135,206,250, 0.02676663175225258);\">a</span> <span style=\"background-color:rgba(135,206,250, 0.03751988708972931);\">choir</span> <span style=\"background-color:rgba(135,206,250, 0.24442578852176666);\">singing</span> <span style=\"background-color:rgba(135,206,250, 0.21401596069335938);\">at</span> <span style=\"background-color:rgba(135,206,250, 0.020921500399708748);\">a</span> <span style=\"background-color:rgba(135,206,250, 0.7363896369934082);\">baseball</span> <span style=\"background-color:rgba(135,206,250, 1.0);\">game</span> <span style=\"background-color:rgba(135,206,250, 0.036950115114450455);\">.</span> <span style=\"background-color:rgba(135,206,250, 0.0);\">[SEP]</span></td><td>2.665</td><td>C</td></tr><tr><td><b>modif_mul=0.001</b></td><td><span style=\"background-color:rgba(135,206,250, 0.0);\">[CLS]</span> <span style=\"background-color:rgba(135,206,250, 0.080751933157444);\">this</span> <span style=\"background-color:rgba(135,206,250, 0.1844855546951294);\">church</span> <span style=\"background-color:rgba(135,206,250, 0.04535386711359024);\">choir</span> <span style=\"background-color:rgba(135,206,250, 0.19698670506477356);\">sings</span> <span style=\"background-color:rgba(135,206,250, 0.08996788412332535);\">to</span> <span style=\"background-color:rgba(135,206,250, 0.01367734931409359);\">the</span> <span style=\"background-color:rgba(135,206,250, 0.786203145980835);\">masses</span> <span style=\"background-color:rgba(135,206,250, 0.09426756948232651);\">as</span> <span style=\"background-color:rgba(135,206,250, 0.046704404056072235);\">they</span> <span style=\"background-color:rgba(135,206,250, 0.14528034627437592);\">sing</span> <span style=\"background-color:rgba(135,206,250, 0.34118425846099854);\">joy</span> <span style=\"background-color:rgba(135,206,250, 0.06289543956518173);\">##ous</span> <span style=\"background-color:rgba(135,206,250, 0.875710666179657);\">songs</span> <span style=\"background-color:rgba(135,206,250, 0.03624764457345009);\">from</span> <span style=\"background-color:rgba(135,206,250, 0.009590093977749348);\">the</span> <span style=\"background-color:rgba(135,206,250, 1.0);\">book</span> <span style=\"background-color:rgba(135,206,250, 0.2842978239059448);\">at</span> <span style=\"background-color:rgba(135,206,250, 0.022983156144618988);\">a</span> <span style=\"background-color:rgba(135,206,250, 0.4000278413295746);\">church</span> <span style=\"background-color:rgba(135,206,250, 0.05236288160085678);\">.</span> <span style=\"background-color:rgba(135,206,250, 0.0);\">[SEP]</span> <span style=\"background-color:rgba(135,206,250, 0.017146030440926552);\">a</span> <span style=\"background-color:rgba(135,206,250, 0.051441628485918045);\">choir</span> <span style=\"background-color:rgba(135,206,250, 0.10027550905942917);\">singing</span> <span style=\"background-color:rgba(135,206,250, 0.07572925835847855);\">at</span> <span style=\"background-color:rgba(135,206,250, 0.026703160256147385);\">a</span> <span style=\"background-color:rgba(135,206,250, 0.18242667615413666);\">baseball</span> <span style=\"background-color:rgba(135,206,250, 0.1275450438261032);\">game</span> <span style=\"background-color:rgba(135,206,250, 0.03132082149386406);\">.</span> <span style=\"background-color:rgba(135,206,250, 0.0);\">[SEP]</span></td><td>2.668</td><td>C</td></tr></table>"
      ],
      "text/plain": [
       "<IPython.core.display.HTML object>"
      ]
     },
     "metadata": {},
     "output_type": "display_data"
    },
    {
     "data": {
      "text/html": [
       "<table><tr><th></th><th>[CLS] + P + [SEP] + H + [SEP]</th><th>Entropy</th><th>Label</th> </tr><tr><td><b>GROUNDTRUTH</b></td><td><span style=\"background-color:rgba(135,206,250, 0.0);\">[CLS]</span> <span style=\"background-color:rgba(135,206,250, 0.0);\">a</span> <span style=\"background-color:rgba(135,206,250, 0.0);\">woman</span> <span style=\"background-color:rgba(135,206,250, 0.0);\">with</span> <span style=\"background-color:rgba(135,206,250, 0.0);\">a</span> <span style=\"background-color:rgba(135,206,250, 0.0);\">green</span> <span style=\"background-color:rgba(135,206,250, 0.0);\">heads</span> <span style=\"background-color:rgba(135,206,250, 0.0);\">##car</span> <span style=\"background-color:rgba(135,206,250, 0.0);\">##f</span> <span style=\"background-color:rgba(135,206,250, 0.0);\">,</span> <span style=\"background-color:rgba(135,206,250, 0.0);\">blue</span> <span style=\"background-color:rgba(135,206,250, 0.0);\">shirt</span> <span style=\"background-color:rgba(135,206,250, 0.0);\">and</span> <span style=\"background-color:rgba(135,206,250, 0.0);\">a</span> <span style=\"background-color:rgba(135,206,250, 0.0);\">very</span> <span style=\"background-color:rgba(135,206,250, 0.0);\">big</span> <span style=\"background-color:rgba(135,206,250, 0.0);\">grin</span> <span style=\"background-color:rgba(135,206,250, 0.0);\">.</span> <span style=\"background-color:rgba(135,206,250, 0.0);\">[SEP]</span> <span style=\"background-color:rgba(135,206,250, 0.0);\">the</span> <span style=\"background-color:rgba(135,206,250, 0.0);\">woman</span> <span style=\"background-color:rgba(135,206,250, 0.0);\">is</span> <span style=\"background-color:rgba(135,206,250, 1.0);\">young</span> <span style=\"background-color:rgba(135,206,250, 0.0);\">.</span> <span style=\"background-color:rgba(135,206,250, 0.0);\">[SEP]</span></td><td>0.0</td><td>N</td></tr><tr><td><b>mul=0.0</b></td><td><span style=\"background-color:rgba(135,206,250, 0.0);\">[CLS]</span> <span style=\"background-color:rgba(135,206,250, 0.01247500255703926);\">a</span> <span style=\"background-color:rgba(135,206,250, 0.0646231546998024);\">woman</span> <span style=\"background-color:rgba(135,206,250, 0.06669905036687851);\">with</span> <span style=\"background-color:rgba(135,206,250, 0.015571463853120804);\">a</span> <span style=\"background-color:rgba(135,206,250, 0.07241490483283997);\">green</span> <span style=\"background-color:rgba(135,206,250, 0.17393344640731812);\">heads</span> <span style=\"background-color:rgba(135,206,250, 0.04855405539274216);\">##car</span> <span style=\"background-color:rgba(135,206,250, 0.06359944492578506);\">##f</span> <span style=\"background-color:rgba(135,206,250, 0.10926935076713562);\">,</span> <span style=\"background-color:rgba(135,206,250, 0.023877769708633423);\">blue</span> <span style=\"background-color:rgba(135,206,250, 0.04621169716119766);\">shirt</span> <span style=\"background-color:rgba(135,206,250, 0.08171664923429489);\">and</span> <span style=\"background-color:rgba(135,206,250, 0.013319898396730423);\">a</span> <span style=\"background-color:rgba(135,206,250, 0.01680036447942257);\">very</span> <span style=\"background-color:rgba(135,206,250, 0.027847720310091972);\">big</span> <span style=\"background-color:rgba(135,206,250, 1.0);\">grin</span> <span style=\"background-color:rgba(135,206,250, 0.07003767788410187);\">.</span> <span style=\"background-color:rgba(135,206,250, 0.0);\">[SEP]</span> <span style=\"background-color:rgba(135,206,250, 0.03276319056749344);\">the</span> <span style=\"background-color:rgba(135,206,250, 0.017737064510583878);\">woman</span> <span style=\"background-color:rgba(135,206,250, 0.06027807295322418);\">is</span> <span style=\"background-color:rgba(135,206,250, 0.8770127892494202);\">young</span> <span style=\"background-color:rgba(135,206,250, 0.02383863367140293);\">.</span> <span style=\"background-color:rgba(135,206,250, 0.0);\">[SEP]</span></td><td>2.079</td><td>N</td></tr><tr><td><b>modif_mul=0.001</b></td><td><span style=\"background-color:rgba(135,206,250, 0.0);\">[CLS]</span> <span style=\"background-color:rgba(135,206,250, 0.002123843878507614);\">a</span> <span style=\"background-color:rgba(135,206,250, 0.009148536249995232);\">woman</span> <span style=\"background-color:rgba(135,206,250, 0.006325762253254652);\">with</span> <span style=\"background-color:rgba(135,206,250, 0.0038858831394463778);\">a</span> <span style=\"background-color:rgba(135,206,250, 0.006137082818895578);\">green</span> <span style=\"background-color:rgba(135,206,250, 0.023025061935186386);\">heads</span> <span style=\"background-color:rgba(135,206,250, 0.09381327778100967);\">##car</span> <span style=\"background-color:rgba(135,206,250, 0.009129466488957405);\">##f</span> <span style=\"background-color:rgba(135,206,250, 0.007162930443882942);\">,</span> <span style=\"background-color:rgba(135,206,250, 0.003106597578153014);\">blue</span> <span style=\"background-color:rgba(135,206,250, 0.0226600281894207);\">shirt</span> <span style=\"background-color:rgba(135,206,250, 0.013422805815935135);\">and</span> <span style=\"background-color:rgba(135,206,250, 0.0022276954259723425);\">a</span> <span style=\"background-color:rgba(135,206,250, 0.00229283282533288);\">very</span> <span style=\"background-color:rgba(135,206,250, 0.011079931631684303);\">big</span> <span style=\"background-color:rgba(135,206,250, 1.0);\">grin</span> <span style=\"background-color:rgba(135,206,250, 0.014349406585097313);\">.</span> <span style=\"background-color:rgba(135,206,250, 0.0);\">[SEP]</span> <span style=\"background-color:rgba(135,206,250, 0.0038698017597198486);\">the</span> <span style=\"background-color:rgba(135,206,250, 0.0030386962462216616);\">woman</span> <span style=\"background-color:rgba(135,206,250, 0.006930156610906124);\">is</span> <span style=\"background-color:rgba(135,206,250, 0.17269504070281982);\">young</span> <span style=\"background-color:rgba(135,206,250, 0.007094950880855322);\">.</span> <span style=\"background-color:rgba(135,206,250, 0.0);\">[SEP]</span></td><td>1.224</td><td>N</td></tr></table>"
      ],
      "text/plain": [
       "<IPython.core.display.HTML object>"
      ]
     },
     "metadata": {},
     "output_type": "display_data"
    },
    {
     "data": {
      "text/html": [
       "<table><tr><th></th><th>[CLS] + P + [SEP] + H + [SEP]</th><th>Entropy</th><th>Label</th> </tr><tr><td><b>GROUNDTRUTH</b></td><td><span style=\"background-color:rgba(135,206,250, 0.0);\">[CLS]</span> <span style=\"background-color:rgba(135,206,250, 0.0);\">a</span> <span style=\"background-color:rgba(135,206,250, 0.0);\">woman</span> <span style=\"background-color:rgba(135,206,250, 0.0);\">with</span> <span style=\"background-color:rgba(135,206,250, 0.0);\">a</span> <span style=\"background-color:rgba(135,206,250, 0.0);\">green</span> <span style=\"background-color:rgba(135,206,250, 0.0);\">heads</span> <span style=\"background-color:rgba(135,206,250, 0.0);\">##car</span> <span style=\"background-color:rgba(135,206,250, 0.0);\">##f</span> <span style=\"background-color:rgba(135,206,250, 0.0);\">,</span> <span style=\"background-color:rgba(135,206,250, 0.0);\">blue</span> <span style=\"background-color:rgba(135,206,250, 0.0);\">shirt</span> <span style=\"background-color:rgba(135,206,250, 0.0);\">and</span> <span style=\"background-color:rgba(135,206,250, 0.0);\">a</span> <span style=\"background-color:rgba(135,206,250, 0.0);\">very</span> <span style=\"background-color:rgba(135,206,250, 0.0);\">big</span> <span style=\"background-color:rgba(135,206,250, 1.0);\">grin</span> <span style=\"background-color:rgba(135,206,250, 0.0);\">.</span> <span style=\"background-color:rgba(135,206,250, 0.0);\">[SEP]</span> <span style=\"background-color:rgba(135,206,250, 0.0);\">the</span> <span style=\"background-color:rgba(135,206,250, 0.0);\">woman</span> <span style=\"background-color:rgba(135,206,250, 0.0);\">is</span> <span style=\"background-color:rgba(135,206,250, 0.0);\">very</span> <span style=\"background-color:rgba(135,206,250, 1.0);\">happy</span> <span style=\"background-color:rgba(135,206,250, 0.0);\">.</span> <span style=\"background-color:rgba(135,206,250, 0.0);\">[SEP]</span></td><td>0.0</td><td>E</td></tr><tr><td><b>mul=0.0</b></td><td><span style=\"background-color:rgba(135,206,250, 0.0);\">[CLS]</span> <span style=\"background-color:rgba(135,206,250, 0.004901063162833452);\">a</span> <span style=\"background-color:rgba(135,206,250, 0.01872541941702366);\">woman</span> <span style=\"background-color:rgba(135,206,250, 0.033734071999788284);\">with</span> <span style=\"background-color:rgba(135,206,250, 0.007596795912832022);\">a</span> <span style=\"background-color:rgba(135,206,250, 0.0310899019241333);\">green</span> <span style=\"background-color:rgba(135,206,250, 0.07559383660554886);\">heads</span> <span style=\"background-color:rgba(135,206,250, 0.02016022987663746);\">##car</span> <span style=\"background-color:rgba(135,206,250, 0.02933226153254509);\">##f</span> <span style=\"background-color:rgba(135,206,250, 0.04492371529340744);\">,</span> <span style=\"background-color:rgba(135,206,250, 0.011011502705514431);\">blue</span> <span style=\"background-color:rgba(135,206,250, 0.01938691921532154);\">shirt</span> <span style=\"background-color:rgba(135,206,250, 0.05515908822417259);\">and</span> <span style=\"background-color:rgba(135,206,250, 0.007875996641814709);\">a</span> <span style=\"background-color:rgba(135,206,250, 0.013279007747769356);\">very</span> <span style=\"background-color:rgba(135,206,250, 0.016702236607670784);\">big</span> <span style=\"background-color:rgba(135,206,250, 1.0);\">grin</span> <span style=\"background-color:rgba(135,206,250, 0.023151816800236702);\">.</span> <span style=\"background-color:rgba(135,206,250, 0.0);\">[SEP]</span> <span style=\"background-color:rgba(135,206,250, 0.014868471771478653);\">the</span> <span style=\"background-color:rgba(135,206,250, 0.0063638403080403805);\">woman</span> <span style=\"background-color:rgba(135,206,250, 0.017849789932370186);\">is</span> <span style=\"background-color:rgba(135,206,250, 0.021757984533905983);\">very</span> <span style=\"background-color:rgba(135,206,250, 0.13654080033302307);\">happy</span> <span style=\"background-color:rgba(135,206,250, 0.012980748899281025);\">.</span> <span style=\"background-color:rgba(135,206,250, 0.0);\">[SEP]</span></td><td>1.712</td><td>E</td></tr><tr><td><b>modif_mul=0.001</b></td><td><span style=\"background-color:rgba(135,206,250, 0.0);\">[CLS]</span> <span style=\"background-color:rgba(135,206,250, 0.001318634138442576);\">a</span> <span style=\"background-color:rgba(135,206,250, 0.005596351809799671);\">woman</span> <span style=\"background-color:rgba(135,206,250, 0.003299674252048135);\">with</span> <span style=\"background-color:rgba(135,206,250, 0.0023147319443523884);\">a</span> <span style=\"background-color:rgba(135,206,250, 0.003219681093469262);\">green</span> <span style=\"background-color:rgba(135,206,250, 0.012229724787175655);\">heads</span> <span style=\"background-color:rgba(135,206,250, 0.041618771851062775);\">##car</span> <span style=\"background-color:rgba(135,206,250, 0.006448011379688978);\">##f</span> <span style=\"background-color:rgba(135,206,250, 0.003911782056093216);\">,</span> <span style=\"background-color:rgba(135,206,250, 0.0017976255621761084);\">blue</span> <span style=\"background-color:rgba(135,206,250, 0.012928416021168232);\">shirt</span> <span style=\"background-color:rgba(135,206,250, 0.009208416566252708);\">and</span> <span style=\"background-color:rgba(135,206,250, 0.0015677855117246509);\">a</span> <span style=\"background-color:rgba(135,206,250, 0.0017910631140694022);\">very</span> <span style=\"background-color:rgba(135,206,250, 0.010068141855299473);\">big</span> <span style=\"background-color:rgba(135,206,250, 1.0);\">grin</span> <span style=\"background-color:rgba(135,206,250, 0.010314605198800564);\">.</span> <span style=\"background-color:rgba(135,206,250, 0.0);\">[SEP]</span> <span style=\"background-color:rgba(135,206,250, 0.0025328064803034067);\">the</span> <span style=\"background-color:rgba(135,206,250, 0.0016353704268112779);\">woman</span> <span style=\"background-color:rgba(135,206,250, 0.0019205290591344237);\">is</span> <span style=\"background-color:rgba(135,206,250, 0.0014726197114214301);\">very</span> <span style=\"background-color:rgba(135,206,250, 0.0881413146853447);\">happy</span> <span style=\"background-color:rgba(135,206,250, 0.004900528118014336);\">.</span> <span style=\"background-color:rgba(135,206,250, 0.0);\">[SEP]</span></td><td>0.892</td><td>E</td></tr></table>"
      ],
      "text/plain": [
       "<IPython.core.display.HTML object>"
      ]
     },
     "metadata": {},
     "output_type": "display_data"
    },
    {
     "data": {
      "text/html": [
       "<table><tr><th></th><th>[CLS] + P + [SEP] + H + [SEP]</th><th>Entropy</th><th>Label</th> </tr><tr><td><b>GROUNDTRUTH</b></td><td><span style=\"background-color:rgba(135,206,250, 0.0);\">[CLS]</span> <span style=\"background-color:rgba(135,206,250, 0.0);\">a</span> <span style=\"background-color:rgba(135,206,250, 0.0);\">woman</span> <span style=\"background-color:rgba(135,206,250, 0.0);\">with</span> <span style=\"background-color:rgba(135,206,250, 0.0);\">a</span> <span style=\"background-color:rgba(135,206,250, 1.0);\">green</span> <span style=\"background-color:rgba(135,206,250, 0.0);\">heads</span> <span style=\"background-color:rgba(135,206,250, 0.0);\">##car</span> <span style=\"background-color:rgba(135,206,250, 0.0);\">##f</span> <span style=\"background-color:rgba(135,206,250, 0.0);\">,</span> <span style=\"background-color:rgba(135,206,250, 0.0);\">blue</span> <span style=\"background-color:rgba(135,206,250, 0.0);\">shirt</span> <span style=\"background-color:rgba(135,206,250, 0.0);\">and</span> <span style=\"background-color:rgba(135,206,250, 0.0);\">a</span> <span style=\"background-color:rgba(135,206,250, 1.0);\">very</span> <span style=\"background-color:rgba(135,206,250, 1.0);\">big</span> <span style=\"background-color:rgba(135,206,250, 1.0);\">grin</span> <span style=\"background-color:rgba(135,206,250, 0.0);\">.</span> <span style=\"background-color:rgba(135,206,250, 0.0);\">[SEP]</span> <span style=\"background-color:rgba(135,206,250, 0.0);\">the</span> <span style=\"background-color:rgba(135,206,250, 0.0);\">woman</span> <span style=\"background-color:rgba(135,206,250, 0.0);\">has</span> <span style=\"background-color:rgba(135,206,250, 0.0);\">been</span> <span style=\"background-color:rgba(135,206,250, 1.0);\">shot</span> <span style=\"background-color:rgba(135,206,250, 0.0);\">.</span> <span style=\"background-color:rgba(135,206,250, 0.0);\">[SEP]</span></td><td>0.0</td><td>C</td></tr><tr><td><b>mul=0.0</b></td><td><span style=\"background-color:rgba(135,206,250, 0.0);\">[CLS]</span> <span style=\"background-color:rgba(135,206,250, 0.009641773998737335);\">a</span> <span style=\"background-color:rgba(135,206,250, 0.035549670457839966);\">woman</span> <span style=\"background-color:rgba(135,206,250, 0.04722287133336067);\">with</span> <span style=\"background-color:rgba(135,206,250, 0.012700067833065987);\">a</span> <span style=\"background-color:rgba(135,206,250, 0.051131293177604675);\">green</span> <span style=\"background-color:rgba(135,206,250, 0.13558654487133026);\">heads</span> <span style=\"background-color:rgba(135,206,250, 0.03517311066389084);\">##car</span> <span style=\"background-color:rgba(135,206,250, 0.0535530187189579);\">##f</span> <span style=\"background-color:rgba(135,206,250, 0.07723242044448853);\">,</span> <span style=\"background-color:rgba(135,206,250, 0.015790332108736038);\">blue</span> <span style=\"background-color:rgba(135,206,250, 0.03044053725898266);\">shirt</span> <span style=\"background-color:rgba(135,206,250, 0.060571733862161636);\">and</span> <span style=\"background-color:rgba(135,206,250, 0.011103468015789986);\">a</span> <span style=\"background-color:rgba(135,206,250, 0.011062304489314556);\">very</span> <span style=\"background-color:rgba(135,206,250, 0.017007092013955116);\">big</span> <span style=\"background-color:rgba(135,206,250, 0.9713133573532104);\">grin</span> <span style=\"background-color:rgba(135,206,250, 0.05864898860454559);\">.</span> <span style=\"background-color:rgba(135,206,250, 0.0);\">[SEP]</span> <span style=\"background-color:rgba(135,206,250, 0.042772118002176285);\">the</span> <span style=\"background-color:rgba(135,206,250, 0.014128408394753933);\">woman</span> <span style=\"background-color:rgba(135,206,250, 0.05953815206885338);\">has</span> <span style=\"background-color:rgba(135,206,250, 0.033162347972393036);\">been</span> <span style=\"background-color:rgba(135,206,250, 1.0);\">shot</span> <span style=\"background-color:rgba(135,206,250, 0.021843604743480682);\">.</span> <span style=\"background-color:rgba(135,206,250, 0.0);\">[SEP]</span></td><td>1.931</td><td>C</td></tr><tr><td><b>modif_mul=0.001</b></td><td><span style=\"background-color:rgba(135,206,250, 0.0);\">[CLS]</span> <span style=\"background-color:rgba(135,206,250, 0.0011254935525357723);\">a</span> <span style=\"background-color:rgba(135,206,250, 0.005530124064534903);\">woman</span> <span style=\"background-color:rgba(135,206,250, 0.0030871022026985884);\">with</span> <span style=\"background-color:rgba(135,206,250, 0.0020093992352485657);\">a</span> <span style=\"background-color:rgba(135,206,250, 0.002893514232710004);\">green</span> <span style=\"background-color:rgba(135,206,250, 0.012576064094901085);\">heads</span> <span style=\"background-color:rgba(135,206,250, 0.04742429032921791);\">##car</span> <span style=\"background-color:rgba(135,206,250, 0.004383713006973267);\">##f</span> <span style=\"background-color:rgba(135,206,250, 0.003627985483035445);\">,</span> <span style=\"background-color:rgba(135,206,250, 0.0017001311061903834);\">blue</span> <span style=\"background-color:rgba(135,206,250, 0.011867198161780834);\">shirt</span> <span style=\"background-color:rgba(135,206,250, 0.007640753872692585);\">and</span> <span style=\"background-color:rgba(135,206,250, 0.0012559620663523674);\">a</span> <span style=\"background-color:rgba(135,206,250, 0.0012813805369660258);\">very</span> <span style=\"background-color:rgba(135,206,250, 0.006264954339712858);\">big</span> <span style=\"background-color:rgba(135,206,250, 1.0);\">grin</span> <span style=\"background-color:rgba(135,206,250, 0.00678182952105999);\">.</span> <span style=\"background-color:rgba(135,206,250, 0.0);\">[SEP]</span> <span style=\"background-color:rgba(135,206,250, 0.002823288319632411);\">the</span> <span style=\"background-color:rgba(135,206,250, 0.0018890813225880265);\">woman</span> <span style=\"background-color:rgba(135,206,250, 0.015371025539934635);\">has</span> <span style=\"background-color:rgba(135,206,250, 0.0062577323988080025);\">been</span> <span style=\"background-color:rgba(135,206,250, 0.38212698698043823);\">shot</span> <span style=\"background-color:rgba(135,206,250, 0.003640902228653431);\">.</span> <span style=\"background-color:rgba(135,206,250, 0.0);\">[SEP]</span></td><td>1.094</td><td>C</td></tr></table>"
      ],
      "text/plain": [
       "<IPython.core.display.HTML object>"
      ]
     },
     "metadata": {},
     "output_type": "display_data"
    },
    {
     "data": {
      "text/html": [
       "<table><tr><th></th><th>[CLS] + P + [SEP] + H + [SEP]</th><th>Entropy</th><th>Label</th> </tr><tr><td><b>GROUNDTRUTH</b></td><td><span style=\"background-color:rgba(135,206,250, 0.0);\">[CLS]</span> <span style=\"background-color:rgba(135,206,250, 0.0);\">an</span> <span style=\"background-color:rgba(135,206,250, 0.0);\">old</span> <span style=\"background-color:rgba(135,206,250, 0.0);\">man</span> <span style=\"background-color:rgba(135,206,250, 0.0);\">with</span> <span style=\"background-color:rgba(135,206,250, 0.0);\">a</span> <span style=\"background-color:rgba(135,206,250, 0.0);\">package</span> <span style=\"background-color:rgba(135,206,250, 0.0);\">poses</span> <span style=\"background-color:rgba(135,206,250, 0.0);\">in</span> <span style=\"background-color:rgba(135,206,250, 0.0);\">front</span> <span style=\"background-color:rgba(135,206,250, 0.0);\">of</span> <span style=\"background-color:rgba(135,206,250, 0.0);\">an</span> <span style=\"background-color:rgba(135,206,250, 1.0);\">advertisement</span> <span style=\"background-color:rgba(135,206,250, 0.0);\">.</span> <span style=\"background-color:rgba(135,206,250, 0.0);\">[SEP]</span> <span style=\"background-color:rgba(135,206,250, 0.0);\">a</span> <span style=\"background-color:rgba(135,206,250, 0.0);\">man</span> <span style=\"background-color:rgba(135,206,250, 0.0);\">poses</span> <span style=\"background-color:rgba(135,206,250, 0.0);\">in</span> <span style=\"background-color:rgba(135,206,250, 0.0);\">front</span> <span style=\"background-color:rgba(135,206,250, 0.0);\">of</span> <span style=\"background-color:rgba(135,206,250, 0.0);\">an</span> <span style=\"background-color:rgba(135,206,250, 1.0);\">ad</span> <span style=\"background-color:rgba(135,206,250, 0.0);\">.</span> <span style=\"background-color:rgba(135,206,250, 0.0);\">[SEP]</span></td><td>0.0</td><td>E</td></tr><tr><td><b>mul=0.0</b></td><td><span style=\"background-color:rgba(135,206,250, 0.0);\">[CLS]</span> <span style=\"background-color:rgba(135,206,250, 0.057961948215961456);\">an</span> <span style=\"background-color:rgba(135,206,250, 0.18129687011241913);\">old</span> <span style=\"background-color:rgba(135,206,250, 0.15966704487800598);\">man</span> <span style=\"background-color:rgba(135,206,250, 0.4780800938606262);\">with</span> <span style=\"background-color:rgba(135,206,250, 0.04431833326816559);\">a</span> <span style=\"background-color:rgba(135,206,250, 1.0);\">package</span> <span style=\"background-color:rgba(135,206,250, 0.6946492791175842);\">poses</span> <span style=\"background-color:rgba(135,206,250, 0.08887141942977905);\">in</span> <span style=\"background-color:rgba(135,206,250, 0.22069299221038818);\">front</span> <span style=\"background-color:rgba(135,206,250, 0.10835948586463928);\">of</span> <span style=\"background-color:rgba(135,206,250, 0.06243181973695755);\">an</span> <span style=\"background-color:rgba(135,206,250, 0.7167820334434509);\">advertisement</span> <span style=\"background-color:rgba(135,206,250, 0.6448396444320679);\">.</span> <span style=\"background-color:rgba(135,206,250, 0.0);\">[SEP]</span> <span style=\"background-color:rgba(135,206,250, 0.09379274398088455);\">a</span> <span style=\"background-color:rgba(135,206,250, 0.09568992257118225);\">man</span> <span style=\"background-color:rgba(135,206,250, 0.24298715591430664);\">poses</span> <span style=\"background-color:rgba(135,206,250, 0.05378015339374542);\">in</span> <span style=\"background-color:rgba(135,206,250, 0.1095607802271843);\">front</span> <span style=\"background-color:rgba(135,206,250, 0.04817384481430054);\">of</span> <span style=\"background-color:rgba(135,206,250, 0.03988165035843849);\">an</span> <span style=\"background-color:rgba(135,206,250, 0.36804574728012085);\">ad</span> <span style=\"background-color:rgba(135,206,250, 0.30225223302841187);\">.</span> <span style=\"background-color:rgba(135,206,250, 0.0);\">[SEP]</span></td><td>2.653</td><td>E</td></tr><tr><td><b>modif_mul=0.001</b></td><td><span style=\"background-color:rgba(135,206,250, 0.0);\">[CLS]</span> <span style=\"background-color:rgba(135,206,250, 0.026157762855291367);\">an</span> <span style=\"background-color:rgba(135,206,250, 0.15023081004619598);\">old</span> <span style=\"background-color:rgba(135,206,250, 0.06558768451213837);\">man</span> <span style=\"background-color:rgba(135,206,250, 0.56923508644104);\">with</span> <span style=\"background-color:rgba(135,206,250, 0.02137007564306259);\">a</span> <span style=\"background-color:rgba(135,206,250, 0.9690132737159729);\">package</span> <span style=\"background-color:rgba(135,206,250, 0.15010972321033478);\">poses</span> <span style=\"background-color:rgba(135,206,250, 0.02940382808446884);\">in</span> <span style=\"background-color:rgba(135,206,250, 0.10759782046079636);\">front</span> <span style=\"background-color:rgba(135,206,250, 0.033125169575214386);\">of</span> <span style=\"background-color:rgba(135,206,250, 0.026924537494778633);\">an</span> <span style=\"background-color:rgba(135,206,250, 1.0);\">advertisement</span> <span style=\"background-color:rgba(135,206,250, 0.14558903872966766);\">.</span> <span style=\"background-color:rgba(135,206,250, 0.0);\">[SEP]</span> <span style=\"background-color:rgba(135,206,250, 0.019176483154296875);\">a</span> <span style=\"background-color:rgba(135,206,250, 0.03325185179710388);\">man</span> <span style=\"background-color:rgba(135,206,250, 0.17682437598705292);\">poses</span> <span style=\"background-color:rgba(135,206,250, 0.022538306191563606);\">in</span> <span style=\"background-color:rgba(135,206,250, 0.044329684227705);\">front</span> <span style=\"background-color:rgba(135,206,250, 0.02858121693134308);\">of</span> <span style=\"background-color:rgba(135,206,250, 0.0248106699436903);\">an</span> <span style=\"background-color:rgba(135,206,250, 0.39446330070495605);\">ad</span> <span style=\"background-color:rgba(135,206,250, 0.07812924683094025);\">.</span> <span style=\"background-color:rgba(135,206,250, 0.0);\">[SEP]</span></td><td>2.287</td><td>E</td></tr></table>"
      ],
      "text/plain": [
       "<IPython.core.display.HTML object>"
      ]
     },
     "metadata": {},
     "output_type": "display_data"
    },
    {
     "data": {
      "text/html": [
       "<table><tr><th></th><th>[CLS] + P + [SEP] + H + [SEP]</th><th>Entropy</th><th>Label</th> </tr><tr><td><b>GROUNDTRUTH</b></td><td><span style=\"background-color:rgba(135,206,250, 0.0);\">[CLS]</span> <span style=\"background-color:rgba(135,206,250, 0.0);\">an</span> <span style=\"background-color:rgba(135,206,250, 0.0);\">old</span> <span style=\"background-color:rgba(135,206,250, 0.0);\">man</span> <span style=\"background-color:rgba(135,206,250, 0.0);\">with</span> <span style=\"background-color:rgba(135,206,250, 0.0);\">a</span> <span style=\"background-color:rgba(135,206,250, 0.0);\">package</span> <span style=\"background-color:rgba(135,206,250, 0.0);\">poses</span> <span style=\"background-color:rgba(135,206,250, 0.0);\">in</span> <span style=\"background-color:rgba(135,206,250, 0.0);\">front</span> <span style=\"background-color:rgba(135,206,250, 0.0);\">of</span> <span style=\"background-color:rgba(135,206,250, 0.0);\">an</span> <span style=\"background-color:rgba(135,206,250, 0.0);\">advertisement</span> <span style=\"background-color:rgba(135,206,250, 0.0);\">.</span> <span style=\"background-color:rgba(135,206,250, 0.0);\">[SEP]</span> <span style=\"background-color:rgba(135,206,250, 0.0);\">a</span> <span style=\"background-color:rgba(135,206,250, 0.0);\">man</span> <span style=\"background-color:rgba(135,206,250, 0.0);\">poses</span> <span style=\"background-color:rgba(135,206,250, 0.0);\">in</span> <span style=\"background-color:rgba(135,206,250, 0.0);\">front</span> <span style=\"background-color:rgba(135,206,250, 0.0);\">of</span> <span style=\"background-color:rgba(135,206,250, 0.0);\">an</span> <span style=\"background-color:rgba(135,206,250, 0.0);\">ad</span> <span style=\"background-color:rgba(135,206,250, 0.0);\">for</span> <span style=\"background-color:rgba(135,206,250, 1.0);\">beer</span> <span style=\"background-color:rgba(135,206,250, 0.0);\">.</span> <span style=\"background-color:rgba(135,206,250, 0.0);\">[SEP]</span></td><td>0.0</td><td>N</td></tr><tr><td><b>mul=0.0</b></td><td><span style=\"background-color:rgba(135,206,250, 0.0);\">[CLS]</span> <span style=\"background-color:rgba(135,206,250, 0.004609073977917433);\">an</span> <span style=\"background-color:rgba(135,206,250, 0.015382329933345318);\">old</span> <span style=\"background-color:rgba(135,206,250, 0.01222233846783638);\">man</span> <span style=\"background-color:rgba(135,206,250, 0.052693482488393784);\">with</span> <span style=\"background-color:rgba(135,206,250, 0.003696166444569826);\">a</span> <span style=\"background-color:rgba(135,206,250, 0.0690380409359932);\">package</span> <span style=\"background-color:rgba(135,206,250, 0.045808032155036926);\">poses</span> <span style=\"background-color:rgba(135,206,250, 0.008020441979169846);\">in</span> <span style=\"background-color:rgba(135,206,250, 0.014918753877282143);\">front</span> <span style=\"background-color:rgba(135,206,250, 0.009655548259615898);\">of</span> <span style=\"background-color:rgba(135,206,250, 0.004981302190572023);\">an</span> <span style=\"background-color:rgba(135,206,250, 0.07585661858320236);\">advertisement</span> <span style=\"background-color:rgba(135,206,250, 0.02825489267706871);\">.</span> <span style=\"background-color:rgba(135,206,250, 0.0);\">[SEP]</span> <span style=\"background-color:rgba(135,206,250, 0.005224942229688168);\">a</span> <span style=\"background-color:rgba(135,206,250, 0.0064102765172719955);\">man</span> <span style=\"background-color:rgba(135,206,250, 0.02471407875418663);\">poses</span> <span style=\"background-color:rgba(135,206,250, 0.005294246133416891);\">in</span> <span style=\"background-color:rgba(135,206,250, 0.00932660885155201);\">front</span> <span style=\"background-color:rgba(135,206,250, 0.004522077739238739);\">of</span> <span style=\"background-color:rgba(135,206,250, 0.0031445471104234457);\">an</span> <span style=\"background-color:rgba(135,206,250, 0.04121388494968414);\">ad</span> <span style=\"background-color:rgba(135,206,250, 0.2588095963001251);\">for</span> <span style=\"background-color:rgba(135,206,250, 1.0);\">beer</span> <span style=\"background-color:rgba(135,206,250, 0.013201340101659298);\">.</span> <span style=\"background-color:rgba(135,206,250, 0.0);\">[SEP]</span></td><td>1.657</td><td>N</td></tr><tr><td><b>modif_mul=0.001</b></td><td><span style=\"background-color:rgba(135,206,250, 0.0);\">[CLS]</span> <span style=\"background-color:rgba(135,206,250, 0.016648786142468452);\">an</span> <span style=\"background-color:rgba(135,206,250, 0.11724982410669327);\">old</span> <span style=\"background-color:rgba(135,206,250, 0.03366318345069885);\">man</span> <span style=\"background-color:rgba(135,206,250, 0.404668927192688);\">with</span> <span style=\"background-color:rgba(135,206,250, 0.013565955683588982);\">a</span> <span style=\"background-color:rgba(135,206,250, 0.6268361210823059);\">package</span> <span style=\"background-color:rgba(135,206,250, 0.10119611024856567);\">poses</span> <span style=\"background-color:rgba(135,206,250, 0.015709104016423225);\">in</span> <span style=\"background-color:rgba(135,206,250, 0.0516396164894104);\">front</span> <span style=\"background-color:rgba(135,206,250, 0.018771406263113022);\">of</span> <span style=\"background-color:rgba(135,206,250, 0.01398199051618576);\">an</span> <span style=\"background-color:rgba(135,206,250, 0.5065351724624634);\">advertisement</span> <span style=\"background-color:rgba(135,206,250, 0.0817464217543602);\">.</span> <span style=\"background-color:rgba(135,206,250, 0.0);\">[SEP]</span> <span style=\"background-color:rgba(135,206,250, 0.01177056971937418);\">a</span> <span style=\"background-color:rgba(135,206,250, 0.01558324322104454);\">man</span> <span style=\"background-color:rgba(135,206,250, 0.10392222553491592);\">poses</span> <span style=\"background-color:rgba(135,206,250, 0.012678581289947033);\">in</span> <span style=\"background-color:rgba(135,206,250, 0.031580016016960144);\">front</span> <span style=\"background-color:rgba(135,206,250, 0.023966079577803612);\">of</span> <span style=\"background-color:rgba(135,206,250, 0.01631413958966732);\">an</span> <span style=\"background-color:rgba(135,206,250, 0.22400282323360443);\">ad</span> <span style=\"background-color:rgba(135,206,250, 0.5368695259094238);\">for</span> <span style=\"background-color:rgba(135,206,250, 1.0);\">beer</span> <span style=\"background-color:rgba(135,206,250, 0.03352455049753189);\">.</span> <span style=\"background-color:rgba(135,206,250, 0.0);\">[SEP]</span></td><td>2.322</td><td>N</td></tr></table>"
      ],
      "text/plain": [
       "<IPython.core.display.HTML object>"
      ]
     },
     "metadata": {},
     "output_type": "display_data"
    },
    {
     "data": {
      "text/html": [
       "<table><tr><th></th><th>[CLS] + P + [SEP] + H + [SEP]</th><th>Entropy</th><th>Label</th> </tr><tr><td><b>GROUNDTRUTH</b></td><td><span style=\"background-color:rgba(135,206,250, 0.0);\">[CLS]</span> <span style=\"background-color:rgba(135,206,250, 0.0);\">an</span> <span style=\"background-color:rgba(135,206,250, 0.0);\">old</span> <span style=\"background-color:rgba(135,206,250, 1.0);\">man</span> <span style=\"background-color:rgba(135,206,250, 0.0);\">with</span> <span style=\"background-color:rgba(135,206,250, 0.0);\">a</span> <span style=\"background-color:rgba(135,206,250, 0.0);\">package</span> <span style=\"background-color:rgba(135,206,250, 1.0);\">poses</span> <span style=\"background-color:rgba(135,206,250, 1.0);\">in</span> <span style=\"background-color:rgba(135,206,250, 1.0);\">front</span> <span style=\"background-color:rgba(135,206,250, 0.0);\">of</span> <span style=\"background-color:rgba(135,206,250, 0.0);\">an</span> <span style=\"background-color:rgba(135,206,250, 1.0);\">advertisement</span> <span style=\"background-color:rgba(135,206,250, 0.0);\">.</span> <span style=\"background-color:rgba(135,206,250, 0.0);\">[SEP]</span> <span style=\"background-color:rgba(135,206,250, 0.0);\">a</span> <span style=\"background-color:rgba(135,206,250, 0.0);\">man</span> <span style=\"background-color:rgba(135,206,250, 1.0);\">walks</span> <span style=\"background-color:rgba(135,206,250, 1.0);\">by</span> <span style=\"background-color:rgba(135,206,250, 0.0);\">an</span> <span style=\"background-color:rgba(135,206,250, 1.0);\">ad</span> <span style=\"background-color:rgba(135,206,250, 0.0);\">.</span> <span style=\"background-color:rgba(135,206,250, 0.0);\">[SEP]</span></td><td>0.0</td><td>C</td></tr><tr><td><b>mul=0.0</b></td><td><span style=\"background-color:rgba(135,206,250, 0.0);\">[CLS]</span> <span style=\"background-color:rgba(135,206,250, 0.010100936517119408);\">an</span> <span style=\"background-color:rgba(135,206,250, 0.0194549560546875);\">old</span> <span style=\"background-color:rgba(135,206,250, 0.029660096392035484);\">man</span> <span style=\"background-color:rgba(135,206,250, 0.04830315336585045);\">with</span> <span style=\"background-color:rgba(135,206,250, 0.00813966616988182);\">a</span> <span style=\"background-color:rgba(135,206,250, 0.14772051572799683);\">package</span> <span style=\"background-color:rgba(135,206,250, 0.14265404641628265);\">poses</span> <span style=\"background-color:rgba(135,206,250, 0.008424181491136551);\">in</span> <span style=\"background-color:rgba(135,206,250, 0.063724085688591);\">front</span> <span style=\"background-color:rgba(135,206,250, 0.01817983202636242);\">of</span> <span style=\"background-color:rgba(135,206,250, 0.011836037039756775);\">an</span> <span style=\"background-color:rgba(135,206,250, 0.23700593411922455);\">advertisement</span> <span style=\"background-color:rgba(135,206,250, 0.05295272916555405);\">.</span> <span style=\"background-color:rgba(135,206,250, 0.0);\">[SEP]</span> <span style=\"background-color:rgba(135,206,250, 0.015142254531383514);\">a</span> <span style=\"background-color:rgba(135,206,250, 0.017345264554023743);\">man</span> <span style=\"background-color:rgba(135,206,250, 1.0);\">walks</span> <span style=\"background-color:rgba(135,206,250, 0.056539807468652725);\">by</span> <span style=\"background-color:rgba(135,206,250, 0.007065898738801479);\">an</span> <span style=\"background-color:rgba(135,206,250, 0.05171215906739235);\">ad</span> <span style=\"background-color:rgba(135,206,250, 0.03213552385568619);\">.</span> <span style=\"background-color:rgba(135,206,250, 0.0);\">[SEP]</span></td><td>1.898</td><td>C</td></tr><tr><td><b>modif_mul=0.001</b></td><td><span style=\"background-color:rgba(135,206,250, 0.0);\">[CLS]</span> <span style=\"background-color:rgba(135,206,250, 0.009971668012440205);\">an</span> <span style=\"background-color:rgba(135,206,250, 0.03599352017045021);\">old</span> <span style=\"background-color:rgba(135,206,250, 0.030559256672859192);\">man</span> <span style=\"background-color:rgba(135,206,250, 0.07525938749313354);\">with</span> <span style=\"background-color:rgba(135,206,250, 0.007872294634580612);\">a</span> <span style=\"background-color:rgba(135,206,250, 0.17006096243858337);\">package</span> <span style=\"background-color:rgba(135,206,250, 0.3291611075401306);\">poses</span> <span style=\"background-color:rgba(135,206,250, 0.013928329572081566);\">in</span> <span style=\"background-color:rgba(135,206,250, 0.16790401935577393);\">front</span> <span style=\"background-color:rgba(135,206,250, 0.010792884044349194);\">of</span> <span style=\"background-color:rgba(135,206,250, 0.011997492983937263);\">an</span> <span style=\"background-color:rgba(135,206,250, 0.314877986907959);\">advertisement</span> <span style=\"background-color:rgba(135,206,250, 0.05984886735677719);\">.</span> <span style=\"background-color:rgba(135,206,250, 0.0);\">[SEP]</span> <span style=\"background-color:rgba(135,206,250, 0.010629209689795971);\">a</span> <span style=\"background-color:rgba(135,206,250, 0.016955973580479622);\">man</span> <span style=\"background-color:rgba(135,206,250, 1.0);\">walks</span> <span style=\"background-color:rgba(135,206,250, 0.07430238276720047);\">by</span> <span style=\"background-color:rgba(135,206,250, 0.009862306527793407);\">an</span> <span style=\"background-color:rgba(135,206,250, 0.04697021469473839);\">ad</span> <span style=\"background-color:rgba(135,206,250, 0.019064104184508324);\">.</span> <span style=\"background-color:rgba(135,206,250, 0.0);\">[SEP]</span></td><td>2.017</td><td>C</td></tr></table>"
      ],
      "text/plain": [
       "<IPython.core.display.HTML object>"
      ]
     },
     "metadata": {},
     "output_type": "display_data"
    }
   ],
   "source": [
    "INF = 1e30\n",
    "LABELS = [\"E\", \"N\", \"C\"]\n",
    "with torch.no_grad():\n",
    "\n",
    "    display(HTML('<h4>Mean Head agregation</h4>'))\n",
    "    model_outputs = {}\n",
    "\n",
    "    for id_batch, elem in enumerate(test_dataloader) :\n",
    "\n",
    "        if id_batch > 8:\n",
    "            # only look at 5 sentences (batch of one here)\n",
    "            break\n",
    "\n",
    "        ids = elem[\"input_ids\"]\n",
    "        masks = elem[\"attention_masks\"]\n",
    "        labels = elem[\"labels\"]\n",
    "        a_true = elem[\"annotations\"]\n",
    "        \n",
    "        \n",
    "        # ids of the specials tokens\n",
    "        special_tokens = [0, 101, 102]\n",
    "        spe_tok_mask = torch.isin(ids, torch.tensor(special_tokens))[0].type(torch.uint8)\n",
    "        \n",
    "        # ids of the punctuation\n",
    "        punct = list(range(999, 1037))\n",
    "        punct_pos = 1 - torch.isin(ids, torch.tensor(punct)).type(torch.uint8)\n",
    "        a_true = torch.mul(a_true, punct_pos) # we don't want the punctuation in our annotation\n",
    "        a_true = list(np.array(a_true[0].numpy(), dtype=float))\n",
    "\n",
    "        m = masks[0].sum() # nb tokens in the sentence\n",
    "        tokens = tk.convert_ids_to_tokens(ids[0])[0:m]\n",
    "\n",
    "        it = 0\n",
    "\n",
    "        if it == 0:\n",
    "            model_outputs[\"GROUNDTRUTH\"] = {\n",
    "                '[CLS] + P + [SEP] + H + [SEP]':  [hightlight_txt(tokens = tokens,\n",
    "                                                                attention = a_true[0 : m])],\n",
    "                'Entropy': [0.0],\n",
    "                'Label':LABELS[labels[0]]\n",
    "            }\n",
    "\n",
    "            it += 1\n",
    "            \n",
    "        for mul in models_dict:\n",
    "\n",
    "            output = models_dict[mul](input_ids = ids,\n",
    "                                      attention_mask = masks)\n",
    "\n",
    "            # process the attention_tensor\n",
    "            attention_tensor = torch.stack(output[\"outputs\"].attentions, dim=1) # shape [b, l, h, T, T]\n",
    "            pad = torch.tensor([0])\n",
    "            pad_mask = torch.logical_not(torch.isin(ids, pad)).type(torch.uint8).unsqueeze(1).unsqueeze(1).unsqueeze(1).repeat(1, 12, 12, 150, 1)\n",
    "            pad_mask = torch.transpose(pad_mask, dim0=3, dim1=4)\n",
    "            attention_tensor = torch.mul(attention_tensor, pad_mask)\n",
    "\n",
    "            # layer 4 to 10 agregation\n",
    "            a_hat = attention_tensor[0, 3:10, :, :, :] # select only some layers\n",
    "            a_hat = a_hat.sum(dim=1)/12 # mean head agregation\n",
    "            a_hat = a_hat.sum(dim=0)\n",
    "            a_hat = a_hat.sum(dim=0) # line agregation\n",
    "            a_hat = a_hat[0:m]\n",
    "            a_hat = torch.softmax(a_hat - INF * spe_tok_mask[0:m], dim=0)\n",
    "            a_visu = normalize_attention(attention=a_hat, tokens=tokens)\n",
    "\n",
    "            model_outputs[mul] =  {\n",
    "                '[CLS] + P + [SEP] + H + [SEP]': [hightlight_txt(tokens = tokens,\n",
    "                                                                attention = a_visu)],\n",
    "                'Entropy': [(-a_hat * torch.log(a_hat + 1e-16)).sum().item()],\n",
    "                'Label':LABELS[labels[0]]\n",
    "            }\n",
    "\n",
    "\n",
    "        display(HTML(html_render(model_outputs)))"
   ]
  },
  {
   "cell_type": "code",
   "execution_count": null,
   "id": "b4cbf84b-e8de-4b10-ac50-e95f9f8d1960",
   "metadata": {},
   "outputs": [],
   "source": []
  }
 ],
 "metadata": {
  "kernelspec": {
   "display_name": "Python 3 (ipykernel)",
   "language": "python",
   "name": "python3"
  },
  "language_info": {
   "codemirror_mode": {
    "name": "ipython",
    "version": 3
   },
   "file_extension": ".py",
   "mimetype": "text/x-python",
   "name": "python",
   "nbconvert_exporter": "python",
   "pygments_lexer": "ipython3",
   "version": "3.7.13"
  }
 },
 "nbformat": 4,
 "nbformat_minor": 5
}
