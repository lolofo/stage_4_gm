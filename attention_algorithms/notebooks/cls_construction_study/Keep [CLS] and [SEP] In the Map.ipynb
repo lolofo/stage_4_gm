{
 "cells": [
  {
   "cell_type": "markdown",
   "source": [
    "# Keep the CLS et SEP tokens for the calculus of the distribution"
   ],
   "metadata": {
    "collapsed": false,
    "pycharm": {
     "name": "#%% md\n"
    }
   }
  },
  {
   "cell_type": "markdown",
   "source": [
    "In this notebook we will look at how the CLS token is constructed, we will only look at the attention on the CLS tokens"
   ],
   "metadata": {
    "collapsed": false,
    "pycharm": {
     "name": "#%% md\n"
    }
   }
  },
  {
   "cell_type": "code",
   "execution_count": 59,
   "outputs": [
    {
     "name": "stdout",
     "output_type": "stream",
     "text": [
      "The autoreload extension is already loaded. To reload it, use:\n",
      "  %reload_ext autoreload\n",
      ">> the git rep : C:\\Users\\loicf\\Documents\\IRISA\\stage_4_gm\\stage_4_gm\n",
      ">> the plots location : C:\\Users\\loicf\\Documents\\IRISA\\stage_4_gm\\stage_4_gm\\.cache\\plots\\sep_cls_study\n"
     ]
    }
   ],
   "source": [
    "%load_ext autoreload\n",
    "%autoreload 2\n",
    "\n",
    "import os\n",
    "from os import path\n",
    "# set the repository to the git repository\n",
    "cwd = os.getcwd().split(os.path.sep)\n",
    "while cwd[-1] != \"stage_4_gm\":\n",
    "    os.chdir(\"..\")\n",
    "    cwd = os.getcwd().split(os.path.sep)\n",
    "print(\">> the git rep : \", end=\"\")\n",
    "print(os.getcwd())\n",
    "\n",
    "# the folder where we will save our data\n",
    "plots_folder = os.path.join(os.getcwd(), '.cache', 'plots')\n",
    "graph_folder = path.join(plots_folder, \"sep_cls_study\")\n",
    "if not path.exists(path.join(plots_folder, \"sep_cls_study\")):\n",
    "    os.mkdir(path.join(plots_folder, \"sep_cls_study\"))\n",
    "\n",
    "print(f\">> the plots location : {graph_folder}\")"
   ],
   "metadata": {
    "collapsed": false,
    "pycharm": {
     "name": "#%%\n"
    }
   }
  },
  {
   "cell_type": "code",
   "execution_count": 60,
   "outputs": [
    {
     "name": "stdout",
     "output_type": "stream",
     "text": [
      "The autoreload extension is already loaded. To reload it, use:\n",
      "  %reload_ext autoreload\n"
     ]
    }
   ],
   "source": [
    "%load_ext autoreload\n",
    "%autoreload 2\n",
    "import matplotlib.pyplot as plt\n",
    "import pandas as pd\n",
    "import torch\n",
    "import numpy as np\n",
    "import sklearn.metrics as metrics\n",
    "import random\n",
    "\n",
    "from training_bert import BertNliLight\n",
    "from custom_data_set import SnliDataset\n",
    "from custom_data_set import test_dir, dev_dir\n",
    "from torch.utils.data import DataLoader\n",
    "import pickle\n",
    "\n",
    "# --> from this environment\n",
    "from attention_algorithms.raw_attention import RawAttention\n",
    "from attention_algorithms.attention_metrics import normalize_attention\n",
    "from attention_algorithms.attention_metrics import default_plot_colormap\n",
    "from attention_algorithms.attention_metrics import attention_score\n",
    "\n",
    "# --> display HTML outputs\n",
    "from attention_algorithms.plausibility_visu import construct_html_table\n",
    "from attention_algorithms.plausibility_visu import hightlight_txt\n",
    "from IPython.display import display, HTML\n",
    "from ipywidgets import interact_manual"
   ],
   "metadata": {
    "collapsed": false,
    "pycharm": {
     "name": "#%%\n"
    }
   }
  },
  {
   "cell_type": "code",
   "execution_count": 61,
   "outputs": [
    {
     "name": "stderr",
     "output_type": "stream",
     "text": [
      "Some weights of the model checkpoint at bert-base-uncased were not used when initializing BertModel: ['cls.predictions.transform.dense.bias', 'cls.predictions.decoder.weight', 'cls.predictions.transform.dense.weight', 'cls.seq_relationship.bias', 'cls.seq_relationship.weight', 'cls.predictions.transform.LayerNorm.bias', 'cls.predictions.bias', 'cls.predictions.transform.LayerNorm.weight']\n",
      "- This IS expected if you are initializing BertModel from the checkpoint of a model trained on another task or with another architecture (e.g. initializing a BertForSequenceClassification model from a BertForPreTraining model).\n",
      "- This IS NOT expected if you are initializing BertModel from the checkpoint of a model that you expect to be exactly identical (initializing a BertForSequenceClassification model from a BertForSequenceClassification model).\n"
     ]
    }
   ],
   "source": [
    "ckp = path.join(\".cache\", \"logs\", \"igrida_trained\", \"0\", \"best.ckpt\")\n",
    "model = BertNliLight.load_from_checkpoint(ckp)\n",
    "model = model.eval()  # make sure to have the model in eval mod before using it"
   ],
   "metadata": {
    "collapsed": false,
    "pycharm": {
     "name": "#%%\n"
    }
   }
  },
  {
   "cell_type": "code",
   "execution_count": 62,
   "outputs": [
    {
     "data": {
      "text/plain": "                                            tok_sent  \\\n0  ['[CLS]', 'this', 'church', 'choir', 'sings', ...   \n1  ['[CLS]', 'this', 'church', 'choir', 'sings', ...   \n2  ['[CLS]', 'this', 'church', 'choir', 'sings', ...   \n3  ['[CLS]', 'a', 'woman', 'with', 'a', 'green', ...   \n4  ['[CLS]', 'a', 'woman', 'with', 'a', 'green', ...   \n\n                                             hg_goal          label  \n0  [0, 0, 0, 0, 0, 0, 0, 0, 0, 0, 0, 0, 0, 0, 0, ...        neutral  \n1  [0, 0, 0, 1, 1, 1, 1, 1, 0, 0, 0, 0, 0, 0, 0, ...     entailment  \n2  [0, 0, 0, 0, 0, 0, 0, 1, 0, 0, 0, 0, 0, 0, 0, ...  contradiction  \n3  [0, 0, 0, 0, 0, 0, 0, 0, 0, 0, 0, 0, 0, 0, 0, ...        neutral  \n4  [0, 0, 0, 0, 0, 0, 0, 0, 0, 0, 0, 0, 0, 0, 0, ...     entailment  ",
      "text/html": "<div>\n<style scoped>\n    .dataframe tbody tr th:only-of-type {\n        vertical-align: middle;\n    }\n\n    .dataframe tbody tr th {\n        vertical-align: top;\n    }\n\n    .dataframe thead th {\n        text-align: right;\n    }\n</style>\n<table border=\"1\" class=\"dataframe\">\n  <thead>\n    <tr style=\"text-align: right;\">\n      <th></th>\n      <th>tok_sent</th>\n      <th>hg_goal</th>\n      <th>label</th>\n    </tr>\n  </thead>\n  <tbody>\n    <tr>\n      <th>0</th>\n      <td>['[CLS]', 'this', 'church', 'choir', 'sings', ...</td>\n      <td>[0, 0, 0, 0, 0, 0, 0, 0, 0, 0, 0, 0, 0, 0, 0, ...</td>\n      <td>neutral</td>\n    </tr>\n    <tr>\n      <th>1</th>\n      <td>['[CLS]', 'this', 'church', 'choir', 'sings', ...</td>\n      <td>[0, 0, 0, 1, 1, 1, 1, 1, 0, 0, 0, 0, 0, 0, 0, ...</td>\n      <td>entailment</td>\n    </tr>\n    <tr>\n      <th>2</th>\n      <td>['[CLS]', 'this', 'church', 'choir', 'sings', ...</td>\n      <td>[0, 0, 0, 0, 0, 0, 0, 1, 0, 0, 0, 0, 0, 0, 0, ...</td>\n      <td>contradiction</td>\n    </tr>\n    <tr>\n      <th>3</th>\n      <td>['[CLS]', 'a', 'woman', 'with', 'a', 'green', ...</td>\n      <td>[0, 0, 0, 0, 0, 0, 0, 0, 0, 0, 0, 0, 0, 0, 0, ...</td>\n      <td>neutral</td>\n    </tr>\n    <tr>\n      <th>4</th>\n      <td>['[CLS]', 'a', 'woman', 'with', 'a', 'green', ...</td>\n      <td>[0, 0, 0, 0, 0, 0, 0, 0, 0, 0, 0, 0, 0, 0, 0, ...</td>\n      <td>entailment</td>\n    </tr>\n  </tbody>\n</table>\n</div>"
     },
     "execution_count": 62,
     "metadata": {},
     "output_type": "execute_result"
    }
   ],
   "source": [
    "# the data we annotated.\n",
    "e_snli_data = pd.read_csv(os.path.join('.cache', 'raw_data', 'e_snli', 'cleaned_data', 'test.csv'), sep=\",\")\\\n",
    "    [[\"tok_sent\", \"hg_goal\", \"label\"]]\n",
    "e_snli_data.head()"
   ],
   "metadata": {
    "collapsed": false,
    "pycharm": {
     "name": "#%%\n"
    }
   }
  },
  {
   "cell_type": "code",
   "execution_count": 63,
   "outputs": [],
   "source": [
    "# load the data\n",
    "data_set = SnliDataset(dir=test_dir, nb_sentences=1000, msg=False, keep_neutral=False)\n",
    "data_loader = DataLoader(data_set, batch_size=1000, shuffle=False)\n",
    "\n",
    "sentences, masks, train_labels = next(iter(data_loader))"
   ],
   "metadata": {
    "collapsed": false,
    "pycharm": {
     "name": "#%%\n"
    }
   }
  },
  {
   "cell_type": "code",
   "execution_count": 64,
   "outputs": [
    {
     "name": "stdout",
     "output_type": "stream",
     "text": [
      ">> the files already exist in the environment >> loading the files ... loading finished\n"
     ]
    }
   ],
   "source": [
    "pur_attention, Y_test = None, None\n",
    "auc_path = path.join(plots_folder, \"auc_head_map\")\n",
    "dir = os.path.join(auc_path, \"inference_dict.pickle\")\n",
    "\n",
    "if os.path.exists(dir) and os.path.getsize(dir) != 0:\n",
    "    print(\">> the files already exist in the environment >> loading the files ...\", end=\"\")\n",
    "    with open(os.path.join(plots_folder, \"inference_dict.pickle\"), \"rb\") as f:\n",
    "        pur_attention, Y_test = pickle.load(f)\n",
    "    print(\" loading finished\")\n",
    "else :\n",
    "    with open(os.path.join(os.path.join(plots_folder,\"inference_dict.pickle\")), \"wb\") as f:\n",
    "        pur_attention, Y_test, _ = attention_score(sentences=sentences, masks=masks,\n",
    "                                                   e_snli_data=e_snli_data,\n",
    "                                                   model=model, TR_q=0,\n",
    "                                                   quantiles_calc=False)\n",
    "\n",
    "        pickle.dump([pur_attention, Y_test], f)"
   ],
   "metadata": {
    "collapsed": false,
    "pycharm": {
     "name": "#%%\n"
    }
   }
  },
  {
   "cell_type": "code",
   "execution_count": 65,
   "outputs": [
    {
     "name": "stdout",
     "output_type": "stream",
     "text": [
      ">> we will look at the sentence : [507, 699, 766, 259]\n"
     ]
    }
   ],
   "source": [
    "sent_choice = [random.randint(0, 1000) for _ in range(4)]\n",
    "print(f\">> we will look at the sentence : {sent_choice}\")"
   ],
   "metadata": {
    "collapsed": false,
    "pycharm": {
     "name": "#%%\n"
    }
   }
  },
  {
   "cell_type": "code",
   "execution_count": 69,
   "outputs": [],
   "source": [
    "# This time we will keep the specials tokens to see what will happen\n",
    "with open(os.path.join(graph_folder,'layer_comp_annotations.html'), 'w') as f :\n",
    "    for i in range(12):\n",
    "        annot = []\n",
    "\n",
    "        for k in sent_choice:\n",
    "            buff_dict = {}\n",
    "            sent = sentences[k, :].clone().detach()[None, :]\n",
    "            mk = masks[k, :].clone().detach()[None, :]\n",
    "            raw_attention_inst = RawAttention(model=model,\n",
    "                                              input_ids=sent,\n",
    "                                              attention_mask=mk,\n",
    "                                              test_mod=False\n",
    "                                              )\n",
    "\n",
    "            # we will now earch the e-snli corresponding sentence\n",
    "            j = 0\n",
    "\n",
    "            while eval(e_snli_data[\"tok_sent\"][j]) != raw_attention_inst.tokens:\n",
    "                j += 1\n",
    "\n",
    "            buff_dict[\"annotation\"] = hightlight_txt(raw_attention_inst.tokens,\n",
    "                                                     torch.tensor(eval(e_snli_data.hg_goal[j])))\n",
    "\n",
    "            # construction of the attention score\n",
    "            attention_score = raw_attention_inst.attention_tensor[0, i, :, 0, :].sum(dim=0)\n",
    "            # noramlization of the score\n",
    "\n",
    "            attention_score = (attention_score - attention_score.min()) / (attention_score.max() - attention_score.min())\n",
    "\n",
    "            buff_dict[f\"layer {i}\"] = hightlight_txt(attention=attention_score,\n",
    "                                                      tokens=raw_attention_inst.tokens)\n",
    "            # normalization of the score\n",
    "            attention_score = attention_score = normalize_attention(tokens=raw_attention_inst.tokens,\n",
    "                                                 attention=attention_score)\n",
    "\n",
    "            annot.append(buff_dict)\n",
    "\n",
    "        f.write(construct_html_table(annot[0].keys(), annot))"
   ],
   "metadata": {
    "collapsed": false,
    "pycharm": {
     "name": "#%%\n"
    }
   }
  },
  {
   "cell_type": "markdown",
   "source": [
    "There is something interesting to notice is that we have the attention on the [CLS] token which is gronwing as measure as we climb into the architecture. Lets have a look head by head to see the behaviour of this token, and how the CLS token is constructed in terms of attention."
   ],
   "metadata": {
    "collapsed": false,
    "pycharm": {
     "name": "#%% md\n"
    }
   }
  },
  {
   "cell_type": "markdown",
   "source": [
    "For each layer we will compare the behaviour of each heads"
   ],
   "metadata": {
    "collapsed": false,
    "pycharm": {
     "name": "#%% md\n"
    }
   }
  },
  {
   "cell_type": "code",
   "execution_count": null,
   "outputs": [],
   "source": [
    "# This time we will keep the specials tokens to see what will happen\n",
    "for lay in range(12):\n",
    "    with open(os.path.join(graph_folder,f'layer_{lay}_head_comp.html'), 'w') as f :\n",
    "        for i in range(12):\n",
    "            annot = []\n",
    "\n",
    "            for k in sent_choice:\n",
    "                buff_dict = {}\n",
    "                sent = sentences[k, :].clone().detach()[None, :]\n",
    "                mk = masks[k, :].clone().detach()[None, :]\n",
    "                raw_attention_inst = RawAttention(model=model,\n",
    "                                                  input_ids=sent,\n",
    "                                                  attention_mask=mk,\n",
    "                                                  test_mod=False\n",
    "                                                  )\n",
    "\n",
    "                # we will now earch the e-snli corresponding sentence\n",
    "                j = 0\n",
    "\n",
    "                while eval(e_snli_data[\"tok_sent\"][j]) != raw_attention_inst.tokens:\n",
    "                    j += 1\n",
    "\n",
    "                buff_dict[\"annotation\"] = hightlight_txt(raw_attention_inst.tokens,\n",
    "                                                         torch.tensor(eval(e_snli_data.hg_goal[j])))\n",
    "\n",
    "                # construction of the attention score\n",
    "                attention_score = raw_attention_inst.attention_tensor[0, lay, i, 0, :]\n",
    "                # noramlization of the score\n",
    "\n",
    "                attention_score = (attention_score - attention_score.min()) / (attention_score.max() - attention_score.min())\n",
    "\n",
    "                buff_dict[f\"head {i}\"] = hightlight_txt(attention=attention_score,\n",
    "                                                          tokens=raw_attention_inst.tokens)\n",
    "                # normalization of the score\n",
    "                attention_score = attention_score = normalize_attention(tokens=raw_attention_inst.tokens,\n",
    "                                                     attention=attention_score)\n",
    "\n",
    "                annot.append(buff_dict)\n",
    "\n",
    "            f.write(construct_html_table(annot[0].keys(), annot))"
   ],
   "metadata": {
    "collapsed": false,
    "pycharm": {
     "name": "#%%\n"
    }
   }
  }
 ],
 "metadata": {
  "kernelspec": {
   "display_name": "Python 3",
   "language": "python",
   "name": "python3"
  },
  "language_info": {
   "codemirror_mode": {
    "name": "ipython",
    "version": 2
   },
   "file_extension": ".py",
   "mimetype": "text/x-python",
   "name": "python",
   "nbconvert_exporter": "python",
   "pygments_lexer": "ipython2",
   "version": "2.7.6"
  }
 },
 "nbformat": 4,
 "nbformat_minor": 0
}